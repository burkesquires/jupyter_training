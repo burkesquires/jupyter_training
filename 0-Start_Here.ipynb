{
 "cells": [
  {
   "cell_type": "markdown",
   "id": "bab85839-9342-410e-a506-1f9d5845136d",
   "metadata": {},
   "source": [
    "Jupyter Notebooks\n",
    "================="
   ]
  },
  {
   "cell_type": "markdown",
   "id": "341a0eb1-27c1-4695-af79-be985271e54d",
   "metadata": {},
   "source": [
    "--- \n",
    "### R. Burke Squires\n",
    "\n",
    "- Computational Genomics Specialist\n",
    "- Guidehouse Contractor\n",
    "- NIAID Bioinformatics and Computational Bioscience Branch (BCBB)\n",
    "\n",
    "---"
   ]
  },
  {
   "cell_type": "markdown",
   "id": "9adc8d7c-2327-464f-80df-36e6435707da",
   "metadata": {},
   "source": [
    "## Topics\n",
    "- Introduction\n",
    "    - Question: How do you do an analysis project now?\n",
    "- JupyterHub Sign-in\n",
    "- Installation\n",
    "- What is the Jupyter Notebook\n",
    "- Notebook Basics\n",
    "- Running Code\n",
    "- Working With Markdown Cells\n",
    "- Importing Notebooks\n"
   ]
  },
  {
   "cell_type": "markdown",
   "id": "081c4dfc-b958-4768-9861-e48cdb44b9e6",
   "metadata": {},
   "source": [
    "---"
   ]
  },
  {
   "cell_type": "markdown",
   "id": "434853b7-7c39-4eaf-9a2c-877203f9885f",
   "metadata": {},
   "source": [
    "## Demos"
   ]
  },
  {
   "cell_type": "markdown",
   "id": "05324f8d-016f-46ab-a8e7-13b77fc27327",
   "metadata": {},
   "source": [
    "**[Sharing notebooks](./07-Jupyter-sharing.ipynb)**"
   ]
  },
  {
   "cell_type": "markdown",
   "id": "665302e5-611d-49eb-b83a-f10db6dafb62",
   "metadata": {
    "jp-MarkdownHeadingCollapsed": true,
    "tags": []
   },
   "source": [
    "**COVID-19 Analysis / Bioinformatics Workflow**\n",
    "- [Analysis template](./COVID-19/analysis_template.ipynb)\n",
    "- [Simple COVID-19 analysis grabbing data from the web](./COVID-19/pandas-analysis-of-coronavirus-pandemic.ipynb)\n",
    "\n",
    "__Bioinformatics Workflow__\n",
    "- [Installing `bioconda`](./Bioinfo-Workflow/3-1-install-bioconda.ipynb) (Hands on)\n",
    "- [Building a variant calling pipeline](./Bioinfo-Workflow/3-2-variant-calling-workflow.ipynb) (Hands on)"
   ]
  },
  {
   "cell_type": "markdown",
   "id": "44f2f94a-0225-40e0-a971-812a0b1b9975",
   "metadata": {
    "tags": []
   },
   "source": [
    "**[Demos / Walkthroughs](./20-Demos.ipynb)**\n",
    "- Using myBinder\n",
    "- Jupyter in the Cloud\n",
    "- Jupyter extensions\n",
    "- nteract (Desktop software to run notebook)\n",
    "- Notebook automation - Papermill"
   ]
  },
  {
   "cell_type": "markdown",
   "id": "81164dfc-1a91-4bac-8bc2-beeed54dec34",
   "metadata": {},
   "source": [
    "---"
   ]
  }
 ],
 "metadata": {
  "kernelspec": {
   "display_name": "Python 3 (ipykernel)",
   "language": "python",
   "name": "python3"
  },
  "language_info": {
   "codemirror_mode": {
    "name": "ipython",
    "version": 3
   },
   "file_extension": ".py",
   "mimetype": "text/x-python",
   "name": "python",
   "nbconvert_exporter": "python",
   "pygments_lexer": "ipython3",
   "version": "3.9.12"
  }
 },
 "nbformat": 4,
 "nbformat_minor": 5
}
