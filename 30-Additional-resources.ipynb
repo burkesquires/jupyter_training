{
 "cells": [
  {
   "cell_type": "markdown",
   "metadata": {},
   "source": [
    "# Additional Resources"
   ]
  },
  {
   "cell_type": "markdown",
   "metadata": {},
   "source": [
    "**Jupyterlab Documentation**\n",
    "- https://jupyterlab.readthedocs.io/en/stable/index.html\n",
    "\n",
    "__Extra - Dynamic Sharing using GitHub and myBinder__\n",
    "\n",
    "- [Creating a GitHub project](./notebooks/2-Jupyter/2-9-jupyter-sharing/2-9-2-Jupyter-sharing-github.ipynb)\n",
    "- [Using myBinder](./notebooks/2-Jupyter/2-9-jupyter-sharing/2-9-3-Intro_to_binder.ipynb)\n",
    "\n",
    "__Reproducible Research Curriculum, The Carpentries__\n",
    "- https://github.com/Reproducible-Science-Curriculum\n",
    "- https://reproducible-science-curriculum.github.io/workshop-RR-Jupyter/\n",
    "\n",
    "__NLM Reproduciblity Workshop__\n",
    "- https://nlm-repro.github.io\n",
    "\n",
    "**__Jupyter shortcuts PDF__**\n",
    "- [__Jupyter shortcuts PDF__](https://blog.ja-ke.tech/2019/01/20/jupyterlab-shortcuts.htmlhttps://blog.ja-ke.tech/2019/01/20/jupyterlab-shortcuts.html)\n",
    "\n",
    "**Notebooks in science**\n",
    "\n",
    "- [Will Jupyter notebook eventually replace scientific papers](https://www.quora.com/Will-Jupyter-notebooks-eventually-replace-scientific-papers)\n",
    "\n",
    "\n",
    "**Examples of Notebooks**\n",
    "- [Gallery of interesting notebooks](https://github.com/jupyter/jupyter/wiki/A-gallery-of-interesting-Jupyter-Notebooks)\n",
    "- [nbviewer - render a notebook](https://nbviewer.jupyter.org)\n",
    "- [28 Jupyter Notebook tips, tricks, and shortcuts](https://www.dataquest.io/blog/jupyter-notebook-tips-tricks-shortcuts/)\n",
    "- [Estimate of Public Jupyter Notebooks on GitHub](https://github.com/parente/nbestimate)\n",
    "\n",
    "\n",
    "**Enabling slideshows in Jupyter notebook**\n",
    "\n",
    "- [RISE - slideshows](http://www.damian.oquanta.info/index.html)\n",
    "    - Support is coming in Notebooks V7\n",
    "\n",
    "**Thoughts on version control in Jupyter notebooks**\n",
    "- https://medium.freecodecamp.org/how-to-handle-version-control-and-reproducibility-with-jupyter-notebook-e1fbc0b8f922\n",
    "\n",
    "\n",
    "**Tools using Jupyter notebooks:**\n",
    "\n",
    "- [jupyter-repo2docker](https://github.com/jupyter/repo2docker) - jupyter-repo2docker takes as input a repository source, such as a GitHub repo. It then builds, runs, and/or pushes Docker images built from that source.\n",
    "- [nodebook](https://github.com/stitchfix/nodebook) - Repeatable analysis plugin for Jupyter notebook; designed to enforce an ordered flow of cell execution\n",
    "- [Building textbooks with Jupyter](https://github.com/choldgraf/textbooks-with-jupyter)\n",
    "- [Nikola - static site generate](https://getnikola.com)\n",
    "\n"
   ]
  },
  {
   "cell_type": "code",
   "execution_count": null,
   "metadata": {},
   "outputs": [],
   "source": []
  }
 ],
 "metadata": {
  "kernelspec": {
   "display_name": "Python 3 (ipykernel)",
   "language": "python",
   "name": "python3"
  },
  "language_info": {
   "codemirror_mode": {
    "name": "ipython",
    "version": 3
   },
   "file_extension": ".py",
   "mimetype": "text/x-python",
   "name": "python",
   "nbconvert_exporter": "python",
   "pygments_lexer": "ipython3",
   "version": "3.9.12"
  }
 },
 "nbformat": 4,
 "nbformat_minor": 4
}
