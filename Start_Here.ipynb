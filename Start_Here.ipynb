{
 "cells": [
  {
   "cell_type": "markdown",
   "metadata": {},
   "source": [
    "# Interactive Scientific Notebooks"
   ]
  },
  {
   "cell_type": "markdown",
   "metadata": {},
   "source": [
    "--- \n",
    "## R. Burke Squires\n",
    "\n",
    "\n",
    "Computational Genomics Specialist\n",
    "\n",
    "Medical Sciences and Computing (MSC)\n",
    "\n",
    "NIAID Bioinformatics and Computational Bioscience Branch (BCBB)\n",
    "\n",
    "---"
   ]
  },
  {
   "cell_type": "markdown",
   "metadata": {},
   "source": [
    "### Introduction\n",
    "- [Introduction](./notebooks/0-Intro/0_Jupyter_training.ipynb) (Presentation – 15 min)"
   ]
  },
  {
   "cell_type": "markdown",
   "metadata": {},
   "source": [
    "### Anaconda\n",
    "\n",
    "- [Anaconda distribution overview](./notebooks/1-Anaconda/1-1-Anaconda-Overview.ipynb) (Walkthrough – 20 min)\n",
    "- [Anaconda installation walkthrough](./notebooks/1-Anaconda/1-2-Anaconda-Installation.ipynb) (Walkthrough – 15 min)\n",
    "- Miniconda overview (Walkthrough – 10 min)"
   ]
  },
  {
   "cell_type": "markdown",
   "metadata": {},
   "source": [
    "### Jupyter\n",
    "- [Introduction to Jupyter ecosystem](./notebooks/2-Jupyter/2-1-jupyter-ecosystem.ipynb) (Presentation – 30 min)\n",
    "- [Jupyter architecture](./notebooks/2-Jupyter/2-2-jupyter-architecture.ipynb) (Walkthrough - 15 min)\n",
    "- [Jupyter basics](./notebooks/2-Jupyter/2-3-jupyter-notebook-basics.ipynb) (Hands on - 15 min)\n",
    "- [Writing narrative text](./notebooks/2-Jupyter/2-4-jupyter-markdown.ipynb) (Hands on – 15 min)\n",
    "    - Jupyter markdown table generator\n",
    "- Running code (Hands on – 30 min)\n",
    "    - [Python](./notebooks/2-Jupyter/2-5-jupyter-code-python.ipynb)\n",
    "    - [R](./notebooks/2-Jupyter/2-6-jupyter-code-r.ipynb)\n",
    "    - [Bash](./notebooks/2-Jupyter/2-7-jupyter-command-line.ipynb)\n",
    "    - Other (Script of Scripts kernel DEMO)\n",
    "- [Magic commands](./notebooks/2-Jupyter/2-8-jupyter-magics.ipynb) (Hands on – 15 min)"
   ]
  },
  {
   "cell_type": "markdown",
   "metadata": {},
   "source": [
    "### Lunch\n",
    "- Optional: Setup GitHub account following guide [here](./notebooks/2-Jupyter/2-9-jupyter-sharing/2-9-2-Jupyter-sharing-github.ipynb)"
   ]
  },
  {
   "cell_type": "markdown",
   "metadata": {},
   "source": [
    "### Building a bioinformatics workflow\n",
    "- new Anaconda environment?\n",
    "- [Installing `bioconda`](./notebooks/3-Build-Bioinfo-Workflow/3-1-install-bioconda.ipynb) (Hands on – 15 min)\n",
    "- [Building a variant calling pipeline](./notebooks/3-Build-Bioinfo-Workflow/3-2-variant-calling-workflow.ipynb) (Hands on – 60 min)"
   ]
  },
  {
   "cell_type": "markdown",
   "metadata": {},
   "source": [
    "### Notebook Conversions and Sharing (Hands on - 30 min)\n",
    "- nbconvert - save notebook as script, slides, pdf\n",
    "- nbviewer - search for jupyter notebooks, display outside of github\n",
    "- How to find Jupyter notebooks on GitHub, pubmed\n",
    "- nbinteract (convert interactive notebooks into web pages) - https://www.nbinteract.com/ (Demo)\n",
    "\n",
    "\n",
    "### [Sharing notebooks](./notebooks/2-Jupyter/2-9-jupyter-sharing/2-9-1-Jupyter-sharing.ipynb) (Walkthrough – 15 min)"
   ]
  },
  {
   "cell_type": "markdown",
   "metadata": {},
   "source": [
    "### Advanced Jupyter Notebook (hands on 60 min)\n",
    "- Hiding code or output\n",
    "- Commenting and uncommenting a block of code\n",
    "- Multicursor support\n",
    "- Accessing the underlying operating system\n",
    "- Running R and Python in the same notebook\n",
    "- Cross-language support \n",
    "    - Cython - make code run (almost) as fast as C\n",
    "- Create a presentation from a Jupyter notebook. RISE\n",
    "- Advanced magic commands (hands on)\n",
    "- Executing python code from file with %run\n",
    "- %pycat any time to show the contents of a script\n",
    "- %prun: Show how much time your program spent in each function - profiling code\n",
    "- %conda and %pip magics, that will attempt to install packages in the current environment."
   ]
  },
  {
   "cell_type": "markdown",
   "metadata": {},
   "source": [
    "### [Demos / Walkthroughs](./notebooks/4-Last-things/4-1-Demos.ipynb) (Demos 45 min)\n",
    "- [Using myBinder](./notebooks/2-Jupyter/2-9-jupyter-sharing/2-9-3-Intro_to_binder.ipynb)\n",
    "- Jupyter in the Cloud\n",
    "- Jupyter extensions\n",
    "- JupyterHub\n",
    "- nteract (Desktop software to run notebook)\n",
    "- Notebook automation - Papermill"
   ]
  },
  {
   "cell_type": "markdown",
   "metadata": {},
   "source": [
    "## Additional Resources:"
   ]
  },
  {
   "cell_type": "markdown",
   "metadata": {},
   "source": [
    "### Extra - Dynamic Sharing using GitHub and myBinder\n",
    "\n",
    "- [Creating a GitHub project](./notebooks/2-Jupyter/2-9-jupyter-sharing/2-9-2-Jupyter-sharing-github.ipynb) (Walkthrough – 15 min)"
   ]
  },
  {
   "cell_type": "markdown",
   "metadata": {},
   "source": [
    "### Reproducible Research Curriculum, The Carpentries\n",
    "- https://github.com/Reproducible-Science-Curriculum\n",
    "- https://reproducible-science-curriculum.github.io/workshop-RR-Jupyter/\n",
    "\n",
    "### NLM Reproduciblity Workshop\n",
    "- https://nlm-repro.github.io"
   ]
  },
  {
   "cell_type": "code",
   "execution_count": null,
   "metadata": {},
   "outputs": [],
   "source": []
  }
 ],
 "metadata": {
  "kernelspec": {
   "display_name": "Python 3",
   "language": "python",
   "name": "python3"
  },
  "language_info": {
   "codemirror_mode": {
    "name": "ipython",
    "version": 3
   },
   "file_extension": ".py",
   "mimetype": "text/x-python",
   "name": "python",
   "nbconvert_exporter": "python",
   "pygments_lexer": "ipython3",
   "version": "3.7.5"
  }
 },
 "nbformat": 4,
 "nbformat_minor": 4
}
