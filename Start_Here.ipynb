{
 "cells": [
  {
   "cell_type": "markdown",
   "metadata": {},
   "source": [
    "# Scientific Notebooks"
   ]
  },
  {
   "cell_type": "markdown",
   "metadata": {},
   "source": [
    "### Introduction\n",
    "- [Introduction](./notebooks/0-Intro/0_Jupyter_training.ipynb) (Presentation – 15 min)\n",
    "\n",
    "### Anaconda\n",
    "\n",
    "- [Anaconda distribution overview](./notebooks/1-Anaconda/1-1-Anaconda-Overview.ipynb) (Walkthrough – 30 min)\n",
    "- [Anaconda installation walkthrough](./notebooks/1-Anaconda/1-2-Anaconda-Installation.ipynb) (Walkthrough – 15 min)\n",
    "    \n",
    "### Jupyter\n",
    "- [Introduction to Jupyter ecosystem](./notebooks/2-Jupyter/2-1-jupyter-ecosystem.ipynb) (Presentation – 30 min)\n",
    "- [Jupyter architecture](./notebooks/2-Jupyter/2-2-jupyter-architecture.ipynb) (Walkthrough - 15 min)\n",
    "- [Jupyter basics](./notebooks/2-Jupyter/2-3-jupyter-notebook-basics.ipynb) (Hands on - 15 min)\n",
    "- [Writing narrative text](./notebooks/2-Jupyter/2-4-jupyter-markdown.ipynb) (Hands on – 15 min)\n",
    "- Running code (Hands on – 30 min)\n",
    "    - [Python](./notebooks/2-Jupyter/2-5-jupyter-code-python.ipynb)\n",
    "    - [R](./notebooks/2-Jupyter/2-6-jupyter-code-r.ipynb)\n",
    "    - [Bash](./notebooks/2-Jupyter/2-7-jupyter-command-line.ipynb)\n",
    "- [Magic commands](./notebooks/2-Jupyter/2-8-jupyter-magics.ipynb) (Hands on – 15 min)\n",
    "\n",
    "### Lunch\n",
    "- Optional: Setup GitHub account following guide [here](./notebooks/2-Jupyter/2-9-jupyter-sharing/2-9-2-Jupyter-sharing-github.ipynb)\n",
    "\n",
    "### Sharing\n",
    "- [Sharing notebooks](./notebooks/2-Jupyter/2-9-jupyter-sharing/2-9-1-Jupyter-sharing.ipynb) (Walkthrough – 15 min)\n",
    "- [Creating a GitHub project](./notebooks/2-Jupyter/2-9-jupyter-sharing/2-9-2-Jupyter-sharing-github.ipynb) (Walkthrough – 15 min)\n",
    "- [Using myBinder](./notebooks/2-Jupyter/2-9-jupyter-sharing/2-9-3-Intro_to_binder.ipynb) (Walkthrough – 30 min)\n",
    "\n",
    "### Building a bioinformatics workflow\n",
    "- [Installing `bioconda`](./notebooks/3-Build-Bioinfo-Workflow/3-1-install-bioconda.ipynb) (Hands on – 15 min)\n",
    "- [Building a variant calling pipeline](./notebooks/3-Build-Bioinfo-Workflow/3-2-variant-calling-workflow.ipynb) (Hands on – 60 min)\n",
    "\n",
    "### [Demos / Walkthroughs](./notebooks/4-Last-things/4-1-Demos.ipynb)\n",
    "- Jupyter in the Cloud (10 min)\n",
    "- Jupyter extensions (10 min)\n",
    "- JupyterHub (10 min)\n",
    "- nteract (Mac desktop software to run notebook) (10 min)"
   ]
  },
  {
   "cell_type": "code",
   "execution_count": null,
   "metadata": {},
   "outputs": [],
   "source": []
  }
 ],
 "metadata": {
  "kernelspec": {
   "display_name": "Python 3",
   "language": "python",
   "name": "python3"
  },
  "language_info": {
   "codemirror_mode": {
    "name": "ipython",
    "version": 3
   },
   "file_extension": ".py",
   "mimetype": "text/x-python",
   "name": "python",
   "nbconvert_exporter": "python",
   "pygments_lexer": "ipython3",
   "version": "3.6.5"
  }
 },
 "nbformat": 4,
 "nbformat_minor": 2
}
