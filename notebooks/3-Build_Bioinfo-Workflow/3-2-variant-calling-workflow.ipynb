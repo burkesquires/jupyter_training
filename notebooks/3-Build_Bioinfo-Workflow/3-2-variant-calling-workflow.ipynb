{
 "cells": [
  {
   "cell_type": "markdown",
   "metadata": {},
   "source": [
    "# Building a Bioinformatics Workflow with Jupyter & Anaconda"
   ]
  },
  {
   "cell_type": "markdown",
   "metadata": {},
   "source": [
    "## Variant Calling Workflow"
   ]
  },
  {
   "cell_type": "markdown",
   "metadata": {},
   "source": [
    "Burke Squires\n",
    "\n",
    "https://github.com/burkesquires"
   ]
  },
  {
   "cell_type": "markdown",
   "metadata": {},
   "source": [
    "---"
   ]
  },
  {
   "cell_type": "markdown",
   "metadata": {},
   "source": [
    "#### Scenario:\n",
    "\n",
    "Have yeast NGS data and we want to detect variants from the data"
   ]
  },
  {
   "cell_type": "markdown",
   "metadata": {},
   "source": [
    "[Source: http://www.htslib.org/workflow/](http://www.htslib.org/workflow/)"
   ]
  },
  {
   "cell_type": "markdown",
   "metadata": {},
   "source": [
    "Software that is need for pipeline:\n",
    "\n",
    "- `bwa`\n",
    "- `samtools`\n",
    "- `bcftools`"
   ]
  },
  {
   "cell_type": "markdown",
   "metadata": {},
   "source": [
    "Samtools is a suite of programs for interacting with high-throughput sequencing data. It consists of three separate repositories:\n",
    "\n",
    "- Samtools: Reading/writing/editing/indexing/viewing SAM/BAM/CRAM format\n",
    "- BCFtools: Reading/writing BCF2/VCF/gVCF files and calling/filtering/summarising SNP and short indel sequence variants\n",
    "- HTSlib: A C library for reading/writing high-throughput sequencing data\n",
    "\n",
    "Samtools and BCFtools both use HTSlib internally, but these source packages contain their own copies of htslib so they can be built independently."
   ]
  },
  {
   "cell_type": "markdown",
   "metadata": {},
   "source": [
    "## Download some data:"
   ]
  },
  {
   "cell_type": "code",
   "execution_count": 1,
   "metadata": {},
   "outputs": [
    {
     "name": "stdout",
     "output_type": "stream",
     "text": [
      "  % Total    % Received % Xferd  Average Speed   Time    Time     Time  Current\n",
      "                                 Dload  Upload   Total   Spent    Left  Speed\n",
      "  0  537M    0  1448    0     0    614      0  10d 15h  0:00:02  10d 15h   614gzip: error writing to output: Broken pipe\n",
      "  0  537M    0  855k    0     0   284k      0  0:32:13  0:00:03  0:32:10  284k\n",
      "curl: (23) Failed writing body (0 != 11584)\n",
      "  % Total    % Received % Xferd  Average Speed   Time    Time     Time  Current\n",
      "                                 Dload  Upload   Total   Spent    Left  Speed\n",
      "  0  559M    0  328k    0     0   155k      0  1:01:11  0:00:02  1:01:09  155kgzip: error writing to output: Broken pipe\n",
      "  0  559M    0  902k    0     0   391k      0  0:24:22  0:00:02  0:24:20  391k\n",
      "curl: (23) Failed writing body (0 != 7240)\n",
      "  % Total    % Received % Xferd  Average Speed   Time    Time     Time  Current\n",
      "                                 Dload  Upload   Total   Spent    Left  Speed\n",
      "100 3782k  100 3782k    0     0  1361k      0  0:00:02  0:00:02 --:--:-- 1361k\n"
     ]
    }
   ],
   "source": [
    "!curl ftp://ftp.sra.ebi.ac.uk/vol1/fastq/SRR507/SRR507778/SRR507778_1.fastq.gz | gzip -d | head -100000 > y1.fastq\n",
    "!curl ftp://ftp.sra.ebi.ac.uk/vol1/fastq/SRR507/SRR507778/SRR507778_2.fastq.gz | gzip -d | head -100000 > y2.fastq\n",
    "!curl ftp://ftp.ensembl.org/pub/current_fasta/saccharomyces_cerevisiae/dna/Saccharomyces_cerevisiae.R64-1-1.dna_sm.toplevel.fa.gz | gzip -d > yeast.fasta"
   ]
  },
  {
   "cell_type": "markdown",
   "metadata": {},
   "source": [
    "---"
   ]
  },
  {
   "cell_type": "markdown",
   "metadata": {},
   "source": [
    "## Prepare the BWA indices"
   ]
  },
  {
   "cell_type": "markdown",
   "metadata": {},
   "source": [
    "We need to ensure there exists a .fai fasta index and also indices for whichever aligner we are using (Bwa-mem in this example).\n",
    "\n",
    "    samtools faidx yeast.fasta\n",
    "    bwa index yeast.fasta"
   ]
  },
  {
   "cell_type": "code",
   "execution_count": 2,
   "metadata": {},
   "outputs": [
    {
     "name": "stdout",
     "output_type": "stream",
     "text": [
      "[bwa_index] Pack FASTA... 0.09 sec\n",
      "[bwa_index] Construct BWT for the packed sequence...\n",
      "[bwa_index] 6.00 seconds elapse.\n",
      "[bwa_index] Update BWT... 0.06 sec\n",
      "[bwa_index] Pack forward-only FASTA... 0.05 sec\n",
      "[bwa_index] Construct SA from BWT and Occ... 1.70 sec\n",
      "[main] Version: 0.7.17-r1188\n",
      "[main] CMD: bwa index yeast.fasta\n",
      "[main] Real time: 8.029 sec; CPU: 7.927 sec\n"
     ]
    }
   ],
   "source": [
    "!samtools faidx yeast.fasta\n",
    "!bwa index yeast.fasta"
   ]
  },
  {
   "cell_type": "markdown",
   "metadata": {},
   "source": [
    "---"
   ]
  },
  {
   "cell_type": "code",
   "execution_count": 3,
   "metadata": {},
   "outputs": [
    {
     "name": "stdout",
     "output_type": "stream",
     "text": [
      "\u001b[31m2 - Bioinformatics software installation using bioconda.ipynb\u001b[m\u001b[m\r\n",
      "\u001b[31m3 - Variant Calling Pipeline.ipynb\u001b[m\u001b[m\r\n",
      "Build-a-Reproducible-Jupyter-Workflow-From-Scratch-master.zip\r\n",
      "Hands On.pptx\r\n",
      "y1.fastq\r\n",
      "y2.fastq\r\n",
      "yeast.fasta\r\n",
      "yeast.fasta.amb\r\n",
      "yeast.fasta.ann\r\n",
      "yeast.fasta.bwt\r\n",
      "yeast.fasta.fai\r\n",
      "yeast.fasta.pac\r\n",
      "yeast.fasta.sa\r\n"
     ]
    }
   ],
   "source": [
    "!ls"
   ]
  },
  {
   "cell_type": "markdown",
   "metadata": {},
   "source": [
    "## Produce the Alignments"
   ]
  },
  {
   "cell_type": "markdown",
   "metadata": {},
   "source": [
    "The aligner is likely to output SAM in the same order or similar order to the input fastq files. It won’t be outputting in chromosome position order, so the output is typically not well suited to CRAM.\n",
    "\n",
    "    bwa mem -R '@RG\\tID:foo\\tSM:bar\\tLB:library1' yeast.fasta y1.fastq y2.fastq > yeast.sam\n",
    "\n",
    "The -R option adds a read-group line and applies that read-group to all aligned sequence records. It is not necessary, but a recommended practice."
   ]
  },
  {
   "cell_type": "code",
   "execution_count": 4,
   "metadata": {},
   "outputs": [
    {
     "name": "stdout",
     "output_type": "stream",
     "text": [
      "[M::bwa_idx_load_from_disk] read 0 ALT contigs\n",
      "[M::process] read 50000 sequences (1800000 bp)...\n",
      "[M::mem_pestat] # candidate unique pairs for (FF, FR, RF, RR): (103, 4007, 13219, 91)\n",
      "[M::mem_pestat] analyzing insert size distribution for orientation FF...\n",
      "[M::mem_pestat] (25, 50, 75) percentile: (240, 2467, 3114)\n",
      "[M::mem_pestat] low and high boundaries for computing mean and std.dev: (1, 8862)\n",
      "[M::mem_pestat] mean and std.dev: (1893.02, 1414.42)\n",
      "[M::mem_pestat] low and high boundaries for proper pairs: (1, 11736)\n",
      "[M::mem_pestat] analyzing insert size distribution for orientation FR...\n",
      "[M::mem_pestat] (25, 50, 75) percentile: (243, 275, 314)\n",
      "[M::mem_pestat] low and high boundaries for computing mean and std.dev: (101, 456)\n",
      "[M::mem_pestat] mean and std.dev: (278.34, 50.30)\n",
      "[M::mem_pestat] low and high boundaries for proper pairs: (30, 527)\n",
      "[M::mem_pestat] analyzing insert size distribution for orientation RF...\n",
      "[M::mem_pestat] (25, 50, 75) percentile: (3111, 3320, 3565)\n",
      "[M::mem_pestat] low and high boundaries for computing mean and std.dev: (2203, 4473)\n",
      "[M::mem_pestat] mean and std.dev: (3352.46, 321.09)\n",
      "[M::mem_pestat] low and high boundaries for proper pairs: (1749, 4927)\n",
      "[M::mem_pestat] analyzing insert size distribution for orientation RR...\n",
      "[M::mem_pestat] (25, 50, 75) percentile: (291, 2611, 3188)\n",
      "[M::mem_pestat] low and high boundaries for computing mean and std.dev: (1, 8982)\n",
      "[M::mem_pestat] mean and std.dev: (2036.04, 1501.65)\n",
      "[M::mem_pestat] low and high boundaries for proper pairs: (1, 11879)\n",
      "[M::mem_pestat] skip orientation FF\n",
      "[M::mem_pestat] skip orientation RR\n",
      "[M::mem_process_seqs] Processed 50000 reads in 5.590 CPU sec, 5.599 real sec\n",
      "[main] Version: 0.7.17-r1188\n",
      "[main] CMD: bwa mem -R @RG\\tID:foo\\tSM:bar\\tLB:library1 yeast.fasta y1.fastq y2.fastq\n",
      "[main] Real time: 5.731 sec; CPU: 5.681 sec\n"
     ]
    }
   ],
   "source": [
    "!bwa mem -R '@RG\\tID:foo\\tSM:bar\\tLB:library1' yeast.fasta y1.fastq y2.fastq > yeast.sam"
   ]
  },
  {
   "cell_type": "markdown",
   "metadata": {},
   "source": [
    "---"
   ]
  },
  {
   "cell_type": "markdown",
   "metadata": {},
   "source": [
    "## Sort into chromosome/positon order"
   ]
  },
  {
   "cell_type": "markdown",
   "metadata": {},
   "source": [
    "Ideally at this point we would be outputting CRAM directly, but at present samtools 1.0 does not have a way to indicate the reference on the command line. We can output to BAM instead and convert (below), or modify the SAM @SQ header to include MD5 sums in the M5: field.\n",
    "\n",
    "    samtools sort -O bam -T /tmp -l 0 -o yeast.bam yeast.sam\n",
    "\n",
    "The “-l 0” indicates to use no compression in the BAM file, as it is transitory and will be replaced by CRAM soon. We may wish to use -l 1 if disk space is short and we wish to reduce temporary file size."
   ]
  },
  {
   "cell_type": "code",
   "execution_count": 5,
   "metadata": {},
   "outputs": [],
   "source": [
    "!samtools sort -O bam -T /tmp -l 0 -o yeast.bam yeast.sam"
   ]
  },
  {
   "cell_type": "markdown",
   "metadata": {},
   "source": [
    "---"
   ]
  },
  {
   "cell_type": "markdown",
   "metadata": {},
   "source": [
    "## Convert to CRAM format"
   ]
  },
  {
   "cell_type": "markdown",
   "metadata": {},
   "source": [
    "    samtools view -T yeast.fasta -C -o yeast.cram yeast.bam\n",
    "\n",
    "Note that since the BAM file did not have M5 tags for the reference sequences, they are computed by Samtools and added to the CRAM. In a production environment, this step can be avoided by ensuring that the M5 tags are already in the SAM/BAM header."
   ]
  },
  {
   "cell_type": "code",
   "execution_count": 6,
   "metadata": {},
   "outputs": [],
   "source": [
    "!samtools view -T yeast.fasta -C -o yeast.cram yeast.bam"
   ]
  },
  {
   "cell_type": "markdown",
   "metadata": {},
   "source": [
    "__Using CRAM within Samtools__\n",
    "\n",
    "CRAM is primarily a reference-based compressed format, meaning that only differences between the stored sequences and the reference are stored.\n",
    "\n",
    "For a workflow this has a few fundamental effects:\n",
    "\n",
    "Alignments should be kept in chromosome/position sort order.\n",
    "The reference must be available at all times. Losing it may be equivalent to losing all your read sequences.\n",
    "Technically CRAM can work with other orders but it can become inefficient due to a large amount of random access across the reference genome. The current implementation of CRAM in htslib 1.0 is also inefficient in size for unsorted data, although this will be rectified in upcoming releases.\n",
    "\n",
    "In CRAM format the reference sequence is linked to by the md5sum (M5 auxiliary tag) in the CRAM header (@SQ tags). This is mandatory and part of the CRAM specification. In SAM/BAM format, these M5 tags are optional. Therefore converting from SAM/BAM to CRAM requires some additional overhead to link the CRAM to the correct reference sequence.\n",
    "\n"
   ]
  },
  {
   "cell_type": "markdown",
   "metadata": {},
   "source": [
    "The last 3 steps can be combined into a pipeline to reduce disk I/O:\n",
    "\n",
    "    bwa mem yeast.fasta y1.fastq y2.fastq | \\\n",
    "    samtools sort -O bam -l 0 -T /tmp - | \\\n",
    "    samtools view -T yeast.fasta -C -o yeast.cram -"
   ]
  },
  {
   "cell_type": "code",
   "execution_count": 7,
   "metadata": {},
   "outputs": [
    {
     "name": "stdout",
     "output_type": "stream",
     "text": [
      "[M::bwa_idx_load_from_disk] read 0 ALT contigs\n",
      "[M::process] read 50000 sequences (1800000 bp)...\n",
      "[M::mem_pestat] # candidate unique pairs for (FF, FR, RF, RR): (103, 4007, 13219, 91)\n",
      "[M::mem_pestat] analyzing insert size distribution for orientation FF...\n",
      "[M::mem_pestat] (25, 50, 75) percentile: (240, 2467, 3114)\n",
      "[M::mem_pestat] low and high boundaries for computing mean and std.dev: (1, 8862)\n",
      "[M::mem_pestat] mean and std.dev: (1893.02, 1414.42)\n",
      "[M::mem_pestat] low and high boundaries for proper pairs: (1, 11736)\n",
      "[M::mem_pestat] analyzing insert size distribution for orientation FR...\n",
      "[M::mem_pestat] (25, 50, 75) percentile: (243, 275, 314)\n",
      "[M::mem_pestat] low and high boundaries for computing mean and std.dev: (101, 456)\n",
      "[M::mem_pestat] mean and std.dev: (278.34, 50.30)\n",
      "[M::mem_pestat] low and high boundaries for proper pairs: (30, 527)\n",
      "[M::mem_pestat] analyzing insert size distribution for orientation RF...\n",
      "[M::mem_pestat] (25, 50, 75) percentile: (3111, 3320, 3565)\n",
      "[M::mem_pestat] low and high boundaries for computing mean and std.dev: (2203, 4473)\n",
      "[M::mem_pestat] mean and std.dev: (3352.46, 321.09)\n",
      "[M::mem_pestat] low and high boundaries for proper pairs: (1749, 4927)\n",
      "[M::mem_pestat] analyzing insert size distribution for orientation RR...\n",
      "[M::mem_pestat] (25, 50, 75) percentile: (291, 2611, 3188)\n",
      "[M::mem_pestat] low and high boundaries for computing mean and std.dev: (1, 8982)\n",
      "[M::mem_pestat] mean and std.dev: (2036.04, 1501.65)\n",
      "[M::mem_pestat] low and high boundaries for proper pairs: (1, 11879)\n",
      "[M::mem_pestat] skip orientation FF\n",
      "[M::mem_pestat] skip orientation RR\n",
      "[M::mem_process_seqs] Processed 50000 reads in 4.906 CPU sec, 4.915 real sec\n",
      "[main] Version: 0.7.17-r1188\n",
      "[main] CMD: bwa mem yeast.fasta y1.fastq y2.fastq\n",
      "[main] Real time: 5.029 sec; CPU: 4.981 sec\n"
     ]
    }
   ],
   "source": [
    "!bwa mem yeast.fasta y1.fastq y2.fastq | \\\n",
    "samtools sort -O bam -l 0 -T /tmp - | \\\n",
    "samtools view -T yeast.fasta -C -o yeast.cram -"
   ]
  },
  {
   "cell_type": "markdown",
   "metadata": {},
   "source": [
    "---"
   ]
  },
  {
   "cell_type": "markdown",
   "metadata": {},
   "source": [
    "## Viewing in alignment and pileup format"
   ]
  },
  {
   "cell_type": "markdown",
   "metadata": {},
   "source": [
    "See the variant calling workflow for more advanced examples.\n",
    "\n",
    "    samtools view yeast.cram\n",
    "    samtools mpileup -f yeast.fasta yeast.cram"
   ]
  },
  {
   "cell_type": "code",
   "execution_count": 8,
   "metadata": {
    "scrolled": false
   },
   "outputs": [
    {
     "name": "stdout",
     "output_type": "stream",
     "text": [
      "[W::cram_populate_ref] Creating reference cache directory /Users/squiresrb/.cache/hts-ref\r\n",
      "This may become large; see the samtools(1) manual page REF_CACHE discussion\r\n"
     ]
    }
   ],
   "source": [
    "!samtools view yeast.cram > yeast.sam"
   ]
  },
  {
   "cell_type": "code",
   "execution_count": 9,
   "metadata": {},
   "outputs": [
    {
     "name": "stdout",
     "output_type": "stream",
     "text": [
      "[mpileup] 1 samples in 1 input files\r\n",
      "<mpileup> Set max per-file depth to 8000\r\n"
     ]
    }
   ],
   "source": [
    "!samtools mpileup -f yeast.fasta yeast.cram > yeast_variants.pileup"
   ]
  },
  {
   "cell_type": "markdown",
   "metadata": {},
   "source": [
    "---"
   ]
  },
  {
   "cell_type": "markdown",
   "metadata": {},
   "source": [
    "## View (some  of) our results"
   ]
  },
  {
   "cell_type": "markdown",
   "metadata": {},
   "source": [
    "    head -n 25 yeast.sam\n",
    "    head -n 25 yeast_variants.pileup"
   ]
  },
  {
   "cell_type": "code",
   "execution_count": 10,
   "metadata": {},
   "outputs": [
    {
     "name": "stdout",
     "output_type": "stream",
     "text": [
      "SRR507778.19213\t147\tI\t62\t60\t36M\t=\t3183\t3087\tATCCTAACACTACCCTAACACAGCCCTAATCTAACC\t15=@9:@C3<CBGGGDGDBGDFCC?>GGG<GGGDGG\tMC:Z:36M\tAS:i:36\tXS:i:19\tMD:Z:36\tNM:i:0\r\n",
      "SRR507778.12312\t147\tI\t205\t60\t36M\t=\t3626\t3387\tCCACTCACCCACCGTTACCCTCCAATTACCCATATC\tGD<B?B>DGGBGGGGGCIIIIGIIIIIEIIGIIIII\tMC:Z:36M\tAS:i:36\tXS:i:26\tMD:Z:36\tNM:i:0\r\n",
      "SRR507778.11604\t83\tI\t402\t60\t36M\t=\t3869\t3433\tCTCACTTGTATACTGATTTTACGTACGCACACGGAT\tGHGHIIIIIIIIIIIHIIIIIIIIIIIIIIIIIIII\tMC:Z:36M\tAS:i:36\tXS:i:0\tMD:Z:36\tNM:i:0\r\n",
      "SRR507778.10609\t83\tI\t2661\t40\t36M\t=\t6131\t3436\tTGAATTCGTACAACATTAAACGTGTGTTGGGAGTCG\tIIIGFIIGIIHIIIIGIIIIIIIIIIHIIIIIIGII\tMC:Z:36M\tAS:i:36\tXS:i:36\tMD:Z:36\tNM:i:0\r\n",
      "SRR507778.6249\t147\tI\t2925\t60\t36M\t=\t6404\t3445\tTTTCTAAGTGGGATTTTTCTTAATCCTTGGATTCTT\tGGGGADIGIHIIHHHIEHIHIHI<DIIIIIIIGIIF\tMC:Z:36M\tAS:i:36\tXS:i:0\tMD:Z:36\tNM:i:0\r\n",
      "SRR507778.14609\t129\tI\t3048\t60\t36M\tIV\t1525643\t0\tAAAAGTAGCCGTTCATTTCCCTTCCGATTTCATTCC\t>5833+?=8>B@FBF?9B7AGGGB<G@BGGGGEGD>\tMC:Z:36M\tAS:i:36\tXS:i:0\tMD:Z:36\tNM:i:0\r\n",
      "SRR507778.20233\t83\tI\t3132\t60\t36M\t=\t6388\t3222\tTATTTGTGTCCCATTCTCGTAGATAAAATTCTTGGA\tIIIIIIIGGIIIIIIIIIIIIIIIIIIIIIIBIIII\tMC:Z:36M\tAS:i:36\tXS:i:0\tMD:Z:36\tNM:i:0\r\n",
      "SRR507778.19213\t99\tI\t3183\t60\t36M\t=\t62\t-3087\tATTTTCTTCATAAAGAAGCTTTCAAGATATAAGATA\tHHHGHGDAHHHHHEHHHHHHHHGHEGBDGGGGG<GE\tMC:Z:36M\tAS:i:36\tXS:i:0\tMD:Z:36\tNM:i:0\r\n",
      "SRR507778.20882\t73\tI\t3259\t60\t36M\t=\t3259\t0\tCAAAAAGGAAAGCATGGAGGGAAACAGTAAACAGTG\t@GGGGGG>GGBD4DDGGEDGDDG@GAA1CBEEEE3D\tAS:i:36\tXS:i:0\tMD:Z:36\tNM:i:0\r\n",
      "SRR507778.20882\t133\tI\t3259\t0\t*\t=\t3259\t0\tGTGGTGTGTGTGGGTGAGGTGTGGGTGTGGGGAGGG\tEGBG8GCB8BBBB#######################\tMC:Z:36M\tAS:i:0\tXS:i:0\r\n",
      "SRR507778.12312\t99\tI\t3626\t60\t36M\t=\t205\t-3387\tGTATCTGATGTTTTTTTAGTAATTTCTTTGTAAATA\tIIIIIIIIIIIIIIIIIIIIIIIIIIIIIIIIIHHI\tMC:Z:36M\tAS:i:36\tXS:i:0\tMD:Z:36\tNM:i:0\r\n",
      "SRR507778.11604\t163\tI\t3869\t60\t36M\t=\t402\t-3433\tTTTTTGAAAATATTCTGAGGTAAAAGCCATTAAGGT\tIIIIIIHIIIIIIIIIIIIIIIIIIIIHIIIIHIIE\tMC:Z:36M\tAS:i:36\tXS:i:0\tMD:Z:36\tNM:i:0\r\n",
      "SRR507778.24515\t83\tI\t4004\t60\t36M\t=\t7814\t3776\tGATGTTTCAAGGCCTGAAGTTTGAATATTTATGTAG\tIHIIIIIIIIIIIIHIIIIHIIIIIIIIIIIIIIII\tMC:Z:36M\tAS:i:36\tXS:i:0\tMD:Z:36\tNM:i:0\r\n",
      "SRR507778.19471\t83\tI\t4627\t60\t36M\t=\t8153\t3492\tGGCAGAGTTTCCAAAAAAAATTGTTAATCGACAAAG\tHGHBHGGHGHHHGHHHHHHHHGGGGGDDD=BDGGGG\tMC:Z:36M\tAS:i:36\tXS:i:20\tMD:Z:36\tNM:i:0\r\n",
      "SRR507778.15626\t83\tI\t4748\t60\t36M\t=\t8861\t4079\tTTTAAATTGTATTGAGTGCTTCAGTCATTGCAAAAT\tIIIIIIIIIIIIIIIIIIIIIIHIIIIIIIIIIIII\tMC:Z:36M\tAS:i:36\tXS:i:0\tMD:Z:36\tNM:i:0\r\n",
      "SRR507778.7265\t147\tI\t4894\t60\t36M\t=\t8228\t3300\tTATCTATCACAAAGGAGACAAAATCGTTGATAAAAA\tGGBDGGIIIFIGHHIIDDGGGGGDGDIIDIIEIIII\tMC:Z:36M\tAS:i:36\tXS:i:0\tMD:Z:36\tNM:i:0\r\n",
      "SRR507778.14364\t83\tI\t5516\t60\t36M\t=\t9133\t3583\tTATGATATAAAAACTCGGACCCTGTTTTACTTCTTT\tIIIIIIIHIIIIIIIIIIIIIIIIIIIIIIIIIIII\tMC:Z:36M\tAS:i:36\tXS:i:0\tMD:Z:36\tNM:i:0\r\n",
      "SRR507778.10609\t163\tI\t6131\t60\t36M\t=\t2661\t-3436\tCATACGTTGATTAGTACTGTTGGTCTCTCATTGAAA\tHIHIHIGIIIHIIIHIHIIIGIIIGIEHDIIIHIHG\tMC:Z:36M\tAS:i:36\tXS:i:0\tMD:Z:36\tNM:i:0\r\n",
      "SRR507778.20233\t163\tI\t6388\t60\t36M\t=\t3132\t-3222\tACCAATTTGACGTTAATTTTAAATGCGTTCTGAAGT\tIIIIIIIIIIIIIIIIIIIIIIIIIIIIIGIIIHII\tMC:Z:36M\tAS:i:36\tXS:i:0\tMD:Z:36\tNM:i:0\r\n",
      "SRR507778.6249\t99\tI\t6404\t60\t36M\t=\t2925\t-3445\tTTTTAAATGCGTTCTGAAGTTTCTTAAATAACCCGG\tGGGGGGGGGGHHHHHHGDHHHHGHHFGHHHGFGGGG\tMC:Z:36M\tAS:i:36\tXS:i:0\tMD:Z:36\tNM:i:0\r\n",
      "SRR507778.12461\t83\tI\t6424\t60\t36M\t=\t9688\t3230\tTTCTTAAATAACCCGGATTGGTTAGGTTCAGCCATG\tDB=D@DDD?DD=7=?@?4B=@DDD?D@DDDDDDDDD\tMC:Z:36M\tAS:i:36\tXS:i:0\tMD:Z:36\tNM:i:0\r\n",
      "SRR507778.17222\t83\tI\t7507\t60\t36M\t=\t10727\t3186\tTAACTAAAGTAATAGCTCTAGTTTGAGCATCTCGGC\tBBD@BDDDD@D:DDDBD:D?DD:DDDDB<DDDDDD:\tMC:Z:36M\tAS:i:36\tXS:i:0\tMD:Z:36\tNM:i:0\r\n",
      "SRR507778.22588\t99\tI\t7640\t60\t36M\t=\t7885\t281\tCCAAGCGGCTAATATGGAGTTACCAATGATATTGAA\tIIIIIIIIIIIIIIGIIHFHIIIIIIIIFIGIIBHI\tMC:Z:36M\tAS:i:36\tXS:i:0\tMD:Z:36\tNM:i:0\r\n",
      "SRR507778.22331\t83\tI\t7800\t60\t36M\t=\t11500\t3666\tGAGTATCTTTTCAAAGATTTCAACCATAGTAGGTAT\tHIIIIHIIIIIIIIIIIIIIIIIIIIIIIIIIIIII\tMC:Z:36M\tAS:i:36\tXS:i:0\tMD:Z:36\tNM:i:0\r\n",
      "SRR507778.24515\t163\tI\t7814\t60\t36M\t=\t4004\t-3776\tAGATTTCAACCATAGTAGGTATGCCCCAGATGAAAC\tIIHIHHIHIIIIIIIHIHGFIIIIIIIGIIHIIIIH\tMC:Z:36M\tAS:i:36\tXS:i:0\tMD:Z:36\tNM:i:0\r\n"
     ]
    }
   ],
   "source": [
    "!head -n 25 yeast.sam"
   ]
  },
  {
   "cell_type": "code",
   "execution_count": 11,
   "metadata": {},
   "outputs": [
    {
     "name": "stdout",
     "output_type": "stream",
     "text": [
      "I\t62\ta\t1\t^],\t1\r\n",
      "I\t63\tT\t1\t,\t5\r\n",
      "I\t64\tC\t1\t,\t=\r\n",
      "I\t65\tC\t1\t,\t@\r\n",
      "I\t66\tT\t1\t,\t9\r\n",
      "I\t67\tA\t1\t,\t:\r\n",
      "I\t68\tA\t1\t,\t@\r\n",
      "I\t69\tC\t1\t,\tC\r\n",
      "I\t70\tA\t1\t,\t3\r\n",
      "I\t71\tC\t1\t,\t<\r\n",
      "I\t72\tT\t1\t,\tC\r\n",
      "I\t73\tA\t1\t,\tB\r\n",
      "I\t74\tC\t1\t,\tG\r\n",
      "I\t75\tC\t1\t,\tG\r\n",
      "I\t76\tC\t1\t,\tG\r\n",
      "I\t77\tT\t1\t,\tD\r\n",
      "I\t78\tA\t1\t,\tG\r\n",
      "I\t79\tA\t1\t,\tD\r\n",
      "I\t80\tC\t1\t,\tB\r\n",
      "I\t81\tA\t1\t,\tG\r\n",
      "I\t82\tC\t1\t,\tD\r\n",
      "I\t83\tA\t1\t,\tF\r\n",
      "I\t84\tG\t1\t,\tC\r\n",
      "I\t85\tC\t1\t,\tC\r\n",
      "I\t86\tC\t1\t,\t?\r\n"
     ]
    }
   ],
   "source": [
    "!head -n 25 yeast_variants.pileup"
   ]
  },
  {
   "cell_type": "markdown",
   "metadata": {},
   "source": [
    "---"
   ]
  },
  {
   "cell_type": "markdown",
   "metadata": {},
   "source": [
    "#### Glossary of file formats\n",
    "\n",
    "https://www.ncbi.nlm.nih.gov/sra/docs/submitformats/\n",
    "\n",
    "Sequence data formats:\n",
    "- FASTA: Simple format for DNA or peptide sequences.\n",
    "- FASTQ: Stores sequences and sequence __quality__ information together.\n",
    "\n",
    "Alignment data formats\n",
    "- SAM / BAM Sequence Alignment/Map\n",
    "\n",
    "Variation data\n",
    "- VCF / BCF Variant Call Format"
   ]
  },
  {
   "cell_type": "code",
   "execution_count": null,
   "metadata": {},
   "outputs": [],
   "source": []
  }
 ],
 "metadata": {
  "kernelspec": {
   "display_name": "Python 3",
   "language": "python",
   "name": "python3"
  },
  "language_info": {
   "codemirror_mode": {
    "name": "ipython",
    "version": 3
   },
   "file_extension": ".py",
   "mimetype": "text/x-python",
   "name": "python",
   "nbconvert_exporter": "python",
   "pygments_lexer": "ipython3",
   "version": "3.7.0"
  }
 },
 "nbformat": 4,
 "nbformat_minor": 2
}
