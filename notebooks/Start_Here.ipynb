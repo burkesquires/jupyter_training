{
 "cells": [
  {
   "cell_type": "markdown",
   "metadata": {},
   "source": [
    "# Scientific Notebooks"
   ]
  },
  {
   "cell_type": "markdown",
   "metadata": {},
   "source": [
    "### Introduction\n",
    "- [Introduction](./0-Intro/0_Jupyter_training.ipynb) (Presentation – 15 min)\n",
    "\n",
    "### Anaconda\n",
    "\n",
    "- [Anaconda distribution overview](./1-Anaconda/1-1-Anaconda-Overview.ipynb) (Walkthrough – 30 min)\n",
    "- [Installation Demo](./1-Anaconda/1-2-Anaconda-Installation.ipynb) (Walkthrough – 15 min)\n",
    "    \n",
    "### Jupyter\n",
    "- [Introduction to Jupyter Ecosystem](./2-Jupyter/2-1-Jupyter-ecosystem.ipynb) (Presentation – 30 min)\n",
    "- [Jupyter architecture](./2-Jupyter/2-2-Jupyter-architecture.ipynb) (Walkthrough - 15 min)\n",
    "- [Jupyter basics](./2-Jupyter/2-3-Jupyter-notebook-basics.ipynb) (Hands on - 15 min)\n",
    "- [Writing narrative text](./2-Jupyter/2-4-Jupyter-markdown.ipynb) (Hands on – 15 min)\n",
    "- Running code (Hands on – 30 min)\n",
    "    - [Python](./2-Jupyter/2-5-Jupyter-code-python.ipynb)\n",
    "    - [R](./2-Jupyter/2-6-Jupyter-code-r.ipynb)\n",
    "    - [Bash](./2-Jupyter/2-7-Jupyter-command-line.ipynb)\n",
    "- [Magic commands](./2-Jupyter/2-8-Jupyter-magics.ipynb) (Hands on – 15 min)\n",
    "\n",
    "### Lunch\n",
    "- Optional: Setup GitHub account following guide [here](./2-Jupyter/2-9-jupyter-sharing/2-9-2-Jupyter-sharing-github.ipynb)\n",
    "\n",
    "### Sharing\n",
    "- [Sharing notebooks](./2-Jupyter/2-9-jupyter-sharing/2-9-1-Jupyter-sharing.ipynb) (Walkthrough – 15 min)\n",
    "- [Creating a GitHub project](./2-Jupyter/2-9-jupyter-sharing/2-9-2-Jupyter-sharing-github.ipynb) (Walkthrough – 15 min)\n",
    "- [Using myBinder](./2-Jupyter/2-9-jupyter-sharing/2-9-3-Intro_to_binder.ipynb) (Walkthrough – 30 min)\n",
    "\n",
    "### Building a bioinformatics workflow\n",
    "- [Installing `bioconda`](./3-Build-Bioinfo-Workflow/3-1-install-bioconda.ipynb) (Hands on – 15 min)\n",
    "- [Building a variant calling pipeline](./3-Build-Bioinfo-Workflow/3-2-variant-calling-workflow.ipynb) (Hands on – 60 min)\n",
    "\n",
    "### [Demos / Walkthroughs](./4-Last-things/4-1-Demos.ipynb)\n",
    "- Jupyter in the Cloud (10 min)\n",
    "- Jupyter extensions (10 min)\n",
    "- JupyterHub (10 min)\n",
    "- nteract (Mac desktop software to run notebook) (10 min)"
   ]
  }
 ],
 "metadata": {
  "kernelspec": {
   "display_name": "Python 3",
   "language": "python",
   "name": "python3"
  },
  "language_info": {
   "codemirror_mode": {
    "name": "ipython",
    "version": 3
   },
   "file_extension": ".py",
   "mimetype": "text/x-python",
   "name": "python",
   "nbconvert_exporter": "python",
   "pygments_lexer": "ipython3",
   "version": "3.6.5"
  }
 },
 "nbformat": 4,
 "nbformat_minor": 2
}
