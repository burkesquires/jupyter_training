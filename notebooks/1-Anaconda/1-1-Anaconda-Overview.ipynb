{
 "cells": [
  {
   "cell_type": "markdown",
   "metadata": {},
   "source": [
    "# Anaconda Overview"
   ]
  },
  {
   "cell_type": "markdown",
   "metadata": {},
   "source": [
    "![logo-dark.png](attachment:../images/logo-dark.png)"
   ]
  },
  {
   "cell_type": "markdown",
   "metadata": {},
   "source": [
    "(Walkthrough; 30 min)"
   ]
  },
  {
   "cell_type": "markdown",
   "metadata": {},
   "source": [
    "### __[Anaconda Python/R Distribution](https://www.anaconda.com/distribution/)__ "
   ]
  },
  {
   "cell_type": "markdown",
   "metadata": {},
   "source": [
    "Is a \"free and open source distribution of the Python and R programming languages for data science and machine learning related applications (large-scale data processing, predictive analytics, scientific computing), that aims to simplify package management and deployment. Package versions are managed by the package management system `conda`. The Anaconda distribution is used by over 6 million users, and it includes more than 250 popular data science packages suitable for Windows, Linux, and MacOS.\" [Wikipedia]"
   ]
  },
  {
   "cell_type": "markdown",
   "metadata": {},
   "source": [
    "## What is included in Anaconda?"
   ]
  },
  {
   "cell_type": "markdown",
   "metadata": {},
   "source": [
    "- Include\n",
    "    - Python\n",
    "        - Python programming language - __python 3.X__\n",
    "        - Python packages / libraries - __pandas, numpy, matplotlib, [etc](https://docs.anaconda.com/anaconda/packages/pkg-docs)__\n",
    "    - R\n",
    "        - R programming language (additional install)\n",
    "        - R packages / libraries - [(see which ones)](https://docs.anaconda.com/anaconda/packages/r-language-pkg-docs)\n",
    "    - a package management - __conda__\n",
    "    - Desktop GUI - __Anaconda Navigator__\n",
    "\n",
    "- Enable\n",
    "    - Environment management\n",
    "    - Portability\n",
    "    - Ease of Installation\n",
    "\n"
   ]
  },
  {
   "cell_type": "markdown",
   "metadata": {},
   "source": [
    "The following applications are available by default in Navigator:\n",
    "- JupyterLab\n",
    "- Jupyter Notebook\n",
    "- QtConsole\n",
    "- Spyder\n",
    "- Glueviz\n",
    "- Orange\n",
    "- Rstudio\n",
    "- Visual Studio Code"
   ]
  },
  {
   "cell_type": "markdown",
   "metadata": {},
   "source": [
    "### What if I do not want all of that?"
   ]
  },
  {
   "cell_type": "markdown",
   "metadata": {},
   "source": [
    "Install [miniconda](https://conda.io/miniconda.html) instead."
   ]
  },
  {
   "cell_type": "markdown",
   "metadata": {},
   "source": [
    "### Anaconda or Miniconda?"
   ]
  },
  {
   "cell_type": "markdown",
   "metadata": {},
   "source": [
    "[From aanaconda.org:]\n",
    "\n",
    "Choose Anaconda if you:\n",
    "\n",
    "- Are new to conda or Python.\n",
    "- Like the convenience of having Python and over 150 scientific packages automatically installed at once.\n",
    "- Have the time and disk space—a few minutes and 300 MB.\n",
    "- Do not want to individually install each of the packages you want to use.\n",
    "\n",
    "Choose Miniconda if you:\n",
    "\n",
    "- Do not mind installing each of the packages you want to use individually.\n",
    "- Do not have time or disk space to install over 150 packages at once.\n",
    "- Want fast access to Python and the conda commands and you wish to sort out the other programs later."
   ]
  },
  {
   "cell_type": "markdown",
   "metadata": {},
   "source": [
    "## `bioconda`"
   ]
  },
  {
   "cell_type": "markdown",
   "metadata": {},
   "source": [
    "The [bioconda](https://bioconda.github.io) channel enable the `conda` package manager to instantly install bioinformations softwares.\n",
    "\n",
    "[Grüning B, Dale R, Sjödin A, Chapman BA, Rowe J, Tomkins-Tinch CH, et al. _Bioconda: sustainable and comprehensive software distribution for the life sciences._ Nature Methods. 2018;15(7):475–6.](https://www.nature.com/articles/s41592-018-0046-7)\n",
    "\n",
    "\n",
    "Nature \"[_TechBlog: Bioconda promises to ease bioinformatics software installation woes_](http://blogs.nature.com/naturejobs/2017/11/03/techblog-bioconda-promises-to-ease-bioinformatics-software-installation-woes/)\"\n",
    "\n",
    "Browse packages in the Bioconda channel: [Available packages](https://bioconda.github.io/recipes.html#recipes)"
   ]
  },
  {
   "cell_type": "markdown",
   "metadata": {},
   "source": [
    "---"
   ]
  },
  {
   "cell_type": "markdown",
   "metadata": {},
   "source": [
    "## [Tour of Anaconda Distribution](https://www.anaconda.com/download/)\n",
    "\n",
    "- Download\n",
    "- Install\n",
    "- Packages\n",
    "- Updates\n",
    "- Environments"
   ]
  },
  {
   "cell_type": "markdown",
   "metadata": {},
   "source": [
    "---"
   ]
  },
  {
   "cell_type": "markdown",
   "metadata": {},
   "source": [
    "### Other Distribution\n",
    "\n",
    "- [Enthough Python Distribution](https://www.enthought.com/product/enthought-python-distribution/) (\"EPD\")"
   ]
  },
  {
   "cell_type": "markdown",
   "metadata": {},
   "source": [
    "#### Vocabulary:\n",
    "\n",
    "\n",
    "- distribution\n",
    "    - A collection of the python programming language and a number of python packages together in a single installer\n",
    "\n",
    "\n",
    "- python programming language\n",
    "    - the vocabulary and syntax that we will use to write our software, developed by Guido van Rossum in 1991 and further developed by many people since\n",
    "\n",
    "\n",
    "- package\n",
    "    - software written in python and available for our use"
   ]
  },
  {
   "cell_type": "code",
   "execution_count": null,
   "metadata": {
    "collapsed": true
   },
   "outputs": [],
   "source": []
  }
 ],
 "metadata": {
  "kernelspec": {
   "display_name": "Python 3",
   "language": "python",
   "name": "python3"
  },
  "language_info": {
   "codemirror_mode": {
    "name": "ipython",
    "version": 3
   },
   "file_extension": ".py",
   "mimetype": "text/x-python",
   "name": "python",
   "nbconvert_exporter": "python",
   "pygments_lexer": "ipython3",
   "version": "3.7.0"
  }
 },
 "nbformat": 4,
 "nbformat_minor": 2
}
