{
 "cells": [
  {
   "cell_type": "markdown",
   "metadata": {},
   "source": [
    "# Anaconda Installation"
   ]
  },
  {
   "cell_type": "markdown",
   "metadata": {},
   "source": [
    "---"
   ]
  },
  {
   "cell_type": "markdown",
   "metadata": {},
   "source": [
    "(Walkthrough; 15 min)\n",
    "\n",
    "R. Burke Squires\n",
    "\n",
    "https://github.com/burkesquires"
   ]
  },
  {
   "cell_type": "markdown",
   "metadata": {},
   "source": [
    "## Initial Anaconda installation\n",
    "\n",
    "__Download__\n",
    "1. Open a web borwser\n",
    "1. In the search box enter `anaconda.org` and hit `Enter`\n",
    "1. In the upper right-hand corner click on `Download Anaconda`.\n",
    "1. Scroll down until you see the two large green `Download` button.\n",
    "1. Click on the download button under the __Python 3__ version.\n",
    "\n",
    "__Installation__\n",
    "1. Once the installer is downloaded, follow the installation instructions here:\n",
    "    https://docs.anaconda.com/anaconda/install/\n",
    "    - Install in your user directory only, \"Just Me\"\n",
    "\n",
    "## Result\n",
    "- Default installation with:\n",
    "    - Python programming language\n",
    "    - `conda` installer\n",
    "    - Anaconda Navigator graphical user interface (GUI) to `conda` installer\n",
    "    - Many Python packages\n",
    "    - A default `base` environment\n",
    "\n",
    "## R installation to existing Anaconda installation\n",
    "\n",
    "1. To install the R programming language, follow the installation instructions here:\n",
    "    https://docs.anaconda.com/anaconda/packages/r-language-pkg-docs\n",
    "    - R Essentials bundle includes approximately 80 of the most popular scientific packages for the R programming language. You can install the R Essentials bundle with this command:\n",
    "\n",
    "        `conda install -c r r-essentials`\n",
    "\n",
    "## Updating\n",
    "\n",
    "1. Though Anaconda Navigator\n",
    "1. Through command line - using `conda`, `pip`"
   ]
  },
  {
   "cell_type": "code",
   "execution_count": null,
   "metadata": {},
   "outputs": [],
   "source": []
  }
 ],
 "metadata": {
  "kernelspec": {
   "display_name": "Python 3",
   "language": "python",
   "name": "python3"
  },
  "language_info": {
   "codemirror_mode": {
    "name": "ipython",
    "version": 3
   },
   "file_extension": ".py",
   "mimetype": "text/x-python",
   "name": "python",
   "nbconvert_exporter": "python",
   "pygments_lexer": "ipython3",
   "version": "3.7.4"
  }
 },
 "nbformat": 4,
 "nbformat_minor": 4
}
