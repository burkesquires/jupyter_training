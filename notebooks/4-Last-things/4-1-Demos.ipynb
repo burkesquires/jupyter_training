{
 "cells": [
  {
   "cell_type": "markdown",
   "metadata": {},
   "source": [
    "# Demos"
   ]
  },
  {
   "cell_type": "markdown",
   "metadata": {},
   "source": [
    "(Demos; 40 min)\n",
    "\n",
    "R. Burke Squires\n",
    "\n",
    "https://github.com/burkesquires"
   ]
  },
  {
   "cell_type": "markdown",
   "metadata": {},
   "source": [
    "## Jupyter in the Cloud"
   ]
  },
  {
   "cell_type": "markdown",
   "metadata": {},
   "source": [
    "(Demo; 10 min)\n",
    "\n",
    "- [Google Colab](https://colab.research.google.com)\n",
    "- [Microsoft Azure](https://notebooks.azure.com/)"
   ]
  },
  {
   "cell_type": "markdown",
   "metadata": {},
   "source": [
    "## Jupyter Extensions "
   ]
  },
  {
   "cell_type": "markdown",
   "metadata": {},
   "source": [
    "(Demo; 10 min)\n",
    "\n",
    "- What are they\n",
    "    - Notebook extensions are plug-ins that you can easily add functionaliy to your Jupyter notebooks. \n",
    "    - The best way to install them is to use Jupyter NbExtensions Configurator. It will add a tab to let you enable/disable extensions.\n",
    "- Where to find them\n",
    "    - https://jupyter-contrib-nbextensions.readthedocs.io/en/latest/\n",
    "- Highlight a few interesting ones\n",
    "    - https://ndres.me/post/best-jupyter-notebook-extensions/\n",
    "    - https://github.com/twosigma/beakerx\n"
   ]
  },
  {
   "cell_type": "markdown",
   "metadata": {},
   "source": [
    "## JupyterHub"
   ]
  },
  {
   "cell_type": "markdown",
   "metadata": {},
   "source": [
    "(Demo; 10 min)\n",
    "\n",
    "- JupyterHub, a multi-user Hub, spawns, manages, and proxies multiple instances of the single-user Jupyter notebook server. JupyterHub can be used to serve notebooks to a class of students, a corporate data science group, or a scientific research group.\n",
    "\n",
    "- NIAID implementation"
   ]
  },
  {
   "cell_type": "markdown",
   "metadata": {},
   "source": [
    "## nteract (Mac Jupyter notebook program)"
   ]
  },
  {
   "cell_type": "markdown",
   "metadata": {},
   "source": [
    "(Demo; 10 min)\n",
    "\n",
    "Mac desktop app to run notebooks"
   ]
  },
  {
   "cell_type": "code",
   "execution_count": null,
   "metadata": {},
   "outputs": [],
   "source": []
  }
 ],
 "metadata": {
  "kernelspec": {
   "display_name": "Python 3",
   "language": "python",
   "name": "python3"
  },
  "language_info": {
   "codemirror_mode": {
    "name": "ipython",
    "version": 3
   },
   "file_extension": ".py",
   "mimetype": "text/x-python",
   "name": "python",
   "nbconvert_exporter": "python",
   "pygments_lexer": "ipython3",
   "version": "3.6.5"
  }
 },
 "nbformat": 4,
 "nbformat_minor": 2
}
