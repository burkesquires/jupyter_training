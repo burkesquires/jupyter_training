{
 "cells": [
  {
   "cell_type": "code",
   "execution_count": null,
   "metadata": {},
   "outputs": [],
   "source": [
    "Demos\n",
    "Jupyter in the Cloud (Presentation; 10 min; 1 hr. prep)\n",
    "Google Colab\n",
    "Azure\n",
    "Other\n",
    "Jupyter extensions (Demo; 10 min; 2 hr. prep)\n",
    "https://github.com/twosigma/beakerx\n",
    "Where to find them\n",
    "Highlight a few interesting ones\n",
    "Demo JupyterHub (Demo; 10 min; 30 min prep)\n",
    "NIAID implementation\n",
    "Demo nteract (Demo; 10 min; 30 min prep)\n",
    "Mac desktop app to run notebooks\n"
   ]
  }
 ],
 "metadata": {
  "kernelspec": {
   "display_name": "Python 3",
   "language": "python",
   "name": "python3"
  },
  "language_info": {
   "codemirror_mode": {
    "name": "ipython",
    "version": 3
   },
   "file_extension": ".py",
   "mimetype": "text/x-python",
   "name": "python",
   "nbconvert_exporter": "python",
   "pygments_lexer": "ipython3",
   "version": "3.6.5"
  }
 },
 "nbformat": 4,
 "nbformat_minor": 2
}
