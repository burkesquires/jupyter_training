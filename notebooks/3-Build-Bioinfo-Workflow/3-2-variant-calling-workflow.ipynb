{
 "cells": [
  {
   "cell_type": "markdown",
   "metadata": {},
   "source": [
    "# Building a Bioinformatics Workflow with Jupyter & Anaconda"
   ]
  },
  {
   "cell_type": "markdown",
   "metadata": {},
   "source": [
    "## Variant Calling Workflow"
   ]
  },
  {
   "cell_type": "markdown",
   "metadata": {},
   "source": [
    "Burke Squires\n",
    "\n",
    "https://github.com/burkesquires"
   ]
  },
  {
   "cell_type": "markdown",
   "metadata": {},
   "source": [
    "---"
   ]
  },
  {
   "cell_type": "markdown",
   "metadata": {},
   "source": [
    "#### Scenario:\n",
    "\n",
    "Have yeast NGS data and we want to detect variants from the data"
   ]
  },
  {
   "cell_type": "markdown",
   "metadata": {},
   "source": [
    "[Source: http://www.htslib.org/workflow/](http://www.htslib.org/workflow/)"
   ]
  },
  {
   "cell_type": "markdown",
   "metadata": {},
   "source": [
    "Software that is need for pipeline:\n",
    "\n",
    "- `bwa`\n",
    "- `samtools`\n",
    "- `bcftools`"
   ]
  },
  {
   "cell_type": "markdown",
   "metadata": {},
   "source": [
    "Samtools is a suite of programs for interacting with high-throughput sequencing data. It consists of three separate repositories:\n",
    "\n",
    "- Samtools: Reading/writing/editing/indexing/viewing SAM/BAM/CRAM format\n",
    "- BCFtools: Reading/writing BCF2/VCF/gVCF files and calling/filtering/summarising SNP and short indel sequence variants\n",
    "- HTSlib: A C library for reading/writing high-throughput sequencing data\n",
    "\n",
    "Samtools and BCFtools both use HTSlib internally, but these source packages contain their own copies of htslib so they can be built independently."
   ]
  },
  {
   "cell_type": "markdown",
   "metadata": {},
   "source": [
    "## Download some data:"
   ]
  },
  {
   "cell_type": "code",
   "execution_count": null,
   "metadata": {},
   "outputs": [],
   "source": [
    "!curl ftp://ftp.sra.ebi.ac.uk/vol1/fastq/SRR507/SRR507778/SRR507778_1.fastq.gz | gzip -d | head -100000 > y1.fastq\n",
    "!curl ftp://ftp.sra.ebi.ac.uk/vol1/fastq/SRR507/SRR507778/SRR507778_2.fastq.gz | gzip -d | head -100000 > y2.fastq\n",
    "!curl ftp://ftp.ensembl.org/pub/current_fasta/saccharomyces_cerevisiae/dna/Saccharomyces_cerevisiae.R64-1-1.dna_sm.toplevel.fa.gz | gzip -d > yeast.fasta"
   ]
  },
  {
   "cell_type": "markdown",
   "metadata": {},
   "source": [
    "---"
   ]
  },
  {
   "cell_type": "markdown",
   "metadata": {},
   "source": [
    "## Prepare the BWA indices"
   ]
  },
  {
   "cell_type": "markdown",
   "metadata": {},
   "source": [
    "We need to ensure there exists a .fai fasta index and also indices for whichever aligner we are using (Bwa-mem in this example).\n",
    "\n",
    "    samtools faidx yeast.fasta\n",
    "    bwa index yeast.fasta"
   ]
  },
  {
   "cell_type": "code",
   "execution_count": null,
   "metadata": {},
   "outputs": [],
   "source": [
    "!samtools faidx yeast.fasta\n",
    "!bwa index yeast.fasta"
   ]
  },
  {
   "cell_type": "markdown",
   "metadata": {},
   "source": [
    "---"
   ]
  },
  {
   "cell_type": "code",
   "execution_count": null,
   "metadata": {},
   "outputs": [],
   "source": [
    "!ls"
   ]
  },
  {
   "cell_type": "markdown",
   "metadata": {},
   "source": [
    "## Produce the Alignments"
   ]
  },
  {
   "cell_type": "markdown",
   "metadata": {},
   "source": [
    "The aligner is likely to output SAM in the same order or similar order to the input fastq files. It won’t be outputting in chromosome position order, so the output is typically not well suited to CRAM.\n",
    "\n",
    "    bwa mem -R '@RG\\tID:foo\\tSM:bar\\tLB:library1' yeast.fasta y1.fastq y2.fastq > yeast.sam\n",
    "\n",
    "The -R option adds a read-group line and applies that read-group to all aligned sequence records. It is not necessary, but a recommended practice."
   ]
  },
  {
   "cell_type": "code",
   "execution_count": null,
   "metadata": {},
   "outputs": [],
   "source": [
    "!bwa mem -R '@RG\\tID:foo\\tSM:bar\\tLB:library1' yeast.fasta y1.fastq y2.fastq > yeast.sam"
   ]
  },
  {
   "cell_type": "markdown",
   "metadata": {},
   "source": [
    "---"
   ]
  },
  {
   "cell_type": "markdown",
   "metadata": {},
   "source": [
    "## Sort into chromosome/positon order"
   ]
  },
  {
   "cell_type": "markdown",
   "metadata": {},
   "source": [
    "Ideally at this point we would be outputting CRAM directly, but at present samtools 1.0 does not have a way to indicate the reference on the command line. We can output to BAM instead and convert (below), or modify the SAM @SQ header to include MD5 sums in the M5: field.\n",
    "\n",
    "    samtools sort -O bam -T /tmp -l 0 -o yeast.bam yeast.sam\n",
    "\n",
    "The “-l 0” indicates to use no compression in the BAM file, as it is transitory and will be replaced by CRAM soon. We may wish to use -l 1 if disk space is short and we wish to reduce temporary file size."
   ]
  },
  {
   "cell_type": "code",
   "execution_count": null,
   "metadata": {},
   "outputs": [],
   "source": [
    "!samtools sort -O bam -T /tmp -l 0 -o yeast.bam yeast.sam"
   ]
  },
  {
   "cell_type": "markdown",
   "metadata": {},
   "source": [
    "---"
   ]
  },
  {
   "cell_type": "markdown",
   "metadata": {},
   "source": [
    "## Convert to CRAM format"
   ]
  },
  {
   "cell_type": "markdown",
   "metadata": {},
   "source": [
    "    samtools view -T yeast.fasta -C -o yeast.cram yeast.bam\n",
    "\n",
    "Note that since the BAM file did not have M5 tags for the reference sequences, they are computed by Samtools and added to the CRAM. In a production environment, this step can be avoided by ensuring that the M5 tags are already in the SAM/BAM header."
   ]
  },
  {
   "cell_type": "code",
   "execution_count": null,
   "metadata": {},
   "outputs": [],
   "source": [
    "!samtools view -T yeast.fasta -C -o yeast.cram yeast.bam"
   ]
  },
  {
   "cell_type": "markdown",
   "metadata": {},
   "source": [
    "__Using CRAM within Samtools__\n",
    "\n",
    "CRAM is primarily a reference-based compressed format, meaning that only differences between the stored sequences and the reference are stored.\n",
    "\n",
    "For a workflow this has a few fundamental effects:\n",
    "\n",
    "Alignments should be kept in chromosome/position sort order.\n",
    "The reference must be available at all times. Losing it may be equivalent to losing all your read sequences.\n",
    "Technically CRAM can work with other orders but it can become inefficient due to a large amount of random access across the reference genome. The current implementation of CRAM in htslib 1.0 is also inefficient in size for unsorted data, although this will be rectified in upcoming releases.\n",
    "\n",
    "In CRAM format the reference sequence is linked to by the md5sum (M5 auxiliary tag) in the CRAM header (@SQ tags). This is mandatory and part of the CRAM specification. In SAM/BAM format, these M5 tags are optional. Therefore converting from SAM/BAM to CRAM requires some additional overhead to link the CRAM to the correct reference sequence.\n",
    "\n"
   ]
  },
  {
   "cell_type": "markdown",
   "metadata": {},
   "source": [
    "The last 3 steps can be combined into a pipeline to reduce disk I/O:\n",
    "\n",
    "    bwa mem yeast.fasta y1.fastq y2.fastq | \\\n",
    "    samtools sort -O bam -l 0 -T /tmp - | \\\n",
    "    samtools view -T yeast.fasta -C -o yeast.cram -"
   ]
  },
  {
   "cell_type": "code",
   "execution_count": null,
   "metadata": {},
   "outputs": [],
   "source": [
    "!bwa mem yeast.fasta y1.fastq y2.fastq | \\\n",
    "samtools sort -O bam -l 0 -T /tmp - | \\\n",
    "samtools view -T yeast.fasta -C -o yeast.cram -"
   ]
  },
  {
   "cell_type": "markdown",
   "metadata": {},
   "source": [
    "---"
   ]
  },
  {
   "cell_type": "markdown",
   "metadata": {},
   "source": [
    "## Viewing in alignment and pileup format"
   ]
  },
  {
   "cell_type": "markdown",
   "metadata": {},
   "source": [
    "See the variant calling workflow for more advanced examples.\n",
    "\n",
    "    samtools view yeast.cram\n",
    "    samtools mpileup -f yeast.fasta yeast.cram"
   ]
  },
  {
   "cell_type": "code",
   "execution_count": null,
   "metadata": {
    "scrolled": false
   },
   "outputs": [],
   "source": [
    "!samtools view yeast.cram > yeast.sam"
   ]
  },
  {
   "cell_type": "code",
   "execution_count": null,
   "metadata": {},
   "outputs": [],
   "source": [
    "!samtools mpileup -f yeast.fasta yeast.cram > yeast_variants.pileup"
   ]
  },
  {
   "cell_type": "markdown",
   "metadata": {},
   "source": [
    "---"
   ]
  },
  {
   "cell_type": "markdown",
   "metadata": {},
   "source": [
    "## View (some  of) our results"
   ]
  },
  {
   "cell_type": "markdown",
   "metadata": {},
   "source": [
    "    head -n 25 yeast.sam\n",
    "    head -n 25 yeast_variants.pileup"
   ]
  },
  {
   "cell_type": "code",
   "execution_count": null,
   "metadata": {},
   "outputs": [],
   "source": [
    "!head -n 25 yeast.sam"
   ]
  },
  {
   "cell_type": "code",
   "execution_count": null,
   "metadata": {},
   "outputs": [],
   "source": [
    "!head -n 25 yeast_variants.pileup"
   ]
  },
  {
   "cell_type": "markdown",
   "metadata": {},
   "source": [
    "---"
   ]
  },
  {
   "cell_type": "markdown",
   "metadata": {},
   "source": [
    "#### Glossary of file formats\n",
    "\n",
    "https://www.ncbi.nlm.nih.gov/sra/docs/submitformats/\n",
    "\n",
    "Sequence data formats:\n",
    "- FASTA: Simple format for DNA or peptide sequences.\n",
    "- FASTQ: Stores sequences and sequence __quality__ information together.\n",
    "\n",
    "Alignment data formats\n",
    "- SAM / BAM Sequence Alignment/Map\n",
    "\n",
    "Variation data\n",
    "- VCF / BCF Variant Call Format"
   ]
  },
  {
   "cell_type": "code",
   "execution_count": null,
   "metadata": {},
   "outputs": [],
   "source": []
  }
 ],
 "metadata": {
  "kernelspec": {
   "display_name": "Python 3",
   "language": "python",
   "name": "python3"
  },
  "language_info": {
   "codemirror_mode": {
    "name": "ipython",
    "version": 3
   },
   "file_extension": ".py",
   "mimetype": "text/x-python",
   "name": "python",
   "nbconvert_exporter": "python",
   "pygments_lexer": "ipython3",
   "version": "3.6.6"
  }
 },
 "nbformat": 4,
 "nbformat_minor": 2
}
