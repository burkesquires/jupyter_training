{
 "cells": [
  {
   "cell_type": "code",
   "execution_count": null,
   "metadata": {},
   "outputs": [],
   "source": [
    "### Advanced Jupyter Notebook (hands on 60 min)\n",
    "- Accessing the underlying operating system\n",
    "- Running R and Python in the same notebook\n",
    "- Hiding code or output\n",
    "- Commenting and uncommenting a block of code\n",
    "- Multicursor support\n",
    "- Create a presentation from a Jupyter notebook. RISE\n",
    "- Cross-language support - Cython - make code run (almost) as fast as C"
   ]
  },
  {
   "cell_type": "markdown",
   "metadata": {},
   "source": [
    "### Accessing the underlying operating system\n",
    "Source: https://github.com/ipython/ipython-in-depth/blob/pycon-2019/1%20-%20Beyond%20Plain%20Python.ipynb"
   ]
  },
  {
   "cell_type": "code",
   "execution_count": 1,
   "metadata": {},
   "outputs": [
    {
     "name": "stdout",
     "output_type": "stream",
     "text": [
      "/Users/burkesquires/Documents/GitHub/jupyter_training/notebooks/2-Jupyter\n"
     ]
    }
   ],
   "source": [
    "!pwd"
   ]
  },
  {
   "cell_type": "code",
   "execution_count": 3,
   "metadata": {},
   "outputs": [
    {
     "data": {
      "text/plain": [
       "'/Users/burkesquires/Documents/GitHub/jupyter_training/notebooks/2-Jupyter'"
      ]
     },
     "execution_count": 3,
     "metadata": {},
     "output_type": "execute_result"
    }
   ],
   "source": [
    "%pwd"
   ]
  },
  {
   "cell_type": "code",
   "execution_count": 2,
   "metadata": {},
   "outputs": [
    {
     "data": {
      "text/plain": [
       "'/Users/burkesquires/Documents/GitHub/jupyter_training/notebooks/2-Jupyter'"
      ]
     },
     "execution_count": 2,
     "metadata": {},
     "output_type": "execute_result"
    }
   ],
   "source": [
    "pwd"
   ]
  },
  {
   "cell_type": "code",
   "execution_count": 11,
   "metadata": {},
   "outputs": [
    {
     "name": "stdout",
     "output_type": "stream",
     "text": [
      "files in notebooks directory:\n",
      "['2-1-Jupyter-ecosystem.ipynb', '2-1-jupyter-ecosystem.slides.html', '2-10-jupyter-code-script-of-scripts.ipynb', '2-11-Advanced-jupyter.ipynb', '2-2-jupyter-architecture.ipynb', '2-3-jupyter-notebook-basics.ipynb', '2-4-jupyter-markdown.ipynb', '2-5-jupyter-code-python.ipynb', '2-6-jupyter-code-r.ipynb', '2-7-jupyter-command-line.ipynb', '2-8-jupyter-magics.ipynb', '2-9-jupyter-sharing', '2-Jupyter-getting-help.ipynb', 'foo.py']\n"
     ]
    }
   ],
   "source": [
    "files = !ls .\n",
    "print(\"files in notebooks directory:\")\n",
    "print(files)"
   ]
  },
  {
   "cell_type": "code",
   "execution_count": 12,
   "metadata": {},
   "outputs": [
    {
     "name": "stdout",
     "output_type": "stream",
     "text": [
      "[2-1-Jupyter-ecosystem.ipynb, 2-1-jupyter-ecosystem.slides.html, 2-10-jupyter-code-script-of-scripts.ipynb, 2-11-Advanced-jupyter.ipynb, 2-2-jupyter-architecture.ipynb, 2-3-jupyter-notebook-basics.ipynb, 2-4-jupyter-markdown.ipynb, 2-5-jupyter-code-python.ipynb, 2-6-jupyter-code-r.ipynb, 2-7-jupyter-command-line.ipynb, 2-8-jupyter-magics.ipynb, 2-9-jupyter-sharing, 2-Jupyter-getting-help.ipynb, foo.py]\n"
     ]
    }
   ],
   "source": [
    "!echo $files"
   ]
  },
  {
   "cell_type": "code",
   "execution_count": 13,
   "metadata": {},
   "outputs": [
    {
     "name": "stdout",
     "output_type": "stream",
     "text": [
      "2-1-JUPYTER-ECOSYSTEM.IPYNB\n"
     ]
    }
   ],
   "source": [
    "!echo {files[0].upper()}"
   ]
  },
  {
   "cell_type": "markdown",
   "metadata": {},
   "source": [
    "Note that all this is available even in multiline blocks:"
   ]
  },
  {
   "cell_type": "code",
   "execution_count": 14,
   "metadata": {},
   "outputs": [
    {
     "name": "stdout",
     "output_type": "stream",
     "text": [
      "00 - 2-1-Jupyter-ecosystem\n",
      "--\n",
      "02 - 2-10-jupyter-code-script-of-scripts\n",
      "03 - 2-11-Advanced-jupyter\n",
      "04 - 2-2-jupyter-architecture\n",
      "05 - 2-3-jupyter-notebook-basics\n",
      "06 - 2-4-jupyter-markdown\n",
      "07 - 2-5-jupyter-code-python\n",
      "08 - 2-6-jupyter-code-r\n",
      "09 - 2-7-jupyter-command-line\n",
      "10 - 2-8-jupyter-magics\n",
      "--\n",
      "12 - 2-Jupyter-getting-help\n",
      "--\n"
     ]
    }
   ],
   "source": [
    "import os\n",
    "for i,f in enumerate(files):\n",
    "    if f.endswith('ipynb'):\n",
    "        !echo {\"%02d\" % i} - \"{os.path.splitext(f)[0]}\"\n",
    "    else:\n",
    "        print('--')"
   ]
  },
  {
   "cell_type": "markdown",
   "metadata": {},
   "source": [
    "### Beyond Python: magic functions\n",
    "https://github.com/ipython/ipython-in-depth/blob/pycon-2019/1%20-%20Beyond%20Plain%20Python.ipynb"
   ]
  },
  {
   "cell_type": "code",
   "execution_count": null,
   "metadata": {},
   "outputs": [],
   "source": [
    "- Installing R kernel\n",
    "Easy Option: Installing the R Kernel Using Anaconda\n",
    "If you used Anaconda to set up your environment, getting R working is extremely easy. Just run the below in your terminal:\n",
    "\n",
    "conda install -c r r-essentials\n",
    "https://www.dataquest.io/blog/jupyter-notebook-tips-tricks-shortcuts/\n",
    "\n",
    "21. Running R and Python in the same notebook."
   ]
  },
  {
   "cell_type": "code",
   "execution_count": null,
   "metadata": {},
   "outputs": [],
   "source": [
    "23. Multicursor support\n",
    "Jupyter supports mutiple cursors, similar to Sublime Text. Simply click and drag your mouse while holding down Alt."
   ]
  },
  {
   "cell_type": "code",
   "execution_count": null,
   "metadata": {},
   "outputs": [],
   "source": [
    "25. Create a presentation from a Jupyter notebook. RISE"
   ]
  },
  {
   "cell_type": "code",
   "execution_count": null,
   "metadata": {},
   "outputs": [],
   "source": [
    "Hiding code or output"
   ]
  },
  {
   "cell_type": "code",
   "execution_count": null,
   "metadata": {},
   "outputs": [],
   "source": [
    "Commenting and uncommenting a block of code\n",
    "You might want to add new lines of code and comment out the old lines while you’re working. This is great if you’re improving the performance of your code or trying to debug it.\n",
    "First, select all the lines you want to comment out.\n",
    "Next hit cmd + / to comment out the highlighted code!\n",
    "Source: https://towardsdatascience.com/how-to-effortlessly-optimize-jupyter-notebooks-e864162a06ee"
   ]
  },
  {
   "cell_type": "code",
   "execution_count": null,
   "metadata": {},
   "outputs": [],
   "source": [
    "Pretty Print all cell outputs\n",
    "Normally only the last output in the cell will be printed. For everything else, you have to manually add print(), which is fine but not super convenient. You can change that by adding this at the top of the notebook:\n",
    "from IPython.core.interactiveshell import InteractiveShell\n",
    "InteractiveShell.ast_node_interactivity = \"all\"\n",
    "Source: https://towardsdatascience.com/how-to-effortlessly-optimize-jupyter-notebooks-e864162a06ee"
   ]
  },
  {
   "cell_type": "code",
   "execution_count": null,
   "metadata": {},
   "outputs": [],
   "source": [
    "Extensions\n",
    "Source: https://towardsdatascience.com/how-to-effortlessly-optimize-jupyter-notebooks-e864162a06ee"
   ]
  },
  {
   "cell_type": "code",
   "execution_count": null,
   "metadata": {},
   "outputs": [],
   "source": [
    "- 12. IPython Magic – %%writefile and %pycat: Export the contents of a cell/Show the contents of an external script (https://www.dataquest.io/blog/jupyter-notebook-tips-tricks-shortcuts/)\n",
    "- 13. IPython Magic – %prun: Show how much time your program spent in each function.Using `%prun statement_name` will give you an ordered table showing you the number of times each internal function was called within the statement, the time each call took as well as the cumulative time of all runs of the function."
   ]
  },
  {
   "cell_type": "code",
   "execution_count": null,
   "metadata": {},
   "outputs": [],
   "source": [
    "Store Magic\n",
    "%store lets you store your macro and use it across all of your Jupyter Notebooks.\n",
    "Source: https://towardsdatascience.com/how-to-effortlessly-optimize-jupyter-notebooks-e864162a06ee\n",
    "\n",
    "Run magic\n",
    "%run magic will execute your code and display any output, including Matplotlib plots. You could even execute entire notebooks this way.\n",
    "%run can execute python code from .py files. It can also execute other Jupyter notebooks.\n",
    "Pycat magic\n",
    "You can use %pycat any time to show the contents of a script if you aren’t sure what’s in there.\n",
    "%pycat basic_imports.py\n",
    "Source: https://towardsdatascience.com/how-to-effortlessly-optimize-jupyter-notebooks-e864162a06ee\n",
    "\n",
    "Who magic\n",
    "The %who command without any arguments will list all variables that exist in the global scope. Passing a parameter like str will list only variables of that type. So if you type something like\n",
    "%who str\n",
    "\n",
    "To Skip A Cell From Running\n",
    "Just add %%script false at the top of the cell\n",
    "%%script false\n",
    "you'd put some long \n",
    "    code here that you don't want to run \n",
    "    right now"
   ]
  },
  {
   "cell_type": "code",
   "execution_count": null,
   "metadata": {},
   "outputs": [],
   "source": [
    "Cross-language support\n",
    "Cython\n",
    "https://github.com/ipython/ipython-in-depth/blob/pycon-2019/6%20-%20Cross-Language-Integration.ipynb"
   ]
  },
  {
   "cell_type": "code",
   "execution_count": null,
   "metadata": {},
   "outputs": [],
   "source": [
    "Notebook automation - Papermill - 2. Jupyter is the new Bash\n",
    "The basic idea is that you write a parameterized Jupyter notebook, essentially a notebook with parameters that get pasted into a new block at the top of the notebook. A system called Papermill metaprograms a bespoke notebook with provided parameters pasted in, and then executes the notebook with zero user interaction required. For Netflix, the benefit of this approach is to simplify the development and debugging of these scripts. If a particular job breaks, it’s trivial to pop open the offending notebook in the normal Jupyter environment, and it has all the data built in that it needs to execute until hitting the error.\n",
    "http://willcrichton.net/notes/lessons-from-jupytercon/\n"
   ]
  },
  {
   "cell_type": "code",
   "execution_count": null,
   "metadata": {},
   "outputs": [],
   "source": [
    "Best practices\n",
    "===========\n",
    "- %conda and %pip magics, that will attempt to install packages in the current environment.\n",
    "- %reset ???? - what does this do"
   ]
  }
 ],
 "metadata": {
  "kernelspec": {
   "display_name": "Python 3",
   "language": "python",
   "name": "python3"
  },
  "language_info": {
   "codemirror_mode": {
    "name": "ipython",
    "version": 3
   },
   "file_extension": ".py",
   "mimetype": "text/x-python",
   "name": "python",
   "nbconvert_exporter": "python",
   "pygments_lexer": "ipython3",
   "version": "3.7.5"
  }
 },
 "nbformat": 4,
 "nbformat_minor": 4
}
