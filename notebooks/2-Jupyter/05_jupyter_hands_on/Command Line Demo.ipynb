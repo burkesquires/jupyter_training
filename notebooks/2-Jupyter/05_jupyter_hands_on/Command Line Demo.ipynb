{
 "cells": [
  {
   "cell_type": "markdown",
   "metadata": {},
   "source": [
    "# IPython Command Line examples\n",
    "\n",
    "IPython can be used to work with the system it's running on in pretty creative ways.\n",
    "\n",
    "* `!command`: run (and capture output) of a command\n",
    "* `$` variables"
   ]
  },
  {
   "cell_type": "code",
   "execution_count": 6,
   "metadata": {},
   "outputs": [
    {
     "name": "stdout",
     "output_type": "stream",
     "text": [
      "\u001b[31mCommand Line Demo.ipynb\u001b[m\u001b[m                \u001b[31mQuick Demo.ipynb\u001b[m\u001b[m\r\n",
      "\u001b[31mFunWithSets.ipynb\u001b[m\u001b[m                      \u001b[31mREADME.md\u001b[m\u001b[m\r\n",
      "\u001b[31mGraphite Time Series.ipynb\u001b[m\u001b[m             \u001b[31mcheckipnb.py\u001b[m\u001b[m\r\n",
      "\u001b[31mJavascript Demo.ipynb\u001b[m\u001b[m                  \u001b[31mcivicapps.crime_incident_data_2011.csv\u001b[m\u001b[m\r\n",
      "\u001b[31mLICENSE\u001b[m\u001b[m                                \u001b[31mno_input.css\u001b[m\u001b[m\r\n",
      "\u001b[31mPortlandCrime.ipynb\u001b[m\u001b[m                    \u001b[31mother_custom.css\u001b[m\u001b[m\r\n",
      "\u001b[31mPresentation.ipynb\u001b[m\u001b[m                     \u001b[34mreveal.js\u001b[m\u001b[m\r\n",
      "\u001b[31mPresentation.slides.html\u001b[m\u001b[m               \u001b[31mxkcd1313.ipynb\u001b[m\u001b[m\r\n",
      "\u001b[34mPresentationImages\u001b[m\u001b[m\r\n"
     ]
    }
   ],
   "source": [
    "!ls"
   ]
  },
  {
   "cell_type": "code",
   "execution_count": 1,
   "metadata": {},
   "outputs": [
    {
     "name": "stdout",
     "output_type": "stream",
     "text": [
      "Command Line Demo.ipynb\n",
      "FunWithSets.ipynb\n",
      "Graphite Time Series.ipynb\n",
      "Javascript Demo.ipynb\n",
      "PortlandCrime.ipynb\n",
      "Presentation.ipynb\n",
      "Quick Demo.ipynb\n",
      "xkcd1313.ipynb\n"
     ]
    }
   ],
   "source": [
    "files = !ls -1\n",
    "for file in files.grep('ipynb'):\n",
    "    !echo $file"
   ]
  },
  {
   "cell_type": "markdown",
   "metadata": {},
   "source": [
    "There are also some interesting 'magics' for working on shells, for example if you want to run some bash-specific code:"
   ]
  },
  {
   "cell_type": "code",
   "execution_count": 2,
   "metadata": {},
   "outputs": [
    {
     "name": "stdout",
     "output_type": "stream",
     "text": [
      "Running under /bin/bash\n",
      "Only Bash could do this...\n",
      "ad ae af bd be bf cd ce cf\n"
     ]
    }
   ],
   "source": [
    "%%bash\n",
    "\n",
    "echo \"Running under $BASH\"\n",
    "echo \"Only Bash could do this...\"\n",
    "echo {a,b,c}{d,e,f}"
   ]
  },
  {
   "cell_type": "markdown",
   "metadata": {},
   "source": [
    "Or even ``perl``:"
   ]
  },
  {
   "cell_type": "code",
   "execution_count": 3,
   "metadata": {},
   "outputs": [
    {
     "name": "stdout",
     "output_type": "stream",
     "text": [
      "The first of next month: 2018-09-01"
     ]
    }
   ],
   "source": [
    "%%perl\n",
    "\n",
    "use DateTime;\n",
    "\n",
    "print \"The first of next month: \";\n",
    "print DateTime->today()->add(months => 1)->set(day => 1)->ymd;"
   ]
  }
 ],
 "metadata": {
  "kernelspec": {
   "display_name": "Python 3",
   "language": "python",
   "name": "python3"
  },
  "language_info": {
   "codemirror_mode": {
    "name": "ipython",
    "version": 3
   },
   "file_extension": ".py",
   "mimetype": "text/x-python",
   "name": "python",
   "nbconvert_exporter": "python",
   "pygments_lexer": "ipython3",
   "version": "3.7.0"
  }
 },
 "nbformat": 4,
 "nbformat_minor": 1
}
