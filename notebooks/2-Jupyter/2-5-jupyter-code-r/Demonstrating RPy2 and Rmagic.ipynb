{
 "cells": [
  {
   "cell_type": "markdown",
   "metadata": {},
   "source": [
    "Configure an R Analytics Environment\n",
    "----------------------------------------"
   ]
  },
  {
   "cell_type": "markdown",
   "metadata": {},
   "source": [
    "### Command line\n",
    "\n",
    "```bash\n",
    "conda create -n rcore -c r python=3.5 anaconda rpy2 \\\n",
    "                           r-essentials r-devtools r-viridis r-lattice r-nycflights13\n",
    "```\n",
    "\n",
    "or if the Conda environment already exists:\n",
    "\n",
    "```bash\n",
    "conda install -n rcore -c r python=3.5 anaconda rpy2 \\\n",
    "                            r-essentials r-devtools r-viridis r-lattice r-nycflights13\n",
    "```"
   ]
  },
  {
   "cell_type": "markdown",
   "metadata": {},
   "source": [
    "### Navigator GUI\n",
    "\n",
    "![Anaconda Navigator](http://ijstokes-public.s3.amazonaws.com/dspyr/img/screenshot_navigator_create_environment.png)\n",
    "\n",
    "Then select the correct Conda environment (`rcore`) and add in the packages (by searching for *All* packages):\n",
    "\n",
    "* `anaconda`\n",
    "* `r-essentials`\n",
    "* `r-devtools`\n",
    "* `r-lattice`\n",
    "* `r-nycflights13`\n",
    "* `r-viridis`\n",
    "* `rpy2`\n",
    "\n",
    "**IMPORTANT:** Make sure you pick *Kernel -> Change Kernel -> R [conda env:rcore]* in your Jupyter Notebook.\n",
    "\n",
    "**NOTE:** Recent versions of Anaconda may require you to use Navigator (not Jupyter) to select the `rcore` environment and start a Jupyter Server instance from there.  From there the *Change Kernel* option should list *R* as one of the kernels.  It may not indicate `rcore` in the name.\n",
    "\n",
    "Additionally \n",
    "[read (and watch) all about *viridis* and color theory here](https://bids.github.io/colormap/)\n",
    "\n",
    "### Initial setup\n",
    "\n",
    "For convenience when working in a Jupyter setting the following will improve the screen-layout of output:"
   ]
  },
  {
   "cell_type": "code",
   "execution_count": 1,
   "metadata": {},
   "outputs": [],
   "source": [
    "library(repr)\n",
    "\n",
    "options(repr.plot.width=6,\n",
    "        repr.plot.height=4)\n",
    "options(repr.matrix.max.rows=10,\n",
    "        repr.matrix.max.cols = 20) "
   ]
  },
  {
   "cell_type": "markdown",
   "metadata": {},
   "source": [
    "## Access and process data with `dplyr` and `tidyr`"
   ]
  },
  {
   "cell_type": "code",
   "execution_count": 2,
   "metadata": {},
   "outputs": [
    {
     "name": "stderr",
     "output_type": "stream",
     "text": [
      "\n",
      "Attaching package: ‘dplyr’\n",
      "\n",
      "The following objects are masked from ‘package:stats’:\n",
      "\n",
      "    filter, lag\n",
      "\n",
      "The following objects are masked from ‘package:base’:\n",
      "\n",
      "    intersect, setdiff, setequal, union\n",
      "\n"
     ]
    }
   ],
   "source": [
    "library(tidyr)\n",
    "library(dplyr)"
   ]
  },
  {
   "cell_type": "code",
   "execution_count": 3,
   "metadata": {},
   "outputs": [
    {
     "ename": "ERROR",
     "evalue": "Error in library(nycflights13): there is no package called ‘nycflights13’\n",
     "output_type": "error",
     "traceback": [
      "Error in library(nycflights13): there is no package called ‘nycflights13’\nTraceback:\n",
      "1. library(nycflights13)",
      "2. stop(txt, domain = NA)"
     ]
    }
   ],
   "source": [
    "library(nycflights13)"
   ]
  },
  {
   "cell_type": "code",
   "execution_count": 4,
   "metadata": {},
   "outputs": [
    {
     "ename": "ERROR",
     "evalue": "Error in eval(expr, envir, enclos): object 'flights' not found\n",
     "output_type": "error",
     "traceback": [
      "Error in eval(expr, envir, enclos): object 'flights' not found\nTraceback:\n"
     ]
    }
   ],
   "source": [
    "flights"
   ]
  },
  {
   "cell_type": "markdown",
   "metadata": {},
   "source": [
    "### `dplyr::arrange()`"
   ]
  },
  {
   "cell_type": "code",
   "execution_count": null,
   "metadata": {
    "collapsed": true
   },
   "outputs": [],
   "source": [
    "arrange(flights, carrier, origin, dest)"
   ]
  },
  {
   "cell_type": "code",
   "execution_count": null,
   "metadata": {
    "collapsed": true
   },
   "outputs": [],
   "source": [
    "flights"
   ]
  },
  {
   "cell_type": "code",
   "execution_count": null,
   "metadata": {
    "collapsed": true
   },
   "outputs": [],
   "source": [
    "flights %>% arrange(dest, origin)"
   ]
  },
  {
   "cell_type": "markdown",
   "metadata": {},
   "source": [
    "### `dplyr::select()`"
   ]
  },
  {
   "cell_type": "code",
   "execution_count": null,
   "metadata": {
    "collapsed": true
   },
   "outputs": [],
   "source": [
    "select(flights, carrier, origin, dest)"
   ]
  },
  {
   "cell_type": "code",
   "execution_count": null,
   "metadata": {
    "collapsed": true
   },
   "outputs": [],
   "source": [
    "flights %>% select(carrier, origin, dest)"
   ]
  },
  {
   "cell_type": "code",
   "execution_count": null,
   "metadata": {
    "collapsed": true
   },
   "outputs": [],
   "source": [
    "flights %>%\n",
    "    select(origin, dest, carrier) %>% \n",
    "    arrange(origin, dest)"
   ]
  },
  {
   "cell_type": "markdown",
   "metadata": {},
   "source": [
    "### `group_by()` and `summarise()`"
   ]
  },
  {
   "cell_type": "code",
   "execution_count": null,
   "metadata": {
    "collapsed": true
   },
   "outputs": [],
   "source": [
    "flights %>%\n",
    "  group_by(carrier) %>%\n",
    "  select(arr_delay, dep_delay) %>%\n",
    "  summarise(\n",
    "    arr = mean(arr_delay, na.rm = TRUE),\n",
    "    dep = mean(dep_delay, na.rm = TRUE)\n",
    "  )"
   ]
  },
  {
   "cell_type": "code",
   "execution_count": null,
   "metadata": {
    "collapsed": true
   },
   "outputs": [],
   "source": [
    "flights %>%\n",
    "  group_by(carrier, origin) %>%\n",
    "  select(arr_delay, dep_delay) %>%\n",
    "  summarise(\n",
    "    arr = mean(arr_delay, na.rm = TRUE),\n",
    "    dep = mean(dep_delay, na.rm = TRUE)\n",
    "  )"
   ]
  },
  {
   "cell_type": "code",
   "execution_count": null,
   "metadata": {
    "collapsed": true
   },
   "outputs": [],
   "source": [
    "filter(flights, origin == 'JFK')"
   ]
  },
  {
   "cell_type": "code",
   "execution_count": null,
   "metadata": {
    "collapsed": true
   },
   "outputs": [],
   "source": [
    "flights %>% filter(origin == 'LGA') %>% select(dep_delay, arr_delay, carrier, dest)"
   ]
  },
  {
   "cell_type": "code",
   "execution_count": null,
   "metadata": {
    "collapsed": true,
    "scrolled": false
   },
   "outputs": [],
   "source": [
    "filter(flights, origin == 'JFK', dest == 'LAX', month == 2)"
   ]
  },
  {
   "cell_type": "code",
   "execution_count": null,
   "metadata": {
    "collapsed": true
   },
   "outputs": [],
   "source": [
    "iris %>%\n",
    " group_by(Species) %>%\n",
    " summarise(Sepal.Width.Avg = mean(Sepal.Width))"
   ]
  },
  {
   "cell_type": "markdown",
   "metadata": {},
   "source": [
    "### tidyr and `gather()`/`spread()`"
   ]
  },
  {
   "cell_type": "markdown",
   "metadata": {},
   "source": [
    "**NOTE:** The latest version of `tidyr` removes `table4`, therefore the last example below may not work in your environment."
   ]
  },
  {
   "cell_type": "code",
   "execution_count": null,
   "metadata": {
    "collapsed": true
   },
   "outputs": [],
   "source": [
    "table1"
   ]
  },
  {
   "cell_type": "code",
   "execution_count": null,
   "metadata": {
    "collapsed": true
   },
   "outputs": [],
   "source": [
    "table2"
   ]
  },
  {
   "cell_type": "markdown",
   "metadata": {},
   "source": [
    "**NOTE:** In older versions of the `tidyr` package (as used in the accompanying video) `table2` had `key` and `value` instead of `type` and `count` -- if so, revise the code below to execute:\n",
    "\n",
    "    spread(table2, key, value)"
   ]
  },
  {
   "cell_type": "code",
   "execution_count": null,
   "metadata": {
    "collapsed": true
   },
   "outputs": [],
   "source": [
    "# table2 -> table1\n",
    "spread(table2, type, count)"
   ]
  },
  {
   "cell_type": "markdown",
   "metadata": {},
   "source": [
    "**NOTE:** If `table4` does not exist for you it is probably because you have the latest `tidyr` version where this variation has been removed.  The example in the video still demonstrates how `gather()` works."
   ]
  },
  {
   "cell_type": "code",
   "execution_count": null,
   "metadata": {
    "collapsed": true
   },
   "outputs": [],
   "source": [
    "table4"
   ]
  },
  {
   "cell_type": "code",
   "execution_count": null,
   "metadata": {
    "collapsed": true
   },
   "outputs": [],
   "source": [
    "gather(table4, \"year\", \"cases\", 2:3)"
   ]
  },
  {
   "cell_type": "markdown",
   "metadata": {},
   "source": [
    "7.3 Create visualizations with ggplot \n",
    "-------------------------------------"
   ]
  },
  {
   "cell_type": "code",
   "execution_count": null,
   "metadata": {
    "collapsed": true
   },
   "outputs": [],
   "source": [
    "library(repr)\n",
    "\n",
    "options(repr.plot.width=6,\n",
    "        repr.plot.height=3)\n",
    "options(repr.matrix.max.rows=10,\n",
    "        repr.matrix.max.cols = 20) "
   ]
  },
  {
   "cell_type": "code",
   "execution_count": null,
   "metadata": {
    "collapsed": true
   },
   "outputs": [],
   "source": [
    "library(ggplot2)\n",
    "library(dplyr)"
   ]
  },
  {
   "cell_type": "code",
   "execution_count": null,
   "metadata": {
    "collapsed": true
   },
   "outputs": [],
   "source": [
    "diamonds"
   ]
  },
  {
   "cell_type": "code",
   "execution_count": null,
   "metadata": {
    "collapsed": true,
    "scrolled": true
   },
   "outputs": [],
   "source": [
    "diamonds %>% ggplot(aes(carat, price)) +\n",
    "  geom_point()"
   ]
  },
  {
   "cell_type": "code",
   "execution_count": null,
   "metadata": {
    "collapsed": true
   },
   "outputs": [],
   "source": [
    "diamonds %>% ggplot(aes(carat, price)) +\n",
    "  geom_point(color=\"blue\", alpha=0.01)"
   ]
  },
  {
   "cell_type": "code",
   "execution_count": null,
   "metadata": {
    "collapsed": true,
    "scrolled": true
   },
   "outputs": [],
   "source": [
    "diamonds %>% ggplot(aes(carat, price)) +\n",
    "  geom_point(color=\"blue\", alpha=0.05) +\n",
    "  scale_x_continuous(trans=\"log2\") +\n",
    "  scale_y_continuous(trans=\"log10\")"
   ]
  },
  {
   "cell_type": "code",
   "execution_count": null,
   "metadata": {
    "collapsed": true
   },
   "outputs": [],
   "source": [
    "diamonds %>% ggplot(aes(carat, price)) +\n",
    "  geom_hex(color=\"blue\", bins=30) +\n",
    "  scale_x_continuous(trans=\"log2\") +\n",
    "  scale_y_continuous(trans=\"log10\")"
   ]
  },
  {
   "cell_type": "code",
   "execution_count": null,
   "metadata": {
    "collapsed": true
   },
   "outputs": [],
   "source": [
    "library(viridis)"
   ]
  },
  {
   "cell_type": "code",
   "execution_count": null,
   "metadata": {
    "collapsed": true
   },
   "outputs": [],
   "source": [
    "diamonds %>% ggplot(aes(carat, price)) +\n",
    "  geom_hex(color=\"blue\", bins=30) +\n",
    "  scale_fill_viridis() +\n",
    "  scale_x_continuous(trans=\"log2\") +\n",
    "  scale_y_continuous(trans=\"log10\")"
   ]
  },
  {
   "cell_type": "code",
   "execution_count": null,
   "metadata": {
    "collapsed": true
   },
   "outputs": [],
   "source": [
    "diamonds %>% ggplot(aes(carat, price, color=cut)) +\n",
    "  geom_point(alpha=0.3) +\n",
    "  scale_x_continuous(trans=\"log2\") +\n",
    "  scale_y_continuous(trans=\"log10\")"
   ]
  },
  {
   "cell_type": "code",
   "execution_count": null,
   "metadata": {
    "collapsed": true
   },
   "outputs": [],
   "source": [
    "diamonds %>% ggplot(aes(carat, price, color=cut)) +\n",
    "  geom_point(size=0.1, alpha=0.3) +\n",
    "  scale_x_continuous(trans=\"log2\") +\n",
    "  scale_y_continuous(trans=\"log10\")"
   ]
  },
  {
   "cell_type": "code",
   "execution_count": null,
   "metadata": {
    "collapsed": true
   },
   "outputs": [],
   "source": [
    "diamonds %>% ggplot(aes(carat, price, color=cut)) +\n",
    "  geom_point(size=0.1) +\n",
    "  scale_x_continuous(trans=\"log2\") +\n",
    "  scale_y_continuous(trans=\"log10\") + \n",
    "  facet_wrap(~ cut)"
   ]
  },
  {
   "cell_type": "code",
   "execution_count": null,
   "metadata": {
    "collapsed": true
   },
   "outputs": [],
   "source": [
    "diamonds %>% ggplot(aes(carat, price, color=cut)) +\n",
    "  geom_smooth() +\n",
    "  scale_x_continuous(trans=\"log2\") +\n",
    "  scale_y_continuous(trans=\"log10\")"
   ]
  },
  {
   "cell_type": "code",
   "execution_count": null,
   "metadata": {
    "collapsed": true
   },
   "outputs": [],
   "source": [
    "diamonds %>% ggplot(aes(carat, price, color=cut)) +\n",
    "  geom_smooth()"
   ]
  },
  {
   "cell_type": "code",
   "execution_count": null,
   "metadata": {
    "collapsed": true
   },
   "outputs": [],
   "source": [
    "summary(diamonds)"
   ]
  },
  {
   "cell_type": "code",
   "execution_count": null,
   "metadata": {
    "collapsed": true
   },
   "outputs": [],
   "source": [
    "dim(diamonds)"
   ]
  },
  {
   "cell_type": "code",
   "execution_count": null,
   "metadata": {
    "collapsed": true
   },
   "outputs": [],
   "source": [
    "diamonds %>% ggplot(aes(carat, price, color=clarity)) +\n",
    "  geom_smooth() +\n",
    "  labs(title='Comparison of 53940 diamonds')"
   ]
  },
  {
   "cell_type": "code",
   "execution_count": null,
   "metadata": {
    "collapsed": true
   },
   "outputs": [],
   "source": [
    "diamonds %>% ggplot(aes(carat, price, color=color)) +\n",
    "  geom_smooth() +\n",
    "  labs(title='Comparison of 53940 diamonds',\n",
    "       y='price ($)', x='ct.')"
   ]
  },
  {
   "cell_type": "markdown",
   "metadata": {},
   "source": [
    "### `caret`::`featurePlot()`"
   ]
  },
  {
   "cell_type": "code",
   "execution_count": null,
   "metadata": {
    "collapsed": true
   },
   "outputs": [],
   "source": [
    "library(repr)\n",
    "\n",
    "options(repr.plot.width=8,\n",
    "        repr.plot.height=5)\n",
    "options(repr.matrix.max.rows=10,\n",
    "        repr.matrix.max.cols = 20) "
   ]
  },
  {
   "cell_type": "code",
   "execution_count": null,
   "metadata": {
    "collapsed": true
   },
   "outputs": [],
   "source": [
    "library(caret)\n",
    "data(iris)\n",
    "# pair-wise plots of all 4 attributes, dots colored by class"
   ]
  },
  {
   "cell_type": "code",
   "execution_count": null,
   "metadata": {
    "collapsed": true
   },
   "outputs": [],
   "source": [
    "iris"
   ]
  },
  {
   "cell_type": "code",
   "execution_count": null,
   "metadata": {
    "collapsed": true
   },
   "outputs": [],
   "source": [
    "library(dplyr)"
   ]
  },
  {
   "cell_type": "code",
   "execution_count": null,
   "metadata": {
    "collapsed": true
   },
   "outputs": [],
   "source": [
    "featurePlot(x    = iris %>% select(Sepal.Width, Sepal.Length, Petal.Width, Petal.Length), \n",
    "            y    = iris$Species, \n",
    "            plot = \"pairs\", \n",
    "            auto.key=list(columns=3))"
   ]
  },
  {
   "cell_type": "code",
   "execution_count": null,
   "metadata": {
    "collapsed": true
   },
   "outputs": [],
   "source": [
    "library(caret)\n",
    "data(iris)"
   ]
  },
  {
   "cell_type": "code",
   "execution_count": null,
   "metadata": {
    "collapsed": true
   },
   "outputs": [],
   "source": [
    "featurePlot(x        = iris %>% select(Sepal.Length, Sepal.Width, Petal.Length, Petal.Width), \n",
    "            y        = iris$Species, \n",
    "            plot     = \"pairs\", \n",
    "            auto.key = list(columns=3))"
   ]
  },
  {
   "cell_type": "code",
   "execution_count": null,
   "metadata": {
    "collapsed": true
   },
   "outputs": [],
   "source": [
    "featurePlot(x        = iris %>% select(Sepal.Length, Sepal.Width, Petal.Length, Petal.Width), \n",
    "            y        = iris$Species, \n",
    "            plot     = \"density\", \n",
    "            scales   = list(x=list(relation=\"free\"), y=list(relation=\"free\")), \n",
    "            auto.key = list(columns=3))"
   ]
  },
  {
   "cell_type": "markdown",
   "metadata": {},
   "source": [
    "**NOTE:** The following *ellipse* plot requires the full `caret` package to be installed, which will be described in the next section."
   ]
  },
  {
   "cell_type": "code",
   "execution_count": null,
   "metadata": {
    "collapsed": true
   },
   "outputs": [],
   "source": [
    "featurePlot(x = iris %>% select(Sepal.Length, Sepal.Width, Petal.Length, Petal.Width),\n",
    "            y = iris$Species, \n",
    "            plot = \"ellipse\",\n",
    "            ## Add a key at the top\n",
    "            auto.key = list(columns = 3))"
   ]
  },
  {
   "cell_type": "markdown",
   "metadata": {},
   "source": [
    "7.4 Use linear models for predictive analytics\n",
    "----------------------------------------------"
   ]
  },
  {
   "cell_type": "code",
   "execution_count": null,
   "metadata": {
    "collapsed": true
   },
   "outputs": [],
   "source": [
    "require(caTools)\n",
    "\n",
    "set.seed(123) \n",
    "\n",
    "sample = sample.split(diamonds, SplitRatio = .80)\n",
    "train  = subset(diamonds, sample == TRUE)\n",
    "test   = subset(diamonds, sample == FALSE)"
   ]
  },
  {
   "cell_type": "code",
   "execution_count": null,
   "metadata": {
    "collapsed": true
   },
   "outputs": [],
   "source": [
    "fit = lm(price ~ carat + color + clarity + cut, data=train)"
   ]
  },
  {
   "cell_type": "code",
   "execution_count": null,
   "metadata": {
    "collapsed": true
   },
   "outputs": [],
   "source": [
    "fit"
   ]
  },
  {
   "cell_type": "code",
   "execution_count": null,
   "metadata": {
    "collapsed": true
   },
   "outputs": [],
   "source": [
    "summary(fit)"
   ]
  },
  {
   "cell_type": "code",
   "execution_count": null,
   "metadata": {
    "collapsed": true
   },
   "outputs": [],
   "source": [
    "df <- data.frame(\"observed\"  = test$price,\n",
    "                 \"predicted\" = predict(fit, test))"
   ]
  },
  {
   "cell_type": "code",
   "execution_count": null,
   "metadata": {
    "collapsed": true
   },
   "outputs": [],
   "source": [
    "plot(df, col='red')"
   ]
  },
  {
   "cell_type": "code",
   "execution_count": null,
   "metadata": {
    "collapsed": true
   },
   "outputs": [],
   "source": [
    "library(viridis)"
   ]
  },
  {
   "cell_type": "code",
   "execution_count": null,
   "metadata": {
    "collapsed": true
   },
   "outputs": [],
   "source": [
    "df %>% ggplot(aes(observed, predicted)) +\n",
    "  geom_hex(color=\"blue\", bins=30) +\n",
    "  scale_fill_viridis()"
   ]
  },
  {
   "cell_type": "code",
   "execution_count": null,
   "metadata": {
    "collapsed": true
   },
   "outputs": [],
   "source": [
    "fit"
   ]
  },
  {
   "cell_type": "code",
   "execution_count": null,
   "metadata": {
    "collapsed": true
   },
   "outputs": [],
   "source": [
    "plot(fit)"
   ]
  },
  {
   "cell_type": "markdown",
   "metadata": {},
   "source": [
    "### `caret` classification and regression training in R\n",
    "\n",
    "A wrapper around almost 200 statistical and predicitive models.\n",
    "\n",
    "Details [available online](https://topepo.github.io/caret/)\n",
    "\n",
    "Those models need to be installed, using the following command.\n",
    "\n",
    "**NOTE:** You may need to execute this from an R shell started from the command line, in case it requests interactive input (e.g. selection of a mirror source) -- command interaction is not supported through the Jupyter Notebook interface to R."
   ]
  },
  {
   "cell_type": "code",
   "execution_count": null,
   "metadata": {
    "collapsed": true
   },
   "outputs": [],
   "source": [
    "install.packages(\"caret\", dependencies = c(\"Depends\", \"Suggests\"))"
   ]
  },
  {
   "cell_type": "markdown",
   "metadata": {},
   "source": [
    "Experience suggests that this R-based package install can scramble your installed version of `caret`, in which case it is a good idea to execute the following command to force-re-install the `r-caret` package (**NOTE:** be sure the environment name `rcore` matches the environment you are using).  Do this by executing the following from the command line:\n",
    "\n",
    "    conda install -f -n rcore -c r r-caret"
   ]
  },
  {
   "cell_type": "code",
   "execution_count": null,
   "metadata": {
    "collapsed": true
   },
   "outputs": [],
   "source": [
    "library(dplyr)\n",
    "library(viridis)\n",
    "library(caret)"
   ]
  },
  {
   "cell_type": "code",
   "execution_count": null,
   "metadata": {
    "collapsed": true
   },
   "outputs": [],
   "source": [
    "fit_pls <- train(price ~ carat + color + clarity + cut,\n",
    "                 data=train, \n",
    "                 method='pls')"
   ]
  },
  {
   "cell_type": "code",
   "execution_count": null,
   "metadata": {
    "collapsed": true
   },
   "outputs": [],
   "source": [
    "df <- data.frame(\"observed\"=test$price,\n",
    "                 \"predicted\"=predict(fit_pls, test))"
   ]
  },
  {
   "cell_type": "code",
   "execution_count": null,
   "metadata": {
    "collapsed": true
   },
   "outputs": [],
   "source": [
    "df %>% ggplot(aes(observed, predicted)) +\n",
    "  geom_hex(color=\"blue\", bins=30) +\n",
    "  scale_fill_viridis()"
   ]
  },
  {
   "cell_type": "markdown",
   "metadata": {},
   "source": [
    "7.5 Create interactive visualizations with rBokeh and Shiny\n",
    "-----------------------------------------------------------"
   ]
  },
  {
   "cell_type": "markdown",
   "metadata": {
    "collapsed": true
   },
   "source": [
    "`rbokeh` and `shiny` are both part of the `r-essentials` package, so you have them installed already.  The examples below are adapted from [the rbokeh documentation](https://hafen.github.io/rbokeh/)"
   ]
  },
  {
   "cell_type": "code",
   "execution_count": null,
   "metadata": {
    "collapsed": true
   },
   "outputs": [],
   "source": [
    "library(dplyr)\n",
    "library(rbokeh)\n",
    "library(shiny)"
   ]
  },
  {
   "cell_type": "code",
   "execution_count": null,
   "metadata": {
    "collapsed": true
   },
   "outputs": [],
   "source": [
    "install.packages(\"rbokeh\")"
   ]
  },
  {
   "cell_type": "code",
   "execution_count": null,
   "metadata": {
    "collapsed": true
   },
   "outputs": [],
   "source": [
    "z <- lm(dist ~ speed, data = cars)\n",
    "\n",
    "p <- figure(width = 600, height = 600) %>%\n",
    "  ly_points(cars, hover = cars) %>%\n",
    "  ly_lines(lowess(cars), legend = \"lowess\") %>%\n",
    "  ly_abline(z, type = 2, legend = \"lm\")\n",
    "p"
   ]
  },
  {
   "cell_type": "code",
   "execution_count": null,
   "metadata": {
    "collapsed": true
   },
   "outputs": [],
   "source": [
    "h <- figure(width = 600, height = 300) %>%\n",
    "  ly_hist(   eruptions, data = faithful, breaks = 30, freq = FALSE) %>%\n",
    "  ly_density(eruptions, data = faithful)\n",
    "h"
   ]
  },
  {
   "cell_type": "code",
   "execution_count": null,
   "metadata": {
    "collapsed": true
   },
   "outputs": [],
   "source": [
    "doubles <- read.csv(\"https://gist.githubusercontent.com/hafen/77f25b556725b3d0066b/raw/10f0e811f09f2b9f0f9ccfb542e296dfac2761d4/doubles.csv\")"
   ]
  },
  {
   "cell_type": "code",
   "execution_count": null,
   "metadata": {
    "collapsed": true
   },
   "outputs": [],
   "source": [
    "ly_baseball <- function(x) {\n",
    "  base_x <- c(90 * cos(pi/4), 0, 90 * cos(3 * pi/4), 0)\n",
    "  base_y <- c(90 * cos(pi/4), sqrt(90^2 + 90^2), 90 * sin(pi/4), 0)\n",
    "  distarc_x <- lapply(c(2:4) * 100, function(a)\n",
    "    seq(a * cos(3 * pi/4), a * cos(pi/4), length = 200))\n",
    "  distarc_y <- lapply(distarc_x, function(x)\n",
    "    sqrt((x[1]/cos(3 * pi/4))^2 - x^2))\n",
    "      \n",
    "  x %>%\n",
    "    ## boundary\n",
    "    ly_segments(c(0, 0), c(0, 0), c(-300, 300), c(300, 300), alpha = 0.4) %>%\n",
    "    ## bases\n",
    "    ly_crect(base_x, base_y, width = 10, height = 10,\n",
    "      angle = 45*pi/180, color = \"black\", alpha = 0.4) %>%\n",
    "    ## infield/outfield boundary\n",
    "    ly_curve(60.5 + sqrt(95^2 - x^2),\n",
    "      from = base_x[3] - 26, to = base_x[1] + 26, alpha = 0.4) %>%\n",
    "    ## distance arcs (ly_arc should work here and would be much simpler but doesn't)\n",
    "    ly_multi_line(distarc_x, distarc_y, alpha = 0.4)\n",
    "}"
   ]
  },
  {
   "cell_type": "code",
   "execution_count": null,
   "metadata": {
    "collapsed": true
   },
   "outputs": [],
   "source": [
    "figure(xgrid = FALSE, ygrid = FALSE, width = 630, height = 540,\n",
    "  xlab = \"Horizontal distance from home plate (ft.)\",\n",
    "  ylab = \"Vertical distance from home plate (ft.)\") %>%\n",
    "  ly_baseball() %>%\n",
    "  ly_hexbin(doubles, xbins = 50, shape = 0.77, alpha = 0.75, palette = \"Spectral10\")"
   ]
  },
  {
   "cell_type": "markdown",
   "metadata": {},
   "source": [
    "### Shiny\n",
    "\n",
    "[Shiny provides a mechanism to build R-based web-apps](http://shiny.rstudio.com/)\n",
    "\n",
    "Create a folder `iris_explorer` and put the following two code blocks into files in that folder named `server.R` and `ui.R` respectively.\n",
    "\n",
    "Then start up R from the command line in the folder containing `iris_explorer` (one level up from where you put the `.R` files).\n",
    "\n",
    "Then execute:\n",
    "\n",
    "```R\n",
    "library(shiny)\n",
    "runApp(\"iris_explorer\")\n",
    "```"
   ]
  },
  {
   "cell_type": "code",
   "execution_count": null,
   "metadata": {
    "collapsed": true
   },
   "outputs": [],
   "source": [
    "# server.R\n",
    "function(input, output, session) {\n",
    "\n",
    "  # Combine the selected variables into a new data frame\n",
    "  selectedData <- reactive({\n",
    "    iris[, c(input$xcol, input$ycol)]\n",
    "  })\n",
    "\n",
    "  clusters <- reactive({\n",
    "    kmeans(selectedData(), input$clusters)\n",
    "  })\n",
    "\n",
    "  output$plot1 <- renderPlot({\n",
    "    palette(c(\"#E41A1C\", \"#377EB8\", \"#4DAF4A\", \"#984EA3\",\n",
    "      \"#FF7F00\", \"#FFFF33\", \"#A65628\", \"#F781BF\", \"#999999\"))\n",
    "\n",
    "    par(mar = c(5.1, 4.1, 0, 1))\n",
    "    plot(selectedData(),\n",
    "         col = clusters()$cluster,\n",
    "         pch = 20, cex = 3)\n",
    "    points(clusters()$centers, pch = 4, cex = 4, lwd = 4)\n",
    "  })\n",
    "\n",
    "}"
   ]
  },
  {
   "cell_type": "code",
   "execution_count": null,
   "metadata": {
    "collapsed": true
   },
   "outputs": [],
   "source": [
    "# ui.R\n",
    "pageWithSidebar(\n",
    "  headerPanel('Iris k-means clustering'),\n",
    "  sidebarPanel(\n",
    "    selectInput('xcol', 'X Variable', names(iris)),\n",
    "    selectInput('ycol', 'Y Variable', names(iris),\n",
    "                selected=names(iris)[[2]]),\n",
    "    numericInput('clusters', 'Cluster count', 3,\n",
    "                 min = 1, max = 9)\n",
    "  ),\n",
    "  mainPanel(\n",
    "    plotOutput('plot1')\n",
    "  )\n",
    ")"
   ]
  },
  {
   "cell_type": "markdown",
   "metadata": {},
   "source": [
    "7.6 Bridge between R and Python with `rpy2`\n",
    "---------------------------------------------"
   ]
  },
  {
   "cell_type": "markdown",
   "metadata": {
    "collapsed": true
   },
   "source": [
    "The `rpy2` package needs to be installed for this section.\n",
    "\n",
    "```\n",
    "conda install -c r rpy2\n",
    "```\n",
    "\n",
    "Then you need to switch kernels to the Python kernel:\n",
    "\n",
    "*Kernel -> Change kernel -> Python [conda env:rcore]*"
   ]
  },
  {
   "cell_type": "code",
   "execution_count": 1,
   "metadata": {
    "collapsed": true
   },
   "outputs": [],
   "source": [
    "from bokeh.sampledata.autompg import autompg\n",
    "from bokeh.charts             import Scatter\n",
    "from bokeh.io                 import output_notebook, show\n",
    "\n",
    "import pandas as pd"
   ]
  },
  {
   "cell_type": "code",
   "execution_count": 2,
   "metadata": {},
   "outputs": [
    {
     "data": {
      "text/html": [
       "\n",
       "    <div class=\"bk-root\">\n",
       "        <a href=\"http://bokeh.pydata.org\" target=\"_blank\" class=\"bk-logo bk-logo-small bk-logo-notebook\"></a>\n",
       "        <span id=\"010493cd-88a9-4e92-be71-132918e7999d\">Loading BokehJS ...</span>\n",
       "    </div>"
      ]
     },
     "metadata": {},
     "output_type": "display_data"
    },
    {
     "data": {
      "application/javascript": [
       "\n",
       "(function(global) {\n",
       "  function now() {\n",
       "    return new Date();\n",
       "  }\n",
       "\n",
       "  var force = true;\n",
       "\n",
       "  if (typeof (window._bokeh_onload_callbacks) === \"undefined\" || force === true) {\n",
       "    window._bokeh_onload_callbacks = [];\n",
       "    window._bokeh_is_loading = undefined;\n",
       "  }\n",
       "\n",
       "\n",
       "  \n",
       "  if (typeof (window._bokeh_timeout) === \"undefined\" || force === true) {\n",
       "    window._bokeh_timeout = Date.now() + 5000;\n",
       "    window._bokeh_failed_load = false;\n",
       "  }\n",
       "\n",
       "  var NB_LOAD_WARNING = {'data': {'text/html':\n",
       "     \"<div style='background-color: #fdd'>\\n\"+\n",
       "     \"<p>\\n\"+\n",
       "     \"BokehJS does not appear to have successfully loaded. If loading BokehJS from CDN, this \\n\"+\n",
       "     \"may be due to a slow or bad network connection. Possible fixes:\\n\"+\n",
       "     \"</p>\\n\"+\n",
       "     \"<ul>\\n\"+\n",
       "     \"<li>re-rerun `output_notebook()` to attempt to load from CDN again, or</li>\\n\"+\n",
       "     \"<li>use INLINE resources instead, as so:</li>\\n\"+\n",
       "     \"</ul>\\n\"+\n",
       "     \"<code>\\n\"+\n",
       "     \"from bokeh.resources import INLINE\\n\"+\n",
       "     \"output_notebook(resources=INLINE)\\n\"+\n",
       "     \"</code>\\n\"+\n",
       "     \"</div>\"}};\n",
       "\n",
       "  function display_loaded() {\n",
       "    if (window.Bokeh !== undefined) {\n",
       "      var el = document.getElementById(\"010493cd-88a9-4e92-be71-132918e7999d\");\n",
       "      el.textContent = \"BokehJS \" + Bokeh.version + \" successfully loaded.\";\n",
       "    } else if (Date.now() < window._bokeh_timeout) {\n",
       "      setTimeout(display_loaded, 100)\n",
       "    }\n",
       "  }\n",
       "\n",
       "  function run_callbacks() {\n",
       "    window._bokeh_onload_callbacks.forEach(function(callback) { callback() });\n",
       "    delete window._bokeh_onload_callbacks\n",
       "    console.info(\"Bokeh: all callbacks have finished\");\n",
       "  }\n",
       "\n",
       "  function load_libs(js_urls, callback) {\n",
       "    window._bokeh_onload_callbacks.push(callback);\n",
       "    if (window._bokeh_is_loading > 0) {\n",
       "      console.log(\"Bokeh: BokehJS is being loaded, scheduling callback at\", now());\n",
       "      return null;\n",
       "    }\n",
       "    if (js_urls == null || js_urls.length === 0) {\n",
       "      run_callbacks();\n",
       "      return null;\n",
       "    }\n",
       "    console.log(\"Bokeh: BokehJS not loaded, scheduling load and callback at\", now());\n",
       "    window._bokeh_is_loading = js_urls.length;\n",
       "    for (var i = 0; i < js_urls.length; i++) {\n",
       "      var url = js_urls[i];\n",
       "      var s = document.createElement('script');\n",
       "      s.src = url;\n",
       "      s.async = false;\n",
       "      s.onreadystatechange = s.onload = function() {\n",
       "        window._bokeh_is_loading--;\n",
       "        if (window._bokeh_is_loading === 0) {\n",
       "          console.log(\"Bokeh: all BokehJS libraries loaded\");\n",
       "          run_callbacks()\n",
       "        }\n",
       "      };\n",
       "      s.onerror = function() {\n",
       "        console.warn(\"failed to load library \" + url);\n",
       "      };\n",
       "      console.log(\"Bokeh: injecting script tag for BokehJS library: \", url);\n",
       "      document.getElementsByTagName(\"head\")[0].appendChild(s);\n",
       "    }\n",
       "  };var element = document.getElementById(\"010493cd-88a9-4e92-be71-132918e7999d\");\n",
       "  if (element == null) {\n",
       "    console.log(\"Bokeh: ERROR: autoload.js configured with elementid '010493cd-88a9-4e92-be71-132918e7999d' but no matching script tag was found. \")\n",
       "    return false;\n",
       "  }\n",
       "\n",
       "  var js_urls = [\"https://cdn.pydata.org/bokeh/release/bokeh-0.12.5.min.js\", \"https://cdn.pydata.org/bokeh/release/bokeh-widgets-0.12.5.min.js\"];\n",
       "\n",
       "  var inline_js = [\n",
       "    function(Bokeh) {\n",
       "      Bokeh.set_log_level(\"info\");\n",
       "    },\n",
       "    \n",
       "    function(Bokeh) {\n",
       "      \n",
       "    },\n",
       "    \n",
       "    function(Bokeh) {\n",
       "      \n",
       "      document.getElementById(\"010493cd-88a9-4e92-be71-132918e7999d\").textContent = \"BokehJS is loading...\";\n",
       "    },\n",
       "    function(Bokeh) {\n",
       "      console.log(\"Bokeh: injecting CSS: https://cdn.pydata.org/bokeh/release/bokeh-0.12.5.min.css\");\n",
       "      Bokeh.embed.inject_css(\"https://cdn.pydata.org/bokeh/release/bokeh-0.12.5.min.css\");\n",
       "      console.log(\"Bokeh: injecting CSS: https://cdn.pydata.org/bokeh/release/bokeh-widgets-0.12.5.min.css\");\n",
       "      Bokeh.embed.inject_css(\"https://cdn.pydata.org/bokeh/release/bokeh-widgets-0.12.5.min.css\");\n",
       "    }\n",
       "  ];\n",
       "\n",
       "  function run_inline_js() {\n",
       "    \n",
       "    if ((window.Bokeh !== undefined) || (force === true)) {\n",
       "      for (var i = 0; i < inline_js.length; i++) {\n",
       "        inline_js[i](window.Bokeh);\n",
       "      }if (force === true) {\n",
       "        display_loaded();\n",
       "      }} else if (Date.now() < window._bokeh_timeout) {\n",
       "      setTimeout(run_inline_js, 100);\n",
       "    } else if (!window._bokeh_failed_load) {\n",
       "      console.log(\"Bokeh: BokehJS failed to load within specified timeout.\");\n",
       "      window._bokeh_failed_load = true;\n",
       "    } else if (force !== true) {\n",
       "      var cell = $(document.getElementById(\"010493cd-88a9-4e92-be71-132918e7999d\")).parents('.cell').data().cell;\n",
       "      cell.output_area.append_execute_result(NB_LOAD_WARNING)\n",
       "    }\n",
       "\n",
       "  }\n",
       "\n",
       "  if (window._bokeh_is_loading === 0) {\n",
       "    console.log(\"Bokeh: BokehJS loaded, going straight to plotting\");\n",
       "    run_inline_js();\n",
       "  } else {\n",
       "    load_libs(js_urls, function() {\n",
       "      console.log(\"Bokeh: BokehJS plotting callback run at\", now());\n",
       "      run_inline_js();\n",
       "    });\n",
       "  }\n",
       "}(this));"
      ]
     },
     "metadata": {},
     "output_type": "display_data"
    }
   ],
   "source": [
    "pd.options.display.max_rows = 8\n",
    "output_notebook()"
   ]
  },
  {
   "cell_type": "code",
   "execution_count": 3,
   "metadata": {},
   "outputs": [
    {
     "data": {
      "text/html": [
       "<div>\n",
       "<table border=\"1\" class=\"dataframe\">\n",
       "  <thead>\n",
       "    <tr style=\"text-align: right;\">\n",
       "      <th></th>\n",
       "      <th>mpg</th>\n",
       "      <th>cyl</th>\n",
       "      <th>displ</th>\n",
       "      <th>hp</th>\n",
       "      <th>weight</th>\n",
       "      <th>accel</th>\n",
       "      <th>yr</th>\n",
       "      <th>origin</th>\n",
       "      <th>name</th>\n",
       "    </tr>\n",
       "  </thead>\n",
       "  <tbody>\n",
       "    <tr>\n",
       "      <th>0</th>\n",
       "      <td>18.0</td>\n",
       "      <td>8</td>\n",
       "      <td>307.0</td>\n",
       "      <td>130</td>\n",
       "      <td>3504</td>\n",
       "      <td>12.0</td>\n",
       "      <td>70</td>\n",
       "      <td>1</td>\n",
       "      <td>chevrolet chevelle malibu</td>\n",
       "    </tr>\n",
       "    <tr>\n",
       "      <th>1</th>\n",
       "      <td>15.0</td>\n",
       "      <td>8</td>\n",
       "      <td>350.0</td>\n",
       "      <td>165</td>\n",
       "      <td>3693</td>\n",
       "      <td>11.5</td>\n",
       "      <td>70</td>\n",
       "      <td>1</td>\n",
       "      <td>buick skylark 320</td>\n",
       "    </tr>\n",
       "    <tr>\n",
       "      <th>2</th>\n",
       "      <td>18.0</td>\n",
       "      <td>8</td>\n",
       "      <td>318.0</td>\n",
       "      <td>150</td>\n",
       "      <td>3436</td>\n",
       "      <td>11.0</td>\n",
       "      <td>70</td>\n",
       "      <td>1</td>\n",
       "      <td>plymouth satellite</td>\n",
       "    </tr>\n",
       "    <tr>\n",
       "      <th>3</th>\n",
       "      <td>16.0</td>\n",
       "      <td>8</td>\n",
       "      <td>304.0</td>\n",
       "      <td>150</td>\n",
       "      <td>3433</td>\n",
       "      <td>12.0</td>\n",
       "      <td>70</td>\n",
       "      <td>1</td>\n",
       "      <td>amc rebel sst</td>\n",
       "    </tr>\n",
       "    <tr>\n",
       "      <th>...</th>\n",
       "      <td>...</td>\n",
       "      <td>...</td>\n",
       "      <td>...</td>\n",
       "      <td>...</td>\n",
       "      <td>...</td>\n",
       "      <td>...</td>\n",
       "      <td>...</td>\n",
       "      <td>...</td>\n",
       "      <td>...</td>\n",
       "    </tr>\n",
       "    <tr>\n",
       "      <th>388</th>\n",
       "      <td>44.0</td>\n",
       "      <td>4</td>\n",
       "      <td>97.0</td>\n",
       "      <td>52</td>\n",
       "      <td>2130</td>\n",
       "      <td>24.6</td>\n",
       "      <td>82</td>\n",
       "      <td>2</td>\n",
       "      <td>vw pickup</td>\n",
       "    </tr>\n",
       "    <tr>\n",
       "      <th>389</th>\n",
       "      <td>32.0</td>\n",
       "      <td>4</td>\n",
       "      <td>135.0</td>\n",
       "      <td>84</td>\n",
       "      <td>2295</td>\n",
       "      <td>11.6</td>\n",
       "      <td>82</td>\n",
       "      <td>1</td>\n",
       "      <td>dodge rampage</td>\n",
       "    </tr>\n",
       "    <tr>\n",
       "      <th>390</th>\n",
       "      <td>28.0</td>\n",
       "      <td>4</td>\n",
       "      <td>120.0</td>\n",
       "      <td>79</td>\n",
       "      <td>2625</td>\n",
       "      <td>18.6</td>\n",
       "      <td>82</td>\n",
       "      <td>1</td>\n",
       "      <td>ford ranger</td>\n",
       "    </tr>\n",
       "    <tr>\n",
       "      <th>391</th>\n",
       "      <td>31.0</td>\n",
       "      <td>4</td>\n",
       "      <td>119.0</td>\n",
       "      <td>82</td>\n",
       "      <td>2720</td>\n",
       "      <td>19.4</td>\n",
       "      <td>82</td>\n",
       "      <td>1</td>\n",
       "      <td>chevy s-10</td>\n",
       "    </tr>\n",
       "  </tbody>\n",
       "</table>\n",
       "<p>392 rows × 9 columns</p>\n",
       "</div>"
      ],
      "text/plain": [
       "      mpg  cyl  displ   hp  weight  accel  yr  origin  \\\n",
       "0    18.0    8  307.0  130    3504   12.0  70       1   \n",
       "1    15.0    8  350.0  165    3693   11.5  70       1   \n",
       "2    18.0    8  318.0  150    3436   11.0  70       1   \n",
       "3    16.0    8  304.0  150    3433   12.0  70       1   \n",
       "..    ...  ...    ...  ...     ...    ...  ..     ...   \n",
       "388  44.0    4   97.0   52    2130   24.6  82       2   \n",
       "389  32.0    4  135.0   84    2295   11.6  82       1   \n",
       "390  28.0    4  120.0   79    2625   18.6  82       1   \n",
       "391  31.0    4  119.0   82    2720   19.4  82       1   \n",
       "\n",
       "                          name  \n",
       "0    chevrolet chevelle malibu  \n",
       "1            buick skylark 320  \n",
       "2           plymouth satellite  \n",
       "3                amc rebel sst  \n",
       "..                         ...  \n",
       "388                  vw pickup  \n",
       "389              dodge rampage  \n",
       "390                ford ranger  \n",
       "391                 chevy s-10  \n",
       "\n",
       "[392 rows x 9 columns]"
      ]
     },
     "execution_count": 3,
     "metadata": {},
     "output_type": "execute_result"
    }
   ],
   "source": [
    "autompg"
   ]
  },
  {
   "cell_type": "code",
   "execution_count": 4,
   "metadata": {
    "collapsed": true
   },
   "outputs": [],
   "source": [
    "tooltips = [\n",
    "      ('Make','@make'),\n",
    "      ('MPG', '@mpg'),\n",
    "      ('hp',  '@hp')\n",
    "    ]\n",
    "\n",
    "autompg.origin.replace([1,2,3], 'American European Asian'.split(), inplace=True)\n",
    "autompg['make'] = pd.Series((n.split()[0].title() for n in autompg.name), \n",
    "                            index=autompg.index)"
   ]
  },
  {
   "cell_type": "code",
   "execution_count": 5,
   "metadata": {},
   "outputs": [
    {
     "data": {
      "text/html": [
       "\n",
       "\n",
       "    <div class=\"bk-root\">\n",
       "        <div class=\"bk-plotdiv\" id=\"f81bf064-ab6b-4ad7-ac90-ff373aca3b72\"></div>\n",
       "    </div>\n",
       "<script type=\"text/javascript\">\n",
       "  \n",
       "  (function(global) {\n",
       "    function now() {\n",
       "      return new Date();\n",
       "    }\n",
       "  \n",
       "    var force = false;\n",
       "  \n",
       "    if (typeof (window._bokeh_onload_callbacks) === \"undefined\" || force === true) {\n",
       "      window._bokeh_onload_callbacks = [];\n",
       "      window._bokeh_is_loading = undefined;\n",
       "    }\n",
       "  \n",
       "  \n",
       "    \n",
       "    if (typeof (window._bokeh_timeout) === \"undefined\" || force === true) {\n",
       "      window._bokeh_timeout = Date.now() + 0;\n",
       "      window._bokeh_failed_load = false;\n",
       "    }\n",
       "  \n",
       "    var NB_LOAD_WARNING = {'data': {'text/html':\n",
       "       \"<div style='background-color: #fdd'>\\n\"+\n",
       "       \"<p>\\n\"+\n",
       "       \"BokehJS does not appear to have successfully loaded. If loading BokehJS from CDN, this \\n\"+\n",
       "       \"may be due to a slow or bad network connection. Possible fixes:\\n\"+\n",
       "       \"</p>\\n\"+\n",
       "       \"<ul>\\n\"+\n",
       "       \"<li>re-rerun `output_notebook()` to attempt to load from CDN again, or</li>\\n\"+\n",
       "       \"<li>use INLINE resources instead, as so:</li>\\n\"+\n",
       "       \"</ul>\\n\"+\n",
       "       \"<code>\\n\"+\n",
       "       \"from bokeh.resources import INLINE\\n\"+\n",
       "       \"output_notebook(resources=INLINE)\\n\"+\n",
       "       \"</code>\\n\"+\n",
       "       \"</div>\"}};\n",
       "  \n",
       "    function display_loaded() {\n",
       "      if (window.Bokeh !== undefined) {\n",
       "        var el = document.getElementById(\"f81bf064-ab6b-4ad7-ac90-ff373aca3b72\");\n",
       "        el.textContent = \"BokehJS \" + Bokeh.version + \" successfully loaded.\";\n",
       "      } else if (Date.now() < window._bokeh_timeout) {\n",
       "        setTimeout(display_loaded, 100)\n",
       "      }\n",
       "    }\n",
       "  \n",
       "    function run_callbacks() {\n",
       "      window._bokeh_onload_callbacks.forEach(function(callback) { callback() });\n",
       "      delete window._bokeh_onload_callbacks\n",
       "      console.info(\"Bokeh: all callbacks have finished\");\n",
       "    }\n",
       "  \n",
       "    function load_libs(js_urls, callback) {\n",
       "      window._bokeh_onload_callbacks.push(callback);\n",
       "      if (window._bokeh_is_loading > 0) {\n",
       "        console.log(\"Bokeh: BokehJS is being loaded, scheduling callback at\", now());\n",
       "        return null;\n",
       "      }\n",
       "      if (js_urls == null || js_urls.length === 0) {\n",
       "        run_callbacks();\n",
       "        return null;\n",
       "      }\n",
       "      console.log(\"Bokeh: BokehJS not loaded, scheduling load and callback at\", now());\n",
       "      window._bokeh_is_loading = js_urls.length;\n",
       "      for (var i = 0; i < js_urls.length; i++) {\n",
       "        var url = js_urls[i];\n",
       "        var s = document.createElement('script');\n",
       "        s.src = url;\n",
       "        s.async = false;\n",
       "        s.onreadystatechange = s.onload = function() {\n",
       "          window._bokeh_is_loading--;\n",
       "          if (window._bokeh_is_loading === 0) {\n",
       "            console.log(\"Bokeh: all BokehJS libraries loaded\");\n",
       "            run_callbacks()\n",
       "          }\n",
       "        };\n",
       "        s.onerror = function() {\n",
       "          console.warn(\"failed to load library \" + url);\n",
       "        };\n",
       "        console.log(\"Bokeh: injecting script tag for BokehJS library: \", url);\n",
       "        document.getElementsByTagName(\"head\")[0].appendChild(s);\n",
       "      }\n",
       "    };var element = document.getElementById(\"f81bf064-ab6b-4ad7-ac90-ff373aca3b72\");\n",
       "    if (element == null) {\n",
       "      console.log(\"Bokeh: ERROR: autoload.js configured with elementid 'f81bf064-ab6b-4ad7-ac90-ff373aca3b72' but no matching script tag was found. \")\n",
       "      return false;\n",
       "    }\n",
       "  \n",
       "    var js_urls = [];\n",
       "  \n",
       "    var inline_js = [\n",
       "      function(Bokeh) {\n",
       "        (function() {\n",
       "          var fn = function() {\n",
       "            var docs_json = {\"0dfe5676-f110-4bf3-afd8-117e02145797\":{\"roots\":{\"references\":[{\"attributes\":{\"axis_label\":\"mpg\",\"formatter\":{\"id\":\"576b6223-ad2a-4d0f-8060-4d44f597be6a\",\"type\":\"BasicTickFormatter\"},\"plot\":{\"id\":\"7af3bd1b-1cf9-45c0-b0ed-e2c5bd9d6ec2\",\"subtype\":\"Chart\",\"type\":\"Plot\"},\"ticker\":{\"id\":\"2b0e122f-9e7c-4d6e-ac7b-c7de9e70b883\",\"type\":\"BasicTicker\"}},\"id\":\"318707b7-ba6a-4437-83dc-22cc0e02a449\",\"type\":\"LinearAxis\"},{\"attributes\":{\"axis_label\":\"weight\",\"formatter\":{\"id\":\"2906b4b2-228d-442c-a881-0b7dc68e5c15\",\"type\":\"BasicTickFormatter\"},\"plot\":{\"id\":\"7af3bd1b-1cf9-45c0-b0ed-e2c5bd9d6ec2\",\"subtype\":\"Chart\",\"type\":\"Plot\"},\"ticker\":{\"id\":\"55d5bb10-3aea-4610-aa8b-0550ac52d740\",\"type\":\"BasicTicker\"}},\"id\":\"0487e1b8-d5dc-4d02-976e-7113e8048d97\",\"type\":\"LinearAxis\"},{\"attributes\":{},\"id\":\"eb5c0ce3-1b8d-4a1d-b7ba-9a3f98fbe887\",\"type\":\"ToolEvents\"},{\"attributes\":{\"callback\":null,\"column_names\":[\"x_values\",\"y_values\",\"make\",\"mpg\",\"hp\"],\"data\":{\"chart_index\":[{\"origin\":\"European\"},{\"origin\":\"European\"},{\"origin\":\"European\"},{\"origin\":\"European\"},{\"origin\":\"European\"},{\"origin\":\"European\"},{\"origin\":\"European\"},{\"origin\":\"European\"},{\"origin\":\"European\"},{\"origin\":\"European\"},{\"origin\":\"European\"},{\"origin\":\"European\"},{\"origin\":\"European\"},{\"origin\":\"European\"},{\"origin\":\"European\"},{\"origin\":\"European\"},{\"origin\":\"European\"},{\"origin\":\"European\"},{\"origin\":\"European\"},{\"origin\":\"European\"},{\"origin\":\"European\"},{\"origin\":\"European\"},{\"origin\":\"European\"},{\"origin\":\"European\"},{\"origin\":\"European\"},{\"origin\":\"European\"},{\"origin\":\"European\"},{\"origin\":\"European\"},{\"origin\":\"European\"},{\"origin\":\"European\"},{\"origin\":\"European\"},{\"origin\":\"European\"},{\"origin\":\"European\"},{\"origin\":\"European\"},{\"origin\":\"European\"},{\"origin\":\"European\"},{\"origin\":\"European\"},{\"origin\":\"European\"},{\"origin\":\"European\"},{\"origin\":\"European\"},{\"origin\":\"European\"},{\"origin\":\"European\"},{\"origin\":\"European\"},{\"origin\":\"European\"},{\"origin\":\"European\"},{\"origin\":\"European\"},{\"origin\":\"European\"},{\"origin\":\"European\"},{\"origin\":\"European\"},{\"origin\":\"European\"},{\"origin\":\"European\"},{\"origin\":\"European\"},{\"origin\":\"European\"},{\"origin\":\"European\"},{\"origin\":\"European\"},{\"origin\":\"European\"},{\"origin\":\"European\"},{\"origin\":\"European\"},{\"origin\":\"European\"},{\"origin\":\"European\"},{\"origin\":\"European\"},{\"origin\":\"European\"},{\"origin\":\"European\"},{\"origin\":\"European\"},{\"origin\":\"European\"},{\"origin\":\"European\"},{\"origin\":\"European\"},{\"origin\":\"European\"}],\"hp\":[46,87,90,95,113,90,70,76,60,54,112,76,87,69,46,90,49,75,91,112,110,83,67,78,75,75,67,71,70,95,88,98,115,86,81,83,70,71,102,88,120,58,78,78,110,48,103,125,115,133,71,71,77,71,69,76,78,48,48,67,67,62,88,74,80,76,74,52],\"make\":[\"Volkswagen\",\"Peugeot\",\"Audi\",\"Saab\",\"Bmw\",\"Opel\",\"Peugeot\",\"Fiat\",\"Volkswagen\",\"Volkswagen\",\"Volvo\",\"Volkswagen\",\"Peugeot\",\"Renault\",\"Volkswagen\",\"Fiat\",\"Fiat\",\"Opel\",\"Audi\",\"Volvo\",\"Saab\",\"Audi\",\"Volkswagen\",\"Opel\",\"Fiat\",\"Fiat\",\"Fiat\",\"Volkswagen\",\"Volkswagen\",\"Audi\",\"Peugeot\",\"Volvo\",\"Saab\",\"Fiat\",\"Opel\",\"Renault\",\"Vw\",\"Volkswagen\",\"Volvo\",\"Peugeot\",\"Mercedes-Benz\",\"Renault\",\"Volkswagen\",\"Volkswagen\",\"Bmw\",\"Volkswagen\",\"Audi\",\"Volvo\",\"Saab\",\"Peugeot\",\"Volkswagen\",\"Vw\",\"Mercedes\",\"Peugeot\",\"Fiat\",\"Vw\",\"Audi\",\"Vw\",\"Vw\",\"Audi\",\"Mercedes-Benz\",\"Vokswagen\",\"Triumph\",\"Volkswagen\",\"Peugeot\",\"Volvo\",\"Volkswagen\",\"Vw\"],\"mpg\":{\"__ndarray__\":\"AAAAAAAAOkAAAAAAAAA5QAAAAAAAADhAAAAAAAAAOUAAAAAAAAA6QAAAAAAAADxAAAAAAAAAPkAAAAAAAAA+QAAAAAAAADtAAAAAAAAAN0AAAAAAAAAyQAAAAAAAADZAAAAAAAAANUAAAAAAAAA6QAAAAAAAADpAAAAAAAAAOkAAAAAAAAA9QAAAAAAAADhAAAAAAAAANEAAAAAAAAAzQAAAAAAAADhAAAAAAAAAPUAAAAAAAAA6QAAAAAAAADpAAAAAAAAAOEAAAAAAAAA6QAAAAAAAAD9AAAAAAAAAOUAAAAAAAAA9QAAAAAAAADdAAAAAAAAAN0AAAAAAAAA2QAAAAAAAADlAAAAAAAAAPEAAAAAAAAA5QAAAAAAAADtAAAAAAAAAPUAAAAAAAIA9QAAAAAAAADRAAAAAAAAAM0AAAAAAAIAwQAAAAAAAAEJAAAAAAAAAPUAAAAAAAIA+QAAAAAAAgDVAzczMzMyMRUDNzMzMzEw0QAAAAAAAADFAmpmZmZmZNUAzMzMzMzMwQAAAAAAAgD9AZmZmZmbmP0BmZmZmZmY5QDMzMzMzMztAZmZmZmamQkAAAAAAAMBEQGZmZmZmJkFAZmZmZmYmRkAzMzMzM7NFQDMzMzMzM0JAAAAAAAAAPkDNzMzMzMw9QAAAAAAAgEFAAAAAAACAQECamZmZmRk8QDMzMzMzsz5AAAAAAAAAQkAAAAAAAABGQA==\",\"dtype\":\"float64\",\"shape\":[68]},\"origin\":[\"European\",\"European\",\"European\",\"European\",\"European\",\"European\",\"European\",\"European\",\"European\",\"European\",\"European\",\"European\",\"European\",\"European\",\"European\",\"European\",\"European\",\"European\",\"European\",\"European\",\"European\",\"European\",\"European\",\"European\",\"European\",\"European\",\"European\",\"European\",\"European\",\"European\",\"European\",\"European\",\"European\",\"European\",\"European\",\"European\",\"European\",\"European\",\"European\",\"European\",\"European\",\"European\",\"European\",\"European\",\"European\",\"European\",\"European\",\"European\",\"European\",\"European\",\"European\",\"European\",\"European\",\"European\",\"European\",\"European\",\"European\",\"European\",\"European\",\"European\",\"European\",\"European\",\"European\",\"European\",\"European\",\"European\",\"European\",\"European\"],\"x_values\":[1835,2672,2430,2375,2234,2123,2074,2065,1834,2254,2933,2511,2979,2189,1950,2265,1867,2158,2582,2868,2660,2219,1963,2300,2108,2246,2000,2223,1937,2694,2957,2945,2671,2464,2220,2202,1937,1825,3150,3270,3820,1825,1940,2190,2600,1985,2830,3140,2795,3410,1990,1925,3530,3190,2130,2144,2188,2085,2335,2950,3250,1845,2500,2190,3230,3160,1980,2130],\"y_values\":{\"__ndarray__\":\"AAAAAAAAOkAAAAAAAAA5QAAAAAAAADhAAAAAAAAAOUAAAAAAAAA6QAAAAAAAADxAAAAAAAAAPkAAAAAAAAA+QAAAAAAAADtAAAAAAAAAN0AAAAAAAAAyQAAAAAAAADZAAAAAAAAANUAAAAAAAAA6QAAAAAAAADpAAAAAAAAAOkAAAAAAAAA9QAAAAAAAADhAAAAAAAAANEAAAAAAAAAzQAAAAAAAADhAAAAAAAAAPUAAAAAAAAA6QAAAAAAAADpAAAAAAAAAOEAAAAAAAAA6QAAAAAAAAD9AAAAAAAAAOUAAAAAAAAA9QAAAAAAAADdAAAAAAAAAN0AAAAAAAAA2QAAAAAAAADlAAAAAAAAAPEAAAAAAAAA5QAAAAAAAADtAAAAAAAAAPUAAAAAAAIA9QAAAAAAAADRAAAAAAAAAM0AAAAAAAIAwQAAAAAAAAEJAAAAAAAAAPUAAAAAAAIA+QAAAAAAAgDVAzczMzMyMRUDNzMzMzEw0QAAAAAAAADFAmpmZmZmZNUAzMzMzMzMwQAAAAAAAgD9AZmZmZmbmP0BmZmZmZmY5QDMzMzMzMztAZmZmZmamQkAAAAAAAMBEQGZmZmZmJkFAZmZmZmYmRkAzMzMzM7NFQDMzMzMzM0JAAAAAAAAAPkDNzMzMzMw9QAAAAAAAgEFAAAAAAACAQECamZmZmRk8QDMzMzMzsz5AAAAAAAAAQkAAAAAAAABGQA==\",\"dtype\":\"float64\",\"shape\":[68]}}},\"id\":\"933f7072-4c83-463c-acaa-f016cdad0269\",\"type\":\"ColumnDataSource\"},{\"attributes\":{},\"id\":\"55d5bb10-3aea-4610-aa8b-0550ac52d740\",\"type\":\"BasicTicker\"},{\"attributes\":{\"plot\":{\"id\":\"7af3bd1b-1cf9-45c0-b0ed-e2c5bd9d6ec2\",\"subtype\":\"Chart\",\"type\":\"Plot\"}},\"id\":\"76d74622-b3f2-4c89-ae2a-d63c59d18ae9\",\"type\":\"PanTool\"},{\"attributes\":{\"plot\":{\"id\":\"7af3bd1b-1cf9-45c0-b0ed-e2c5bd9d6ec2\",\"subtype\":\"Chart\",\"type\":\"Plot\"}},\"id\":\"480d6b08-a55b-4e87-802b-9b43826c4f77\",\"type\":\"WheelZoomTool\"},{\"attributes\":{\"fill_alpha\":{\"value\":0.7},\"fill_color\":{\"value\":\"#407ee7\"},\"line_color\":{\"value\":\"#407ee7\"},\"size\":{\"units\":\"screen\",\"value\":8},\"x\":{\"field\":\"x_values\"},\"y\":{\"field\":\"y_values\"}},\"id\":\"056b0570-ba82-4681-9b07-6ab4f443bb9a\",\"type\":\"Circle\"},{\"attributes\":{\"plot\":{\"id\":\"7af3bd1b-1cf9-45c0-b0ed-e2c5bd9d6ec2\",\"subtype\":\"Chart\",\"type\":\"Plot\"},\"ticker\":{\"id\":\"55d5bb10-3aea-4610-aa8b-0550ac52d740\",\"type\":\"BasicTicker\"}},\"id\":\"41b19e1f-3d55-4853-97fb-e493771ad006\",\"type\":\"Grid\"},{\"attributes\":{\"callback\":null,\"column_names\":[\"x_values\",\"y_values\",\"make\",\"mpg\",\"hp\"],\"data\":{\"chart_index\":[{\"origin\":\"American\"},{\"origin\":\"American\"},{\"origin\":\"American\"},{\"origin\":\"American\"},{\"origin\":\"American\"},{\"origin\":\"American\"},{\"origin\":\"American\"},{\"origin\":\"American\"},{\"origin\":\"American\"},{\"origin\":\"American\"},{\"origin\":\"American\"},{\"origin\":\"American\"},{\"origin\":\"American\"},{\"origin\":\"American\"},{\"origin\":\"American\"},{\"origin\":\"American\"},{\"origin\":\"American\"},{\"origin\":\"American\"},{\"origin\":\"American\"},{\"origin\":\"American\"},{\"origin\":\"American\"},{\"origin\":\"American\"},{\"origin\":\"American\"},{\"origin\":\"American\"},{\"origin\":\"American\"},{\"origin\":\"American\"},{\"origin\":\"American\"},{\"origin\":\"American\"},{\"origin\":\"American\"},{\"origin\":\"American\"},{\"origin\":\"American\"},{\"origin\":\"American\"},{\"origin\":\"American\"},{\"origin\":\"American\"},{\"origin\":\"American\"},{\"origin\":\"American\"},{\"origin\":\"American\"},{\"origin\":\"American\"},{\"origin\":\"American\"},{\"origin\":\"American\"},{\"origin\":\"American\"},{\"origin\":\"American\"},{\"origin\":\"American\"},{\"origin\":\"American\"},{\"origin\":\"American\"},{\"origin\":\"American\"},{\"origin\":\"American\"},{\"origin\":\"American\"},{\"origin\":\"American\"},{\"origin\":\"American\"},{\"origin\":\"American\"},{\"origin\":\"American\"},{\"origin\":\"American\"},{\"origin\":\"American\"},{\"origin\":\"American\"},{\"origin\":\"American\"},{\"origin\":\"American\"},{\"origin\":\"American\"},{\"origin\":\"American\"},{\"origin\":\"American\"},{\"origin\":\"American\"},{\"origin\":\"American\"},{\"origin\":\"American\"},{\"origin\":\"American\"},{\"origin\":\"American\"},{\"origin\":\"American\"},{\"origin\":\"American\"},{\"origin\":\"American\"},{\"origin\":\"American\"},{\"origin\":\"American\"},{\"origin\":\"American\"},{\"origin\":\"American\"},{\"origin\":\"American\"},{\"origin\":\"American\"},{\"origin\":\"American\"},{\"origin\":\"American\"},{\"origin\":\"American\"},{\"origin\":\"American\"},{\"origin\":\"American\"},{\"origin\":\"American\"},{\"origin\":\"American\"},{\"origin\":\"American\"},{\"origin\":\"American\"},{\"origin\":\"American\"},{\"origin\":\"American\"},{\"origin\":\"American\"},{\"origin\":\"American\"},{\"origin\":\"American\"},{\"origin\":\"American\"},{\"origin\":\"American\"},{\"origin\":\"American\"},{\"origin\":\"American\"},{\"origin\":\"American\"},{\"origin\":\"American\"},{\"origin\":\"American\"},{\"origin\":\"American\"},{\"origin\":\"American\"},{\"origin\":\"American\"},{\"origin\":\"American\"},{\"origin\":\"American\"},{\"origin\":\"American\"},{\"origin\":\"American\"},{\"origin\":\"American\"},{\"origin\":\"American\"},{\"origin\":\"American\"},{\"origin\":\"American\"},{\"origin\":\"American\"},{\"origin\":\"American\"},{\"origin\":\"American\"},{\"origin\":\"American\"},{\"origin\":\"American\"},{\"origin\":\"American\"},{\"origin\":\"American\"},{\"origin\":\"American\"},{\"origin\":\"American\"},{\"origin\":\"American\"},{\"origin\":\"American\"},{\"origin\":\"American\"},{\"origin\":\"American\"},{\"origin\":\"American\"},{\"origin\":\"American\"},{\"origin\":\"American\"},{\"origin\":\"American\"},{\"origin\":\"American\"},{\"origin\":\"American\"},{\"origin\":\"American\"},{\"origin\":\"American\"},{\"origin\":\"American\"},{\"origin\":\"American\"},{\"origin\":\"American\"},{\"origin\":\"American\"},{\"origin\":\"American\"},{\"origin\":\"American\"},{\"origin\":\"American\"},{\"origin\":\"American\"},{\"origin\":\"American\"},{\"origin\":\"American\"},{\"origin\":\"American\"},{\"origin\":\"American\"},{\"origin\":\"American\"},{\"origin\":\"American\"},{\"origin\":\"American\"},{\"origin\":\"American\"},{\"origin\":\"American\"},{\"origin\":\"American\"},{\"origin\":\"American\"},{\"origin\":\"American\"},{\"origin\":\"American\"},{\"origin\":\"American\"},{\"origin\":\"American\"},{\"origin\":\"American\"},{\"origin\":\"American\"},{\"origin\":\"American\"},{\"origin\":\"American\"},{\"origin\":\"American\"},{\"origin\":\"American\"},{\"origin\":\"American\"},{\"origin\":\"American\"},{\"origin\":\"American\"},{\"origin\":\"American\"},{\"origin\":\"American\"},{\"origin\":\"American\"},{\"origin\":\"American\"},{\"origin\":\"American\"},{\"origin\":\"American\"},{\"origin\":\"American\"},{\"origin\":\"American\"},{\"origin\":\"American\"},{\"origin\":\"American\"},{\"origin\":\"American\"},{\"origin\":\"American\"},{\"origin\":\"American\"},{\"origin\":\"American\"},{\"origin\":\"American\"},{\"origin\":\"American\"},{\"origin\":\"American\"},{\"origin\":\"American\"},{\"origin\":\"American\"},{\"origin\":\"American\"},{\"origin\":\"American\"},{\"origin\":\"American\"},{\"origin\":\"American\"},{\"origin\":\"American\"},{\"origin\":\"American\"},{\"origin\":\"American\"},{\"origin\":\"American\"},{\"origin\":\"American\"},{\"origin\":\"American\"},{\"origin\":\"American\"},{\"origin\":\"American\"},{\"origin\":\"American\"},{\"origin\":\"American\"},{\"origin\":\"American\"},{\"origin\":\"American\"},{\"origin\":\"American\"},{\"origin\":\"American\"},{\"origin\":\"American\"},{\"origin\":\"American\"},{\"origin\":\"American\"},{\"origin\":\"American\"},{\"origin\":\"American\"},{\"origin\":\"American\"},{\"origin\":\"American\"},{\"origin\":\"American\"},{\"origin\":\"American\"},{\"origin\":\"American\"},{\"origin\":\"American\"},{\"origin\":\"American\"},{\"origin\":\"American\"},{\"origin\":\"American\"},{\"origin\":\"American\"},{\"origin\":\"American\"},{\"origin\":\"American\"},{\"origin\":\"American\"},{\"origin\":\"American\"},{\"origin\":\"American\"},{\"origin\":\"American\"},{\"origin\":\"American\"},{\"origin\":\"American\"},{\"origin\":\"American\"},{\"origin\":\"American\"},{\"origin\":\"American\"},{\"origin\":\"American\"},{\"origin\":\"American\"},{\"origin\":\"American\"},{\"origin\":\"American\"},{\"origin\":\"American\"},{\"origin\":\"American\"},{\"origin\":\"American\"},{\"origin\":\"American\"},{\"origin\":\"American\"},{\"origin\":\"American\"},{\"origin\":\"American\"},{\"origin\":\"American\"},{\"origin\":\"American\"},{\"origin\":\"American\"},{\"origin\":\"American\"},{\"origin\":\"American\"},{\"origin\":\"American\"},{\"origin\":\"American\"},{\"origin\":\"American\"},{\"origin\":\"American\"},{\"origin\":\"American\"},{\"origin\":\"American\"},{\"origin\":\"American\"}],\"hp\":[130,165,150,150,140,198,220,215,225,190,170,160,150,225,95,97,85,90,215,200,210,193,90,100,105,100,88,100,165,175,153,150,180,170,175,110,72,100,88,86,70,80,90,86,165,175,150,153,150,208,155,160,190,150,130,140,150,86,80,175,150,145,137,150,198,150,158,150,215,225,175,105,100,100,88,95,150,167,170,180,100,72,85,107,145,230,150,180,95,100,100,80,75,100,110,105,140,150,150,140,150,75,95,105,72,72,170,145,150,148,110,105,110,95,110,110,129,83,100,78,97,90,92,79,140,150,120,152,100,105,81,90,52,60,100,78,110,95,72,150,180,145,130,150,80,96,145,110,145,130,110,105,100,98,180,170,190,149,88,89,63,83,66,110,140,139,105,95,85,88,100,90,105,85,110,120,145,165,139,140,68,75,105,85,115,85,88,90,110,130,129,138,135,155,142,125,150,80,80,125,90,70,70,90,115,115,90,70,90,88,90,90,105,84,84,92,110,84,64,63,65,65,110,105,88,85,88,88,88,85,84,90,92,63,70,110,85,92,112,84,90,86,84,79,82],\"make\":[\"Chevrolet\",\"Buick\",\"Plymouth\",\"Amc\",\"Ford\",\"Ford\",\"Chevrolet\",\"Plymouth\",\"Pontiac\",\"Amc\",\"Dodge\",\"Plymouth\",\"Chevrolet\",\"Buick\",\"Plymouth\",\"Amc\",\"Ford\",\"Amc\",\"Ford\",\"Chevy\",\"Dodge\",\"Hi\",\"Chevrolet\",\"Amc\",\"Plymouth\",\"Chevrolet\",\"Ford\",\"Amc\",\"Chevrolet\",\"Pontiac\",\"Ford\",\"Plymouth\",\"Dodge\",\"Ford\",\"Pontiac\",\"Amc\",\"Chevrolet\",\"Pontiac\",\"Ford\",\"Mercury\",\"Plymouth\",\"Dodge\",\"Chevrolet\",\"Ford\",\"Chevrolet\",\"Pontiac\",\"Plymouth\",\"Ford\",\"Amc\",\"Mercury\",\"Buick\",\"Oldsmobile\",\"Chrysler\",\"Amc\",\"Chevrolet\",\"Ford\",\"Plymouth\",\"Ford\",\"Dodge\",\"Buick\",\"Amc\",\"Chevrolet\",\"Ford\",\"Dodge\",\"Mercury\",\"Chevrolet\",\"Ford\",\"Plymouth\",\"Chrysler\",\"Buick\",\"Amc\",\"Plymouth\",\"Chevrolet\",\"Amc\",\"Ford\",\"Plymouth\",\"Chevrolet\",\"Ford\",\"Plymouth\",\"Oldsmobile\",\"Amc\",\"Chevrolet\",\"Ford\",\"Mercury\",\"Chevrolet\",\"Pontiac\",\"Dodge\",\"Oldsmobile\",\"Plymouth\",\"Amc\",\"Chevrolet\",\"Ford\",\"Chevrolet\",\"Chevrolet\",\"Amc\",\"Plymouth\",\"Ford\",\"Buick\",\"Dodge\",\"Ford\",\"Amc\",\"Dodge\",\"Plymouth\",\"Chevrolet\",\"Mercury\",\"Ford\",\"Pontiac\",\"Chevrolet\",\"Plymouth\",\"Ford\",\"Buick\",\"Chevroelt\",\"Amc\",\"Plymouth\",\"Buick\",\"Chevrolet\",\"Ford\",\"Ford\",\"Amc\",\"Pontiac\",\"Ford\",\"Amc\",\"Capri\",\"Dodge\",\"Chevrolet\",\"Dodge\",\"Amc\",\"Ford\",\"Plymouth\",\"Chevrolet\",\"Ford\",\"Amc\",\"Chevrolet\",\"Chevrolet\",\"Dodge\",\"Ford\",\"Pontiac\",\"Amc\",\"Ford\",\"Plymouth\",\"Cadillac\",\"Chevy\",\"Ford\",\"Dodge\",\"Buick\",\"Plymouth\",\"Chevrolet\",\"Oldsmobile\",\"Dodge\",\"Mercury\",\"Chevrolet\",\"Buick\",\"Plymouth\",\"Ford\",\"Pontiac\",\"Chevrolet\",\"Chrysler\",\"Ford\",\"Pontiac\",\"Ford\",\"Chevrolet\",\"Dodge\",\"Ford\",\"Oldsmobile\",\"Dodge\",\"Mercury\",\"Pontiac\",\"Chevrolet\",\"Ford\",\"Ford\",\"Plymouth\",\"Amc\",\"Buick\",\"Mercury\",\"Dodge\",\"Amc\",\"Chevrolet\",\"Buick\",\"Ford\",\"Dodge\",\"Chevrolet\",\"Dodge\",\"Plymouth\",\"Oldsmobile\",\"Pontiac\",\"Mercury\",\"Ford\",\"Amc\",\"Dodge\",\"Chevrolet\",\"Ford\",\"Mercury\",\"Dodge\",\"Buick\",\"Ford\",\"Chevrolet\",\"Chrysler\",\"Dodge\",\"Amc\",\"Cadillac\",\"Oldsmobile\",\"Plymouth\",\"Plymouth\",\"Buick\",\"Chevrolet\",\"Oldsmobile\",\"Pontiac\",\"Chevrolet\",\"Chevrolet\",\"Ford\",\"Amc\",\"Dodge\",\"Dodge\",\"Plymouth\",\"Buick\",\"Dodge\",\"Chevrolet\",\"Plymouth\",\"Plymouth\",\"Plymouth\",\"Ford\",\"Ford\",\"Buick\",\"Oldsmobile\",\"Ford\",\"Chrysler\",\"Chevrolet\",\"Chevrolet\",\"Chevrolet\",\"Pontiac\",\"Dodge\",\"Pontiac\",\"Ford\",\"Plymouth\",\"Mercury\",\"Buick\",\"Oldsmobile\",\"Chrysler\",\"Ford\",\"Dodge\",\"Chevrolet\",\"Ford\",\"Dodge\",\"Ford\",\"Chevy\"],\"mpg\":{\"__ndarray__\":\"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\",\"dtype\":\"float64\",\"shape\":[245]},\"origin\":[\"American\",\"American\",\"American\",\"American\",\"American\",\"American\",\"American\",\"American\",\"American\",\"American\",\"American\",\"American\",\"American\",\"American\",\"American\",\"American\",\"American\",\"American\",\"American\",\"American\",\"American\",\"American\",\"American\",\"American\",\"American\",\"American\",\"American\",\"American\",\"American\",\"American\",\"American\",\"American\",\"American\",\"American\",\"American\",\"American\",\"American\",\"American\",\"American\",\"American\",\"American\",\"American\",\"American\",\"American\",\"American\",\"American\",\"American\",\"American\",\"American\",\"American\",\"American\",\"American\",\"American\",\"American\",\"American\",\"American\",\"American\",\"American\",\"American\",\"American\",\"American\",\"American\",\"American\",\"American\",\"American\",\"American\",\"American\",\"American\",\"American\",\"American\",\"American\",\"American\",\"American\",\"American\",\"American\",\"American\",\"American\",\"American\",\"American\",\"American\",\"American\",\"American\",\"American\",\"American\",\"American\",\"American\",\"American\",\"American\",\"American\",\"American\",\"American\",\"American\",\"American\",\"American\",\"American\",\"American\",\"American\",\"American\",\"American\",\"American\",\"American\",\"American\",\"American\",\"American\",\"American\",\"American\",\"American\",\"American\",\"American\",\"American\",\"American\",\"American\",\"American\",\"American\",\"American\",\"American\",\"American\",\"American\",\"American\",\"American\",\"American\",\"American\",\"American\",\"American\",\"American\",\"American\",\"American\",\"American\",\"American\",\"American\",\"American\",\"American\",\"American\",\"American\",\"American\",\"American\",\"American\",\"American\",\"American\",\"American\",\"American\",\"American\",\"American\",\"American\",\"American\",\"American\",\"American\",\"American\",\"American\",\"American\",\"American\",\"American\",\"American\",\"American\",\"American\",\"American\",\"American\",\"American\",\"American\",\"American\",\"American\",\"American\",\"American\",\"American\",\"American\",\"American\",\"American\",\"American\",\"American\",\"American\",\"American\",\"American\",\"American\",\"American\",\"American\",\"American\",\"American\",\"American\",\"American\",\"American\",\"American\",\"American\",\"American\",\"American\",\"American\",\"American\",\"American\",\"American\",\"American\",\"American\",\"American\",\"American\",\"American\",\"American\",\"American\",\"American\",\"American\",\"American\",\"American\",\"American\",\"American\",\"American\",\"American\",\"American\",\"American\",\"American\",\"American\",\"American\",\"American\",\"American\",\"American\",\"American\",\"American\",\"American\",\"American\",\"American\",\"American\",\"American\",\"American\",\"American\",\"American\",\"American\",\"American\",\"American\",\"American\",\"American\",\"American\",\"American\",\"American\",\"American\",\"American\",\"American\",\"American\",\"American\",\"American\",\"American\",\"American\",\"American\",\"American\",\"American\",\"American\",\"American\",\"American\",\"American\",\"American\"],\"x_values\":[3504,3693,3436,3433,3449,4341,4354,4312,4425,3850,3563,3609,3761,3086,2833,2774,2587,2648,4615,4376,4382,4732,2264,2634,3439,3329,3302,3288,4209,4464,4154,4096,4955,4746,5140,2962,2408,3282,3139,2220,1955,2126,2408,2226,4274,4385,4135,4129,3672,4633,4502,4456,4422,3892,4098,4294,4077,2395,2164,4100,3672,3988,4042,3777,4952,4464,4363,4237,4735,4951,3821,3121,3278,2945,3021,2904,4997,4906,4654,4499,2789,2401,2310,2472,4082,4278,3399,3664,3102,2901,3336,2451,2542,3781,3632,3613,4141,4699,4457,4638,4257,2125,3264,3459,3432,3158,4668,4440,4498,4657,3907,3897,3730,3785,3039,3221,3169,2639,2914,2592,2984,3211,2572,2255,4215,4190,3962,4215,3233,3353,3012,3085,2035,2164,3651,3574,3645,3193,2565,3940,4380,4055,3870,3755,2155,2300,3880,4060,4140,4295,3520,3425,3630,3525,4220,4165,4325,4335,2740,2755,2051,2075,1800,3365,3735,3570,3535,3155,2965,2720,3430,3210,3380,3070,3620,3410,3425,3445,3205,4080,2155,2230,2745,2855,3245,2990,2890,3265,3360,3840,3725,3955,3830,4360,4054,3605,3940,1915,2670,3900,3420,2200,2150,2670,2595,2700,2556,2120,2678,2870,3003,3381,2800,2490,2635,2620,2725,2385,1875,2215,2045,2380,3415,3725,3060,3465,2605,2640,2395,2575,2525,2735,2865,2125,2125,2945,3015,2585,2835,2370,2950,2790,2295,2625,2720],\"y_values\":{\"__ndarray__\":\"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\",\"dtype\":\"float64\",\"shape\":[245]}}},\"id\":\"da5a39c0-a782-4f46-9626-ccc928305fe1\",\"type\":\"ColumnDataSource\"},{\"attributes\":{\"data_source\":{\"id\":\"933f7072-4c83-463c-acaa-f016cdad0269\",\"type\":\"ColumnDataSource\"},\"glyph\":{\"id\":\"056b0570-ba82-4681-9b07-6ab4f443bb9a\",\"type\":\"Circle\"},\"hover_glyph\":null,\"muted_glyph\":null},\"id\":\"62ef758e-b077-4e0f-9122-b966b0b35f6e\",\"type\":\"GlyphRenderer\"},{\"attributes\":{},\"id\":\"576b6223-ad2a-4d0f-8060-4d44f597be6a\",\"type\":\"BasicTickFormatter\"},{\"attributes\":{\"callback\":null,\"plot\":{\"id\":\"7af3bd1b-1cf9-45c0-b0ed-e2c5bd9d6ec2\",\"subtype\":\"Chart\",\"type\":\"Plot\"},\"tooltips\":[[\"Make\",\"@make\"],[\"MPG\",\"@mpg\"],[\"hp\",\"@hp\"]]},\"id\":\"df53e686-1cd5-4ee6-ab6c-5a25527efe8c\",\"type\":\"HoverTool\"},{\"attributes\":{\"fill_alpha\":{\"value\":0.7},\"fill_color\":{\"value\":\"#f22c40\"},\"line_color\":{\"value\":\"#f22c40\"},\"size\":{\"units\":\"screen\",\"value\":8},\"x\":{\"field\":\"x_values\"},\"y\":{\"field\":\"y_values\"}},\"id\":\"b046b866-647d-4d20-834c-0e2c5c9209f2\",\"type\":\"Circle\"},{\"attributes\":{\"dimension\":1,\"plot\":{\"id\":\"7af3bd1b-1cf9-45c0-b0ed-e2c5bd9d6ec2\",\"subtype\":\"Chart\",\"type\":\"Plot\"},\"ticker\":{\"id\":\"2b0e122f-9e7c-4d6e-ac7b-c7de9e70b883\",\"type\":\"BasicTicker\"}},\"id\":\"5c0ccc28-4105-4d92-a3a8-5561ed6307db\",\"type\":\"Grid\"},{\"attributes\":{\"plot\":null,\"text\":null},\"id\":\"1e8bdfba-2e1c-40b2-b034-302d84e8ab63\",\"type\":\"Title\"},{\"attributes\":{\"bottom_units\":\"screen\",\"fill_alpha\":{\"value\":0.5},\"fill_color\":{\"value\":\"lightgrey\"},\"left_units\":\"screen\",\"level\":\"overlay\",\"line_alpha\":{\"value\":1.0},\"line_color\":{\"value\":\"black\"},\"line_dash\":[4,4],\"line_width\":{\"value\":2},\"plot\":null,\"render_mode\":\"css\",\"right_units\":\"screen\",\"top_units\":\"screen\"},\"id\":\"8a8c0b38-eafb-4c16-bb33-b13a9e2ee117\",\"type\":\"BoxAnnotation\"},{\"attributes\":{\"plot\":{\"id\":\"7af3bd1b-1cf9-45c0-b0ed-e2c5bd9d6ec2\",\"subtype\":\"Chart\",\"type\":\"Plot\"}},\"id\":\"43d089ae-8b92-40e6-bfe8-9bd2ef323ab9\",\"type\":\"SaveTool\"},{\"attributes\":{\"label\":{\"value\":\"Asian\"},\"renderers\":[{\"id\":\"85e5349c-d802-49c5-8a29-6913246f6a8f\",\"type\":\"GlyphRenderer\"}]},\"id\":\"ae5affac-6709-478b-8253-5cd6f1fc8c3d\",\"type\":\"LegendItem\"},{\"attributes\":{\"data_source\":{\"id\":\"da5a39c0-a782-4f46-9626-ccc928305fe1\",\"type\":\"ColumnDataSource\"},\"glyph\":{\"id\":\"b046b866-647d-4d20-834c-0e2c5c9209f2\",\"type\":\"Circle\"},\"hover_glyph\":null,\"muted_glyph\":null},\"id\":\"be93d51c-aff5-44ea-99be-36f7422b9fc3\",\"type\":\"GlyphRenderer\"},{\"attributes\":{\"callback\":null,\"end\":50.36,\"start\":5.24},\"id\":\"950fae84-4b6e-4129-bc60-4f2775fdf370\",\"type\":\"Range1d\"},{\"attributes\":{\"callback\":null,\"end\":5492.7,\"start\":1260.3},\"id\":\"2487664a-49ef-4363-af28-457db3edf963\",\"type\":\"Range1d\"},{\"attributes\":{\"active_drag\":\"auto\",\"active_scroll\":\"auto\",\"active_tap\":\"auto\",\"tools\":[{\"id\":\"76d74622-b3f2-4c89-ae2a-d63c59d18ae9\",\"type\":\"PanTool\"},{\"id\":\"480d6b08-a55b-4e87-802b-9b43826c4f77\",\"type\":\"WheelZoomTool\"},{\"id\":\"5e075e82-d478-40b5-9c6c-90307d51f066\",\"type\":\"BoxZoomTool\"},{\"id\":\"43d089ae-8b92-40e6-bfe8-9bd2ef323ab9\",\"type\":\"SaveTool\"},{\"id\":\"334376c3-d9b1-4af0-bdf0-2aba03c41fe9\",\"type\":\"ResetTool\"},{\"id\":\"517c5ac9-4d73-443b-a25a-351e598d10ec\",\"type\":\"HelpTool\"},{\"id\":\"df53e686-1cd5-4ee6-ab6c-5a25527efe8c\",\"type\":\"HoverTool\"}]},\"id\":\"20b475d1-1c80-46ee-8336-c9e3b8fabb4c\",\"type\":\"Toolbar\"},{\"attributes\":{\"label\":{\"value\":\"American\"},\"renderers\":[{\"id\":\"be93d51c-aff5-44ea-99be-36f7422b9fc3\",\"type\":\"GlyphRenderer\"}]},\"id\":\"03ea1484-d71b-4764-af1d-99431346b9ba\",\"type\":\"LegendItem\"},{\"attributes\":{\"fill_alpha\":{\"value\":0.7},\"fill_color\":{\"value\":\"#5ab738\"},\"line_color\":{\"value\":\"#5ab738\"},\"size\":{\"units\":\"screen\",\"value\":8},\"x\":{\"field\":\"x_values\"},\"y\":{\"field\":\"y_values\"}},\"id\":\"8fdc4035-b931-401d-b454-c92f0cdd2d5c\",\"type\":\"Circle\"},{\"attributes\":{\"plot\":{\"id\":\"7af3bd1b-1cf9-45c0-b0ed-e2c5bd9d6ec2\",\"subtype\":\"Chart\",\"type\":\"Plot\"}},\"id\":\"517c5ac9-4d73-443b-a25a-351e598d10ec\",\"type\":\"HelpTool\"},{\"attributes\":{\"plot\":{\"id\":\"7af3bd1b-1cf9-45c0-b0ed-e2c5bd9d6ec2\",\"subtype\":\"Chart\",\"type\":\"Plot\"}},\"id\":\"334376c3-d9b1-4af0-bdf0-2aba03c41fe9\",\"type\":\"ResetTool\"},{\"attributes\":{\"label\":{\"value\":\"European\"},\"renderers\":[{\"id\":\"62ef758e-b077-4e0f-9122-b966b0b35f6e\",\"type\":\"GlyphRenderer\"}]},\"id\":\"27a63492-f85e-4e98-abfb-4c84684f1a89\",\"type\":\"LegendItem\"},{\"attributes\":{\"overlay\":{\"id\":\"8a8c0b38-eafb-4c16-bb33-b13a9e2ee117\",\"type\":\"BoxAnnotation\"},\"plot\":{\"id\":\"7af3bd1b-1cf9-45c0-b0ed-e2c5bd9d6ec2\",\"subtype\":\"Chart\",\"type\":\"Plot\"}},\"id\":\"5e075e82-d478-40b5-9c6c-90307d51f066\",\"type\":\"BoxZoomTool\"},{\"attributes\":{\"data_source\":{\"id\":\"27d31b7b-7b50-4825-9186-2b856a8de778\",\"type\":\"ColumnDataSource\"},\"glyph\":{\"id\":\"8fdc4035-b931-401d-b454-c92f0cdd2d5c\",\"type\":\"Circle\"},\"hover_glyph\":null,\"muted_glyph\":null},\"id\":\"85e5349c-d802-49c5-8a29-6913246f6a8f\",\"type\":\"GlyphRenderer\"},{\"attributes\":{\"callback\":null,\"column_names\":[\"x_values\",\"y_values\",\"make\",\"mpg\",\"hp\"],\"data\":{\"chart_index\":[{\"origin\":\"Asian\"},{\"origin\":\"Asian\"},{\"origin\":\"Asian\"},{\"origin\":\"Asian\"},{\"origin\":\"Asian\"},{\"origin\":\"Asian\"},{\"origin\":\"Asian\"},{\"origin\":\"Asian\"},{\"origin\":\"Asian\"},{\"origin\":\"Asian\"},{\"origin\":\"Asian\"},{\"origin\":\"Asian\"},{\"origin\":\"Asian\"},{\"origin\":\"Asian\"},{\"origin\":\"Asian\"},{\"origin\":\"Asian\"},{\"origin\":\"Asian\"},{\"origin\":\"Asian\"},{\"origin\":\"Asian\"},{\"origin\":\"Asian\"},{\"origin\":\"Asian\"},{\"origin\":\"Asian\"},{\"origin\":\"Asian\"},{\"origin\":\"Asian\"},{\"origin\":\"Asian\"},{\"origin\":\"Asian\"},{\"origin\":\"Asian\"},{\"origin\":\"Asian\"},{\"origin\":\"Asian\"},{\"origin\":\"Asian\"},{\"origin\":\"Asian\"},{\"origin\":\"Asian\"},{\"origin\":\"Asian\"},{\"origin\":\"Asian\"},{\"origin\":\"Asian\"},{\"origin\":\"Asian\"},{\"origin\":\"Asian\"},{\"origin\":\"Asian\"},{\"origin\":\"Asian\"},{\"origin\":\"Asian\"},{\"origin\":\"Asian\"},{\"origin\":\"Asian\"},{\"origin\":\"Asian\"},{\"origin\":\"Asian\"},{\"origin\":\"Asian\"},{\"origin\":\"Asian\"},{\"origin\":\"Asian\"},{\"origin\":\"Asian\"},{\"origin\":\"Asian\"},{\"origin\":\"Asian\"},{\"origin\":\"Asian\"},{\"origin\":\"Asian\"},{\"origin\":\"Asian\"},{\"origin\":\"Asian\"},{\"origin\":\"Asian\"},{\"origin\":\"Asian\"},{\"origin\":\"Asian\"},{\"origin\":\"Asian\"},{\"origin\":\"Asian\"},{\"origin\":\"Asian\"},{\"origin\":\"Asian\"},{\"origin\":\"Asian\"},{\"origin\":\"Asian\"},{\"origin\":\"Asian\"},{\"origin\":\"Asian\"},{\"origin\":\"Asian\"},{\"origin\":\"Asian\"},{\"origin\":\"Asian\"},{\"origin\":\"Asian\"},{\"origin\":\"Asian\"},{\"origin\":\"Asian\"},{\"origin\":\"Asian\"},{\"origin\":\"Asian\"},{\"origin\":\"Asian\"},{\"origin\":\"Asian\"},{\"origin\":\"Asian\"},{\"origin\":\"Asian\"},{\"origin\":\"Asian\"},{\"origin\":\"Asian\"}],\"hp\":[95,88,88,95,65,69,95,97,92,97,88,88,94,90,122,67,65,52,61,97,93,75,96,97,53,53,70,75,108,68,70,75,67,97,110,52,70,60,95,97,95,97,68,65,65,60,65,90,75,92,75,65,65,67,67,132,100,72,58,60,67,65,62,68,75,75,100,74,116,120,68,68,88,75,70,67,67,67,96],\"make\":[\"Toyota\",\"Datsun\",\"Datsun\",\"Toyota\",\"Toyota\",\"Datsun\",\"Toyota\",\"Mazda\",\"Datsun\",\"Toyouta\",\"Toyota\",\"Toyota\",\"Datsun\",\"Maxda\",\"Toyota\",\"Datsun\",\"Toyota\",\"Toyota\",\"Datsun\",\"Honda\",\"Subaru\",\"Toyota\",\"Toyota\",\"Datsun\",\"Honda\",\"Honda\",\"Datsun\",\"Toyota\",\"Toyota\",\"Honda\",\"Datsun\",\"Toyota\",\"Subaru\",\"Datsun\",\"Mazda\",\"Mazda\",\"Datsun\",\"Honda\",\"Toyota\",\"Datsun\",\"Toyota\",\"Datsun\",\"Honda\",\"Maxda\",\"Datsun\",\"Toyota\",\"Datsun\",\"Toyota\",\"Mazda\",\"Datsun\",\"Toyota\",\"Mazda\",\"Datsun\",\"Honda\",\"Subaru\",\"Datsun\",\"Mazda\",\"Honda\",\"Toyota\",\"Honda\",\"Subaru\",\"Datsun\",\"Toyota\",\"Mazda\",\"Honda\",\"Toyota\",\"Datsun\",\"Mazda\",\"Toyota\",\"Datsun\",\"Mazda\",\"Mazda\",\"Nissan\",\"Honda\",\"Toyota\",\"Honda\",\"Honda\",\"Datsun\",\"Toyota\"],\"mpg\":{\"__ndarray__\":\"AAAAAAAAOEAAAAAAAAA7QAAAAAAAADtAAAAAAAAAOUAAAAAAAAA/QAAAAAAAgEFAAAAAAAAAOEAAAAAAAAAzQAAAAAAAADxAAAAAAAAAN0AAAAAAAAA7QAAAAAAAADRAAAAAAAAANkAAAAAAAAAyQAAAAAAAADRAAAAAAAAAP0AAAAAAAABAQAAAAAAAAD9AAAAAAAAAQEAAAAAAAAA4QAAAAAAAADpAAAAAAAAAPUAAAAAAAAA4QAAAAAAAADhAAAAAAACAQEAAAAAAAIBAQAAAAAAAAEBAAAAAAAAAPEAAAAAAAAAzQAAAAAAAgD9AAAAAAADAQEAAAAAAAAA6QAAAAAAAAD5AAAAAAAAANkAAAAAAAIA1QGZmZmZmZkBAMzMzMzOzQ0DNzMzMzAxCQAAAAAAAgDtAMzMzMzMzO0CamZmZmRk1QGZmZmZm5jdAAAAAAACAPUDNzMzMzAxBQM3MzMzMzD9AzczMzMwMQ0CamZmZmZlCQM3MzMzMzD1AzczMzMxMP0AAAAAAAIBCQJqZmZmZGUBAzczMzMxMR0BmZmZmZmZEQM3MzMzMTEZAZmZmZmbmQECamZmZmVlAQDMzMzMzszdAMzMzMzMzQEDNzMzMzIxDQM3MzMzMjEFAZmZmZmYmQEAAAAAAAIBCQJqZmZmZ2UJAzczMzMwMQUCamZmZmdlAQDMzMzMzM0BAMzMzMzNzQECamZmZmZk/QGZmZmZmZjlAMzMzMzMzOEAAAAAAAIBCQAAAAAAAAD9AAAAAAAAAQkAAAAAAAABCQAAAAAAAAEFAAAAAAAAAQ0AAAAAAAABAQAAAAAAAAENAAAAAAAAAQEA=\",\"dtype\":\"float64\",\"shape\":[79]},\"origin\":[\"Asian\",\"Asian\",\"Asian\",\"Asian\",\"Asian\",\"Asian\",\"Asian\",\"Asian\",\"Asian\",\"Asian\",\"Asian\",\"Asian\",\"Asian\",\"Asian\",\"Asian\",\"Asian\",\"Asian\",\"Asian\",\"Asian\",\"Asian\",\"Asian\",\"Asian\",\"Asian\",\"Asian\",\"Asian\",\"Asian\",\"Asian\",\"Asian\",\"Asian\",\"Asian\",\"Asian\",\"Asian\",\"Asian\",\"Asian\",\"Asian\",\"Asian\",\"Asian\",\"Asian\",\"Asian\",\"Asian\",\"Asian\",\"Asian\",\"Asian\",\"Asian\",\"Asian\",\"Asian\",\"Asian\",\"Asian\",\"Asian\",\"Asian\",\"Asian\",\"Asian\",\"Asian\",\"Asian\",\"Asian\",\"Asian\",\"Asian\",\"Asian\",\"Asian\",\"Asian\",\"Asian\",\"Asian\",\"Asian\",\"Asian\",\"Asian\",\"Asian\",\"Asian\",\"Asian\",\"Asian\",\"Asian\",\"Asian\",\"Asian\",\"Asian\",\"Asian\",\"Asian\",\"Asian\",\"Asian\",\"Asian\",\"Asian\"],\"x_values\":[2372,2130,2130,2228,1773,1613,2278,2330,2288,2506,2100,2279,2379,2124,2807,1950,1836,1649,2003,2489,2391,2171,2702,2545,1795,1795,1990,2155,2930,2045,1945,2265,1985,2815,2720,1985,2070,1800,2560,2300,2515,2405,2135,1975,2020,1968,2019,2711,2542,2434,2265,2110,2110,1850,2145,2910,2420,2290,1755,1760,2065,1975,2050,1985,2210,2350,2615,2635,2900,2930,2025,1970,2160,2205,2245,1965,1965,1995,2665],\"y_values\":{\"__ndarray__\":\"AAAAAAAAOEAAAAAAAAA7QAAAAAAAADtAAAAAAAAAOUAAAAAAAAA/QAAAAAAAgEFAAAAAAAAAOEAAAAAAAAAzQAAAAAAAADxAAAAAAAAAN0AAAAAAAAA7QAAAAAAAADRAAAAAAAAANkAAAAAAAAAyQAAAAAAAADRAAAAAAAAAP0AAAAAAAABAQAAAAAAAAD9AAAAAAAAAQEAAAAAAAAA4QAAAAAAAADpAAAAAAAAAPUAAAAAAAAA4QAAAAAAAADhAAAAAAACAQEAAAAAAAIBAQAAAAAAAAEBAAAAAAAAAPEAAAAAAAAAzQAAAAAAAgD9AAAAAAADAQEAAAAAAAAA6QAAAAAAAAD5AAAAAAAAANkAAAAAAAIA1QGZmZmZmZkBAMzMzMzOzQ0DNzMzMzAxCQAAAAAAAgDtAMzMzMzMzO0CamZmZmRk1QGZmZmZm5jdAAAAAAACAPUDNzMzMzAxBQM3MzMzMzD9AzczMzMwMQ0CamZmZmZlCQM3MzMzMzD1AzczMzMxMP0AAAAAAAIBCQJqZmZmZGUBAzczMzMxMR0BmZmZmZmZEQM3MzMzMTEZAZmZmZmbmQECamZmZmVlAQDMzMzMzszdAMzMzMzMzQEDNzMzMzIxDQM3MzMzMjEFAZmZmZmYmQEAAAAAAAIBCQJqZmZmZ2UJAzczMzMwMQUCamZmZmdlAQDMzMzMzM0BAMzMzMzNzQECamZmZmZk/QGZmZmZmZjlAMzMzMzMzOEAAAAAAAIBCQAAAAAAAAD9AAAAAAAAAQkAAAAAAAABCQAAAAAAAAEFAAAAAAAAAQ0AAAAAAAABAQAAAAAAAAENAAAAAAAAAQEA=\",\"dtype\":\"float64\",\"shape\":[79]}}},\"id\":\"27d31b7b-7b50-4825-9186-2b856a8de778\",\"type\":\"ColumnDataSource\"},{\"attributes\":{},\"id\":\"2b0e122f-9e7c-4d6e-ac7b-c7de9e70b883\",\"type\":\"BasicTicker\"},{\"attributes\":{\"items\":[{\"id\":\"03ea1484-d71b-4764-af1d-99431346b9ba\",\"type\":\"LegendItem\"},{\"id\":\"ae5affac-6709-478b-8253-5cd6f1fc8c3d\",\"type\":\"LegendItem\"},{\"id\":\"27a63492-f85e-4e98-abfb-4c84684f1a89\",\"type\":\"LegendItem\"}],\"plot\":{\"id\":\"7af3bd1b-1cf9-45c0-b0ed-e2c5bd9d6ec2\",\"subtype\":\"Chart\",\"type\":\"Plot\"}},\"id\":\"9f02d929-64cd-4a16-bfbb-e83639bef6a2\",\"type\":\"Legend\"},{\"attributes\":{},\"id\":\"2906b4b2-228d-442c-a881-0b7dc68e5c15\",\"type\":\"BasicTickFormatter\"},{\"attributes\":{\"below\":[{\"id\":\"0487e1b8-d5dc-4d02-976e-7113e8048d97\",\"type\":\"LinearAxis\"}],\"css_classes\":null,\"height\":300,\"left\":[{\"id\":\"318707b7-ba6a-4437-83dc-22cc0e02a449\",\"type\":\"LinearAxis\"}],\"renderers\":[{\"id\":\"8a8c0b38-eafb-4c16-bb33-b13a9e2ee117\",\"type\":\"BoxAnnotation\"},{\"id\":\"be93d51c-aff5-44ea-99be-36f7422b9fc3\",\"type\":\"GlyphRenderer\"},{\"id\":\"85e5349c-d802-49c5-8a29-6913246f6a8f\",\"type\":\"GlyphRenderer\"},{\"id\":\"62ef758e-b077-4e0f-9122-b966b0b35f6e\",\"type\":\"GlyphRenderer\"},{\"id\":\"9f02d929-64cd-4a16-bfbb-e83639bef6a2\",\"type\":\"Legend\"},{\"id\":\"0487e1b8-d5dc-4d02-976e-7113e8048d97\",\"type\":\"LinearAxis\"},{\"id\":\"318707b7-ba6a-4437-83dc-22cc0e02a449\",\"type\":\"LinearAxis\"},{\"id\":\"41b19e1f-3d55-4853-97fb-e493771ad006\",\"type\":\"Grid\"},{\"id\":\"5c0ccc28-4105-4d92-a3a8-5561ed6307db\",\"type\":\"Grid\"}],\"title\":{\"id\":\"1e8bdfba-2e1c-40b2-b034-302d84e8ab63\",\"type\":\"Title\"},\"tool_events\":{\"id\":\"eb5c0ce3-1b8d-4a1d-b7ba-9a3f98fbe887\",\"type\":\"ToolEvents\"},\"toolbar\":{\"id\":\"20b475d1-1c80-46ee-8336-c9e3b8fabb4c\",\"type\":\"Toolbar\"},\"width\":600,\"x_mapper_type\":\"auto\",\"x_range\":{\"id\":\"2487664a-49ef-4363-af28-457db3edf963\",\"type\":\"Range1d\"},\"y_mapper_type\":\"auto\",\"y_range\":{\"id\":\"950fae84-4b6e-4129-bc60-4f2775fdf370\",\"type\":\"Range1d\"}},\"id\":\"7af3bd1b-1cf9-45c0-b0ed-e2c5bd9d6ec2\",\"subtype\":\"Chart\",\"type\":\"Plot\"}],\"root_ids\":[\"7af3bd1b-1cf9-45c0-b0ed-e2c5bd9d6ec2\"]},\"title\":\"Bokeh Application\",\"version\":\"0.12.5\"}};\n",
       "            var render_items = [{\"docid\":\"0dfe5676-f110-4bf3-afd8-117e02145797\",\"elementid\":\"f81bf064-ab6b-4ad7-ac90-ff373aca3b72\",\"modelid\":\"7af3bd1b-1cf9-45c0-b0ed-e2c5bd9d6ec2\"}];\n",
       "            \n",
       "            Bokeh.embed.embed_items(docs_json, render_items);\n",
       "          };\n",
       "          if (document.readyState != \"loading\") fn();\n",
       "          else document.addEventListener(\"DOMContentLoaded\", fn);\n",
       "        })();\n",
       "      },\n",
       "      function(Bokeh) {\n",
       "      }\n",
       "    ];\n",
       "  \n",
       "    function run_inline_js() {\n",
       "      \n",
       "      if ((window.Bokeh !== undefined) || (force === true)) {\n",
       "        for (var i = 0; i < inline_js.length; i++) {\n",
       "          inline_js[i](window.Bokeh);\n",
       "        }if (force === true) {\n",
       "          display_loaded();\n",
       "        }} else if (Date.now() < window._bokeh_timeout) {\n",
       "        setTimeout(run_inline_js, 100);\n",
       "      } else if (!window._bokeh_failed_load) {\n",
       "        console.log(\"Bokeh: BokehJS failed to load within specified timeout.\");\n",
       "        window._bokeh_failed_load = true;\n",
       "      } else if (force !== true) {\n",
       "        var cell = $(document.getElementById(\"f81bf064-ab6b-4ad7-ac90-ff373aca3b72\")).parents('.cell').data().cell;\n",
       "        cell.output_area.append_execute_result(NB_LOAD_WARNING)\n",
       "      }\n",
       "  \n",
       "    }\n",
       "  \n",
       "    if (window._bokeh_is_loading === 0) {\n",
       "      console.log(\"Bokeh: BokehJS loaded, going straight to plotting\");\n",
       "      run_inline_js();\n",
       "    } else {\n",
       "      load_libs(js_urls, function() {\n",
       "        console.log(\"Bokeh: BokehJS plotting callback run at\", now());\n",
       "        run_inline_js();\n",
       "      });\n",
       "    }\n",
       "  }(this));\n",
       "</script>"
      ]
     },
     "metadata": {},
     "output_type": "display_data"
    }
   ],
   "source": [
    "cars_sp = Scatter(autompg, x='weight', y='mpg', color='origin',\n",
    "                  width=600, height=300, legend='top_right',\n",
    "                  tooltips=tooltips)\n",
    "show(cars_sp)"
   ]
  },
  {
   "cell_type": "code",
   "execution_count": 6,
   "metadata": {
    "collapsed": true
   },
   "outputs": [],
   "source": [
    "car_subset = autompg[autompg.make.isin('Ford Volkswagen Honda'.split())]"
   ]
  },
  {
   "cell_type": "code",
   "execution_count": 7,
   "metadata": {},
   "outputs": [
    {
     "data": {
      "text/html": [
       "<div>\n",
       "<table border=\"1\" class=\"dataframe\">\n",
       "  <thead>\n",
       "    <tr style=\"text-align: right;\">\n",
       "      <th></th>\n",
       "      <th>mpg</th>\n",
       "      <th>cyl</th>\n",
       "      <th>displ</th>\n",
       "      <th>hp</th>\n",
       "      <th>weight</th>\n",
       "      <th>accel</th>\n",
       "      <th>yr</th>\n",
       "      <th>origin</th>\n",
       "      <th>name</th>\n",
       "      <th>make</th>\n",
       "    </tr>\n",
       "  </thead>\n",
       "  <tbody>\n",
       "    <tr>\n",
       "      <th>4</th>\n",
       "      <td>17.0</td>\n",
       "      <td>8</td>\n",
       "      <td>302.0</td>\n",
       "      <td>140</td>\n",
       "      <td>3449</td>\n",
       "      <td>10.5</td>\n",
       "      <td>70</td>\n",
       "      <td>American</td>\n",
       "      <td>ford torino</td>\n",
       "      <td>Ford</td>\n",
       "    </tr>\n",
       "    <tr>\n",
       "      <th>5</th>\n",
       "      <td>15.0</td>\n",
       "      <td>8</td>\n",
       "      <td>429.0</td>\n",
       "      <td>198</td>\n",
       "      <td>4341</td>\n",
       "      <td>10.0</td>\n",
       "      <td>70</td>\n",
       "      <td>American</td>\n",
       "      <td>ford galaxie 500</td>\n",
       "      <td>Ford</td>\n",
       "    </tr>\n",
       "    <tr>\n",
       "      <th>17</th>\n",
       "      <td>21.0</td>\n",
       "      <td>6</td>\n",
       "      <td>200.0</td>\n",
       "      <td>85</td>\n",
       "      <td>2587</td>\n",
       "      <td>16.0</td>\n",
       "      <td>70</td>\n",
       "      <td>American</td>\n",
       "      <td>ford maverick</td>\n",
       "      <td>Ford</td>\n",
       "    </tr>\n",
       "    <tr>\n",
       "      <th>19</th>\n",
       "      <td>26.0</td>\n",
       "      <td>4</td>\n",
       "      <td>97.0</td>\n",
       "      <td>46</td>\n",
       "      <td>1835</td>\n",
       "      <td>20.5</td>\n",
       "      <td>70</td>\n",
       "      <td>European</td>\n",
       "      <td>volkswagen 1131 deluxe sedan</td>\n",
       "      <td>Volkswagen</td>\n",
       "    </tr>\n",
       "    <tr>\n",
       "      <th>...</th>\n",
       "      <td>...</td>\n",
       "      <td>...</td>\n",
       "      <td>...</td>\n",
       "      <td>...</td>\n",
       "      <td>...</td>\n",
       "      <td>...</td>\n",
       "      <td>...</td>\n",
       "      <td>...</td>\n",
       "      <td>...</td>\n",
       "      <td>...</td>\n",
       "    </tr>\n",
       "    <tr>\n",
       "      <th>378</th>\n",
       "      <td>32.0</td>\n",
       "      <td>4</td>\n",
       "      <td>91.0</td>\n",
       "      <td>67</td>\n",
       "      <td>1965</td>\n",
       "      <td>15.7</td>\n",
       "      <td>82</td>\n",
       "      <td>Asian</td>\n",
       "      <td>honda civic (auto)</td>\n",
       "      <td>Honda</td>\n",
       "    </tr>\n",
       "    <tr>\n",
       "      <th>383</th>\n",
       "      <td>22.0</td>\n",
       "      <td>6</td>\n",
       "      <td>232.0</td>\n",
       "      <td>112</td>\n",
       "      <td>2835</td>\n",
       "      <td>14.7</td>\n",
       "      <td>82</td>\n",
       "      <td>American</td>\n",
       "      <td>ford granada l</td>\n",
       "      <td>Ford</td>\n",
       "    </tr>\n",
       "    <tr>\n",
       "      <th>387</th>\n",
       "      <td>27.0</td>\n",
       "      <td>4</td>\n",
       "      <td>140.0</td>\n",
       "      <td>86</td>\n",
       "      <td>2790</td>\n",
       "      <td>15.6</td>\n",
       "      <td>82</td>\n",
       "      <td>American</td>\n",
       "      <td>ford mustang gl</td>\n",
       "      <td>Ford</td>\n",
       "    </tr>\n",
       "    <tr>\n",
       "      <th>390</th>\n",
       "      <td>28.0</td>\n",
       "      <td>4</td>\n",
       "      <td>120.0</td>\n",
       "      <td>79</td>\n",
       "      <td>2625</td>\n",
       "      <td>18.6</td>\n",
       "      <td>82</td>\n",
       "      <td>American</td>\n",
       "      <td>ford ranger</td>\n",
       "      <td>Ford</td>\n",
       "    </tr>\n",
       "  </tbody>\n",
       "</table>\n",
       "<p>76 rows × 10 columns</p>\n",
       "</div>"
      ],
      "text/plain": [
       "      mpg  cyl  displ   hp  weight  accel  yr    origin  \\\n",
       "4    17.0    8  302.0  140    3449   10.5  70  American   \n",
       "5    15.0    8  429.0  198    4341   10.0  70  American   \n",
       "17   21.0    6  200.0   85    2587   16.0  70  American   \n",
       "19   26.0    4   97.0   46    1835   20.5  70  European   \n",
       "..    ...  ...    ...  ...     ...    ...  ..       ...   \n",
       "378  32.0    4   91.0   67    1965   15.7  82     Asian   \n",
       "383  22.0    6  232.0  112    2835   14.7  82  American   \n",
       "387  27.0    4  140.0   86    2790   15.6  82  American   \n",
       "390  28.0    4  120.0   79    2625   18.6  82  American   \n",
       "\n",
       "                             name        make  \n",
       "4                     ford torino        Ford  \n",
       "5                ford galaxie 500        Ford  \n",
       "17                  ford maverick        Ford  \n",
       "19   volkswagen 1131 deluxe sedan  Volkswagen  \n",
       "..                            ...         ...  \n",
       "378            honda civic (auto)       Honda  \n",
       "383                ford granada l        Ford  \n",
       "387               ford mustang gl        Ford  \n",
       "390                   ford ranger        Ford  \n",
       "\n",
       "[76 rows x 10 columns]"
      ]
     },
     "execution_count": 7,
     "metadata": {},
     "output_type": "execute_result"
    }
   ],
   "source": [
    "car_subset"
   ]
  },
  {
   "cell_type": "markdown",
   "metadata": {},
   "source": [
    "### R Magic"
   ]
  },
  {
   "cell_type": "code",
   "execution_count": 8,
   "metadata": {
    "collapsed": true
   },
   "outputs": [],
   "source": [
    "import warnings\n",
    "warnings.filterwarnings('ignore')"
   ]
  },
  {
   "cell_type": "code",
   "execution_count": 9,
   "metadata": {
    "collapsed": true
   },
   "outputs": [],
   "source": [
    "import rpy2"
   ]
  },
  {
   "cell_type": "code",
   "execution_count": 10,
   "metadata": {
    "collapsed": true
   },
   "outputs": [],
   "source": [
    "%load_ext rpy2.ipython"
   ]
  },
  {
   "cell_type": "code",
   "execution_count": 11,
   "metadata": {},
   "outputs": [
    {
     "data": {
      "text/plain": [
       "array([1], dtype=int32)"
      ]
     },
     "execution_count": 11,
     "metadata": {},
     "output_type": "execute_result"
    }
   ],
   "source": [
    "%R require(ggplot2)"
   ]
  },
  {
   "cell_type": "code",
   "execution_count": 12,
   "metadata": {},
   "outputs": [
    {
     "data": {
      "image/png": "[encoded data removed]"
     },
     "metadata": {},
     "output_type": "display_data"
    }
   ],
   "source": [
    "%%R -i car_subset -w 8 -h 4 -u in\n",
    "ggplot(data=car_subset) +\n",
    "    geom_point(aes(x=weight,y=mpg,color=origin,size=displ)) +\n",
    "    labs(title='Representative manufacturers from 1970-1982')"
   ]
  },
  {
   "cell_type": "code",
   "execution_count": 13,
   "metadata": {},
   "outputs": [
    {
     "data": {
      "image/png": "[encoded data removed]"
     },
     "metadata": {},
     "output_type": "display_data"
    }
   ],
   "source": [
    "%%R -w 8 -h 4 -u in\n",
    "efficiency <- lm(mpg ~ weight + displ + cyl + hp,\n",
    "                data=car_subset)\n",
    "\n",
    "library(dplyr)\n",
    "library(tidyr)\n",
    "\n",
    "car_subset %>% filter(weight < 2500) %>%\n",
    "    ggplot(aes(x=weight,y=mpg,color=origin,size=displ)) +\n",
    "    geom_smooth(se=FALSE) + geom_point() +\n",
    "    labs(title='Representative manufacturers from 1970-1982')"
   ]
  },
  {
   "cell_type": "code",
   "execution_count": 14,
   "metadata": {
    "collapsed": true
   },
   "outputs": [],
   "source": [
    "%R -i autompg"
   ]
  },
  {
   "cell_type": "code",
   "execution_count": 15,
   "metadata": {},
   "outputs": [
    {
     "data": {
      "image/png": "[encoded data removed]"
     },
     "metadata": {},
     "output_type": "display_data"
    }
   ],
   "source": [
    "%%R -i autompg -w 8 -h 4 -u in\n",
    "efficiency = lm(mpg ~ weight + displ + cyl + hp,\n",
    "                data=autompg)\n",
    "\n",
    "library(dplyr)\n",
    "library(tidyr)\n",
    "\n",
    "autompg %>% filter(weight < 2500) %>%\n",
    "    ggplot(aes(x=weight,y=mpg,color=origin,size=displ)) +\n",
    "    geom_smooth(se=FALSE) + geom_point() +\n",
    "    labs(title='Representative manufacturers from 1970-1982')"
   ]
  },
  {
   "cell_type": "code",
   "execution_count": 16,
   "metadata": {
    "collapsed": true
   },
   "outputs": [],
   "source": [
    "%%R\n",
    "X = c(1,4,5,7)\n",
    "s <- sd(X)\n",
    "m <- mean(X)"
   ]
  },
  {
   "cell_type": "code",
   "execution_count": 17,
   "metadata": {
    "collapsed": true
   },
   "outputs": [],
   "source": [
    "%Rpull X s m"
   ]
  },
  {
   "cell_type": "code",
   "execution_count": 18,
   "metadata": {},
   "outputs": [
    {
     "data": {
      "text/plain": [
       "array([ 1.,  4.,  5.,  7.])"
      ]
     },
     "execution_count": 18,
     "metadata": {},
     "output_type": "execute_result"
    }
   ],
   "source": [
    "X"
   ]
  },
  {
   "cell_type": "code",
   "execution_count": 19,
   "metadata": {},
   "outputs": [
    {
     "data": {
      "text/plain": [
       "numpy.ndarray"
      ]
     },
     "execution_count": 19,
     "metadata": {},
     "output_type": "execute_result"
    }
   ],
   "source": [
    "type(X)"
   ]
  },
  {
   "cell_type": "code",
   "execution_count": 20,
   "metadata": {},
   "outputs": [
    {
     "data": {
      "text/plain": [
       "array([ 2.5])"
      ]
     },
     "execution_count": 20,
     "metadata": {},
     "output_type": "execute_result"
    }
   ],
   "source": [
    "s"
   ]
  },
  {
   "cell_type": "code",
   "execution_count": 21,
   "metadata": {},
   "outputs": [
    {
     "data": {
      "text/plain": [
       "numpy.ndarray"
      ]
     },
     "execution_count": 21,
     "metadata": {},
     "output_type": "execute_result"
    }
   ],
   "source": [
    "type(s)"
   ]
  },
  {
   "cell_type": "code",
   "execution_count": 22,
   "metadata": {},
   "outputs": [
    {
     "data": {
      "text/plain": [
       "array([ 4.25])"
      ]
     },
     "execution_count": 22,
     "metadata": {},
     "output_type": "execute_result"
    }
   ],
   "source": [
    "m"
   ]
  },
  {
   "cell_type": "code",
   "execution_count": 23,
   "metadata": {
    "collapsed": true
   },
   "outputs": [],
   "source": [
    "import numpy as np\n",
    "\n",
    "Y = np.array([4.5,6.3,7.9])"
   ]
  },
  {
   "cell_type": "code",
   "execution_count": 24,
   "metadata": {},
   "outputs": [
    {
     "data": {
      "text/plain": [
       "array([ 4.5,  6.3,  7.9])"
      ]
     },
     "execution_count": 24,
     "metadata": {},
     "output_type": "execute_result"
    }
   ],
   "source": [
    "Y"
   ]
  },
  {
   "cell_type": "code",
   "execution_count": 25,
   "metadata": {
    "collapsed": true
   },
   "outputs": [],
   "source": [
    "%Rpush Y"
   ]
  },
  {
   "cell_type": "code",
   "execution_count": 26,
   "metadata": {
    "collapsed": true
   },
   "outputs": [],
   "source": [
    "%%R -o sy,my\n",
    "\n",
    "sy <- sd(Y)\n",
    "my <- mean(Y)"
   ]
  },
  {
   "cell_type": "code",
   "execution_count": 27,
   "metadata": {},
   "outputs": [
    {
     "data": {
      "text/plain": [
       "array([ 1.70098011])"
      ]
     },
     "execution_count": 27,
     "metadata": {},
     "output_type": "execute_result"
    }
   ],
   "source": [
    "sy"
   ]
  },
  {
   "cell_type": "code",
   "execution_count": 28,
   "metadata": {},
   "outputs": [
    {
     "data": {
      "text/plain": [
       "array([ 6.23333333])"
      ]
     },
     "execution_count": 28,
     "metadata": {},
     "output_type": "execute_result"
    }
   ],
   "source": [
    "my"
   ]
  },
  {
   "cell_type": "markdown",
   "metadata": {},
   "source": [
    "### rpy2.robjects"
   ]
  },
  {
   "cell_type": "code",
   "execution_count": 29,
   "metadata": {
    "collapsed": true
   },
   "outputs": [],
   "source": [
    "import rpy2.robjects as ro"
   ]
  },
  {
   "cell_type": "code",
   "execution_count": 30,
   "metadata": {},
   "outputs": [
    {
     "data": {
      "text/plain": [
       "array([ 18.84955592])"
      ]
     },
     "execution_count": 30,
     "metadata": {},
     "output_type": "execute_result"
    }
   ],
   "source": [
    "ro.r('''\n",
    "        # create a function `f`\n",
    "        f <- function(r, verbose=FALSE) {\n",
    "            if (verbose) {\n",
    "                cat(\"I am calling f().\\n\")\n",
    "            }\n",
    "            2 * pi * r\n",
    "        }\n",
    "        # call the function `f` with argument value 3\n",
    "        f(3)\n",
    "        ''')"
   ]
  },
  {
   "cell_type": "code",
   "execution_count": 31,
   "metadata": {
    "collapsed": true
   },
   "outputs": [],
   "source": [
    "r_f = ro.r['f']"
   ]
  },
  {
   "cell_type": "code",
   "execution_count": 32,
   "metadata": {},
   "outputs": [
    {
     "data": {
      "text/plain": [
       "R object with classes: ('numeric',) mapped to:\n",
       "<FloatVector - Python:0x00000203139D7A48 / R:0x000002031520D150>\n",
       "[62.831853]"
      ]
     },
     "execution_count": 32,
     "metadata": {},
     "output_type": "execute_result"
    }
   ],
   "source": [
    "r_f(10)"
   ]
  },
  {
   "cell_type": "code",
   "execution_count": 33,
   "metadata": {
    "collapsed": true
   },
   "outputs": [],
   "source": [
    "result = r_f(10)"
   ]
  },
  {
   "cell_type": "code",
   "execution_count": 34,
   "metadata": {},
   "outputs": [
    {
     "data": {
      "text/plain": [
       "R object with classes: ('numeric',) mapped to:\n",
       "<FloatVector - Python:0x0000020311316B88 / R:0x000002031520D030>\n",
       "[62.831853]"
      ]
     },
     "execution_count": 34,
     "metadata": {},
     "output_type": "execute_result"
    }
   ],
   "source": [
    "result"
   ]
  },
  {
   "cell_type": "code",
   "execution_count": 35,
   "metadata": {},
   "outputs": [
    {
     "data": {
      "text/plain": [
       "R object with classes: ('numeric',) mapped to:\n",
       "<FloatVector - Python:0x000002031134F3C8 / R:0x00000203150EF0B8>\n",
       "[62.831853, 5.000000]"
      ]
     },
     "execution_count": 35,
     "metadata": {},
     "output_type": "execute_result"
    }
   ],
   "source": [
    "result + 5"
   ]
  },
  {
   "cell_type": "code",
   "execution_count": 36,
   "metadata": {},
   "outputs": [
    {
     "data": {
      "text/plain": [
       "62.83185307179586"
      ]
     },
     "execution_count": 36,
     "metadata": {},
     "output_type": "execute_result"
    }
   ],
   "source": [
    "result[0]"
   ]
  },
  {
   "cell_type": "markdown",
   "metadata": {},
   "source": [
    "Read more in the [rpy2 Introduction](http://rpy2.readthedocs.io/en/version_2.8.x/introduction.html)"
   ]
  },
  {
   "cell_type": "code",
   "execution_count": null,
   "metadata": {
    "collapsed": true
   },
   "outputs": [],
   "source": []
  }
 ],
 "metadata": {
  "anaconda-cloud": {},
  "kernelspec": {
   "display_name": "R",
   "language": "R",
   "name": "ir"
  },
  "language_info": {
   "codemirror_mode": "r",
   "file_extension": ".r",
   "mimetype": "text/x-r-source",
   "name": "R",
   "pygments_lexer": "r",
   "version": "3.5.0"
  }
 },
 "nbformat": 4,
 "nbformat_minor": 1
}
