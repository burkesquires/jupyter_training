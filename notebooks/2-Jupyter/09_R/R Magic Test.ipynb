{
 "cells": [
  {
   "cell_type": "code",
   "execution_count": 1,
   "metadata": {
    "collapsed": false
   },
   "outputs": [
    {
     "data": {
      "text/plain": [
       "0"
      ]
     },
     "execution_count": 1,
     "metadata": {},
     "output_type": "execute_result"
    }
   ],
   "source": [
    "import rpy2.rinterface as rinterface\n",
    "rinterface.initr()"
   ]
  },
  {
   "cell_type": "code",
   "execution_count": 2,
   "metadata": {
    "collapsed": true
   },
   "outputs": [],
   "source": [
    "%load_ext rpy2.ipython"
   ]
  },
  {
   "cell_type": "code",
   "execution_count": 3,
   "metadata": {
    "collapsed": false
   },
   "outputs": [],
   "source": [
    "%%R\n",
    "library(polspline)"
   ]
  },
  {
   "cell_type": "code",
   "execution_count": 4,
   "metadata": {
    "collapsed": false
   },
   "outputs": [
    {
     "data": {
      "image/png": "[encoded data removed]"
     },
     "metadata": {},
     "output_type": "display_data"
    }
   ],
   "source": [
    "%%R\n",
    "data(iris)\n",
    "fit.iris <- polyclass(iris[,5], iris[,1:4])\n",
    "beta.polyclass(fit.iris)\n",
    "# this output is a plot and is correctly output to the jupyter notebook"
   ]
  },
  {
   "cell_type": "code",
   "execution_count": 5,
   "metadata": {
    "collapsed": false
   },
   "outputs": [],
   "source": [
    "%%R\n",
    "fit.iris"
   ]
  },
  {
   "cell_type": "code",
   "execution_count": 6,
   "metadata": {
    "collapsed": false,
    "scrolled": true
   },
   "outputs": [
    {
     "data": {
      "text/plain": [
       "R object with classes: ('polyclass',) mapped to:\n",
       "<ListVector - Python:0x0000020FEA94FDC8 / R:0x0000020FEBEBCBE8>\n",
       "[Vector, IntVe..., IntVe..., ..., Matrix, Float..., Matrix]\n",
       "  call: <class 'rpy2.robjects.vectors.Vector'>\n",
       "  R object with classes: ('polyclass',) mapped to:\n",
       "<Vector - Python:0x0000020FEF3F0E48 / R:0x0000020FECADCAF0>\n",
       "[RNULLType, Vector, Vector]\n",
       "  ncov: <class 'rpy2.robjects.vectors.IntVector'>\n",
       "  R object with classes: ('integer',) mapped to:\n",
       "<IntVector - Python:0x0000020FEF3F01C8 / R:0x0000020FEBE4D7D0>\n",
       "[       4]\n",
       "  ndim: <class 'rpy2.robjects.vectors.IntVector'>\n",
       "  R object with classes: ('integer',) mapped to:\n",
       "<IntVector - Python:0x0000020FEF3D7CC8 / R:0x0000020FEB3399E8>\n",
       "[       6]\n",
       "  ...\n",
       "  call: <class 'rpy2.robjects.vectors.Matrix'>\n",
       "  R object with classes: ('matrix',) mapped to:\n",
       "<Matrix - Python:0x0000020FEF3D7888 / R:0x0000020FEB281968>\n",
       "[-33.974295, -53.316040, -3.293011, ..., 11.429183, 31.717781, 5.615629]\n",
       "  ncov: <class 'rpy2.robjects.vectors.FloatVector'>\n",
       "  R object with classes: ('numeric',) mapped to:\n",
       "<FloatVector - Python:0x0000020FEF3F1C08 / R:0x0000020FEAB6ED78>\n",
       "[2.000000]\n",
       "  ndim: <class 'rpy2.robjects.vectors.Matrix'>\n",
       "  R object with classes: ('matrix',) mapped to:\n",
       "<Matrix - Python:0x0000020FEF3F1CC8 / R:0x0000020FEBD3E738>\n",
       "[NA_real_, 3.000000, 4.000000, ..., 0.291285, 0.700955, 0.007760]"
      ]
     },
     "execution_count": 6,
     "metadata": {},
     "output_type": "execute_result"
    }
   ],
   "source": [
    "%R fit.iris\n",
    "# this output is just text and should be printed in the jupyter notebook but it's going to the console."
   ]
  },
  {
   "cell_type": "code",
   "execution_count": 9,
   "metadata": {
    "collapsed": true
   },
   "outputs": [],
   "source": [
    "%%R\n",
    "s <- capture.output({fit.iris})"
   ]
  },
  {
   "cell_type": "code",
   "execution_count": 10,
   "metadata": {
    "collapsed": false
   },
   "outputs": [
    {
     "data": {
      "text/plain": [
       "array(['========================POLYCLASS summary=======================',\n",
       "       'The fit was obtained with',\n",
       "       '  \\x08\\x08polyclass(data = iris[, 5], cov = iris[, 1:4])',\n",
       "       'There were 3 classes and 4 covariates.', 'There were 150 cases.',\n",
       "       '', 'The model selection was carried out using AIC.',\n",
       "       'The penalty was the default, log(150 \\x08)=5.01 \\x08.',\n",
       "       'The model had dimension 6 \\x08, log-likelihood -10.28 and AIC -50.63 \\x08.',\n",
       "       '', 'The locations of the knots:', '  Number', '1      0',\n",
       "       '2      0', '3      0', '4      0', '',\n",
       "       '  There are 3 basis functions, summarized below:',\n",
       "       '  dim1 knot1 dim2 knot2 Class 1 Class 2 Class 3',\n",
       "       '1   NA    NA   NA    NA 150.289  45.263       0',\n",
       "       '2    3    NA   NA    NA -48.331  -5.752       0',\n",
       "       '3    4    NA   NA    NA -11.727 -10.449       0',\n",
       "       'The first basis function is the constant function. For all others,',\n",
       "       'the first column and the third column indicate on which covariates',\n",
       "       'that basis function depends. If the third column is NA, the basis',\n",
       "       'function depends on only one covariate.',\n",
       "       'For the nonconstant basis functions the second and the fourth column',\n",
       "       'indicate on which knot the function depend. If these columns are NA,',\n",
       "       'the basis function is linear in this covariate.',\n",
       "       'The remaining columns give the coefficients.', '',\n",
       "       '================================================================',\n",
       "       'The influence of the penalty parameter is summarized below:',\n",
       "       ' dim     AIC l-lik-trn loss-trn sq-err-trn A/D pen-min pen-max',\n",
       "       '   2 339.605    -1.099    0.667      0.444   1 148.081     Inf',\n",
       "       '   4  53.464    -0.111    0.040      0.033   0   6.429 148.081',\n",
       "       '   6  50.627    -0.069    0.040      0.023   0   3.649   6.429',\n",
       "       '   8  53.351    -0.044    0.020      0.015   0   0.000   3.649',\n",
       "       '  10  63.372    -0.044    0.020      0.015   1   0.000   0.000',\n",
       "       '================================================================',\n",
       "       'The importance-anova decomposition is:', ' Cov-1 Cov-2 Percentage',\n",
       "       '    NA    NA      29.13', '     3    NA      70.10',\n",
       "       '     4    NA       0.78',\n",
       "       '================================================================'], \n",
       "      dtype='<U68')"
      ]
     },
     "execution_count": 10,
     "metadata": {},
     "output_type": "execute_result"
    }
   ],
   "source": [
    "%R s"
   ]
  },
  {
   "cell_type": "code",
   "execution_count": null,
   "metadata": {
    "collapsed": true
   },
   "outputs": [],
   "source": []
  }
 ],
 "metadata": {
  "kernelspec": {
   "display_name": "Python 3",
   "language": "python",
   "name": "python3"
  },
  "language_info": {
   "codemirror_mode": {
    "name": "ipython",
    "version": 3
   },
   "file_extension": ".py",
   "mimetype": "text/x-python",
   "name": "python",
   "nbconvert_exporter": "python",
   "pygments_lexer": "ipython3",
   "version": "3.6.1"
  }
 },
 "nbformat": 4,
 "nbformat_minor": 2
}
