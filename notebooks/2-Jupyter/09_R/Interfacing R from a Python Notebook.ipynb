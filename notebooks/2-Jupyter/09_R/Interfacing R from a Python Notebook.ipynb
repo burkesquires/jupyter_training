{
 "cells": [
  {
   "cell_type": "markdown",
   "metadata": {},
   "source": [
    "# Interfacing R from a Python 3 Jupyter Notebook\n",
    "Jared Stufft, 12-19-2017\n",
    "\n",
    "Python and R are two giants in the analytics world for data cleaning, pipelines, machine learning/statistical modeling, and data visualization. As data scientists, analysts, or statisticians, we often choose the tool that allows us to perform the task at hand in the quickest and most accurate way possible. For some, that means Python. For others, that means R. For many, myself included, that means a combination of the two.\n",
    "\n",
    "The problem then arises that it takes valuable development and analysis time to switch between these two languages, passing your data and models through .csv files or through a database system. Fortunately, there's a solution that allows data professionals to quickly and easily interface R and Python together in one single Jupyter notebook.\n",
    "\n",
    "This notebook provides a simple introduction to calling R code from a Python 3 kernel Jupyter notebook using the rpy2 library and magic commands."
   ]
  },
  {
   "cell_type": "markdown",
   "metadata": {},
   "source": [
    "## Libraries Needed\n",
    "If you're using the Anaconda distribution of Python, all you need to do is type '**conda install rpy2**' into the Anaconda terminal. You may also need to download Anaconda's R distribution, which can easily be found within the Anaconda Navigator.\n",
    "\n",
    "Within your notebook, you'll import the **rpy2.rinterface** library:"
   ]
  },
  {
   "cell_type": "code",
   "execution_count": 2,
   "metadata": {},
   "outputs": [
    {
     "name": "stdout",
     "output_type": "stream",
     "text": [
      "Solving environment: done\n",
      "\n",
      "## Package Plan ##\n",
      "\n",
      "  environment location: /Users/squiresrb/anaconda3\n",
      "\n",
      "  added / updated specs: \n",
      "    - rpy2\n",
      "\n",
      "\n",
      "The following packages will be downloaded:\n",
      "\n",
      "    package                    |            build\n",
      "    ---------------------------|-----------------\n",
      "    r-blob-1.1.0               |   r343h889e2dd_0          18 KB\n",
      "    pango-1.41.0               |       h3bae10e_0         533 KB\n",
      "    r-rsqlite-2.0              |   r343he124285_0         1.0 MB\n",
      "    r-bit64-0.9_7              |   r343h7f474d2_0         472 KB\n",
      "    rpy2-2.9.1                 |py36r343hdec3cde_0         263 KB\n",
      "    fontconfig-2.12.6          |       h9850fc5_0         250 KB\n",
      "    r-memoise-1.1.0            |   r343h889e2dd_0          33 KB\n",
      "    harfbuzz-1.7.6             |       h171471c_1         665 KB\n",
      "    r-bit-1.1_12               |   r343h7f474d2_0         228 KB\n",
      "    cairo-1.14.12              |       he60d9cb_2         1.2 MB\n",
      "    ------------------------------------------------------------\n",
      "                                           Total:         4.7 MB\n",
      "\n",
      "The following NEW packages will be INSTALLED:\n",
      "\n",
      "    _r-mutex:        1.0.0-anacondar_1       \n",
      "    bwidget:         1.9.11-0                \n",
      "    cairo:           1.14.12-he60d9cb_2      \n",
      "    cctools:         895-h7512d6f_0          \n",
      "    clang:           4.0.1-h662ec87_0        \n",
      "    clang_osx-64:    4.0.1-h1ce6c1d_11       \n",
      "    clangxx:         4.0.1-hc9b4283_0        \n",
      "    clangxx_osx-64:  4.0.1-h22b1bf0_11       \n",
      "    compiler-rt:     4.0.1-h5487866_0        \n",
      "    fontconfig:      2.12.6-h9850fc5_0       \n",
      "    gfortran_osx-64: 4.8.5-h22b1bf0_3        \n",
      "    graphite2:       1.3.11-h2098e52_2       \n",
      "    gsl:             2.4-h1de35cc_4          \n",
      "    harfbuzz:        1.7.6-h171471c_1        \n",
      "    krb5:            1.14.2-h9a779f2_6       \n",
      "    ld64:            274.2-h7c2db76_0        \n",
      "    llvm:            4.0.1-hc748206_0        \n",
      "    llvm-lto-tapi:   4.0.1-h6701bc3_0        \n",
      "    llvm-openmp:     4.0.1-hda82c8b_0        \n",
      "    pango:           1.41.0-h3bae10e_0       \n",
      "    pixman:          0.34.0-hca0a616_3       \n",
      "    r-assertthat:    0.2.0-r343h889e2dd_0    \n",
      "    r-base:          3.4.3-h9b62496_0        \n",
      "    r-bh:            1.65.0_1-r343h889e2dd_0 \n",
      "    r-bindr:         0.1-r343h889e2dd_0      \n",
      "    r-bindrcpp:      0.2-r343he124285_0      \n",
      "    r-bit:           1.1_12-r343h7f474d2_0   \n",
      "    r-bit64:         0.9_7-r343h7f474d2_0    \n",
      "    r-blob:          1.1.0-r343h889e2dd_0    \n",
      "    r-cli:           1.0.0-r343h889e2dd_0    \n",
      "    r-crayon:        1.3.4-r343h889e2dd_0    \n",
      "    r-dbi:           0.7-r343h889e2dd_0      \n",
      "    r-dbplyr:        1.1.0-r343h889e2dd_0    \n",
      "    r-digest:        0.6.13-r343h7f474d2_0   \n",
      "    r-dplyr:         0.7.4-r343he124285_0    \n",
      "    r-glue:          1.2.0-r343h7f474d2_0    \n",
      "    r-magrittr:      1.5-r343h889e2dd_4      \n",
      "    r-memoise:       1.1.0-r343h889e2dd_0    \n",
      "    r-pillar:        1.0.1-r343h889e2dd_0    \n",
      "    r-pkgconfig:     2.0.1-r343h889e2dd_0    \n",
      "    r-plogr:         0.1_1-r343h889e2dd_0    \n",
      "    r-purrr:         0.2.4-r343h7f474d2_0    \n",
      "    r-r6:            2.2.2-r343h889e2dd_0    \n",
      "    r-rcpp:          0.12.14-r343he124285_0  \n",
      "    r-rlang:         0.1.6-r343h7f474d2_0    \n",
      "    r-rsqlite:       2.0-r343he124285_0      \n",
      "    r-tibble:        1.4.1-r343h7f474d2_0    \n",
      "    r-utf8:          1.1.2-r343h7f474d2_0    \n",
      "    rpy2:            2.9.1-py36r343hdec3cde_0\n",
      "    tktable:         2.10-h1de35cc_0         \n",
      "\n",
      "The following packages will be DOWNGRADED:\n",
      "\n",
      "    libedit:         3.1.20170329-hb402a30_2  --> 3.1-hb4e282d_0\n",
      "    ncurses:         6.1-h0a44026_0           --> 6.0-hd04f020_2\n",
      "\n",
      "\n",
      "Downloading and Extracting Packages\n",
      "r-blob-1.1.0         |   18 KB | ####################################### | 100% \n",
      "pango-1.41.0         |  533 KB | ####################################### | 100% \n",
      "r-rsqlite-2.0        |  1.0 MB | ####################################### | 100% \n",
      "r-bit64-0.9_7        |  472 KB | ####################################### | 100% \n",
      "rpy2-2.9.1           |  263 KB | ####################################### | 100% \n",
      "fontconfig-2.12.6    |  250 KB | ####################################### | 100% \n",
      "r-memoise-1.1.0      |   33 KB | ####################################### | 100% \n",
      "harfbuzz-1.7.6       |  665 KB | ####################################### | 100% \n",
      "r-bit-1.1_12         |  228 KB | ####################################### | 100% \n",
      "cairo-1.14.12        |  1.2 MB | ####################################### | 100% \n",
      "Preparing transaction: done\n",
      "Verifying transaction: done\n",
      "Executing transaction: done\n"
     ]
    }
   ],
   "source": [
    "!conda install -y rpy2"
   ]
  },
  {
   "cell_type": "code",
   "execution_count": 3,
   "metadata": {},
   "outputs": [],
   "source": [
    "import rpy2.rinterface\n",
    "\n",
    "# A few other standard libraries for this notebook\n",
    "import pandas as pd\n",
    "import numpy as np\n",
    "import seaborn as sns\n",
    "import matplotlib.pyplot as plt"
   ]
  },
  {
   "cell_type": "markdown",
   "metadata": {},
   "source": [
    "## Magic Commands\n",
    "A really useful feature of IPython and Jupyter notebooks are magic commands. These commands, prefaced with a '%', add some extra power over top of the typical Python syntax to solve common problems that may arise. A more comprehensive guide to magic commands can be found in the IPython docs here: http://ipython.readthedocs.io/en/stable/interactive/magics.html\n",
    "\n",
    "The two magic commands we'll be most focused on for this notebook is **%load_ext** and **%%R**.\n",
    "\n",
    "The **%load_ext** magic command loads the rpy2 IPython extension into the notebook, essentially initializing the R interface and allowing the notebook to connect and pass objects between the two languages. This magic command needs only to be run once:"
   ]
  },
  {
   "cell_type": "code",
   "execution_count": 4,
   "metadata": {},
   "outputs": [],
   "source": [
    "%load_ext rpy2.ipython"
   ]
  },
  {
   "cell_type": "markdown",
   "metadata": {},
   "source": [
    "Now that the extension is loaded, putting the **%%R** magic command at the very top of a code cell will allow us to write our R code:"
   ]
  },
  {
   "cell_type": "code",
   "execution_count": 5,
   "metadata": {},
   "outputs": [
    {
     "data": {
      "image/png": "[encoded data removed]"
     },
     "metadata": {},
     "output_type": "display_data"
    }
   ],
   "source": [
    "%%R\n",
    "# ^ Tells the notebook that this code cell is actually R\n",
    "\n",
    "# Now we can write R code as if this were an R notebook\n",
    "X_vals <- c(1, 2, 3, 4, 5)\n",
    "y_vals <- c(1, 2, 4, 8, 16)\n",
    "\n",
    "plot(X_vals, y_vals,\n",
    "     col='purple', pch=12,\n",
    "     main='R plot in Python')"
   ]
  },
  {
   "cell_type": "markdown",
   "metadata": {},
   "source": [
    "## Passing Objects Between Python and R\n",
    "\n",
    "Of course, the largest benefit is that we can create or manipulate objects/data in one language, pass it to the other, and then run more operations. As Python is still pretty young in the analytics world, I tend to use R for more niche statistical methods such as survival analysis. On the other hand, I prefer Python for data manipulation and machine learning. The rpy2 interface allows you to use a language for one action, pass the object to the other language, and complete your calculations.\n",
    "\n",
    "There's a couple dedicated magic commands to do this such as **%Rget** and **%Rpush**, but I prefer the **-i** and **-o** options in the **%%R** magic command. A variable listed after **-i** on the **%%R** line will be inputted and converted to an R object from Python. Likewise, a variable listed after **-o** on the **%%R** line will be outputted and converted from an R object to a Python object.\n",
    "\n",
    "**NOTE:** I use Windows OS. I experience issues printing R objects with an **%%R** designated code block - it appears in the IPython console opened up by Jupyter but not within the notebook itself. I've been told that this is not an issue with Mac OS, as the rpy2 interface works a touch better there. To get around this, I just output R variables I'd like to print to a Python object and print there."
   ]
  },
  {
   "cell_type": "code",
   "execution_count": 6,
   "metadata": {},
   "outputs": [
    {
     "name": "stdout",
     "output_type": "stream",
     "text": [
      "     A  B\n",
      "0    2  1\n",
      "1    3  3\n",
      "2    5  4\n",
      "3    7  5\n",
      "4    8  5\n",
      "5   10  7\n",
      "6    6  4\n",
      "7    7  6\n",
      "8    1  2\n",
      "9    4  3\n",
      "10   2  1\n",
      "11   3  5\n",
      "12   5  6\n",
      "13   8  7\n"
     ]
    }
   ],
   "source": [
    "# Python to R\n",
    "\n",
    "# Create a pandas dataframe in Python\n",
    "python_df = pd.DataFrame({'A': [2, 3, 5, 7, 8, 10, 6, 7, 1, 4, 2, 3, 5, 8],\n",
    "                          'B': [1, 3, 4, 5, 5, 7, 4, 6, 2, 3, 1, 5, 6, 7]})\n",
    "\n",
    "print(python_df)"
   ]
  },
  {
   "cell_type": "code",
   "execution_count": 7,
   "metadata": {},
   "outputs": [
    {
     "data": {
      "image/png": "[encoded data removed]"
     },
     "metadata": {},
     "output_type": "display_data"
    }
   ],
   "source": [
    "%%R -i python_df\n",
    "# ^ Pass the dataframe to R using the -i option for %%R\n",
    "\n",
    "# Using R's plot function\n",
    "plot(python_df,\n",
    "     main='Plotting a Python Dataframe in R',\n",
    "     col='purple',\n",
    "     pch=9)"
   ]
  },
  {
   "cell_type": "code",
   "execution_count": 8,
   "metadata": {},
   "outputs": [],
   "source": [
    "%%R -o model -o coef\n",
    "# R to Python\n",
    "# the python_df variable is still in the R\n",
    "# We can output the model object we create using the -o options\n",
    "\n",
    "# Creating a linear model on the Python DF using R's lm() function\n",
    "model <- lm(B ~ A, data=python_df)\n",
    "coef <- model$coefficients"
   ]
  },
  {
   "cell_type": "code",
   "execution_count": 9,
   "metadata": {},
   "outputs": [
    {
     "name": "stdout",
     "output_type": "stream",
     "text": [
      "\n",
      "Call:\n",
      "lm(formula = B ~ A, data = python_df)\n",
      "\n",
      "Coefficients:\n",
      "(Intercept)            A  \n",
      "     1.0203       0.6298  \n",
      "\n",
      "\n",
      "<class 'rpy2.robjects.vectors.ListVector'>\n",
      "(Intercept)           A \n",
      "  1.0203160   0.6297968 \n",
      "\n",
      "<class 'rpy2.robjects.vectors.FloatVector'>\n",
      "[1.0203160270880376, 0.6297968397291195]\n"
     ]
    }
   ],
   "source": [
    "# Show the model output as in R\n",
    "print(model)\n",
    "print(type(model))\n",
    "\n",
    "# Model coefficients\n",
    "print(coef)\n",
    "print(type(coef))\n",
    "\n",
    "# The rpy2 objects can be turned into more native Python data structures\n",
    "print(list(coef))"
   ]
  },
  {
   "cell_type": "code",
   "execution_count": 10,
   "metadata": {},
   "outputs": [],
   "source": [
    "%%R -o cars_df\n",
    "# Another R to Python example\n",
    "\n",
    "# R has a built-in library of sample datasets\n",
    "library(datasets)\n",
    "\n",
    "cars_df <- cars\n",
    "\n",
    "# Using the -o function from above, we can output the cars_df dataframe to Python"
   ]
  },
  {
   "cell_type": "markdown",
   "metadata": {},
   "source": [
    "**NOTE:** An R convention is to use a dot as a delineation for object names, where in Python it's customary to use an underscore. E.g. In R, we might call the cars dataframe 'cars.df', where in Python we would call it 'cars_df'. However, Python uses the dot as an accessor to object attributes, similar to how R uses the $ accessor. When outputting an R object to Python, avoid using the dot as a delineator as you will get errors when trying to work with those objects in Python."
   ]
  },
  {
   "cell_type": "code",
   "execution_count": 11,
   "metadata": {},
   "outputs": [
    {
     "name": "stdout",
     "output_type": "stream",
     "text": [
      "   speed  dist\n",
      "1    4.0   2.0\n",
      "2    4.0  10.0\n",
      "3    7.0   4.0\n",
      "4    7.0  22.0\n",
      "5    8.0  16.0\n"
     ]
    },
    {
     "data": {
      "image/png": "[encoded data removed]",
      "text/plain": [
       "<Figure size 360x360 with 1 Axes>"
      ]
     },
     "metadata": {},
     "output_type": "display_data"
    }
   ],
   "source": [
    "# The cars dataframe is now in Python\n",
    "print(cars_df.head())\n",
    "\n",
    "sns.pairplot(x_vars=['speed'],\n",
    "             y_vars=['dist'],\n",
    "             data=cars_df,\n",
    "             size=5)\n",
    "plt.show()"
   ]
  },
  {
   "cell_type": "markdown",
   "metadata": {},
   "source": [
    "## %Rpush and %Rget\n",
    "\n",
    "As I mentioned, I prefer using the -i and -o options in the **%%R** magic command to pass objects between Python and R. However, **%Rpush** and **%Rget** are available as alternatives:"
   ]
  },
  {
   "cell_type": "code",
   "execution_count": 12,
   "metadata": {},
   "outputs": [],
   "source": [
    "%%R\n",
    "\n",
    "# create a sample R object: my_var\n",
    "my_var <- c(1, 2, 3, 4, 5)"
   ]
  },
  {
   "cell_type": "code",
   "execution_count": 13,
   "metadata": {},
   "outputs": [
    {
     "name": "stdout",
     "output_type": "stream",
     "text": [
      "[1] 1 2 3 4 5\n",
      "\n",
      "<class 'rpy2.robjects.vectors.FloatVector'>\n",
      "[1.0, 2.0, 3.0, 4.0, 5.0]\n"
     ]
    }
   ],
   "source": [
    "# Request the my_var object from a Python block using %Rget\n",
    "my_python_var = %Rget my_var\n",
    "\n",
    "print(my_python_var)\n",
    "print(type(my_python_var))\n",
    "\n",
    "print(list(my_python_var))"
   ]
  },
  {
   "cell_type": "code",
   "execution_count": 14,
   "metadata": {},
   "outputs": [],
   "source": [
    "# Create a sample Python object: my_python_var_1 and my_python_var_2\n",
    "my_python_var_1 = np.array([1, 2, 3, 4, 5])\n",
    "my_python_var_2 = np.array([1, 2, 4, 8, 16])\n",
    "\n",
    "# Push the Python objects to R\n",
    "%Rpush my_python_var_1 my_python_var_2"
   ]
  },
  {
   "cell_type": "code",
   "execution_count": 15,
   "metadata": {},
   "outputs": [
    {
     "data": {
      "image/png": "[encoded data removed]"
     },
     "metadata": {},
     "output_type": "display_data"
    }
   ],
   "source": [
    "%%R\n",
    "plot(my_python_var_1, my_python_var_2,\n",
    "     main='Python Objects pushed to R',\n",
    "     col='purple',\n",
    "     pch=16)"
   ]
  },
  {
   "cell_type": "markdown",
   "metadata": {},
   "source": [
    "## Other Resources\n",
    "\n",
    "That wraps up this quick tutorial. I hope you found it informative. Here's some other resources on this method, including interfacing other languages:\n",
    "* http://rpy.sourceforge.net/rpy2/doc-2.4/html/index.html\n",
    "* http://carreau.github.io/posts/23-Cross-Language-Integration.html\n",
    "* http://blog.revolutionanalytics.com/2016/01/pipelining-r-python.html\n",
    "\n",
    "You may also be interested in Beaker Notebooks, though I have no experience with them. They look pretty cool and I'm going to check them out!\n",
    "* http://beakernotebook.com/"
   ]
  },
  {
   "cell_type": "code",
   "execution_count": null,
   "metadata": {},
   "outputs": [],
   "source": []
  },
  {
   "cell_type": "code",
   "execution_count": null,
   "metadata": {},
   "outputs": [],
   "source": []
  }
 ],
 "metadata": {
  "kernelspec": {
   "display_name": "Python 3",
   "language": "python",
   "name": "python3"
  },
  "language_info": {
   "codemirror_mode": {
    "name": "ipython",
    "version": 3
   },
   "file_extension": ".py",
   "mimetype": "text/x-python",
   "name": "python",
   "nbconvert_exporter": "python",
   "pygments_lexer": "ipython3",
   "version": "3.6.5"
  }
 },
 "nbformat": 4,
 "nbformat_minor": 2
}
