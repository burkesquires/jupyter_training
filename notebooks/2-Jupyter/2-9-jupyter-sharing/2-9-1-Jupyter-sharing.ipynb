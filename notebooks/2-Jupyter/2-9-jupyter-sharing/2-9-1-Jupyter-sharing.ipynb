{
 "cells": [
  {
   "cell_type": "markdown",
   "metadata": {},
   "source": [
    "# Sharing Jupyter Notebook"
   ]
  },
  {
   "cell_type": "markdown",
   "metadata": {},
   "source": [
    "(Walkthrough / Hands on; 1 hr.)"
   ]
  },
  {
   "cell_type": "markdown",
   "metadata": {},
   "source": [
    "### Static"
   ]
  },
  {
   "cell_type": "markdown",
   "metadata": {},
   "source": [
    "- Exporting notebook file\n",
    "    - Notebook is a single file\n",
    "- PDF\n",
    "- HTML\n",
    "- As a script\n",
    "    - How to run that script from the command line\n",
    "    - How to run exported script within another notebook\n",
    "    - (Need to test with R)\n",
    "- Sharing Jupyter notebooks (as notebooks, posting online as a static but downloadable notebook)\n",
    "    - nbviewer - convert URL or GitHub notebook\n",
    "    - GitHub support for Jupyter Notebooks "
   ]
  },
  {
   "cell_type": "markdown",
   "metadata": {},
   "source": [
    "### Dynamic"
   ]
  },
  {
   "cell_type": "markdown",
   "metadata": {},
   "source": [
    "- My Binder\n",
    "    - Creating a GitHub account\n",
    "        - Skip version control?\n",
    "    - Perhaps demo this if we do not have enough time"
   ]
  },
  {
   "cell_type": "code",
   "execution_count": null,
   "metadata": {},
   "outputs": [],
   "source": []
  }
 ],
 "metadata": {
  "kernelspec": {
   "display_name": "Python 3",
   "language": "python",
   "name": "python3"
  },
  "language_info": {
   "codemirror_mode": {
    "name": "ipython",
    "version": 3
   },
   "file_extension": ".py",
   "mimetype": "text/x-python",
   "name": "python",
   "nbconvert_exporter": "python",
   "pygments_lexer": "ipython3",
   "version": "3.7.0"
  }
 },
 "nbformat": 4,
 "nbformat_minor": 2
}
