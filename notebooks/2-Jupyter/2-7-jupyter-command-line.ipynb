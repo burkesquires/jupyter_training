{
 "cells": [
  {
   "cell_type": "markdown",
   "metadata": {},
   "source": [
    "# Jupyter / IPython Command Line Demo\n",
    "\n",
    "The IPython kernel can be used to work with the system it's running on in pretty creative ways.\n",
    "\n",
    "* `!command`: run (and capture output) of a command\n",
    "* `$` variables"
   ]
  },
  {
   "cell_type": "code",
   "execution_count": 1,
   "metadata": {},
   "outputs": [
    {
     "name": "stdout",
     "output_type": "stream",
     "text": [
      "2-1-Jupyter-Ecosystem.ipynb       \u001b[31m2-6-jupyter-code-r.ipynb\u001b[m\u001b[m\r\n",
      "\u001b[31m2-2-jupyter-architecture.ipynb\u001b[m\u001b[m    \u001b[31m2-7-jupyter-command-line.ipynb\u001b[m\u001b[m\r\n",
      "\u001b[31m2-3-jupyter-notebook-basics.ipynb\u001b[m\u001b[m \u001b[31m2-8-jupyter-magics.ipynb\u001b[m\u001b[m\r\n",
      "\u001b[31m2-4-jupyter-markdown.ipynb\u001b[m\u001b[m        \u001b[34m2-9-jupyter-sharing\u001b[m\u001b[m\r\n",
      "2-5-jupyter-code-python.ipynb\r\n"
     ]
    }
   ],
   "source": [
    "!ls"
   ]
  },
  {
   "cell_type": "code",
   "execution_count": 2,
   "metadata": {},
   "outputs": [
    {
     "name": "stdout",
     "output_type": "stream",
     "text": [
      "2-1-Jupyter-Ecosystem.ipynb\n",
      "2-2-jupyter-architecture.ipynb\n",
      "2-3-jupyter-notebook-basics.ipynb\n",
      "2-4-jupyter-markdown.ipynb\n",
      "2-5-jupyter-code-python.ipynb\n",
      "2-6-jupyter-code-r.ipynb\n",
      "2-7-jupyter-command-line.ipynb\n",
      "2-8-jupyter-magics.ipynb\n"
     ]
    }
   ],
   "source": [
    "files = !ls -1\n",
    "for file in files.grep('ipynb'):\n",
    "    !echo $file"
   ]
  },
  {
   "cell_type": "markdown",
   "metadata": {},
   "source": [
    "There are also some interesting 'magics' for working on shells, for example if you want to run some bash-specific code:"
   ]
  },
  {
   "cell_type": "code",
   "execution_count": 3,
   "metadata": {},
   "outputs": [
    {
     "name": "stdout",
     "output_type": "stream",
     "text": [
      "Running under /bin/bash\n",
      "Only Bash could do this...\n",
      "ad ae af bd be bf cd ce cf\n"
     ]
    }
   ],
   "source": [
    "%%bash\n",
    "\n",
    "echo \"Running under $BASH\"\n",
    "echo \"Only Bash could do this...\"\n",
    "echo {a,b,c}{d,e,f}"
   ]
  },
  {
   "cell_type": "markdown",
   "metadata": {},
   "source": [
    "Or even ``perl``:"
   ]
  },
  {
   "cell_type": "code",
   "execution_count": 4,
   "metadata": {},
   "outputs": [
    {
     "name": "stderr",
     "output_type": "stream",
     "text": [
      "Can't locate DateTime.pm in @INC (you may need to install the DateTime module) (@INC contains: /Users/squiresrb/anaconda3/envs/mro_env/lib/site_perl/5.26.2/darwin-thread-multi-2level /Users/squiresrb/anaconda3/envs/mro_env/lib/site_perl/5.26.2 /Users/squiresrb/anaconda3/envs/mro_env/lib/5.26.2/darwin-thread-multi-2level /Users/squiresrb/anaconda3/envs/mro_env/lib/5.26.2 .) at - line 2.\n",
      "BEGIN failed--compilation aborted at - line 2.\n"
     ]
    }
   ],
   "source": [
    "%%perl\n",
    "\n",
    "use DateTime;\n",
    "\n",
    "print \"The first of next month: \";\n",
    "print DateTime->today()->add(months => 1)->set(day => 1)->ymd;"
   ]
  },
  {
   "cell_type": "code",
   "execution_count": null,
   "metadata": {},
   "outputs": [],
   "source": []
  }
 ],
 "metadata": {
  "kernelspec": {
   "display_name": "Python 3",
   "language": "python",
   "name": "python3"
  },
  "language_info": {
   "codemirror_mode": {
    "name": "ipython",
    "version": 3
   },
   "file_extension": ".py",
   "mimetype": "text/x-python",
   "name": "python",
   "nbconvert_exporter": "python",
   "pygments_lexer": "ipython3",
   "version": "3.7.0"
  }
 },
 "nbformat": 4,
 "nbformat_minor": 1
}
