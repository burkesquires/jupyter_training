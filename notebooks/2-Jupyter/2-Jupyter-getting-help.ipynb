{
 "cells": [
  {
   "cell_type": "code",
   "execution_count": null,
   "metadata": {},
   "outputs": [],
   "source": []
  },
  {
   "cell_type": "code",
   "execution_count": null,
   "metadata": {},
   "outputs": [],
   "source": []
  },
  {
   "cell_type": "code",
   "execution_count": null,
   "metadata": {},
   "outputs": [],
   "source": [
    "\n",
    "Getting help\n",
    "- ?\n",
    "- ??\n",
    "- help\n",
    "- You can quickly access keyboard shortcuts with the command palette. just type Ctrl + Shift + P or Cmd + Shift + P to access a dialog box that’s a lot like Spotlight Search on a Mac. It can help you run any command by name, which is great if you don’t know the keyboard shortcut.\n",
    "Source: https://towardsdatascience.com/how-to-effortlessly-optimize-jupyter-notebooks-e864162a06ee\n",
    "\n",
    "%quickref - python quick reference card\n"
   ]
  }
 ],
 "metadata": {
  "kernelspec": {
   "display_name": "Python 3",
   "language": "python",
   "name": "python3"
  },
  "language_info": {
   "codemirror_mode": {
    "name": "ipython",
    "version": 3
   },
   "file_extension": ".py",
   "mimetype": "text/x-python",
   "name": "python",
   "nbconvert_exporter": "python",
   "pygments_lexer": "ipython3",
   "version": "3.7.5"
  }
 },
 "nbformat": 4,
 "nbformat_minor": 4
}
