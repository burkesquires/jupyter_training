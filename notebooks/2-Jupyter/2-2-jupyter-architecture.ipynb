{
 "cells": [
  {
   "cell_type": "markdown",
   "metadata": {
    "slideshow": {
     "slide_type": "slide"
    }
   },
   "source": [
    "# Jupyter Notebook"
   ]
  },
  {
   "cell_type": "markdown",
   "metadata": {},
   "source": [
    "(Walkthrough; 15 min)\n",
    "\n",
    "R. Burke Squires\n",
    "\n",
    "https://github.com/burkesquires"
   ]
  },
  {
   "cell_type": "markdown",
   "metadata": {},
   "source": [
    "---"
   ]
  },
  {
   "cell_type": "markdown",
   "metadata": {
    "slideshow": {
     "slide_type": "slide"
    }
   },
   "source": [
    "## Getting In and Getting Out (of the Jupyter Notebook)!\n",
    "\n",
    "Once you have the Anaconda python package installed, in your user folder there shold be an \"anaconda\" (or \"anaconda3\"?) directory. "
   ]
  },
  {
   "cell_type": "markdown",
   "metadata": {
    "slideshow": {
     "slide_type": "slide"
    }
   },
   "source": [
    "### To start the Jupyter Notebook\n",
    "\n",
    "1. From Anaconda-Navigator\n",
    "\n",
    "    - Open _anaconda3_ directory in your user folder.\n",
    "    - Double-click the `Anaconda-Navigator` program\n",
    "    - To launch the Jupyter Notebook, click the _launch_ button in the Anaconda-Navigator interface\n",
    "    - A Terminal windows will open and the default web browser window will also open displying the Jupyter Dashboard\n",
    "    - From the Jupyter dashboard you can create new Jupyter Notebooks or open existing ones."
   ]
  },
  {
   "cell_type": "markdown",
   "metadata": {
    "slideshow": {
     "slide_type": "slide"
    }
   },
   "source": [
    "__NOTE__\n",
    "- It is __NOT__ possible to double click a Jupyter Notebook to open it.\\*\n",
    "- The Terminal window openned by the Jupyter software __MUST__ remain open while using the Jupyter Notebook.\n",
    "\n",
    "\\*You can download the Pineapple program from github that enables double-click launch of Jupyter Notebooks...macOS only. The _nteract_ project can also be used to work with Jupyter Notebooks."
   ]
  },
  {
   "cell_type": "markdown",
   "metadata": {
    "slideshow": {
     "slide_type": "slide"
    }
   },
   "source": [
    "Another way to launch the Jupyter notebook is to do it from the command line by typing:\n",
    "\n",
    "    jupyter notebook"
   ]
  },
  {
   "cell_type": "markdown",
   "metadata": {
    "slideshow": {
     "slide_type": "slide"
    }
   },
   "source": [
    "The notebook will open in your default browser. You can also specify which browser to use:\n",
    "\n",
    "    jupyter notebook --browser=chrome"
   ]
  },
  {
   "cell_type": "markdown",
   "metadata": {
    "slideshow": {
     "slide_type": "slide"
    }
   },
   "source": [
    "By default, the notebook server starts on port 8888, or, if this port is not available, to the next available one, such as 9999. You may also specify a port manually:\n",
    "\n",
    "    jupyter notebook --port 9999"
   ]
  },
  {
   "cell_type": "markdown",
   "metadata": {
    "slideshow": {
     "slide_type": "slide"
    }
   },
   "source": [
    "#### Browser Compatibility\n",
    "\n",
    "The Jupyter Notebook is officially supported by the latest stable versions of the following browsers:\n",
    "- Chrome\n",
    "- Safari\n",
    "- Firefox\n",
    "\n",
    "The is mainly due to the notebook’s usage of WebSockets and the flexible box model."
   ]
  },
  {
   "cell_type": "markdown",
   "metadata": {
    "slideshow": {
     "slide_type": "slide"
    }
   },
   "source": [
    "### To close a Jupyter Notebook\n",
    "\n",
    "- From the (Jupyter) _File_ menu select close and halt on any open notebooks\n",
    "    - Or from the _Running_ tab in the Jupyter Deshboard click the running tab and shutdown any running notebooks.\n",
    "- Close the Jupyter Dashboard (or quit your browser)\n",
    "- Close the Terminal window hosting the Jupyter server or you can kill Jupyter by hitting “Ctrl + C” in the terminal window"
   ]
  },
  {
   "cell_type": "markdown",
   "metadata": {
    "slideshow": {
     "slide_type": "slide"
    }
   },
   "source": [
    "## Jupyter Architecture\n",
    "\n",
    "The Jupyter architecture is comprised of three primary components: kernel, notebook document format, and an interactive computing protocol.[Source](jupyter.org)"
   ]
  },
  {
   "cell_type": "markdown",
   "metadata": {
    "slideshow": {
     "slide_type": "slide"
    }
   },
   "source": [
    "### Kernels\n",
    "\"Kernels are processes that run interactive code in a particular programming language and return output to the user. Kernels also respond to tab completion and introspection requests.\" There are kernels for python 3, python 2, R, Julia, javascript, perl, and [more](https://github.com/jupyter/jupyter/wiki/Jupyter-kernels)"
   ]
  },
  {
   "cell_type": "markdown",
   "metadata": {
    "slideshow": {
     "slide_type": "slide"
    }
   },
   "source": [
    "### The Notebook Document Format\n",
    "\"Jupyter Notebooks are an open document format based on JSON. They contain a complete record of the user's sessions and embed code, narrative text, equations and rich output.\""
   ]
  },
  {
   "cell_type": "markdown",
   "metadata": {
    "slideshow": {
     "slide_type": "slide"
    }
   },
   "source": [
    "### Interactive Computing Protocol\n",
    "\"The Notebook communicates with computational Kernels using the Interactive Computing Protocol, an open network protocol based on JSON data over ZMQ and WebSockets.\""
   ]
  },
  {
   "cell_type": "markdown",
   "metadata": {
    "slideshow": {
     "slide_type": "slide"
    }
   },
   "source": [
    "<img src='../images/notebook_components.png'>"
   ]
  },
  {
   "cell_type": "markdown",
   "metadata": {
    "slideshow": {
     "slide_type": "slide"
    }
   },
   "source": [
    "## Jupyter Dashboard\n",
    "\n",
    "When you first launch the Jupyter Notebook a web browser window will open the Jupyter Dashboard.\n",
    "\n",
    "<img src='../images/anaconda-dashboard.png'>"
   ]
  },
  {
   "cell_type": "markdown",
   "metadata": {
    "slideshow": {
     "slide_type": "slide"
    }
   },
   "source": [
    "## Anatomy of a Jupyter Notebook"
   ]
  },
  {
   "cell_type": "markdown",
   "metadata": {
    "slideshow": {
     "slide_type": "fragment"
    }
   },
   "source": [
    "### The Jupyter Notebook\n",
    "\n",
    "<img src='../images/notebook_components.png'>"
   ]
  },
  {
   "cell_type": "markdown",
   "metadata": {},
   "source": [
    "## Jupyterlab"
   ]
  },
  {
   "cell_type": "code",
   "execution_count": null,
   "metadata": {},
   "outputs": [],
   "source": []
  },
  {
   "cell_type": "code",
   "execution_count": null,
   "metadata": {},
   "outputs": [],
   "source": []
  },
  {
   "cell_type": "code",
   "execution_count": null,
   "metadata": {},
   "outputs": [],
   "source": []
  },
  {
   "cell_type": "code",
   "execution_count": null,
   "metadata": {},
   "outputs": [],
   "source": []
  },
  {
   "cell_type": "code",
   "execution_count": null,
   "metadata": {},
   "outputs": [],
   "source": []
  }
 ],
 "metadata": {
  "kernelspec": {
   "display_name": "Python 3",
   "language": "python",
   "name": "python3"
  },
  "language_info": {
   "codemirror_mode": {
    "name": "ipython",
    "version": 3
   },
   "file_extension": ".py",
   "mimetype": "text/x-python",
   "name": "python",
   "nbconvert_exporter": "python",
   "pygments_lexer": "ipython3",
   "version": "3.7.0"
  },
  "widgets": {
   "state": {
    "3c2f0ff9081e4aa6bef45a24640bc7d1": {
     "views": [
      {
       "cell_index": 48
      }
     ]
    },
    "97aebdca54f94427978ed73474030926": {
     "views": [
      {
       "cell_index": 49
      }
     ]
    }
   },
   "version": "1.2.0"
  }
 },
 "nbformat": 4,
 "nbformat_minor": 2
}
