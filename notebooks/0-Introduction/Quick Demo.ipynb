{
 "cells": [
  {
   "cell_type": "markdown",
   "metadata": {},
   "source": [
    "# Very Simple Demo Notebook\n",
    "\n",
    "* Code Execution\n",
    "* Menus and Controls\n",
    "* Visualizing HTML\n",
    "* Keyboard shortcuts\n",
    "* Inline help"
   ]
  },
  {
   "cell_type": "markdown",
   "metadata": {},
   "source": [
    "First and foremost, the notebook is great for interactively running code."
   ]
  },
  {
   "cell_type": "code",
   "execution_count": null,
   "metadata": {},
   "outputs": [],
   "source": [
    "print \"foo bar\""
   ]
  },
  {
   "cell_type": "markdown",
   "metadata": {},
   "source": [
    "There's tab completion, and integrated help..."
   ]
  },
  {
   "cell_type": "code",
   "execution_count": null,
   "metadata": {},
   "outputs": [],
   "source": [
    "import os\n",
    "\n",
    "os.path.abspath?\n",
    "os.path.abspath()"
   ]
  },
  {
   "cell_type": "markdown",
   "metadata": {},
   "source": [
    "If you make an error, the feedback is nicely formatted..."
   ]
  },
  {
   "cell_type": "code",
   "execution_count": 2,
   "metadata": {},
   "outputs": [
    {
     "ename": "ZeroDivisionError",
     "evalue": "division by zero",
     "output_type": "error",
     "traceback": [
      "\u001b[0;31m---------------------------------------------------------------------------\u001b[0m",
      "\u001b[0;31mZeroDivisionError\u001b[0m                         Traceback (most recent call last)",
      "\u001b[0;32m<ipython-input-2-9e1622b385b6>\u001b[0m in \u001b[0;36m<module>\u001b[0;34m()\u001b[0m\n\u001b[0;32m----> 1\u001b[0;31m \u001b[0;36m1\u001b[0m\u001b[0;34m/\u001b[0m\u001b[0;36m0\u001b[0m\u001b[0;34m\u001b[0m\u001b[0m\n\u001b[0m",
      "\u001b[0;31mZeroDivisionError\u001b[0m: division by zero"
     ]
    }
   ],
   "source": [
    "1/0"
   ]
  },
  {
   "cell_type": "markdown",
   "metadata": {},
   "source": [
    "There's even an integrated debugger! (``%debug`` magic)"
   ]
  },
  {
   "cell_type": "code",
   "execution_count": 3,
   "metadata": {},
   "outputs": [
    {
     "ename": "SyntaxError",
     "evalue": "Missing parentheses in call to 'print'. Did you mean print(10.0/div)? (<ipython-input-3-46c21b7fe98d>, line 3)",
     "output_type": "error",
     "traceback": [
      "\u001b[0;36m  File \u001b[0;32m\"<ipython-input-3-46c21b7fe98d>\"\u001b[0;36m, line \u001b[0;32m3\u001b[0m\n\u001b[0;31m    print 10.0/div\u001b[0m\n\u001b[0m             ^\u001b[0m\n\u001b[0;31mSyntaxError\u001b[0m\u001b[0;31m:\u001b[0m Missing parentheses in call to 'print'. Did you mean print(10.0/div)?\n"
     ]
    }
   ],
   "source": [
    "%debug \n",
    "for div in range(0,10)[::-1]:\n",
    "    print 10.0/div"
   ]
  },
  {
   "cell_type": "code",
   "execution_count": null,
   "metadata": {},
   "outputs": [],
   "source": [
    "range(0,10)"
   ]
  },
  {
   "cell_type": "markdown",
   "metadata": {},
   "source": [
    "This is a browser! You're not limited to just displaying text:\n",
    "\n",
    "    ![awwbat](PresentationImages/awwbat.gif)"
   ]
  },
  {
   "cell_type": "markdown",
   "metadata": {},
   "source": [
    "Not by a long shot. This is just a teaser, but you can inline display just about anything you can see in a browser."
   ]
  },
  {
   "cell_type": "code",
   "execution_count": null,
   "metadata": {},
   "outputs": [],
   "source": [
    "# display images inline, as well as other magic\n",
    "%pylab inline           \n",
    "# Get a list of evenly spaced numbers from 0-5\n",
    "x = linspace(0, 5, 10)\n",
    "# Get a list of all of those squared\n",
    "y = x ** 2\n",
    "# Plot x vs y in red\n",
    "plot(x, y, 'r')\n",
    "\n",
    "\n"
   ]
  },
  {
   "cell_type": "markdown",
   "metadata": {},
   "source": [
    "And there are keyboard shortcuts for everything, so you can do incredibly rapid development."
   ]
  },
  {
   "cell_type": "markdown",
   "metadata": {},
   "source": [
    "# Essential Shortcuts\n",
    "\n",
    "* ``Esc/Enter``: Mode Switch\n",
    "* ``j/k``: Move up/down\n",
    "* Execute Cells\n",
    "    * ``Shift-Enter``: Run and go down\n",
    "    * ``Alt-Enter``: Run and make new\n",
    "    * ``Control-Enter``: Run in place\n",
    "* ``a/b``: Insert cell above/below\n",
    "* ``x``: cut cell\n",
    "* Cell mode switch:\n",
    "    * `r`: raw\n",
    "    * `m`: markdown\n",
    "    * `y`: p**y**thon code\n",
    "    \n",
    "![executing cells](PresentationImages/ExecutingCells.png)"
   ]
  },
  {
   "cell_type": "markdown",
   "metadata": {},
   "source": [
    "And finally, showing in a single quick demo, you can\n",
    "* run shell commands\n",
    "* convert output to HTML (and many other formats.)"
   ]
  },
  {
   "cell_type": "code",
   "execution_count": 1,
   "metadata": {},
   "outputs": [
    {
     "name": "stdout",
     "output_type": "stream",
     "text": [
      "[TerminalIPythonApp] WARNING | Subcommand `ipython nbconvert` is deprecated and will be removed in future versions.\n",
      "[TerminalIPythonApp] WARNING | You likely want to use `jupyter nbconvert` in the future\n",
      "[NbConvertApp] Converting notebook Quick Demo.ipynb to html\n",
      "[NbConvertApp] Writing 256776 bytes to Quick Demo.html\n"
     ]
    }
   ],
   "source": [
    "!ipython nbconvert \"Quick Demo.ipynb\" --to html\n",
    "!open \"Quick Demo.html\""
   ]
  },
  {
   "cell_type": "code",
   "execution_count": null,
   "metadata": {},
   "outputs": [],
   "source": []
  }
 ],
 "metadata": {
  "kernelspec": {
   "display_name": "Python 3",
   "language": "python",
   "name": "python3"
  },
  "language_info": {
   "codemirror_mode": {
    "name": "ipython",
    "version": 3
   },
   "file_extension": ".py",
   "mimetype": "text/x-python",
   "name": "python",
   "nbconvert_exporter": "python",
   "pygments_lexer": "ipython3",
   "version": "3.7.0"
  }
 },
 "nbformat": 4,
 "nbformat_minor": 1
}
