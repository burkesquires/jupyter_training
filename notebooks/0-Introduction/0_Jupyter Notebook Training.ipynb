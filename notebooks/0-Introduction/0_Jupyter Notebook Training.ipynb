{
 "cells": [
  {
   "cell_type": "markdown",
   "metadata": {},
   "source": [
    "# Interactive Notebooks for Biologists \n",
    "## with Jupyter Project and Anaconda Distribution"
   ]
  },
  {
   "cell_type": "markdown",
   "metadata": {},
   "source": [
    "- Date:\t\tSeptember 6, 2018\n",
    "- Time:\t\t9 AM to noon; 1 PM to 4 PM\n",
    "- Instructor: Burke Squires"
   ]
  },
  {
   "cell_type": "markdown",
   "metadata": {},
   "source": [
    "---"
   ]
  },
  {
   "cell_type": "markdown",
   "metadata": {},
   "source": [
    "## Outline"
   ]
  },
  {
   "cell_type": "markdown",
   "metadata": {},
   "source": [
    "- Introduction (Presentation – 30 min)\n",
    "- Anaconda distribution overview (Demo – 30 min)\n",
    "- Installation Demo (Demo – 15 min)\n",
    "- Introduction to Jupyter Ecosystem (Presentation – 30 min)\n",
    "- JupyterLab and Jupyter Notebook (Hands on - 30 min)\n",
    "- Writing narrative text (Hands on – 15 min)\n",
    "- Running code (Python, R, other) (Hands on – 15 min)\n",
    "- Magic commands (Hands on – 15 min)\n",
    "- (Lunch)\n",
    "- Sharing Jupyter notebook (Demo / Hands on – 1 hr.)\n",
    "- Building a bioinformatics workflow (Hands on – 1 ½\t- 2 hr.)\n",
    "- Demos\n",
    "    - Jupyter in the Cloud (10 min)\n",
    "    - Jupyter extensions ((10 min)\n",
    "    - JupyterHub (10 min)\n",
    "    - nteract (Mac desktop software to run notebook) (10 min)"
   ]
  },
  {
   "cell_type": "markdown",
   "metadata": {},
   "source": [
    "---"
   ]
  },
  {
   "cell_type": "markdown",
   "metadata": {},
   "source": [
    "## Introduction"
   ]
  },
  {
   "cell_type": "markdown",
   "metadata": {},
   "source": [
    "1.\tNotebooks as the new scientific paper\n",
    "    1.\tnews about Jupyter notebooks\n",
    "    1.\tnature article\n",
    "    1.\tother articles\n",
    "    1.\tPubMed search for Jupyter articles\n",
    "1.\tA short history (Mathematica notebook, IPython, etc.)\n",
    "\n",
    "Jupyter Notebook (formerly IPython Notebooks) is a web-based interactive computational environment for creating, executing, and visualizing Jupyter notebooks. It is similar to the notebook interface of other programs such as Maple, Mathematica, and SageMath, a computational interface style that originated with Mathematica in the 1980s.[13] It supports execution environments (aka kernels) in dozens of languages. By default Jupyter Notebook ships with the IPython kernel but there are over 100 Jupyter kernels as of May 2018.\n",
    "\n",
    "[Source: https://en.wikipedia.org/wiki/IPython#cite_note-12]\n",
    "\n",
    "1.\tliterate programming (https://biowize.wordpress.com/2015/03/13/literate-programming-rstudio-and-ipython-notebook/)\n",
    "    1.\tinteractive computing\n",
    "    1.\tcomputing narratives\n",
    "1.\tDrivers: data science\n",
    "1.\tBenefits of notebooks\n",
    "    i)\tImproved collaboration\n",
    "    ii)\tJupyter for r and python researchers"
   ]
  },
  {
   "cell_type": "markdown",
   "metadata": {},
   "source": [
    "## Anaconda Distribution\n"
   ]
  },
  {
   "cell_type": "markdown",
   "metadata": {},
   "source": [
    "(Walkthrough - 30 min)\n",
    "\n",
    "1. What is the Anaconda distribution?\n",
    "    - A single installaer for the python programming language and many useful packages. \n",
    "    - It also enable easiy installation of hte R programming language\n",
    "    \n",
    "1. Why use the Anaconda distribution?\n",
    "    - Makes installing Python / R and packages easy\n",
    "    - Includes Anaconda-Navigator\n",
    "    - Enables easy managment of environments\n",
    "    - Enables installation just ina. users folder; no elevanted permission necessary\n",
    "    \n",
    "1. How do we use the Anaconda distribution?\n",
    "    - You do not HAVE to use the Anaconda Distribution\n",
    "    - A single download\n",
    "    - We will look at installing hte distribution next\n",
    "    - After installation you should have an icon for Anaconda Navigator on your desktop\n",
    "\n",
    "1. Tools - briefly as we will cover in depth momentarily\n",
    "    1.\tJupyter Notebook\n",
    "    1.\tJupyterLab\n",
    "    1.\tR\n",
    "1.\tEnvironments\n",
    "    1.\tSet up a new environment\n",
    "1.\tConda installer\n",
    "1.\tOther channels / repositories (bioconda, GitHub, R)"
   ]
  },
  {
   "cell_type": "markdown",
   "metadata": {},
   "source": [
    "## Anaconda Distribution Installation"
   ]
  },
  {
   "cell_type": "markdown",
   "metadata": {},
   "source": [
    "(Walkthrough - 15 min)\n",
    "\n",
    "1.\tFor python users, download Version 3.6+ (already have materials)\n",
    "1.\tFor R users, also will install R and RStudio installed (Have to research)\n",
    "    1.\tNeed to research best practices for installing Anaconda distribution alongside existing R, RStudio\n",
    "1.\tUpdating\n",
    "    1.\tThough anaconda navigator\n",
    "    1.\tThrough command line - using conda, pip, CRAN???"
   ]
  },
  {
   "cell_type": "markdown",
   "metadata": {},
   "source": [
    "## Jupyter Introduction"
   ]
  },
  {
   "cell_type": "markdown",
   "metadata": {},
   "source": [
    "(Walkthrough - 30 min)\n",
    "\n",
    "1.\tName is Julia, R, python\n",
    "    1.\tPython, R native support\n",
    "1.\tA little history\n",
    "    1.\tFunding support\n",
    "1.\tBasic overview of components\n",
    "    1.\tPresent as slides - extension - riser???\n",
    "1.\tKernels\n",
    "    1.\tJupyter supports python, r, Julia, perl, bash, many others\n",
    "    1.\tMention SoS - multi-language kernel (https://github.com/vatlab/SoS)\n",
    "            1. Overview (https://vatlab.github.io/blog/post/sos-notebook/)\n",
    "1. Gallery of notebooks\n",
    "    1. Find notebook to get you started\n",
    "    1. GitHub\n",
    "1. Interactive widgets\n",
    "    1. Kbase demo\n",
    "1. Other\n",
    "    1. iOS app – juno"
   ]
  },
  {
   "cell_type": "markdown",
   "metadata": {},
   "source": [
    "## JupyterLab and Jupyter Notebook"
   ]
  },
  {
   "cell_type": "markdown",
   "metadata": {},
   "source": [
    "(Hands On - 30 min)\n",
    "1. Open JupyterLab\n",
    "    1. JupyterLab is official platform going forward\n",
    "1. Overview of JupyterLab\n",
    "1. Open Jupyter Notebook\n",
    "1. Compare and contrast"
   ]
  },
  {
   "cell_type": "markdown",
   "metadata": {},
   "source": [
    "## Writing (Narrative) Text In Jupyter Notebook"
   ]
  },
  {
   "cell_type": "markdown",
   "metadata": {},
   "source": [
    "(Hands on; 15 min)\n",
    "\n",
    "1. Learning markdown\n",
    "1. Give a paragraph to reproduce with a lot of formatting"
   ]
  },
  {
   "cell_type": "markdown",
   "metadata": {},
   "source": [
    "## Writing and Running Code "
   ]
  },
  {
   "cell_type": "markdown",
   "metadata": {},
   "source": [
    "(Hands on; 15 min)\n",
    "\n",
    "1. Python\n",
    "    1. Scientific python stack\n",
    "    1. Available videos and tutorials\n",
    "1. R\n",
    "    1. Components…?"
   ]
  },
  {
   "cell_type": "markdown",
   "metadata": {},
   "source": [
    "## Magic commands"
   ]
  },
  {
   "cell_type": "markdown",
   "metadata": {},
   "source": [
    "(Hands on; 15 min; 3 hr. prep)\n",
    "\n",
    "1. Magic commands (IPython)\n",
    "1. Magic commands (R or general?)"
   ]
  },
  {
   "cell_type": "markdown",
   "metadata": {},
   "source": [
    "## Sharing Jupyter notebook "
   ]
  },
  {
   "cell_type": "markdown",
   "metadata": {},
   "source": [
    "(Walkthrough; 1 hr.)\n",
    "\n",
    "1. Static\n",
    "    1. Exporting notebook file\n",
    "        1. Notebook is a single file\n",
    "    1. PDF\n",
    "    1. HTML\n",
    "    1. As a script\n",
    "        1. How to run that script from the command line\n",
    "        1. How to run exported script within another notebook\n",
    "        1. (Need to test with R)\n",
    "    1. Sharing Jupyter notebooks (as notebooks, posting online as a static but downloadable notebook)\n",
    "        1. nbviewer - convert URL or GitHub notebook\n",
    "        1. GitHub support for Jupyter Notebooks\n",
    "1. Dynamic\n",
    "    1. My Binder\n",
    "        1. Perhaps demo this if we do not have enough time"
   ]
  },
  {
   "cell_type": "markdown",
   "metadata": {},
   "source": [
    "## Build a Bioinformatics Workflow using Jupyter notebook"
   ]
  },
  {
   "cell_type": "markdown",
   "metadata": {},
   "source": [
    "(Hands on; 1 ½ - 2 hr.)\n",
    "\n",
    "1. Building a bioinformatics workflow using the Jupyter notebook (and the bioconda channel)\n",
    "    1. Is this possible with the NIEHS setup????\n",
    "    1. Will the users have permissions to do this in class?\n",
    "    1. Tweak to add R possible option to this"
   ]
  },
  {
   "cell_type": "markdown",
   "metadata": {},
   "source": [
    "## Additional Demos"
   ]
  },
  {
   "cell_type": "markdown",
   "metadata": {},
   "source": [
    "(Walkthgouhs; 40 min)\n",
    "\n",
    "1. Jupyter in the Cloud (Presentation; 10 min; 1 hr. prep)\n",
    "    1. Google Colab\n",
    "    1. Azure\n",
    "    1. Other\n",
    "1. Jupyter extensions (Demo; 10 min; 2 hr. prep)\n",
    "    1. https://github.com/twosigma/beakerx\n",
    "    1. Where to find them\n",
    "    1. Highlight a few interesting ones\n",
    "1. Demo JupyterHub (Demo; 10 min; 30 min prep)\n",
    "   1. NIAID implementation\n",
    "1. Demo nteract (Demo; 10 min; 30 min prep)\n",
    "   1. Mac desktop app to run notebooks"
   ]
  },
  {
   "cell_type": "markdown",
   "metadata": {},
   "source": [
    "Additional Resources\n",
    "- [Nikola - static site generate](https://getnikola.com)\n",
    "- [RISE - slideshows](http://www.damian.oquanta.info/index.html)\n",
    "[Will Jupyter notebook eventually replace scientific papers](https://www.quora.com/Will-Jupyter-notebooks-eventually-replace-scientific-papers)\n",
    "- [gallery of interesting notebooks](https://github.com/jupyter/jupyter/wiki/A-gallery-of-interesting-Jupyter-Notebooks)\n",
    "- [nbviewer - render a notebook](https://nbviewer.jupyter.org)\n",
    "- [28 Jupyter Notebook tips, tricks, and shortcuts](https://www.dataquest.io/blog/jupyter-notebook-tips-tricks-shortcuts/)\n",
    "- [Estimate of Public Jupyter Notebooks on GitHub](https://github.com/parente/nbestimate)"
   ]
  },
  {
   "cell_type": "code",
   "execution_count": null,
   "metadata": {},
   "outputs": [],
   "source": []
  }
 ],
 "metadata": {
  "kernelspec": {
   "display_name": "Python 3",
   "language": "python",
   "name": "python3"
  },
  "language_info": {
   "codemirror_mode": {
    "name": "ipython",
    "version": 3
   },
   "file_extension": ".py",
   "mimetype": "text/x-python",
   "name": "python",
   "nbconvert_exporter": "python",
   "pygments_lexer": "ipython3",
   "version": "3.7.0"
  }
 },
 "nbformat": 4,
 "nbformat_minor": 2
}
