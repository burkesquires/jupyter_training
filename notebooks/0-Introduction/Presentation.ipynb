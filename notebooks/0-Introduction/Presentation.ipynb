{
 "cells": [
  {
   "cell_type": "markdown",
   "metadata": {
    "slideshow": {
     "slide_type": "slide"
    }
   },
   "source": [
    "<div class=\"stretch\"><img src=\"PresentationImages/CoverArt.jpg\"/></div>\n"
   ]
  },
  {
   "cell_type": "markdown",
   "metadata": {
    "slideshow": {
     "slide_type": "slide"
    }
   },
   "source": [
    "# If you got here via a link to the slides\n",
    "\n",
    "Please check out the full git repository for the presentation notebook as well as other example notebooks.\n",
    "\n",
    "[https://github.com/jbarratt/ipython_notebook_presentation/tree/linuxcon](https://github.com/jbarratt/ipython_notebook_presentation/tree/linuxcon)"
   ]
  },
  {
   "cell_type": "markdown",
   "metadata": {
    "slideshow": {
     "slide_type": "skip"
    }
   },
   "source": [
    "# Outline\n",
    "\n",
    "* What is the notebook \n",
    "    * OMG it's the best\n",
    "    * Quick Demo\n",
    "    * IPython Ecosystem (2.0 Caveat)\n",
    "* Why is it awesome\n",
    "    * Literate Code\n",
    "    * Sharing\n",
    "    * Rapid Prototyping/Exploring/Learning\n",
    "        * ``Terminal(Editor <-> Renderer) -> Email`` vs Cyclic\n",
    "    * Blogging\n",
    "* Workflows (edit, share, publish)\n",
    "    * Under the hood ``ipynb``\n",
    "    * HTML\n",
    "    * PDF\n",
    "    * Gist + nbviewer\n",
    "* Demos\n",
    "    * Code Mentorship (sets, objects, katas)\n",
    "    * Runbooks\n",
    "    * Log analysis [epic](http://nbviewer.ipython.org/github/koldunovn/nk_public_notebooks/blob/master/Apache_log.ipynb)\n",
    "    * Shell scripting demo\n",
    "    * Churn analysis\n",
    "    * [Latency Heatmap](http://www.brendangregg.com/HeatMaps/latency.html)\n",
    "* Extending\n",
    "    * [Extensions](https://github.com/ipython-contrib/IPython-notebook-extensions/wiki)\n",
    "* It came from inside the presentation!"
   ]
  },
  {
   "cell_type": "markdown",
   "metadata": {
    "slideshow": {
     "slide_type": "slide"
    }
   },
   "source": [
    "# What is the notebook?\n",
    "\n",
    "## A \"browser-based interactive computing environment\" \n",
    "\n",
    "<div class=\"stretch\"><img src=\"PresentationImages/NotebookScreenshot.png\"/></div>"
   ]
  },
  {
   "cell_type": "markdown",
   "metadata": {
    "slideshow": {
     "slide_type": "slide"
    }
   },
   "source": [
    "# Why are we talking about it today?\n",
    "\n",
    "* Extremely useful tool, but not well enough known outside Academia/Science.\n",
    "* Makes the (powerful) python data/science/module ecosystem even more powerful\n",
    "* If you code, (even not in python), sysadmin, write documentation, blog, do any analysis or visualization, you might get a lot out of the notebook."
   ]
  },
  {
   "cell_type": "markdown",
   "metadata": {
    "slideshow": {
     "slide_type": "slide"
    }
   },
   "source": [
    "# Why are *you* talking about it today?\n",
    "\n",
    "#### I fell in love.\n",
    "\n",
    "<div class=\"stretch\"><img src=\"PresentationImages/LoveTheNotebook.png\"/></div>\n",
    "\n",
    "<small><em>Apologies to my beautiful baby daughter for photoshopping her out</em></small>"
   ]
  },
  {
   "cell_type": "markdown",
   "metadata": {
    "slideshow": {
     "slide_type": "slide"
    }
   },
   "source": [
    "# Why It's Great\n",
    "\n",
    "These attributes will come up over and over as we explore this tool.\n",
    "\n",
    "<div class=\"stretch\"><img src=\"PresentationImages/LIVI.png\"/></div>"
   ]
  },
  {
   "cell_type": "markdown",
   "metadata": {
    "slideshow": {
     "slide_type": "slide"
    }
   },
   "source": [
    "# \"Literate\"\n",
    "\n",
    "The other attributes will be clear, but a word on Literate (apologies to Knuth for the oversimplification)\n",
    "\n",
    "<div class=\"stretch\"><img src=\"PresentationImages/Literate.png\"/></div>\n",
    "\n",
    "This is a big part of where the title comes from: it's about the story more than the software. (Because of inline output, Notebook may even be 'SuperLiterate'.)\n",
    "\n",
    "**Update**: IPython's founder, [@fperez_org](http://twitter.com/fperez_org) kindly pointed me to a blog post of his; they prefer the term [Literate Computing](http://blog.fperez.org/2013/04/literate-computing-and-computational.html)."
   ]
  },
  {
   "cell_type": "markdown",
   "metadata": {
    "slideshow": {
     "slide_type": "slide"
    }
   },
   "source": [
    "# Enough Meta: Let's Install It.\n",
    "\n",
    "<div class=\"stretch\"><img src=\"PresentationImages/01_Install.png\"/></div>\n",
    "\n",
    "`pip install ipython[all]`? That was easy.\\*\n",
    "\n",
    "    *Dependencies can be painful, YMMV."
   ]
  },
  {
   "cell_type": "markdown",
   "metadata": {
    "slideshow": {
     "slide_type": "slide"
    }
   },
   "source": [
    "# Run 'ipython notebook'\n",
    "\n",
    "<div class=\"stretch\"><img src=\"PresentationImages/03_Process.png\"/></div>\n",
    "\n",
    "**Clarification**: [As @fperez_org pointed out](https://twitter.com/fperez_org/status/502656111561146368), the kernel actually only speaks [zeromq](http://zeromq.org/), the notebook process handles browser communications."
   ]
  },
  {
   "cell_type": "markdown",
   "metadata": {
    "slideshow": {
     "slide_type": "slide"
    }
   },
   "source": [
    "# Browser Launches\n",
    "\n",
    "<div class=\"stretch\"><img src=\"PresentationImages/04_Tree.png\"/></div>"
   ]
  },
  {
   "cell_type": "markdown",
   "metadata": {
    "slideshow": {
     "slide_type": "slide"
    }
   },
   "source": [
    "# Build a notebook\n",
    "\n",
    "<div class=\"stretch\"><img src=\"PresentationImages/05_Notebook.png\"/></div>\n",
    "\n",
    "(Actually, it's a process per open notebook.)"
   ]
  },
  {
   "cell_type": "markdown",
   "metadata": {
    "slideshow": {
     "slide_type": "slide"
    }
   },
   "source": [
    "# Run A Cell\n",
    "\n",
    "<div class=\"stretch\"><img src=\"PresentationImages/07_Websocket.png\"/></div>"
   ]
  },
  {
   "cell_type": "markdown",
   "metadata": {
    "slideshow": {
     "slide_type": "slide"
    }
   },
   "source": [
    "# No Need To Be Local...\n",
    "\n",
    "<div class=\"stretch\"><img src=\"PresentationImages/06_ToTheCloud.png\"/></div>"
   ]
  },
  {
   "cell_type": "markdown",
   "metadata": {
    "slideshow": {
     "slide_type": "slide"
    }
   },
   "source": [
    "# Demo Time\n",
    "\n",
    "<a href=\"http://127.0.0.1:8888/notebooks/Quick%20Demo.ipynb\"><div class=\"stretch\"><img src=\"PresentationImages/doitlive.jpg\"/></div></a>"
   ]
  },
  {
   "cell_type": "markdown",
   "metadata": {
    "slideshow": {
     "slide_type": "slide"
    }
   },
   "source": [
    "# Notebook Workflows: The Big Picture\n",
    "\n",
    "<div class=\"stretch\"><img src=\"PresentationImages/IPynbWorkflows.png\"/></div>\n",
    "\n",
    "<small>Not covered today but cool; clustering capabilities</small>"
   ]
  },
  {
   "cell_type": "markdown",
   "metadata": {
    "slideshow": {
     "slide_type": "slide"
    }
   },
   "source": [
    "# How I Fell: Report Workflow v1\n",
    "\n",
    "<div class=\"stretch\"><img src=\"PresentationImages/original_report_flow.png\"/></div>\n",
    "\n",
    "Problems: \n",
    "\n",
    "* slow (read whole data file each time, lots of context switching)\n",
    "* version controlled analysis, but not commentary, difficult to 'go back to'\n",
    "* Automating requires non-trivial additional dev\n",
    "\n"
   ]
  },
  {
   "cell_type": "markdown",
   "metadata": {
    "slideshow": {
     "slide_type": "slide"
    }
   },
   "source": [
    "# Report Workflow ``now()``\n",
    "\n",
    "Speedups primarily from no context switching, interactivity, and reusable data loading.\n",
    "\n",
    "<img style=\"float:left;\" src=\"PresentationImages/now_report_flow.png\"/>\n",
    "<img style=\"float:right;\" src=\"PresentationImages/iteration_diffs.png\"/>\n",
    "\n",
    "Reproducible, literate, annotatable, *auditable*.\n"
   ]
  },
  {
   "cell_type": "markdown",
   "metadata": {
    "slideshow": {
     "slide_type": "slide"
    }
   },
   "source": [
    "# Iterative Coding Example\n",
    "\n",
    "\"What are the most popular links being tweeted about #linuxcon?\"\n",
    "\n",
    "<div class=\"stretch\"><img src=\"PresentationImages/linuxcon_tweets.png\"/></div>"
   ]
  },
  {
   "cell_type": "markdown",
   "metadata": {
    "slideshow": {
     "slide_type": "slide"
    }
   },
   "source": [
    "### Let's start here\n",
    "\n",
    "This (very solid) book is written largely with Notebook, and you can download the `.ipynb` files!\n",
    "\n",
    "<a href=\"http://shop.oreilly.com/product/0636920030195.do\"><div class=\"stretch\"><img src=\"PresentationImages/MiningSocialWeb.jpg\"/></div></a>"
   ]
  },
  {
   "cell_type": "markdown",
   "metadata": {
    "slideshow": {
     "slide_type": "slide"
    }
   },
   "source": [
    "# Interactive Example: Sign in"
   ]
  },
  {
   "cell_type": "code",
   "execution_count": 1,
   "metadata": {
    "slideshow": {
     "slide_type": "-"
    }
   },
   "outputs": [],
   "source": [
    "import json\n",
    "import twitter\n",
    "\n",
    "creds = json.load(open('/Users/jbarratt/.twitter.json'))\n",
    "auth = twitter.oauth.OAuth(creds['access_token'], \n",
    "                           creds['access_token_secret'],\n",
    "                           creds['api_key'], \n",
    "                           creds['api_secret'])\n",
    "twitter_api = twitter.Twitter(auth=auth)"
   ]
  },
  {
   "cell_type": "markdown",
   "metadata": {
    "slideshow": {
     "slide_type": "slide"
    }
   },
   "source": [
    "# Interactive Example: Search for '#linuxcon'"
   ]
  },
  {
   "cell_type": "code",
   "execution_count": 2,
   "metadata": {
    "slideshow": {
     "slide_type": "-"
    }
   },
   "outputs": [
    {
     "name": "stdout",
     "output_type": "stream",
     "text": [
      "100\n"
     ]
    }
   ],
   "source": [
    "search_results = twitter_api.search.tweets(q='#linuxcon', count=5000)\n",
    "statuses = search_results['statuses']\n",
    "\n",
    "print len(statuses)\n",
    "\n",
    "# Original source for this loop:\n",
    "# http://nbviewer.ipython.org/github/ptwobrussell/Mining-the-Social-Web-2nd-Edition/blob/master/ipynb/Chapter%201%20-%20Mining%20Twitter.ipynb\n",
    "\n",
    "for _ in range(5):\n",
    "    try:\n",
    "        next_results = search_results['search_metadata']['next_results']\n",
    "    except KeyError, e: # No more results when next_results doesn't exist\n",
    "        break\n",
    "    \n",
    "    kwargs = dict([ kv.split('=') for kv in next_results[1:].split(\"&\") ])\n",
    "    \n",
    "    search_results = twitter_api.search.tweets(**kwargs)\n",
    "    statuses += search_results['statuses']"
   ]
  },
  {
   "cell_type": "code",
   "execution_count": 3,
   "metadata": {},
   "outputs": [
    {
     "name": "stdout",
     "output_type": "stream",
     "text": [
      "200\n"
     ]
    }
   ],
   "source": [
    "print len(statuses)"
   ]
  },
  {
   "cell_type": "markdown",
   "metadata": {},
   "source": [
    "# Useful things to note\n",
    "\n",
    "* Now we have a `statuses` list that's stored in our kernel. No hitting twitter rate limits.\n",
    "* I got that code from the mining the social web book, but I have no idea what to do next. We can explore."
   ]
  },
  {
   "cell_type": "markdown",
   "metadata": {
    "slideshow": {
     "slide_type": "slide"
    }
   },
   "source": [
    "# Interactive Example: Inspect Results"
   ]
  },
  {
   "cell_type": "code",
   "execution_count": 6,
   "metadata": {
    "slideshow": {
     "slide_type": "-"
    }
   },
   "outputs": [
    {
     "name": "stdout",
     "output_type": "stream",
     "text": [
      "{\n",
      " \"contributors\": null, \n",
      " \"truncated\": false, \n",
      " \"text\": \"RT @TechJournalist: the world\\u2019s first 3D car #linuxcon http://t.co/bDMkG6lgQX\", \n",
      " \"in_reply_to_status_id\": null, \n",
      " \"id\": 502283402863980545, \n",
      " \"favorite_count\": 0, \n",
      " \"source\": \"<a href=\\\"http://twitter.com/download/android\\\" rel=\\\"nofollow\\\">Twitter for Android</a>\", \n",
      " \"retweeted\": false, \n",
      " \"coordinates\": null, \n",
      " \"entities\": {\n",
      "  \"symbols\": [], \n",
      "  \"user_mentions\": [\n",
      "   {\n",
      "    \"id\": 15488482, \n",
      "    \"indices\": [\n",
      "     3, \n",
      "     18\n",
      "    ], \n",
      "    \"id_str\": \"15488482\", \n",
      "    \"screen_name\": \"TechJournalist\", \n",
      "    \"name\": \"Sean Kerner\"\n",
      "   }\n",
      "  ], \n",
      "  \"hashtags\": [\n",
      "   {\n",
      "    \"indices\": [\n",
      "     45, \n",
      "     54\n",
      "    ], \n",
      "    \"text\": \"linuxcon\"\n",
      "   }\n",
      "  ], \n",
      "  \"urls\": [], \n",
      "  \"media\": [\n",
      "   {\n",
      "    \"source_status_id_str\": \"502221932486733824\", \n",
      "    \"expanded_url\": \"http://twitter.com/TechJournalist/status/502221932486733824/photo/1\", \n",
      "    \"display_url\": \"pic.twitter.com/bDMkG6lgQX\", \n",
      "    \"url\": \"http://t.co/bDMkG6lgQX\", \n",
      "    \"media_url_https\": \"https://pbs.twimg.com/media/BvhAL6SIAAA3vfG.jpg\", \n",
      "    \"source_status_id\": 502221932486733824, \n",
      "    \"id_str\": \"502221931819827200\", \n",
      "    \"sizes\": {\n",
      "     \"small\": {\n",
      "      \"h\": 255, \n",
      "      \"resize\": \"fit\", \n",
      "      \"w\": 340\n",
      "     }, \n",
      "     \"large\": {\n",
      "      \"h\": 480, \n",
      "      \"resize\": \"fit\", \n",
      "      \"w\": 640\n",
      "     }, \n",
      "     \"medium\": {\n",
      "      \"h\": 450, \n",
      "      \"resize\": \"fit\", \n",
      "      \"w\": 600\n",
      "     }, \n",
      "     \"thumb\": {\n",
      "      \"h\": 150, \n",
      "      \"resize\": \"crop\", \n",
      "      \"w\": 150\n",
      "     }\n",
      "    }, \n",
      "    \"indices\": [\n",
      "     55, \n",
      "     77\n",
      "    ], \n",
      "    \"type\": \"photo\", \n",
      "    \"id\": 502221931819827200, \n",
      "    \"media_url\": \"http://pbs.twimg.com/media/BvhAL6SIAAA3vfG.jpg\"\n",
      "   }\n",
      "  ]\n",
      " }, \n",
      " \"in_reply_to_screen_name\": null, \n",
      " \"in_reply_to_user_id\": null, \n",
      " \"retweet_count\": 3, \n",
      " \"id_str\": \"502283402863980545\", \n",
      " \"favorited\": false, \n",
      " \"retweeted_status\": {\n",
      "  \"contributors\": null, \n",
      "  \"truncated\": false, \n",
      "  \"text\": \"the world\\u2019s first 3D car #linuxcon http://t.co/bDMkG6lgQX\", \n",
      "  \"in_reply_to_status_id\": null, \n",
      "  \"id\": 502221932486733824, \n",
      "  \"favorite_count\": 2, \n",
      "  \"source\": \"<a href=\\\"https://about.twitter.com/products/tweetdeck\\\" rel=\\\"nofollow\\\">TweetDeck</a>\", \n",
      "  \"retweeted\": false, \n",
      "  \"coordinates\": null, \n",
      "  \"entities\": {\n",
      "   \"symbols\": [], \n",
      "   \"user_mentions\": [], \n",
      "   \"hashtags\": [\n",
      "    {\n",
      "     \"indices\": [\n",
      "      25, \n",
      "      34\n",
      "     ], \n",
      "     \"text\": \"linuxcon\"\n",
      "    }\n",
      "   ], \n",
      "   \"urls\": [], \n",
      "   \"media\": [\n",
      "    {\n",
      "     \"expanded_url\": \"http://twitter.com/TechJournalist/status/502221932486733824/photo/1\", \n",
      "     \"display_url\": \"pic.twitter.com/bDMkG6lgQX\", \n",
      "     \"url\": \"http://t.co/bDMkG6lgQX\", \n",
      "     \"media_url_https\": \"https://pbs.twimg.com/media/BvhAL6SIAAA3vfG.jpg\", \n",
      "     \"id_str\": \"502221931819827200\", \n",
      "     \"sizes\": {\n",
      "      \"small\": {\n",
      "       \"h\": 255, \n",
      "       \"resize\": \"fit\", \n",
      "       \"w\": 340\n",
      "      }, \n",
      "      \"large\": {\n",
      "       \"h\": 480, \n",
      "       \"resize\": \"fit\", \n",
      "       \"w\": 640\n",
      "      }, \n",
      "      \"medium\": {\n",
      "       \"h\": 450, \n",
      "       \"resize\": \"fit\", \n",
      "       \"w\": 600\n",
      "      }, \n",
      "      \"thumb\": {\n",
      "       \"h\": 150, \n",
      "       \"resize\": \"crop\", \n",
      "       \"w\": 150\n",
      "      }\n",
      "     }, \n",
      "     \"indices\": [\n",
      "      35, \n",
      "      57\n",
      "     ], \n",
      "     \"type\": \"photo\", \n",
      "     \"id\": 502221931819827200, \n",
      "     \"media_url\": \"http://pbs.twimg.com/media/BvhAL6SIAAA3vfG.jpg\"\n",
      "    }\n",
      "   ]\n",
      "  }, \n",
      "  \"in_reply_to_screen_name\": null, \n",
      "  \"in_reply_to_user_id\": null, \n",
      "  \"retweet_count\": 3, \n",
      "  \"id_str\": \"502221932486733824\", \n",
      "  \"favorited\": false, \n",
      "  \"user\": {\n",
      "   \"follow_request_sent\": false, \n",
      "   \"profile_use_background_image\": true, \n",
      "   \"default_profile_image\": false, \n",
      "   \"id\": 15488482, \n",
      "   \"profile_background_image_url_https\": \"https://abs.twimg.com/images/themes/theme9/bg.gif\", \n",
      "   \"verified\": false, \n",
      "   \"profile_text_color\": \"666666\", \n",
      "   \"profile_image_url_https\": \"https://pbs.twimg.com/profile_images/422904373/vulcan_salute_bigger_normal.png\", \n",
      "   \"profile_sidebar_fill_color\": \"252429\", \n",
      "   \"entities\": {\n",
      "    \"url\": {\n",
      "     \"urls\": [\n",
      "      {\n",
      "       \"url\": \"http://t.co/zA94vcOwI7\", \n",
      "       \"indices\": [\n",
      "        0, \n",
      "        22\n",
      "       ], \n",
      "       \"expanded_url\": \"http://news.google.com/news?hl=en&ned=us&q=%22sean+michael+kerner%22&ie=UTF-8&scorin\", \n",
      "       \"display_url\": \"news.google.com/news?hl=en&ned\\u2026\"\n",
      "      }\n",
      "     ]\n",
      "    }, \n",
      "    \"description\": {\n",
      "     \"urls\": []\n",
      "    }\n",
      "   }, \n",
      "   \"followers_count\": 7557, \n",
      "   \"profile_sidebar_border_color\": \"181A1E\", \n",
      "   \"id_str\": \"15488482\", \n",
      "   \"profile_background_color\": \"1A1B1F\", \n",
      "   \"listed_count\": 401, \n",
      "   \"is_translation_enabled\": false, \n",
      "   \"utc_offset\": -14400, \n",
      "   \"statuses_count\": 21117, \n",
      "   \"description\": \"IT consultant, technology user, tinkerer and sometimes Klingon\", \n",
      "   \"friends_count\": 1210, \n",
      "   \"location\": \"online\", \n",
      "   \"profile_link_color\": \"2FC2EF\", \n",
      "   \"profile_image_url\": \"http://pbs.twimg.com/profile_images/422904373/vulcan_salute_bigger_normal.png\", \n",
      "   \"following\": false, \n",
      "   \"geo_enabled\": true, \n",
      "   \"profile_background_image_url\": \"http://abs.twimg.com/images/themes/theme9/bg.gif\", \n",
      "   \"screen_name\": \"TechJournalist\", \n",
      "   \"lang\": \"en\", \n",
      "   \"profile_background_tile\": false, \n",
      "   \"favourites_count\": 2548, \n",
      "   \"name\": \"Sean Kerner\", \n",
      "   \"notifications\": false, \n",
      "   \"url\": \"http://t.co/zA94vcOwI7\", \n",
      "   \"created_at\": \"Sat Jul 19 00:55:42 +0000 2008\", \n",
      "   \"contributors_enabled\": false, \n",
      "   \"time_zone\": \"Eastern Time (US & Canada)\", \n",
      "   \"protected\": false, \n",
      "   \"default_profile\": false, \n",
      "   \"is_translator\": false\n",
      "  }, \n",
      "  \"geo\": null, \n",
      "  \"in_reply_to_user_id_str\": null, \n",
      "  \"possibly_sensitive\": false, \n",
      "  \"lang\": \"en\", \n",
      "  \"created_at\": \"Wed Aug 20 22:33:34 +0000 2014\", \n",
      "  \"in_reply_to_status_id_str\": null, \n",
      "  \"place\": null, \n",
      "  \"metadata\": {\n",
      "   \"iso_language_code\": \"en\", \n",
      "   \"result_type\": \"recent\"\n",
      "  }\n",
      " }, \n",
      " \"user\": {\n",
      "  \"follow_request_sent\": false, \n",
      "  \"profile_use_background_image\": true, \n",
      "  \"default_profile_image\": false, \n",
      "  \"id\": 9463342, \n",
      "  \"profile_background_image_url_https\": \"https://abs.twimg.com/images/themes/theme15/bg.png\", \n",
      "  \"verified\": false, \n",
      "  \"profile_text_color\": \"333333\", \n",
      "  \"profile_image_url_https\": \"https://pbs.twimg.com/profile_images/3360362988/bffebd957a5d9a2c34fa90307db35330_normal.jpeg\", \n",
      "  \"profile_sidebar_fill_color\": \"C0DFEC\", \n",
      "  \"entities\": {\n",
      "   \"description\": {\n",
      "    \"urls\": []\n",
      "   }\n",
      "  }, \n",
      "  \"followers_count\": 218, \n",
      "  \"profile_sidebar_border_color\": \"A8C7F7\", \n",
      "  \"id_str\": \"9463342\", \n",
      "  \"profile_background_color\": \"022330\", \n",
      "  \"listed_count\": 25, \n",
      "  \"is_translation_enabled\": false, \n",
      "  \"utc_offset\": -14400, \n",
      "  \"statuses_count\": 3090, \n",
      "  \"description\": \"Suffers from skiing addiction; Director of Strategic Programs at The Linux Foundation. Did I mention also slightly addicted to technology?\", \n",
      "  \"friends_count\": 314, \n",
      "  \"location\": \"\", \n",
      "  \"profile_link_color\": \"0084B4\", \n",
      "  \"profile_image_url\": \"http://pbs.twimg.com/profile_images/3360362988/bffebd957a5d9a2c34fa90307db35330_normal.jpeg\", \n",
      "  \"following\": false, \n",
      "  \"geo_enabled\": false, \n",
      "  \"profile_banner_url\": \"https://pbs.twimg.com/profile_banners/9463342/1398310027\", \n",
      "  \"profile_background_image_url\": \"http://abs.twimg.com/images/themes/theme15/bg.png\", \n",
      "  \"screen_name\": \"mdolan\", \n",
      "  \"lang\": \"en\", \n",
      "  \"profile_background_tile\": false, \n",
      "  \"favourites_count\": 89, \n",
      "  \"name\": \"Mike Dolan\", \n",
      "  \"notifications\": false, \n",
      "  \"url\": null, \n",
      "  \"created_at\": \"Mon Oct 15 21:10:59 +0000 2007\", \n",
      "  \"contributors_enabled\": false, \n",
      "  \"time_zone\": \"Eastern Time (US & Canada)\", \n",
      "  \"protected\": false, \n",
      "  \"default_profile\": false, \n",
      "  \"is_translator\": false\n",
      " }, \n",
      " \"geo\": null, \n",
      " \"in_reply_to_user_id_str\": null, \n",
      " \"possibly_sensitive\": false, \n",
      " \"lang\": \"en\", \n",
      " \"created_at\": \"Thu Aug 21 02:37:49 +0000 2014\", \n",
      " \"in_reply_to_status_id_str\": null, \n",
      " \"place\": null, \n",
      " \"metadata\": {\n",
      "  \"iso_language_code\": \"en\", \n",
      "  \"result_type\": \"recent\"\n",
      " }\n",
      "}\n"
     ]
    }
   ],
   "source": [
    "# We know the results are in 'statuses', let's peek at one.\n",
    "print json.dumps(statuses[1], indent=1)"
   ]
  },
  {
   "cell_type": "markdown",
   "metadata": {
    "slideshow": {
     "slide_type": "slide"
    }
   },
   "source": [
    "# Interactive Example: Link Extraction Attempt"
   ]
  },
  {
   "cell_type": "code",
   "execution_count": 7,
   "metadata": {
    "slideshow": {
     "slide_type": "slide"
    }
   },
   "outputs": [
    {
     "data": {
      "text/plain": [
       "[u'http://t.co/e4Z5rlGpLb']"
      ]
     },
     "execution_count": 7,
     "metadata": {},
     "output_type": "execute_result"
    }
   ],
   "source": [
    "import re # important note; this is common practice in notebooks, but violates PEP8\n",
    "\n",
    "# \"Imports are always put at the top of the file, just after any \n",
    "# module comments and docstrings, and before module globals and constants.\"\n",
    "\n",
    "# Yes, this is a terrible way to find URL-like strings.\n",
    "re.findall(r'(https?://\\S*)', statuses[0]['text'])"
   ]
  },
  {
   "cell_type": "markdown",
   "metadata": {},
   "source": [
    "That looks plausible. Let's try applying that to all our results."
   ]
  },
  {
   "cell_type": "code",
   "execution_count": 8,
   "metadata": {
    "slideshow": {
     "slide_type": "fragment"
    }
   },
   "outputs": [
    {
     "data": {
      "text/plain": [
       "[u'http://t.co/e4Z5rlGpLb',\n",
       " u'http://t.co/bDMkG6lgQX',\n",
       " u'http://t.co/CLOf5nsdPp',\n",
       " u'http://t.co/sp1g2oWfHB',\n",
       " u'http://t.co/OxrSYOrm6S',\n",
       " u'http://t.\\u2026',\n",
       " u'http://t.co/dMikYBhbpd',\n",
       " u'http://t.co/tMyCAxBwyS),',\n",
       " u'http://t.co/26nvyxuH30',\n",
       " u'http://t.co/sf6p5\\u2026']"
      ]
     },
     "execution_count": 8,
     "metadata": {},
     "output_type": "execute_result"
    }
   ],
   "source": [
    "urls = []\n",
    "for status in statuses:\n",
    "    urls += re.findall(r'(https?://\\S*)', status['text'])\n",
    "urls[0:10]"
   ]
  },
  {
   "cell_type": "markdown",
   "metadata": {
    "slideshow": {
     "slide_type": "fragment"
    }
   },
   "source": [
    "Huh, not great, if we use the `text` it looks like things get truncated. (`\\u2026` is … in unicode, what you see when a tweet trails off.)\n",
    "Looking at the JSON again, it looks like a lot of these have `['entities']['urls'][(list)]['expanded_url']`, let's try for those."
   ]
  },
  {
   "cell_type": "markdown",
   "metadata": {
    "slideshow": {
     "slide_type": "slide"
    }
   },
   "source": [
    "# Interactive Example: Link Extraction Take Two"
   ]
  },
  {
   "cell_type": "code",
   "execution_count": 9,
   "metadata": {
    "slideshow": {
     "slide_type": "-"
    }
   },
   "outputs": [
    {
     "data": {
      "text/plain": [
       "[u'http://www.slideshare.net/jpetazzo/docker-linux-containers-lxc-and-security',\n",
       " u'http://bit.ly/1vjbwEV',\n",
       " u'http://www.brendangregg.com/linuxperf.html',\n",
       " u'http://www.slideshare.net/aimeemaree/firefoxos-and-its-use-of-linux-a-deep-dive-into-gonk-architecture',\n",
       " u'http://instagram.com/p/r8WieND4Jc/']"
      ]
     },
     "execution_count": 9,
     "metadata": {},
     "output_type": "execute_result"
    }
   ],
   "source": [
    "urls = []\n",
    "for status in statuses:\n",
    "    try:\n",
    "        urls += [x['expanded_url'] for x in status['entities']['urls']]\n",
    "    except:\n",
    "        pass\n",
    "urls[0:5]"
   ]
  },
  {
   "cell_type": "markdown",
   "metadata": {},
   "source": [
    "Great! No more unicode weirdness. But, those shortened links are still redirects. Can we resolve them?"
   ]
  },
  {
   "cell_type": "markdown",
   "metadata": {
    "slideshow": {
     "slide_type": "slide"
    }
   },
   "source": [
    "# Interactive Example: Redirect Resolution"
   ]
  },
  {
   "cell_type": "code",
   "execution_count": 10,
   "metadata": {
    "slideshow": {
     "slide_type": "-"
    }
   },
   "outputs": [
    {
     "data": {
      "text/plain": [
       "u'http://www.linuxtoday.com/developer/what-the-linux-foundation-does-for-linux-linuxcon.html'"
      ]
     },
     "execution_count": 10,
     "metadata": {},
     "output_type": "execute_result"
    }
   ],
   "source": [
    "import requests\n",
    "\n",
    "rv = requests.get('http://bit.ly/1vjbwEV')\n",
    "rv.url"
   ]
  },
  {
   "cell_type": "markdown",
   "metadata": {},
   "source": [
    "Handy. Turns out if you get something with `requests` you can just access the `.url` property and find what it got after follwing all the redirects."
   ]
  },
  {
   "cell_type": "markdown",
   "metadata": {
    "slideshow": {
     "slide_type": "slide"
    }
   },
   "source": [
    "# Interactive Example: Counting URL's"
   ]
  },
  {
   "cell_type": "code",
   "execution_count": 11,
   "metadata": {
    "slideshow": {
     "slide_type": "-"
    }
   },
   "outputs": [],
   "source": [
    "from collections import Counter\n",
    "import requests\n",
    "\n",
    "# collections.Counter is a handy way to find 'Top N'\n",
    "popular = Counter()\n",
    "# Don't need to look up the same short link twice.\n",
    "cache = {}\n",
    "\n",
    "for url in urls:\n",
    "    if url in cache:\n",
    "        popular[cache[url]] += 1\n",
    "    else:\n",
    "        try:\n",
    "            rv = requests.get(url)\n",
    "            # resolve the original URL\n",
    "            cache[url] = rv.url\n",
    "            popular[rv.url] += 1\n",
    "        except:\n",
    "            # ignore anything bad that happens\n",
    "            pass"
   ]
  },
  {
   "cell_type": "markdown",
   "metadata": {
    "slideshow": {
     "slide_type": "slide"
    }
   },
   "source": [
    "# Interactive Example: Results"
   ]
  },
  {
   "cell_type": "code",
   "execution_count": 12,
   "metadata": {},
   "outputs": [
    {
     "data": {
      "text/plain": [
       "[(u'http://www.brendangregg.com/linuxperf.html', 28),\n",
       " (u'http://www.slideshare.net/jpetazzo/docker-linux-containers-lxc-and-security',\n",
       "  15),\n",
       " (u'http://www.slideshare.net/aimeemaree/firefoxos-and-its-use-of-linux-a-deep-dive-into-gonk-architecture',\n",
       "  9),\n",
       " (u'http://lccona14.sched.org/event/8e7a38ff932af2546adf72fe77dd0374', 7),\n",
       " (u'http://www.zdnet.com/linus-torvalds-still-wants-the-linux-desktop-7000032805/',\n",
       "  6),\n",
       " (u'http://www.linuxtoday.com/developer/what-the-linux-foundation-does-for-linux-linuxcon.html',\n",
       "  2),\n",
       " (u'http://instagram.com/p/r8JiCXjU82/', 1),\n",
       " (u'http://www.linuxtoday.com/developer/thanks-for-making-games-faster-top-10-quotes-from-the-linux-kernel-developer-panel-linuxcon.html',\n",
       "  1),\n",
       " (u'http://instagram.com/p/r8WieND4Jc/', 1),\n",
       " (u'http://instagram.com/p/r8K8VHD4IC/', 1)]"
      ]
     },
     "execution_count": 12,
     "metadata": {},
     "output_type": "execute_result"
    }
   ],
   "source": [
    "popular.most_common(10)"
   ]
  },
  {
   "cell_type": "markdown",
   "metadata": {
    "slideshow": {
     "slide_type": "slide"
    }
   },
   "source": [
    "# Why was that cool?\n",
    "\n",
    "* Interactive & Exploratory. \n",
    "    * Scroll back up, re-review JSON, go another route\n",
    "* Cached all the things\n",
    "    * Not hitting twitter a bunch (rate limits, etc)\n",
    "    * Static data set (not changing every time you run the code)\n",
    "    * Can even keep developing while on conference wifi (*oohhhhhh*)\n",
    "* Easy to keep around as a log for future experiments\n",
    "* Easy to take that learning and 'bake' it into something more permanent"
   ]
  },
  {
   "cell_type": "markdown",
   "metadata": {
    "slideshow": {
     "slide_type": "slide"
    }
   },
   "source": [
    "# The \"IPython\" in \"IPython Notebook\"`: I*nteractive* Python\n",
    "\n",
    "\n",
    "<div class=\"stretch\"><img src=\"PresentationImages/IPython_v_Notebook_v2.png\"/></div>"
   ]
  },
  {
   "cell_type": "markdown",
   "metadata": {
    "slideshow": {
     "slide_type": "slide"
    }
   },
   "source": [
    "# The Future \n",
    "\n",
    "<div class=\"stretch\"><img src=\"PresentationImages/jupyter.png\"/></div>"
   ]
  },
  {
   "cell_type": "markdown",
   "metadata": {
    "slideshow": {
     "slide_type": "slide"
    }
   },
   "source": [
    "# Skills port to the REPL\n",
    "\n",
    "```\n",
    "$ ipython\n",
    "Python 2.7.6 (default, Jan 28 2014, 10:24:42)\n",
    "Type \"copyright\", \"credits\" or \"license\" for more information.\n",
    "\n",
    "IPython 3.0.0-dev -- An enhanced Interactive Python.\n",
    "?         -> Introduction and overview of IPython's features.\n",
    "%quickref -> Quick reference.\n",
    "help      -> Python's own help system.\n",
    "object?   -> Details about 'object', use 'object??' for extra details.\n",
    "\n",
    "In [1]: import webbrowser\n",
    "\n",
    "In [2]: webbrowser.\n",
    "webbrowser.BackgroundBrowser    webbrowser.MacOSX               webbrowser.open_new_tab\n",
    "webbrowser.BaseBrowser          webbrowser.MacOSXOSAScript      webbrowser.os\n",
    "webbrowser.Chrome               webbrowser.Mozilla              webbrowser.register\n",
    "webbrowser.Chromium             webbrowser.Netscape             webbrowser.register_X_browsers\n",
    "webbrowser.Elinks               webbrowser.Opera                webbrowser.shlex\n",
    "webbrowser.Error                webbrowser.UnixBrowser          webbrowser.stat\n",
    "webbrowser.Galeon               webbrowser.get                  webbrowser.subprocess\n",
    "webbrowser.GenericBrowser       webbrowser.main                 webbrowser.sys\n",
    "webbrowser.Grail                webbrowser.open                 webbrowser.time\n",
    "webbrowser.Konqueror            webbrowser.open_new\n",
    "```"
   ]
  },
  {
   "cell_type": "markdown",
   "metadata": {
    "slideshow": {
     "slide_type": "slide"
    }
   },
   "source": [
    "# Interactive Gotcha: Single Namespace\n",
    "\n",
    "As you recall:\n",
    "\n",
    "![Remember Me](PresentationImages/03_Process.png)"
   ]
  },
  {
   "cell_type": "markdown",
   "metadata": {},
   "source": [
    "# So what happens when you do..."
   ]
  },
  {
   "cell_type": "code",
   "execution_count": 17,
   "metadata": {
    "slideshow": {
     "slide_type": "-"
    }
   },
   "outputs": [
    {
     "data": {
      "text/plain": [
       "5"
      ]
     },
     "execution_count": 17,
     "metadata": {},
     "output_type": "execute_result"
    }
   ],
   "source": [
    "x = 5\n",
    "x"
   ]
  },
  {
   "cell_type": "code",
   "execution_count": 24,
   "metadata": {
    "slideshow": {
     "slide_type": "fragment"
    }
   },
   "outputs": [
    {
     "data": {
      "text/plain": [
       "12"
      ]
     },
     "execution_count": 24,
     "metadata": {},
     "output_type": "execute_result"
    }
   ],
   "source": [
    "# I ran this cell a few times\n",
    "x += 1\n",
    "x"
   ]
  },
  {
   "cell_type": "markdown",
   "metadata": {
    "slideshow": {
     "slide_type": "slide"
    }
   },
   "source": [
    "# IPython Magic: Development Powertools\n",
    "\n",
    "Which method is faster?"
   ]
  },
  {
   "cell_type": "code",
   "execution_count": 14,
   "metadata": {
    "slideshow": {
     "slide_type": "-"
    }
   },
   "outputs": [
    {
     "name": "stdout",
     "output_type": "stream",
     "text": [
      "1000 loops, best of 3: 249 µs per loop\n"
     ]
    }
   ],
   "source": [
    "import random, string\n",
    "\n",
    "# make a big list of random strings\n",
    "words = [''.join(random.choice(string.ascii_uppercase) for _ in range(6)) for _ in range(1000)]\n",
    "\n",
    "# Plan A: turn them all into lowercase with a list comprehension\n",
    "def listcomp_lower(words):\n",
    "    return [w.lower() for w in words]\n",
    "\n",
    "# Plan B: Start with a list, and word by word append the lowercase versions\n",
    "def append_lower(words):\n",
    "    new = []\n",
    "    for w in words:\n",
    "        new.append(w.lower())\n",
    "    return new\n",
    "\n",
    "# %timeit is IPython Magic to do a quick benchmark\n",
    "%timeit append_lower(words)"
   ]
  },
  {
   "cell_type": "code",
   "execution_count": 15,
   "metadata": {},
   "outputs": [
    {
     "name": "stdout",
     "output_type": "stream",
     "text": [
      "10000 loops, best of 3: 179 µs per loop\n"
     ]
    }
   ],
   "source": [
    "%timeit listcomp_lower(words)"
   ]
  },
  {
   "cell_type": "code",
   "execution_count": 25,
   "metadata": {
    "slideshow": {
     "slide_type": "slide"
    }
   },
   "outputs": [
    {
     "data": {
      "application/json": {
       "cell": {
        "!": "OSMagics",
        "HTML": "Other",
        "SVG": "Other",
        "bash": "Other",
        "capture": "ExecutionMagics",
        "debug": "ExecutionMagics",
        "file": "Other",
        "html": "DisplayMagics",
        "javascript": "DisplayMagics",
        "latex": "DisplayMagics",
        "perl": "Other",
        "prun": "ExecutionMagics",
        "pypy": "Other",
        "python": "Other",
        "python2": "Other",
        "python3": "Other",
        "ruby": "Other",
        "script": "ScriptMagics",
        "sh": "Other",
        "svg": "DisplayMagics",
        "sx": "OSMagics",
        "system": "OSMagics",
        "time": "ExecutionMagics",
        "timeit": "ExecutionMagics",
        "writefile": "OSMagics"
       },
       "line": {
        "alias": "OSMagics",
        "alias_magic": "BasicMagics",
        "autocall": "AutoMagics",
        "automagic": "AutoMagics",
        "autosave": "KernelMagics",
        "bookmark": "OSMagics",
        "cat": "Other",
        "cd": "OSMagics",
        "clear": "KernelMagics",
        "colors": "BasicMagics",
        "config": "ConfigMagics",
        "connect_info": "KernelMagics",
        "cp": "Other",
        "debug": "ExecutionMagics",
        "dhist": "OSMagics",
        "dirs": "OSMagics",
        "doctest_mode": "KernelMagics",
        "ed": "Other",
        "edit": "KernelMagics",
        "env": "OSMagics",
        "gui": "BasicMagics",
        "hist": "Other",
        "history": "HistoryMagics",
        "install_default_config": "DeprecatedMagics",
        "install_ext": "ExtensionMagics",
        "install_profiles": "DeprecatedMagics",
        "killbgscripts": "ScriptMagics",
        "ldir": "Other",
        "less": "KernelMagics",
        "lf": "Other",
        "lk": "Other",
        "ll": "Other",
        "load": "CodeMagics",
        "load_ext": "ExtensionMagics",
        "loadpy": "CodeMagics",
        "logoff": "LoggingMagics",
        "logon": "LoggingMagics",
        "logstart": "LoggingMagics",
        "logstate": "LoggingMagics",
        "logstop": "LoggingMagics",
        "ls": "Other",
        "lsmagic": "BasicMagics",
        "lx": "Other",
        "macro": "ExecutionMagics",
        "magic": "BasicMagics",
        "man": "KernelMagics",
        "matplotlib": "PylabMagics",
        "mkdir": "Other",
        "more": "KernelMagics",
        "mv": "Other",
        "notebook": "BasicMagics",
        "page": "BasicMagics",
        "pastebin": "CodeMagics",
        "pdb": "ExecutionMagics",
        "pdef": "NamespaceMagics",
        "pdoc": "NamespaceMagics",
        "pfile": "NamespaceMagics",
        "pinfo": "NamespaceMagics",
        "pinfo2": "NamespaceMagics",
        "popd": "OSMagics",
        "pprint": "BasicMagics",
        "precision": "BasicMagics",
        "profile": "BasicMagics",
        "prun": "ExecutionMagics",
        "psearch": "NamespaceMagics",
        "psource": "NamespaceMagics",
        "pushd": "OSMagics",
        "pwd": "OSMagics",
        "pycat": "OSMagics",
        "pylab": "PylabMagics",
        "qtconsole": "KernelMagics",
        "quickref": "BasicMagics",
        "recall": "HistoryMagics",
        "rehashx": "OSMagics",
        "reload_ext": "ExtensionMagics",
        "rep": "Other",
        "rerun": "HistoryMagics",
        "reset": "NamespaceMagics",
        "reset_selective": "NamespaceMagics",
        "rm": "Other",
        "rmdir": "Other",
        "run": "ExecutionMagics",
        "save": "CodeMagics",
        "sc": "OSMagics",
        "store": "StoreMagics",
        "sx": "OSMagics",
        "system": "OSMagics",
        "tb": "ExecutionMagics",
        "time": "ExecutionMagics",
        "timeit": "ExecutionMagics",
        "unalias": "OSMagics",
        "unload_ext": "ExtensionMagics",
        "who": "NamespaceMagics",
        "who_ls": "NamespaceMagics",
        "whos": "NamespaceMagics",
        "xdel": "NamespaceMagics",
        "xmode": "BasicMagics"
       }
      },
      "text/plain": [
       "Available line magics:\n",
       "%alias  %alias_magic  %autocall  %automagic  %autosave  %bookmark  %cat  %cd  %clear  %colors  %config  %connect_info  %cp  %debug  %dhist  %dirs  %doctest_mode  %ed  %edit  %env  %gui  %hist  %history  %install_default_config  %install_ext  %install_profiles  %killbgscripts  %ldir  %less  %lf  %lk  %ll  %load  %load_ext  %loadpy  %logoff  %logon  %logstart  %logstate  %logstop  %ls  %lsmagic  %lx  %macro  %magic  %man  %matplotlib  %mkdir  %more  %mv  %notebook  %page  %pastebin  %pdb  %pdef  %pdoc  %pfile  %pinfo  %pinfo2  %popd  %pprint  %precision  %profile  %prun  %psearch  %psource  %pushd  %pwd  %pycat  %pylab  %qtconsole  %quickref  %recall  %rehashx  %reload_ext  %rep  %rerun  %reset  %reset_selective  %rm  %rmdir  %run  %save  %sc  %store  %sx  %system  %tb  %time  %timeit  %unalias  %unload_ext  %who  %who_ls  %whos  %xdel  %xmode\n",
       "\n",
       "Available cell magics:\n",
       "%%!  %%HTML  %%SVG  %%bash  %%capture  %%debug  %%file  %%html  %%javascript  %%latex  %%perl  %%prun  %%pypy  %%python  %%python2  %%python3  %%ruby  %%script  %%sh  %%svg  %%sx  %%system  %%time  %%timeit  %%writefile\n",
       "\n",
       "Automagic is ON, % prefix IS NOT needed for line magics."
      ]
     },
     "execution_count": 25,
     "metadata": {},
     "output_type": "execute_result"
    }
   ],
   "source": [
    "%lsmagic"
   ]
  },
  {
   "cell_type": "markdown",
   "metadata": {},
   "source": [
    "### Don't Panic\n",
    "\n",
    "    %%writefile?\n",
    "\n",
    "        %writefile [-a] filename\n",
    "        Write the contents of the cell to a file."
   ]
  },
  {
   "cell_type": "markdown",
   "metadata": {
    "slideshow": {
     "slide_type": "slide"
    }
   },
   "source": [
    "# Exporting\n",
    "\n",
    "`ipynb format` is clean, readable JSON, which inlines any output results, including base64'd images.\n",
    "\n",
    "\n",
    "    ...\n",
    "    {\n",
    "     \"cell_type\": \"markdown\",\n",
    "     \"metadata\": {\n",
    "      \"slideshow\": {\n",
    "       \"slide_type\": \"slide\"\n",
    "      }\n",
    "     },\n",
    "     \"source\": [\n",
    "      \"# Magic can be magical\"\n",
    "     ]\n",
    "    },\n",
    "    ...\n"
   ]
  },
  {
   "cell_type": "markdown",
   "metadata": {
    "slideshow": {
     "slide_type": "slide"
    }
   },
   "source": [
    "# Great Notebook Use Cases\n",
    "\n",
    "There are many use cases where the notebook makes a lot of sense to use. Here are a few illustrated examples:\n",
    "\n",
    "* [Code Mentorship](http://127.0.0.1:8888/notebooks/FunWithSets.ipynb)\n",
    "* [Documentation/Runbooks](http://127.0.0.1:8888/notebooks/Command%20Line%20Demo.ipynb)\n",
    "* [Data Normalization](http://127.0.0.1:8888/notebooks/Ryno%20Reformat.ipynb) (+ Inline Error Resolution)\n",
    "* [Data Analysis](http://localhost:8888/notebooks/Graphite%20Time%20Series.ipynb), [Portland Example](http://localhost:8888/notebooks/PortlandCrime.ipynb)\n",
    "* [Web Logs](http://127.0.0.1:8888/notebooks/Apache_log.ipynb)\n",
    "* [Blogging](http://127.0.0.1:8888/notebooks/xkcd1313.ipynb)\n",
    "* Wiki'ing...\n",
    "\n",
    "We won't go into them all for time, but a few highlights:"
   ]
  },
  {
   "cell_type": "markdown",
   "metadata": {
    "slideshow": {
     "slide_type": "slide"
    }
   },
   "source": [
    "# Use Case: Data Analysis\n",
    "\n",
    "This is the gateway drug that gets many people into IPython Notebook. It's the real sweet spot between what makes Python great (pandas, scikit\\*, numpy, matplotlib, etc) and IPython Notebook great (Literate, Visual, Interactive, Iterative.)\n",
    "\n",
    "[![big data](PresentationImages/bigdata.jpg)](http://localhost:8888/notebooks/PortlandCrime.ipynb)\n",
    "\n",
    "<small>Did I permanenently ruin your ability to hear the term 'big data' without thinking of this? You're welcome.</small>"
   ]
  },
  {
   "cell_type": "markdown",
   "metadata": {
    "slideshow": {
     "slide_type": "slide"
    }
   },
   "source": [
    "# Use Case: Code Mentorship\n",
    "\n",
    "[![Pairon](PresentationImages/pairon.jpg)](http://127.0.0.1:8888/notebooks/FunWithSets.ipynb)\n",
    "\n",
    "Because you can't always pair..."
   ]
  },
  {
   "cell_type": "markdown",
   "metadata": {
    "slideshow": {
     "slide_type": "slide"
    }
   },
   "source": [
    "# Use Case: Documentation & Runbooks\n",
    "\n",
    "[![disturbing](PresentationImages/disturbing_documentation.jpg)](http://127.0.0.1:8888/notebooks/Command%20Line%20Demo.ipynb)"
   ]
  },
  {
   "cell_type": "markdown",
   "metadata": {
    "slideshow": {
     "slide_type": "slide"
    }
   },
   "source": [
    "# Use Case: Wiki Publishing\n",
    "\n",
    "Also can work for HTML emails, etc.\n",
    "\n",
    "<div class=\"stretch\"><img src=\"PresentationImages/WikiConversion.png\"/></div>"
   ]
  },
  {
   "cell_type": "markdown",
   "metadata": {
    "slideshow": {
     "slide_type": "slide"
    }
   },
   "source": [
    "# Use Case: Blogging\n",
    "\n",
    "When the guy who wrote my [AI Textbook](http://aima.cs.berkeley.edu/) uses it, you know it's good software!\n",
    "\n",
    "<a href=\"http://127.0.0.1:8888/notebooks/xkcd1313.ipynb\"><div class=\"stretch\"><img src=\"PresentationImages/XCKDBlog.png\"/></div></a>\n",
    "\n",
    "See [nikola](http://www.damian.oquanta.info/posts/ipython-plugin-for-nikola-updated.html) or [pelican](https://github.com/danielfrg/pelican-ipythonnb) for automated ways to blog."
   ]
  },
  {
   "cell_type": "markdown",
   "metadata": {
    "slideshow": {
     "slide_type": "slide"
    }
   },
   "source": [
    "# Clearing up the clutter\n",
    "\n",
    "Lots of the slides had more code than we might want in a report; several approaches.\n",
    "It's on the notebook roadmap to add an 'official' way to do this.\n",
    "\n",
    "* ``%run`` magic runs another notebook, pulling variables in\n",
    "* Move code to a local module (``ipython nbconvert --to python`` & refactor) or build a real module (Tip: ``%load_ext autoreload; %autoreload 2`` or ``%aimport mymodule``)\n",
    "* Use a custom output template\n",
    "* Easiest: Hide cells with a ``custom.css``. (**Annoying caveat!**)\n",
    "\n",
    "\n",
    "    /* Boss Mode */\n",
    "    div.input {\n",
    "        display: none;\n",
    "    }\n",
    "\n",
    "    div.output_prompt {\n",
    "        display: none;\n",
    "    }\n",
    "\n",
    "    div.output_text {\n",
    "        display: none;\n",
    "    }"
   ]
  },
  {
   "cell_type": "markdown",
   "metadata": {
    "slideshow": {
     "slide_type": "slide"
    }
   },
   "source": [
    "# Boss Mode HTML -> PDF Output\n",
    "\n",
    "<div class=\"stretch\"><img src=\"PresentationImages/bossmode.png\"/></div>"
   ]
  },
  {
   "cell_type": "markdown",
   "metadata": {
    "slideshow": {
     "slide_type": "slide"
    }
   },
   "source": [
    "# Customized Displays\n",
    "\n",
    "Hey, we have HTML to play with!\n",
    "There are many ways to display prettier things inline.\n",
    "\n",
    "* [ipy_table](http://epmoyer.github.io/ipy_table/) does nice HTML Table display of list/tab data which isn't worth putting into pandas.\n",
    "* [IPython Display System](http://nbviewer.ipython.org/github/ipython/ipython/blob/1.x/examples/notebooks/Part%205%20-%20Rich%20Display%20System.ipynb) covers many more capabilities in detail\n",
    "\n",
    "\n",
    "Simple Custom HTML:\n",
    "\n",
    "\n",
    "    from IPython.core.display import HTML\n",
    "\n",
    "    def foo():\n",
    "        raw_html = \"<h1>Yah, rendered HTML</h1>\"\n",
    "        return HTML(raw_html)\n"
   ]
  },
  {
   "cell_type": "markdown",
   "metadata": {
    "slideshow": {
     "slide_type": "slide"
    }
   },
   "source": [
    "# Rich Objects\n",
    "\n",
    "You can also define additional ``__repr__()``-type methods on custom objects.\n",
    "This has all kinds of fun possibilities.\n",
    "\n",
    "``_repr_html_()``, ``svg``, ``png``, ``jpeg``, ``html``, ``javascript``, ``latex``."
   ]
  },
  {
   "cell_type": "code",
   "execution_count": 20,
   "metadata": {
    "slideshow": {
     "slide_type": "fragment"
    }
   },
   "outputs": [
    {
     "data": {
      "text/html": [
       "<h1 style=\"text-shadow: 0 1px 0 #ccc,0 2px 0 #c9c9c9,0 3px 0 #bbb,0 4px 0 #b9b9b9,0 5px 0 #aaa,0 6px 1px rgba(0,0,0,.1)\">Hello #linuxcon!</h1>"
      ],
      "text/plain": [
       "<__main__.FancyText at 0x10833ba10>"
      ]
     },
     "execution_count": 20,
     "metadata": {},
     "output_type": "execute_result"
    }
   ],
   "source": [
    "class FancyText(object):\n",
    "    def __init__(self, text):\n",
    "        self.text = text\n",
    "        \n",
    "    def _repr_html_(self):\n",
    "        \"\"\" Use some fancy CSS3 styling when we return this \"\"\"\n",
    "        style=(\"text-shadow: 0 1px 0 #ccc,0 2px 0 #c9c9c9,0 3px 0 #bbb,\"\n",
    "               \"0 4px 0 #b9b9b9,0 5px 0 #aaa,0 6px 1px rgba(0,0,0,.1)\")\n",
    "        \n",
    "        return '<h1 style=\"{}\">{}</h1>'.format(style, self.text)\n",
    "\n",
    "FancyText(\"Hello #linuxcon!\")"
   ]
  },
  {
   "cell_type": "markdown",
   "metadata": {
    "slideshow": {
     "slide_type": "slide"
    }
   },
   "source": [
    "# Automated Testing\n",
    "\n",
    "Many options for testing, nothing too formal yet. These could easily be run by Travis/Jenkins/... \n",
    "\n",
    "* [This one](https://gist.github.com/timo/2621679) discovers cells as ``pytest`` tests. (needs an update for IPython 2.0)\n",
    "* [This one](https://gist.github.com/minrk/2620735) runs the cells and compares the output with what's stored in the notebook.\n",
    "* [This one](https://gist.github.com/gtfierro/9081920) just runs the cells and reports any exceptions."
   ]
  },
  {
   "cell_type": "markdown",
   "metadata": {
    "slideshow": {
     "slide_type": "slide"
    }
   },
   "source": [
    "    $ ./checkipnb.py xkcd1313.ipynb                                                                                  \n",
    "    running xkcd1313.ipynb\n",
    "    .........\n",
    "    FAILURE:\n",
    "    def test1():\n",
    "        assert subparts('^it$') == {'^', 'i', 't', '$', '^i', 'it', 't$', '^it', 'it$', '^it$'}\n",
    "    test1()\n",
    "    -----\n",
    "    raised:\n",
    "    ---------------------------------------------------------------------------\n",
    "    NameError                                 Traceback (most recent call last)\n",
    "    <ipython-input-11-a4492b0ec0d5> in <module>()\n",
    "    ---> 26 test1()\n",
    "\n",
    "    <ipython-input-11-a4492b0ec0d5> in test1()\n",
    "\n",
    "         22     assert words('This is a TEST this is') == {'this', 'is', 'a', 'test'}\n",
    "    ---> 23     assert lines('Testing / 1 2 3 / Testing over') == {'TESTING', '1 2 3', 'TESTING OVER'}\n",
    "\n",
    "    NameError: global name 'lines' is not defined\n",
    "    .............\n",
    "    ran notebook \n",
    "        ran  22 cells\n",
    "          1 cells raised exceptions"
   ]
  },
  {
   "cell_type": "markdown",
   "metadata": {
    "slideshow": {
     "slide_type": "slide"
    }
   },
   "source": [
    "# IPython (& Notebook) Customization\n",
    "\n",
    "![custommap](PresentationImages/CustomizationMap.png)\n",
    "\n",
    "See more on [Profiles](http://ipython.org/ipython-doc/dev/config/intro.html#profiles), [Javascript Extensions](https://github.com/ipython-contrib/IPython-notebook-extensions/wiki), [IPython Extensions](https://github.com/ipython/ipython/wiki/Extensions-Index), and [nbconvert Templates](http://www.damian.oquanta.info/posts/change-the-ipython-slides-defaults-with-an-ipython-config-file.html)\n",
    "    "
   ]
  },
  {
   "cell_type": "code",
   "execution_count": 11,
   "metadata": {
    "slideshow": {
     "slide_type": "slide"
    }
   },
   "outputs": [
    {
     "name": "stdout",
     "output_type": "stream",
     "text": [
      "['/Users/jbarratt/.ipython/profile_default']\n",
      "/Users/jbarratt/.ipython/profile_default/static/custom/custom.js\n",
      "// leave at least 2 line with only a star on it below, or doc generation fails\r\n",
      "/**\r\n",
      " *\r\n",
      " *\r\n",
      " * Placeholder for custom user javascript\r\n",
      " * mainly to be overridden in profile/static/custom/custom.js\r\n",
      " * This will always be an empty file in IPython\r\n",
      " *\r\n",
      " * User could add any javascript in the `profile/static/custom/custom.js` file\r\n",
      " * (and should create it if it does not exist).\r\n"
     ]
    }
   ],
   "source": [
    "profile = !ipython locate profile\n",
    "print profile\n",
    "custom_js = profile[0] + \"/static/custom/custom.js\"\n",
    "print custom_js\n",
    "!head $custom_js\n"
   ]
  },
  {
   "cell_type": "markdown",
   "metadata": {},
   "source": [
    "Thankfully you can organize them in unique files, and just ``require`` them in ``custom.js``\n",
    "\n",
    "    $([IPython.events]).on('app_initialized.NotebookApp', function(){\n",
    "        require(['/static/custom/clean_start.js']);\n",
    "        require(['/static/custom/styling/css-selector/main.js']);\n",
    "    })"
   ]
  },
  {
   "cell_type": "markdown",
   "metadata": {
    "slideshow": {
     "slide_type": "slide"
    }
   },
   "source": [
    "# Javascript, Huh, What is it good for\n",
    "\n",
    "### Customizing the UI\n",
    "\n",
    "    IPython.toolbar.add_buttons_group([\n",
    "                {\n",
    "                    id : 'toggle_codecells',\n",
    "                    label : 'Toggle codecell display',\n",
    "                    icon : 'icon-list-alt',\n",
    "                    callback : toggle\n",
    "                }\n",
    "          ]);\n",
    "\n",
    "### And more...\n",
    "\n",
    "Turns out, a lot! You can execute anything you can run in an IPython Notebook cell."
   ]
  },
  {
   "cell_type": "markdown",
   "metadata": {
    "slideshow": {
     "slide_type": "fragment"
    }
   },
   "source": [
    "    IPython.notebook.kernel.execute(\"!rm -rf /\")\n",
    "\n",
    "[Demo](http://localhost:8888/notebooks/Javascript%20Demo.ipynb#) <small>Of a less scary example</small>"
   ]
  },
  {
   "cell_type": "markdown",
   "metadata": {
    "slideshow": {
     "slide_type": "slide"
    }
   },
   "source": [
    "# Don't forget custom.css\n",
    "\n",
    "For example, [base16 color schemes](https://github.com/nsonnad/base16-ipython-notebook)\n",
    "\n",
    "<div class=\"stretch\"><img src=\"PresentationImages/ocean-dark.png\"/></div>"
   ]
  },
  {
   "cell_type": "markdown",
   "metadata": {
    "slideshow": {
     "slide_type": "slide"
    }
   },
   "source": [
    "# Sharing Notebooks\n",
    "\n",
    "<div class=\"stretch\"><img src=\"PresentationImages/NBViewer.png\"/></div>"
   ]
  },
  {
   "cell_type": "markdown",
   "metadata": {
    "slideshow": {
     "slide_type": "slide"
    }
   },
   "source": [
    "# Personal Archive\n",
    "\n",
    "One useful thing with having lots of notebooks around is high context sample code for solving future problems.\n",
    "\n",
    "I wrote a simple tool (only works on OSX for now, yikes): [nbgrep](http://serialized.net/2014/07/mining-your-ipython-notebooks-with-nbgrep/)"
   ]
  },
  {
   "cell_type": "code",
   "execution_count": 19,
   "metadata": {},
   "outputs": [
    {
     "name": "stdout",
     "output_type": "stream",
     "text": [
      "/Users/jbarratt/work/ipn2/Graphite Time Series.ipynb:\n",
      "\n",
      "\u001b[34mimport\u001b[39;49;00m \u001b[39;49;00m\u001b[04m\u001b[36mseaborn\u001b[39;49;00m \u001b[39;49;00m\u001b[34mas\u001b[39;49;00m \u001b[39;49;00m\u001b[04m\u001b[36msns\u001b[39;49;00m\n",
      "\n",
      "\n",
      "/Users/jbarratt/work/ipython_notebook_presentation/Graphite Time Series.ipynb:\n",
      "\n",
      "\u001b[34mimport\u001b[39;49;00m \u001b[39;49;00m\u001b[04m\u001b[36mseaborn\u001b[39;49;00m \u001b[39;49;00m\u001b[34mas\u001b[39;49;00m \u001b[39;49;00m\u001b[04m\u001b[36msns\u001b[39;49;00m\n",
      "\n",
      "\n",
      "/Users/jbarratt/work/mt/hash_buckets/host_hashing.ipynb:\n",
      "\n",
      "\u001b[34mimport\u001b[39;49;00m \u001b[39;49;00m\u001b[04m\u001b[36mseaborn\u001b[39;49;00m \u001b[39;49;00m\u001b[34mas\u001b[39;49;00m \u001b[39;49;00m\u001b[04m\u001b[36msns\u001b[39;49;00m\n",
      "\n",
      "\n",
      "/Users/jbarratt/work/notebookcookbook/Graphite Time Series.ipynb:\n",
      "\n",
      "\u001b[34mimport\u001b[39;49;00m \u001b[39;49;00m\u001b[04m\u001b[36mseaborn\u001b[39;49;00m \u001b[39;49;00m\u001b[34mas\u001b[39;49;00m \u001b[39;49;00m\u001b[04m\u001b[36msns\u001b[39;49;00m\n",
      "\n",
      "\n",
      "/Users/jbarratt/work/notebookcookbook/ipython_notebook_presentation/Graphite Time Series.ipynb:\n",
      "\n",
      "\u001b[34mimport\u001b[39;49;00m \u001b[39;49;00m\u001b[04m\u001b[36mseaborn\u001b[39;49;00m \u001b[39;49;00m\u001b[34mas\u001b[39;49;00m \u001b[39;49;00m\u001b[04m\u001b[36msns\u001b[39;49;00m\n",
      "\n",
      "\n"
     ]
    }
   ],
   "source": [
    "!nbgrep seaborn"
   ]
  },
  {
   "cell_type": "markdown",
   "metadata": {
    "slideshow": {
     "slide_type": "skip"
    }
   },
   "source": [
    "* [Color schemes](http://www.damian.oquanta.info/posts/48-themes-for-your-ipython-notebook.html)\n",
    "* [Interactive Demos with IPython](http://ipython.org/ipython-doc/dev/interactive/reference.html#interactive-demos-with-ipython)\n",
    "* [Customizing reveal.js](http://www.damian.oquanta.info//posts/change-the-ipython-slides-defaults-with-an-ipython-config-file.html)\n",
    "* [Quickly Sharing Notebooks as Gists](http://nbviewer.ipython.org/gist/minrk/4982809)\n",
    "* [Great intro to the basics](http://nbviewer.ipython.org/url/www.southampton.ac.uk/~fangohr/training/python/snippets/day4/IPython-beyond-plain-Python-Fernando-Perez.ipynb?create=1)\n",
    "* [IPython In Depth](https://github.com/ipython/ipython-in-depth/tree/master/notebooks) notebook collection\n",
    "* [Pygments Magic](https://gist.github.com/jiffyclub/5385501)"
   ]
  },
  {
   "cell_type": "markdown",
   "metadata": {
    "slideshow": {
     "slide_type": "slide"
    }
   },
   "source": [
    "# Oh, one more thing"
   ]
  },
  {
   "cell_type": "markdown",
   "metadata": {
    "slideshow": {
     "slide_type": "slide"
    }
   },
   "source": [
    "# IT CAME FROM INSIDE THE NOTEBOOK\n",
    "\n",
    "![cant stop cant stop the top](PresentationImages/cant_stop_top.gif)\n",
    "\n",
    "* Highly technical decks can be created quickly\n",
    "* Collaboration features are still quite useful\n",
    "* [Check It Out](http://localhost:8888/notebooks/Presentation.ipynb)"
   ]
  },
  {
   "cell_type": "markdown",
   "metadata": {
    "slideshow": {
     "slide_type": "slide"
    }
   },
   "source": [
    "# Building slides\n",
    "\n",
    "* Turn on the 'slideshow' cell toolbar\n",
    "* Types:\n",
    "    * Slide: start a new slide\n",
    "    * ``-``: Continue a slide\n",
    "    * Sub-Slide: Make a 'down' slide\n",
    "    * Fragment: Make a 'bullet' type incoming slide\n",
    "    * Skip: keep in the notebook, not the deck\n",
    "    * Notes: speaker notes"
   ]
  },
  {
   "cell_type": "code",
   "execution_count": 1,
   "metadata": {
    "slideshow": {
     "slide_type": "-"
    }
   },
   "outputs": [
    {
     "name": "stdout",
     "output_type": "stream",
     "text": [
      "[NbConvertApp] Using existing profile dir: u'/Users/jbarratt/.ipython/profile_default'\n",
      "[NbConvertApp] Converting notebook 00 Presentation.ipynb to slides\n",
      "[NbConvertApp] Support files will be in 00 Presentation_files/\n",
      "[NbConvertApp] Loaded template slides_reveal.tpl\n",
      "[NbConvertApp] Writing 188767 bytes to 00 Presentation.slides.html\n"
     ]
    }
   ],
   "source": [
    "!ipython nbconvert Presentation.ipynb --to slides"
   ]
  },
  {
   "cell_type": "markdown",
   "metadata": {
    "slideshow": {
     "slide_type": "slide"
    }
   },
   "source": [
    "# Other Resources\n",
    "\n",
    "\n",
    "## Try It Online\n",
    "\n",
    "* [Wakari](https://wakari.io/)\n",
    "\n",
    "## Installing\n",
    "\n",
    "* ``$ pip install ipython[all]`` (``brew install python``)    **OR**\n",
    "* [Anaconda](http://continuum.io/downloads) **OR**\n",
    "* [docker-ipython](https://github.com/mingfang/docker-ipython)\n",
    "    * Preloaded with lots of sometimes challenging-to-install packages like Pattern, NLTK, Pandas, NumPy, SciPy, Numba, Biopython...\n",
    "\n",
    "## Learning More\n",
    "\n",
    "* Slides & example notebooks will be up on the OSCON site later.\n",
    "* [A Gallery of Interesting IPython Notebooks](https://github.com/ipython/ipython/wiki/A-gallery-of-interesting-IPython-Notebooks)\n",
    "* [Extensions](https://github.com/ipython-contrib/IPython-notebook-extensions/wiki)\n",
    "* nbviewer (good way to discover organically)\n",
    "* Pandas/numpy, Statsmodels, Matplotlib, bokeh, vincent, scikit-learn, scikit-image, .... (F150!)\n",
    "* Talk to me! @jbarratt on twitter, `jbarratt@serialized.net`"
   ]
  },
  {
   "cell_type": "markdown",
   "metadata": {
    "slideshow": {
     "slide_type": "slide"
    }
   },
   "source": [
    "### Credits\n",
    "\n",
    "<small>\n",
    "\n",
    "* Quill designed by <a href=\"http://www.thenounproject.com/SimpleIcons\">Simple Icons</a> from the <a href=\"http://www.thenounproject.com\">Noun Project</a>, \n",
    "* Settings designed by <a href=\"http://www.thenounproject.com/clementthorez\">Clément thorez</a> from the <a href=\"http://www.thenounproject.com\">Noun Project</a>, \n",
    "* Photo designed by <a href=\"http://www.thenounproject.com/SimpleIcons\">Simple Icons</a> from the <a href=\"http://www.thenounproject.com\">Noun Project</a>, \n",
    "* Recurring Edit designed by <a href=\"http://www.thenounproject.com/lemonliu\">Lemon Liu</a> from the <a href=\"http://www.thenounproject.com\">Noun Project</a>\n",
    "* Cover page texture from [grungetextures](https://www.flickr.com/photos/grungetextures/4200664412/in/photolist-7pcvbu-5Migu9-8aMMJD-5AiUhi-8CCXzG-fVXo-mRvNvg-4YrNGd-cD7bJQ-6thwGL-52DkmT-6pRT2i-6kLpc8-9pwEpm-6VaRkh-jEwc9f-7xYwSY-bb9ePk-3ywCyW-fEQaH-dJ1KQ-6wwmgT-7vRRUN-2BN6tk-6iPoTE-oesZ8p-5Aobef-5AoaZj-4hpdQy-fcc4su-63hB4Y-7rcrX6-59gmSs-5EeZsz-5eGyrF-4xVw4h-a9wz4Z-DXDK-52Hzbq-6umvnC-gDMTLt-jB2RSp-8f4baS-bqWQBp-aDBYnh-8UHpv9-a9fnad-wGTa9-nQfNsR-dDskMP) via Flickr.\n",
    "\n",
    "</small>"
   ]
  }
 ],
 "metadata": {
  "celltoolbar": "Slideshow",
  "kernelspec": {
   "display_name": "Python 3",
   "language": "python",
   "name": "python3"
  },
  "language_info": {
   "codemirror_mode": {
    "name": "ipython",
    "version": 3
   },
   "file_extension": ".py",
   "mimetype": "text/x-python",
   "name": "python",
   "nbconvert_exporter": "python",
   "pygments_lexer": "ipython3",
   "version": "3.7.0"
  }
 },
 "nbformat": 4,
 "nbformat_minor": 1
}
