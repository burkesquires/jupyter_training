{
 "cells": [
  {
   "cell_type": "markdown",
   "metadata": {},
   "source": [
    "# Interactive Notebooks for Biologists \n",
    "## with Jupyter Project and Anaconda Distribution"
   ]
  },
  {
   "cell_type": "markdown",
   "metadata": {},
   "source": [
    "- Date:\t\tSeptember 6, 2018\n",
    "- Time:\t\t9 AM to noon; 1 PM to 4 PM\n",
    "- Instructor: Burke Squires"
   ]
  },
  {
   "cell_type": "markdown",
   "metadata": {},
   "source": [
    "---"
   ]
  },
  {
   "cell_type": "markdown",
   "metadata": {},
   "source": [
    "## Outline"
   ]
  },
  {
   "cell_type": "markdown",
   "metadata": {},
   "source": [
    "- Introduction (Presentation – 30 min)\n",
    "- Anaconda distribution overview (Demo – 30 min)\n",
    "- Installation Demo (Demo – 15 min)\n",
    "- Introduction to Jupyter Ecosystem (Presentation – 30 min)\n",
    "- JupyterLab and Jupyter Notebook (Hands on - 30 min)\n",
    "- Writing narrative text (Hands on – 15 min)\n",
    "- Running code (Python, R, other) (Hands on – 15 min)\n",
    "- Magic commands (Hands on – 15 min)\n",
    "- (Lunch)\n",
    "- Sharing Jupyter notebook (Demo / Hands on – 1 hr.)\n",
    "- Building a bioinformatics workflow (Hands on – 1 ½\t- 2 hr.)\n",
    "- Demos\n",
    "    - Jupyter in the Cloud (10 min)\n",
    "    - Jupyter extensions ((10 min)\n",
    "    - JupyterHub (10 min)\n",
    "    - nteract (Mac desktop software to run notebook) (10 min)"
   ]
  },
  {
   "cell_type": "markdown",
   "metadata": {},
   "source": [
    "---"
   ]
  },
  {
   "cell_type": "markdown",
   "metadata": {},
   "source": [
    "## Introduction"
   ]
  },
  {
   "cell_type": "markdown",
   "metadata": {},
   "source": [
    "1.\tNotebooks as the new scientific paper\n",
    "    1.\tnews about Jupyter notebooks\n",
    "    1.\tnature article\n",
    "    1.\tother articles\n",
    "    1.\tPubMed search for Jupyter articles\n",
    "1.\tA short history (Mathematica notebook, IPython, etc.)\n",
    "\n",
    "Jupyter Notebook (formerly IPython Notebooks) is a web-based interactive computational environment for creating, executing, and visualizing Jupyter notebooks. It is similar to the notebook interface of other programs such as Maple, Mathematica, and SageMath, a computational interface style that originated with Mathematica in the 1980s.[13] It supports execution environments (aka kernels) in dozens of languages. By default Jupyter Notebook ships with the IPython kernel but there are over 100 Jupyter kernels as of May 2018.\n",
    "\n",
    "[Source: https://en.wikipedia.org/wiki/IPython#cite_note-12]\n",
    "\n",
    "1.\tliterate programming (https://biowize.wordpress.com/2015/03/13/literate-programming-rstudio-and-ipython-notebook/)\n",
    "    1.\tinteractive computing\n",
    "    1.\tcomputing narratives\n",
    "1.\tDrivers: data science\n",
    "1.\tBenefits of notebooks\n",
    "    i)\tImproved collaboration\n",
    "    ii)\tJupyter for r and python researchers"
   ]
  },
  {
   "cell_type": "code",
   "execution_count": null,
   "metadata": {},
   "outputs": [],
   "source": []
  },
  {
   "cell_type": "code",
   "execution_count": null,
   "metadata": {},
   "outputs": [],
   "source": []
  },
  {
   "cell_type": "markdown",
   "metadata": {},
   "source": [
    "Google Trends"
   ]
  },
  {
   "cell_type": "markdown",
   "metadata": {},
   "source": [
    "from IPython.core.display import display, HTML\n",
    "display(HTML('<h1>Hello, world!</h1>'))\n",
    "\n",
    "<script type=\"text/javascript\" src=\"https://ssl.gstatic.com/trends_nrtr/1513_RC03/embed_loader.js\"></script> <script type=\"text/javascript\"> trends.embed.renderExploreWidget(\"TIMESERIES\", {\"comparisonItem\":[{\"keyword\":\"jupyter\",\"geo\":\"US\",\"time\":\"2011-01-01 2018-08-12\"},{\"keyword\":\"mathematica\",\"geo\":\"US\",\"time\":\"2011-01-01 2018-08-12\"},{\"keyword\":\"r notebook\",\"geo\":\"US\",\"time\":\"2011-01-01 2018-08-12\"},{\"keyword\":\"r markdown\",\"geo\":\"US\",\"time\":\"2011-01-01 2018-08-12\"},{\"keyword\":\"rstudio\",\"geo\":\"US\",\"time\":\"2011-01-01 2018-08-12\"}],\"category\":0,\"property\":\"\"}, {\"exploreQuery\":\"date=2011-01-01%202018-08-12&geo=US&q=jupyter,mathematica,r%20notebook,r%20markdown,rstudio\",\"guestPath\":\"https://trends.google.com:443/trends/embed/\"}); </script> \n"
   ]
  },
  {
   "cell_type": "code",
   "execution_count": 2,
   "metadata": {},
   "outputs": [
    {
     "data": {
      "application/javascript": [
       "<script type=\"text/javascript\" src=\"https://ssl.gstatic.com/trends_nrtr/1513_RC03/embed_loader.js\"></script> <script type=\"text/javascript\"> trends.embed.renderExploreWidget(\"TIMESERIES\", {\"comparisonItem\":[{\"keyword\":\"jupyter\",\"geo\":\"US\",\"time\":\"2011-01-01 2018-08-12\"},{\"keyword\":\"mathematica\",\"geo\":\"US\",\"time\":\"2011-01-01 2018-08-12\"},{\"keyword\":\"r notebook\",\"geo\":\"US\",\"time\":\"2011-01-01 2018-08-12\"},{\"keyword\":\"r markdown\",\"geo\":\"US\",\"time\":\"2011-01-01 2018-08-12\"},{\"keyword\":\"rstudio\",\"geo\":\"US\",\"time\":\"2011-01-01 2018-08-12\"}],\"category\":0,\"property\":\"\"}, {\"exploreQuery\":\"date=2011-01-01%202018-08-12&geo=US&q=jupyter,mathematica,r%20notebook,r%20markdown,rstudio\",\"guestPath\":\"https://trends.google.com:443/trends/embed/\"}); </script>"
      ],
      "text/plain": [
       "<IPython.core.display.Javascript object>"
      ]
     },
     "metadata": {},
     "output_type": "display_data"
    }
   ],
   "source": [
    "%%javascript\n",
    "<script type=\"text/javascript\" src=\"https://ssl.gstatic.com/trends_nrtr/1513_RC03/embed_loader.js\"></script> <script type=\"text/javascript\"> trends.embed.renderExploreWidget(\"TIMESERIES\", {\"comparisonItem\":[{\"keyword\":\"jupyter\",\"geo\":\"US\",\"time\":\"2011-01-01 2018-08-12\"},{\"keyword\":\"mathematica\",\"geo\":\"US\",\"time\":\"2011-01-01 2018-08-12\"},{\"keyword\":\"r notebook\",\"geo\":\"US\",\"time\":\"2011-01-01 2018-08-12\"},{\"keyword\":\"r markdown\",\"geo\":\"US\",\"time\":\"2011-01-01 2018-08-12\"},{\"keyword\":\"rstudio\",\"geo\":\"US\",\"time\":\"2011-01-01 2018-08-12\"}],\"category\":0,\"property\":\"\"}, {\"exploreQuery\":\"date=2011-01-01%202018-08-12&geo=US&q=jupyter,mathematica,r%20notebook,r%20markdown,rstudio\",\"guestPath\":\"https://trends.google.com:443/trends/embed/\"}); </script>"
   ]
  },
  {
   "cell_type": "markdown",
   "metadata": {},
   "source": [
    "from IPython.display import Javascript\n",
    "#runs arbitrary javascript, client-side\n",
    "Javascript(<script type=\"text/javascript\" src=\"https://ssl.gstatic.com/trends_nrtr/1513_RC03/embed_loader.js\"></script><script type=\"text/javascript\"> trends.embed.renderExploreWidget(\"TIMESERIES\", {\"comparisonItem\":[{\"keyword\":\"jupyter\",\"geo\":\"US\",\"time\":\"2011-01-01 2018-08-12\"},{\"keyword\":\"mathematica\",\"geo\":\"US\",\"time\":\"2011-01-01 2018-08-12\"},{\"keyword\":\"r notebook\",\"geo\":\"US\",\"time\":\"2011-01-01 2018-08-12\"},{\"keyword\":\"r markdown\",\"geo\":\"US\",\"time\":\"2011-01-01 2018-08-12\"},{\"keyword\":\"rstudio\",\"geo\":\"US\",\"time\":\"2011-01-01 2018-08-12\"}],\"category\":0,\"property\":\"\"}, {\"exploreQuery\":\"date=2011-01-01%202018-08-12&geo=US&q=jupyter,mathematica,r%20notebook,r%20markdown,rstudio\",\"guestPath\":\"https://trends.google.com:443/trends/embed/\"}); </script>);)"
   ]
  },
  {
   "cell_type": "code",
   "execution_count": 1,
   "metadata": {},
   "outputs": [
    {
     "data": {
      "text/html": [
       "<html>\n",
       "<head>\n",
       "<script type=\"text/javascript\" src=\"https://ssl.gstatic.com/trends_nrtr/1513_RC03/embed_loader.js\"></script> <script type=\"text/javascript\"> trends.embed.renderExploreWidget(\"TIMESERIES\", {\"comparisonItem\":[{\"keyword\":\"jupyter\",\"geo\":\"US\",\"time\":\"2011-01-01 2018-08-12\"},{\"keyword\":\"mathematica\",\"geo\":\"US\",\"time\":\"2011-01-01 2018-08-12\"},{\"keyword\":\"r notebook\",\"geo\":\"US\",\"time\":\"2011-01-01 2018-08-12\"},{\"keyword\":\"r markdown\",\"geo\":\"US\",\"time\":\"2011-01-01 2018-08-12\"},{\"keyword\":\"rstudio\",\"geo\":\"US\",\"time\":\"2011-01-01 2018-08-12\"}],\"category\":0,\"property\":\"\"}, {\"exploreQuery\":\"date=2011-01-01%202018-08-12&geo=US&q=jupyter,mathematica,r%20notebook,r%20markdown,rstudio\",\"guestPath\":\"https://trends.google.com:443/trends/embed/\"}); </script>\n",
       "</script>\n",
       "</head>\n",
       "<body>\n",
       "</body>\n",
       "</html>"
      ],
      "text/plain": [
       "<IPython.core.display.HTML object>"
      ]
     },
     "metadata": {},
     "output_type": "display_data"
    }
   ],
   "source": [
    "%%html\n",
    "<html>\n",
    "<head>\n",
    "<script type=\"text/javascript\" src=\"https://ssl.gstatic.com/trends_nrtr/1513_RC03/embed_loader.js\"></script> <script type=\"text/javascript\"> trends.embed.renderExploreWidget(\"TIMESERIES\", {\"comparisonItem\":[{\"keyword\":\"jupyter\",\"geo\":\"US\",\"time\":\"2011-01-01 2018-08-12\"},{\"keyword\":\"mathematica\",\"geo\":\"US\",\"time\":\"2011-01-01 2018-08-12\"},{\"keyword\":\"r notebook\",\"geo\":\"US\",\"time\":\"2011-01-01 2018-08-12\"},{\"keyword\":\"r markdown\",\"geo\":\"US\",\"time\":\"2011-01-01 2018-08-12\"},{\"keyword\":\"rstudio\",\"geo\":\"US\",\"time\":\"2011-01-01 2018-08-12\"}],\"category\":0,\"property\":\"\"}, {\"exploreQuery\":\"date=2011-01-01%202018-08-12&geo=US&q=jupyter,mathematica,r%20notebook,r%20markdown,rstudio\",\"guestPath\":\"https://trends.google.com:443/trends/embed/\"}); </script>\n",
    "</script>\n",
    "</head>\n",
    "<body>\n",
    "</body>\n",
    "</html>"
   ]
  },
  {
   "cell_type": "code",
   "execution_count": null,
   "metadata": {},
   "outputs": [],
   "source": [
    "<script type=\"text/javascript\" src=\"https://ssl.gstatic.com/trends_nrtr/1513_RC03/embed_loader.js\"></script> <script type=\"text/javascript\"> trends.embed.renderExploreWidget(\"TIMESERIES\", {\"comparisonItem\":[{\"keyword\":\"jupyter\",\"geo\":\"US\",\"time\":\"2011-01-01 2018-08-12\"},{\"keyword\":\"mathematica\",\"geo\":\"US\",\"time\":\"2011-01-01 2018-08-12\"},{\"keyword\":\"r notebook\",\"geo\":\"US\",\"time\":\"2011-01-01 2018-08-12\"},{\"keyword\":\"r markdown\",\"geo\":\"US\",\"time\":\"2011-01-01 2018-08-12\"},{\"keyword\":\"rstudio\",\"geo\":\"US\",\"time\":\"2011-01-01 2018-08-12\"}],\"category\":0,\"property\":\"\"}, {\"exploreQuery\":\"date=2011-01-01%202018-08-12&geo=US&q=jupyter,mathematica,r%20notebook,r%20markdown,rstudio\",\"guestPath\":\"https://trends.google.com:443/trends/embed/\"}); </script> \n"
   ]
  },
  {
   "cell_type": "code",
   "execution_count": null,
   "metadata": {},
   "outputs": [],
   "source": []
  },
  {
   "cell_type": "code",
   "execution_count": null,
   "metadata": {},
   "outputs": [],
   "source": []
  },
  {
   "cell_type": "code",
   "execution_count": null,
   "metadata": {},
   "outputs": [],
   "source": []
  },
  {
   "cell_type": "code",
   "execution_count": null,
   "metadata": {},
   "outputs": [],
   "source": []
  },
  {
   "cell_type": "code",
   "execution_count": null,
   "metadata": {},
   "outputs": [],
   "source": []
  },
  {
   "cell_type": "code",
   "execution_count": null,
   "metadata": {},
   "outputs": [],
   "source": []
  }
 ],
 "metadata": {
  "kernelspec": {
   "display_name": "Python 3",
   "language": "python",
   "name": "python3"
  },
  "language_info": {
   "codemirror_mode": {
    "name": "ipython",
    "version": 3
   },
   "file_extension": ".py",
   "mimetype": "text/x-python",
   "name": "python",
   "nbconvert_exporter": "python",
   "pygments_lexer": "ipython3",
   "version": "3.7.0"
  }
 },
 "nbformat": 4,
 "nbformat_minor": 2
}
