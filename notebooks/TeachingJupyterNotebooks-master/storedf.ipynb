{
 "cells": [
  {
   "cell_type": "code",
   "execution_count": 1,
   "metadata": {},
   "outputs": [],
   "source": [
    "import pandas as pd"
   ]
  },
  {
   "cell_type": "code",
   "execution_count": 2,
   "metadata": {},
   "outputs": [
    {
     "name": "stdout",
     "output_type": "stream",
     "text": [
      "   A.baumanii  E.coli  H.pylori  K.pneumoniae  S.aureus  S.pneumoniae\n",
      "G         246     283       434           232       239           345\n",
      "A         190     207       401           168       213           334\n",
      "T         151     163       342           124       178           394\n",
      "C         147     191       326           155       160           481\n",
      "\n",
      "     A    C    G    T      organism\n",
      "0  190  147  246  151    A.baumanii\n",
      "1  207  191  283  163        E.coli\n",
      "2  401  326  434  342      H.pylori\n",
      "3  168  155  232  124  K.pneumoniae\n",
      "4  213  160  239  178      S.aureus\n",
      "5  334  481  345  394  S.pneumoniae\n"
     ]
    }
   ],
   "source": [
    "\n",
    "# Make a dataframe to use in the subsequent steps of the analysis\n",
    "df = pd.DataFrame({\"S.aureus\": [239, 213, 178, 160],\n",
    "                   \"A.baumanii\": [246, 190, 151, 147],\n",
    "                   \"E.coli\": [283, 207, 163, 191],\n",
    "                   \"K.pneumoniae\": [232, 168, 124, 155],\n",
    "                   \"S.pneumoniae\": [345, 334, 394, 481],\n",
    "                   \"H.pylori\": [434, 401, 342, 326]}, index = [\"G\", \"A\", \"T\", \"C\"])\n",
    "\n",
    "# A different version of the above dataframe\n",
    "df2 = pd.DataFrame({\"G\":[246,283,434,232,239,345],\n",
    "                    \"A\":[190,207,401,168,213,334],\n",
    "                    \"T\":[151,163,342,124,178,394],\n",
    "                    \"C\":[147,191,326,155,160,481],\n",
    "                    \"organism\":[\"A.baumanii\",\"E.coli\",\"H.pylori\",\"K.pneumoniae\"\n",
    "                                ,\"S.aureus\",\"S.pneumoniae\"]})\n",
    "\n",
    "print (df)\n",
    "print (\"\")\n",
    "print (df2)"
   ]
  },
  {
   "cell_type": "code",
   "execution_count": 3,
   "metadata": {},
   "outputs": [
    {
     "name": "stdout",
     "output_type": "stream",
     "text": [
      "Stored 'df' (DataFrame)\n"
     ]
    }
   ],
   "source": [
    "%store df"
   ]
  },
  {
   "cell_type": "code",
   "execution_count": 4,
   "metadata": {},
   "outputs": [
    {
     "name": "stdout",
     "output_type": "stream",
     "text": [
      "Stored 'df2' (DataFrame)\n"
     ]
    }
   ],
   "source": [
    "%store df2"
   ]
  }
 ],
 "metadata": {
  "kernelspec": {
   "display_name": "Python 3",
   "language": "python",
   "name": "python3"
  },
  "language_info": {
   "codemirror_mode": {
    "name": "ipython",
    "version": 3
   },
   "file_extension": ".py",
   "mimetype": "text/x-python",
   "name": "python",
   "nbconvert_exporter": "python",
   "pygments_lexer": "ipython3",
   "version": "3.6.4"
  }
 },
 "nbformat": 4,
 "nbformat_minor": 2
}
