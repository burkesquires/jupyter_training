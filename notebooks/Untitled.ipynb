{
 "cells": [
  {
   "cell_type": "markdown",
   "metadata": {
    "slideshow": {
     "slide_type": "slide"
    }
   },
   "source": [
    "# Introduction"
   ]
  },
  {
   "cell_type": "markdown",
   "metadata": {},
   "source": [
    "### R. Burke Squires\n",
    "https://github.com/burkesquires"
   ]
  },
  {
   "cell_type": "code",
   "execution_count": null,
   "metadata": {},
   "outputs": [],
   "source": [
    "1.\tNotebooks as the new scientific paper\n",
    "    1.\tnews about Jupyter notebooks\n",
    "    1.\tnature article\n",
    "    1.\tother articles\n",
    "    1.\tPubMed search for Jupyter articles\n",
    "1.\tA short history (Mathematica notebook, IPython, etc.)\n",
    "1.\tliterate programming (https://biowize.wordpress.com/2015/03/13/literate-programming-rstudio-and-ipython-notebook/)\n",
    "    1.\tinteractive computing\n",
    "    1.\tcomputing narratives\n",
    "1.\tDrivers: data science\n",
    "1.\tBenefits of notebooks\n",
    "    i)\tImproved collaboration\n",
    "    ii)\tJupyter for r and python researchers"
   ]
  },
  {
   "cell_type": "code",
   "execution_count": null,
   "metadata": {},
   "outputs": [],
   "source": [
    "1.\tNotebooks as the new scientific paper\n",
    "    1.\tnews about Jupyter notebooks\n",
    "    1.\tnature article\n",
    "    1.\tother articles\n",
    "    1.\tPubMed search for Jupyter articles"
   ]
  },
  {
   "cell_type": "code",
   "execution_count": null,
   "metadata": {},
   "outputs": [],
   "source": [
    "1.\tA short history (Mathematica notebook, IPython, etc.)"
   ]
  },
  {
   "cell_type": "code",
   "execution_count": null,
   "metadata": {},
   "outputs": [],
   "source": [
    "1.\tliterate programming (https://biowize.wordpress.com/2015/03/13/literate-programming-rstudio-and-ipython-notebook/)\n",
    "    1.\tinteractive computing\n",
    "    1.\tcomputing narratives"
   ]
  },
  {
   "cell_type": "code",
   "execution_count": null,
   "metadata": {},
   "outputs": [],
   "source": [
    "1.\tDrivers: data science"
   ]
  },
  {
   "cell_type": "code",
   "execution_count": null,
   "metadata": {},
   "outputs": [],
   "source": [
    "1.\tBenefits of notebooks\n",
    "    i)\tImproved collaboration\n",
    "    ii)\tJupyter for r and python researchers"
   ]
  }
 ],
 "metadata": {
  "kernelspec": {
   "display_name": "Python 3",
   "language": "python",
   "name": "python3"
  },
  "language_info": {
   "codemirror_mode": {
    "name": "ipython",
    "version": 3
   },
   "file_extension": ".py",
   "mimetype": "text/x-python",
   "name": "python",
   "nbconvert_exporter": "python",
   "pygments_lexer": "ipython3",
   "version": "3.6.5"
  }
 },
 "nbformat": 4,
 "nbformat_minor": 2
}
