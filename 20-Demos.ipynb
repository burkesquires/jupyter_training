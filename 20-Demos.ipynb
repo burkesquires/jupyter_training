{
 "cells": [
  {
   "cell_type": "markdown",
   "metadata": {},
   "source": [
    "# Demos"
   ]
  },
  {
   "cell_type": "markdown",
   "metadata": {},
   "source": [
    "R. Burke Squires\n",
    "\n",
    "https://github.com/burkesquires"
   ]
  },
  {
   "cell_type": "markdown",
   "metadata": {},
   "source": [
    "---"
   ]
  },
  {
   "cell_type": "markdown",
   "metadata": {},
   "source": [
    "### Outline\n",
    "- Using myBinder\n",
    "- Jupyter in the Cloud\n",
    "- Jupyter extensions\n",
    "- JupyterHub\n",
    "- nteract (Desktop software to run notebook)\n",
    "- Papermill - Notebook automation\n",
    "\n",
    "---"
   ]
  },
  {
   "cell_type": "markdown",
   "metadata": {},
   "source": [
    "## Using MyBinder\n",
    "\n",
    "- https://mybinder.org\n",
    "    - Lets look at \"How it works\"\n",
    "    - [Gesis (sponsor) Gallery of notebooks](https://notebooks.gesis.org/gallery/)"
   ]
  },
  {
   "cell_type": "markdown",
   "metadata": {},
   "source": [
    "## Jupyter in the Cloud"
   ]
  },
  {
   "cell_type": "markdown",
   "metadata": {},
   "source": [
    "(Demo; 10 min)\n",
    "\n",
    "- [Google Colab](https://colab.research.google.com)\n",
    "- [Microsoft Azure](https://notebooks.azure.com/)"
   ]
  },
  {
   "cell_type": "markdown",
   "metadata": {},
   "source": [
    "## Jupyter Extensions "
   ]
  },
  {
   "cell_type": "markdown",
   "metadata": {},
   "source": [
    "(Demo; 10 min)\n",
    "\n",
    "- What are they\n",
    "    - Notebook extensions are plug-ins that you can easily add functionaliy to your Jupyter notebooks. \n",
    "    - The best way to install them is to use Jupyter NbExtensions Configurator. It will add a tab to let you enable/disable extensions.\n",
    "- Where to find them\n",
    "    - https://jupyter-contrib-nbextensions.readthedocs.io/en/latest/\n",
    "- Highlight a few interesting ones\n",
    "    - https://ndres.me/post/best-jupyter-notebook-extensions/\n",
    "    - https://github.com/twosigma/beakerx\n"
   ]
  },
  {
   "cell_type": "markdown",
   "metadata": {},
   "source": [
    "## JupyterHub"
   ]
  },
  {
   "cell_type": "markdown",
   "metadata": {},
   "source": [
    "(Demo; 10 min)\n",
    "\n",
    "- JupyterHub, a multi-user Hub, spawns, manages, and proxies multiple instances of the single-user Jupyter notebook server. JupyterHub can be used to serve notebooks to a class of students, a corporate data science group, or a scientific research group.\n",
    "\n",
    "- NIAID implementation"
   ]
  },
  {
   "cell_type": "markdown",
   "metadata": {},
   "source": [
    "## nteract (Mac Jupyter notebook program)"
   ]
  },
  {
   "cell_type": "markdown",
   "metadata": {},
   "source": [
    "(Demo; 10 min)\n",
    "\n",
    "Mac desktop app to run notebooks"
   ]
  },
  {
   "cell_type": "markdown",
   "metadata": {},
   "source": [
    "# Notebook Automation\n",
    "---"
   ]
  },
  {
   "cell_type": "markdown",
   "metadata": {},
   "source": [
    "## Papermill\n",
    "\n",
    "The basic idea is that you write a parameterized Jupyter notebook, essentially a notebook with parameters that get pasted into a new block at the top of the notebook. A system called Papermill metaprograms a bespoke notebook with provided parameters pasted in, and then executes the notebook with zero user interaction required. For Netflix, the benefit of this approach is to simplify the development and debugging of these scripts. If a particular job breaks, it’s trivial to pop open the offending notebook in the normal Jupyter environment, and it has all the data built in that it needs to execute until hitting the error.\n",
    "\n",
    "http://willcrichton.net/notes/lessons-from-jupytercon/"
   ]
  },
  {
   "cell_type": "markdown",
   "metadata": {},
   "source": [
    "Extensions\n",
    "Source: https://towardsdatascience.com/how-to-effortlessly-optimize-jupyter-notebooks-e864162a06ee"
   ]
  }
 ],
 "metadata": {
  "kernelspec": {
   "display_name": "Python 3 (ipykernel)",
   "language": "python",
   "name": "python3"
  },
  "language_info": {
   "codemirror_mode": {
    "name": "ipython",
    "version": 3
   },
   "file_extension": ".py",
   "mimetype": "text/x-python",
   "name": "python",
   "nbconvert_exporter": "python",
   "pygments_lexer": "ipython3",
   "version": "3.9.12"
  }
 },
 "nbformat": 4,
 "nbformat_minor": 4
}
