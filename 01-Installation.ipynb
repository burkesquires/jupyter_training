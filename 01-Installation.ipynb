{
 "cells": [
  {
   "cell_type": "markdown",
   "id": "c3cf61b9-af13-431c-a4af-0a106d168da1",
   "metadata": {},
   "source": [
    "# Installation"
   ]
  },
  {
   "cell_type": "markdown",
   "id": "f20f255d-d7e1-4c5c-bfad-83cf30a065a6",
   "metadata": {},
   "source": [
    "---"
   ]
  },
  {
   "cell_type": "markdown",
   "id": "99229f2a-b5d6-4b37-8cd5-e67a56aa690e",
   "metadata": {},
   "source": [
    "### Official Jupyterlab installation instructions:\n",
    "\n",
    "- https://jupyter.org/install"
   ]
  },
  {
   "cell_type": "markdown",
   "id": "1e3cefb3-ca02-4371-a8c9-f19ed7680bfa",
   "metadata": {},
   "source": [
    "### Alternative - Install JupyterLab through Anaconda:\n",
    "\n",
    "__Please NOTE: Anaconda has changed their licensing requirements and any institution with more then 200 employees needs individual licenes for Anaconda.__\n",
    "\n",
    "\n",
    "- Download `Anaconda` distribution from https://anaconda.com\n",
    "    - A `distribution` is a single installer that installs:\n",
    "        - `python` programming language\n",
    "        - A custom installer (from python packages or other software), `conda` in this case\n",
    "        - Many `python` packages that are commonly used in data science\n",
    "- Install `Anaconda` distribution\n",
    "    - Make sure to install only for your use\n",
    "    - This installation, for your use only, does not requre admin istrative privleges on a computer\n",
    "\n",
    "- You can also install `miniconda`, which is the minimalist Anaconda installation.\n",
    "\n"
   ]
  },
  {
   "cell_type": "markdown",
   "id": "a04722a1-e90b-412e-9b9d-a55b3913ae6b",
   "metadata": {},
   "source": [
    "### Starting Jupyterlab"
   ]
  },
  {
   "cell_type": "markdown",
   "id": "5244cfbe-73e0-485d-ad8b-a28747eba759",
   "metadata": {},
   "source": [
    "- [https://jupyterlab.readthedocs.io/en/stable/getting_started/starting.html](https://jupyterlab.readthedocs.io/en/stable/getting_started/starting.html)"
   ]
  },
  {
   "cell_type": "markdown",
   "id": "d10ede5d-a29a-4597-9080-91054ea8fe9c",
   "metadata": {},
   "source": [
    "### Just wanna try it out?"
   ]
  },
  {
   "cell_type": "markdown",
   "id": "402510e3-6473-4abe-9ea2-89d3d3976669",
   "metadata": {
    "tags": []
   },
   "source": [
    "https://jupyter.org/try"
   ]
  },
  {
   "cell_type": "code",
   "execution_count": null,
   "id": "e71507a9-fb00-4055-ba05-13783c6876cc",
   "metadata": {},
   "outputs": [],
   "source": []
  }
 ],
 "metadata": {
  "kernelspec": {
   "display_name": "Python 3 (ipykernel)",
   "language": "python",
   "name": "python3"
  },
  "language_info": {
   "codemirror_mode": {
    "name": "ipython",
    "version": 3
   },
   "file_extension": ".py",
   "mimetype": "text/x-python",
   "name": "python",
   "nbconvert_exporter": "python",
   "pygments_lexer": "ipython3",
   "version": "3.11.4"
  }
 },
 "nbformat": 4,
 "nbformat_minor": 5
}
