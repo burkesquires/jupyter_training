{
 "cells": [
  {
   "cell_type": "markdown",
   "id": "c3cf61b9-af13-431c-a4af-0a106d168da1",
   "metadata": {},
   "source": [
    "# Installation"
   ]
  },
  {
   "cell_type": "markdown",
   "id": "f20f255d-d7e1-4c5c-bfad-83cf30a065a6",
   "metadata": {},
   "source": [
    "---"
   ]
  },
  {
   "cell_type": "markdown",
   "id": "1477af6a-bbb3-4896-a5d0-c82b5735064e",
   "metadata": {},
   "source": [
    "We will be using `JupyterHub` or `RStudio`, which requires no installation for you today!"
   ]
  },
  {
   "cell_type": "markdown",
   "id": "99229f2a-b5d6-4b37-8cd5-e67a56aa690e",
   "metadata": {},
   "source": [
    "### Official Jupyterlab installation instructions:\n",
    "\n",
    "- [https://jupyterlab.readthedocs.io/en/stable/getting_started/installation.html](https://jupyterlab.readthedocs.io/en/stable/getting_started/installation.html)"
   ]
  },
  {
   "cell_type": "markdown",
   "id": "1e3cefb3-ca02-4371-a8c9-f19ed7680bfa",
   "metadata": {},
   "source": [
    "### Formerly - Install JupyterLab through Anaconda:\n",
    "\n",
    "- Download `Anaconda` distribution from https://anaconda.com\n",
    "    - A `distribution` is a single installer that installs:\n",
    "        - `python` programming language\n",
    "        - A custom installer (from python packages or other software), `conda` in this case\n",
    "        - Many `python` packages that are commonly used in data science\n",
    "- Install `Anaconda` distribution\n",
    "    - Make sure to install only for your use\n",
    "    - This installation, for your use only, does not requre admin istrative privleges on a computer\n",
    "\n",
    "- You can also install `miniconda`, which is the minimalist Anaconda installation.\n",
    "\n",
    "Please NOTE: Anaconda has changed their licensing requirements and any institution with more then 200 employees needs individual licenes for Anaconda."
   ]
  },
  {
   "cell_type": "markdown",
   "id": "a04722a1-e90b-412e-9b9d-a55b3913ae6b",
   "metadata": {},
   "source": [
    "### Starting Jupyterlab"
   ]
  },
  {
   "cell_type": "markdown",
   "id": "5244cfbe-73e0-485d-ad8b-a28747eba759",
   "metadata": {},
   "source": [
    "- [https://jupyterlab.readthedocs.io/en/stable/getting_started/starting.html](https://jupyterlab.readthedocs.io/en/stable/getting_started/starting.html)"
   ]
  }
 ],
 "metadata": {
  "kernelspec": {
   "display_name": "Python 3 (ipykernel)",
   "language": "python",
   "name": "python3"
  },
  "language_info": {
   "codemirror_mode": {
    "name": "ipython",
    "version": 3
   },
   "file_extension": ".py",
   "mimetype": "text/x-python",
   "name": "python",
   "nbconvert_exporter": "python",
   "pygments_lexer": "ipython3",
   "version": "3.9.12"
  }
 },
 "nbformat": 4,
 "nbformat_minor": 5
}
