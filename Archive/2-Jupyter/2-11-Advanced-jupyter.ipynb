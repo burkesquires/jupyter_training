{
 "cells": [
  {
   "cell_type": "markdown",
   "metadata": {},
   "source": [
    "### Advanced Jupyter Notebook (hands on 60 min)"
   ]
  },
  {
   "cell_type": "markdown",
   "metadata": {},
   "source": [
    "Outline\n",
    "- Accessing the underlying operating system\n",
    "- Running R and Python in the same notebook\n",
    "- Efficient use\n",
    "    - Hiding code or output\n",
    "    - Commenting and uncommenting a block of code\n",
    "    - Multicursor support\n",
    "    - Combining multiple cells into one\n",
    "- Create a presentation from a Jupyter notebook. RISE\n",
    "- Cross-language support \n",
    "    - Cython - make code run (almost) as fast as C\n",
    "    \n",
    "\n",
    "Sources: [IPython Tutorial](https://github.com/ipython/ipython-in-depth/blob/pycon-2019/1%20-%20Beyond%20Plain%20Python.ipynb), [Dataquest](https://www.dataquest.io/blog/advanced-jupyter-notebooks-tutorial/), [Alex Rogozhnikov Blog](http://arogozhnikov.github.io/2016/09/10/jupyter-features.html)"
   ]
  },
  {
   "cell_type": "markdown",
   "metadata": {},
   "source": [
    "## Accessing the underlying operating system\n",
    "\n",
    "---"
   ]
  },
  {
   "cell_type": "code",
   "execution_count": null,
   "metadata": {},
   "outputs": [],
   "source": [
    "!pwd"
   ]
  },
  {
   "cell_type": "code",
   "execution_count": null,
   "metadata": {},
   "outputs": [],
   "source": [
    "%pwd"
   ]
  },
  {
   "cell_type": "code",
   "execution_count": null,
   "metadata": {},
   "outputs": [],
   "source": [
    "pwd"
   ]
  },
  {
   "cell_type": "code",
   "execution_count": null,
   "metadata": {},
   "outputs": [],
   "source": [
    "files = !ls .\n",
    "print(\"files in notebooks directory:\")\n",
    "print(files)"
   ]
  },
  {
   "cell_type": "code",
   "execution_count": null,
   "metadata": {},
   "outputs": [],
   "source": [
    "!echo $files"
   ]
  },
  {
   "cell_type": "code",
   "execution_count": null,
   "metadata": {},
   "outputs": [],
   "source": [
    "!echo {files[0].upper()}"
   ]
  },
  {
   "cell_type": "markdown",
   "metadata": {},
   "source": [
    "Note that all this is available even in multiline blocks:"
   ]
  },
  {
   "cell_type": "code",
   "execution_count": null,
   "metadata": {},
   "outputs": [],
   "source": [
    "import os\n",
    "for i,f in enumerate(files):\n",
    "    if f.endswith('ipynb'):\n",
    "        !echo {\"%02d\" % i} - \"{os.path.splitext(f)[0]}\"\n",
    "    else:\n",
    "        print('--')"
   ]
  },
  {
   "cell_type": "markdown",
   "metadata": {},
   "source": [
    "### Beyond Python: magic functions\n",
    "https://github.com/ipython/ipython-in-depth/blob/pycon-2019/1%20-%20Beyond%20Plain%20Python.ipynb"
   ]
  },
  {
   "cell_type": "markdown",
   "metadata": {},
   "source": [
    "- Installing R kernel\n",
    "Easy Option: Installing the R Kernel Using Anaconda\n",
    "If you used Anaconda to set up your environment, getting R working is extremely easy. Just run the below in your terminal:\n",
    "\n",
    "conda install -c r r-essentials\n",
    "https://www.dataquest.io/blog/jupyter-notebook-tips-tricks-shortcuts/\n",
    "\n",
    "21. Running R and Python in the same notebook."
   ]
  },
  {
   "cell_type": "markdown",
   "metadata": {},
   "source": [
    "__Multicursor support__\n",
    "Jupyter supports mutiple cursors, similar to Sublime Text. Simply click and drag your mouse while holding down Alt."
   ]
  },
  {
   "cell_type": "markdown",
   "metadata": {},
   "source": [
    "25. Create a presentation from a Jupyter notebook. RISE"
   ]
  },
  {
   "cell_type": "markdown",
   "metadata": {},
   "source": [
    "__Hiding code or output__\n",
    "\n"
   ]
  },
  {
   "cell_type": "markdown",
   "metadata": {},
   "source": [
    "__Commenting and uncommenting a block of code__\n",
    "\n",
    "You might want to add new lines of code and comment out the old lines while you’re working. This is great if you’re improving the performance of your code or trying to debug it.\n",
    "First, select all the lines you want to comment out.\n",
    "Next hit cmd + / to comment out the highlighted code!\n",
    "Source: https://towardsdatascience.com/how-to-effortlessly-optimize-jupyter-notebooks-e864162a06ee"
   ]
  },
  {
   "cell_type": "markdown",
   "metadata": {},
   "source": [
    "Pretty Print all cell outputs\n",
    "Normally only the last output in the cell will be printed. For everything else, you have to manually add print(), which is fine but not super convenient. You can change that by adding this at the top of the notebook:\n",
    "from IPython.core.interactiveshell import InteractiveShell\n",
    "InteractiveShell.ast_node_interactivity = \"all\"\n",
    "Source: https://towardsdatascience.com/how-to-effortlessly-optimize-jupyter-notebooks-e864162a06ee"
   ]
  },
  {
   "cell_type": "markdown",
   "metadata": {},
   "source": [
    "Extensions\n",
    "Source: https://towardsdatascience.com/how-to-effortlessly-optimize-jupyter-notebooks-e864162a06ee"
   ]
  },
  {
   "cell_type": "markdown",
   "metadata": {},
   "source": [
    "- 12. IPython Magic – %%writefile and %pycat: Export the contents of a cell/Show the contents of an external script (https://www.dataquest.io/blog/jupyter-notebook-tips-tricks-shortcuts/)\n",
    "- 13. IPython Magic – %prun: Show how much time your program spent in each function.Using `%prun statement_name` will give you an ordered table showing you the number of times each internal function was called within the statement, the time each call took as well as the cumulative time of all runs of the function."
   ]
  },
  {
   "cell_type": "markdown",
   "metadata": {},
   "source": [
    "Store Magic\n",
    "%store lets you store your macro and use it across all of your Jupyter Notebooks.\n",
    "Source: https://towardsdatascience.com/how-to-effortlessly-optimize-jupyter-notebooks-e864162a06ee\n",
    "\n",
    "Run magic\n",
    "%run magic will execute your code and display any output, including Matplotlib plots. You could even execute entire notebooks this way.\n",
    "%run can execute python code from .py files. It can also execute other Jupyter notebooks.\n",
    "Pycat magic\n",
    "You can use %pycat any time to show the contents of a script if you aren’t sure what’s in there.\n",
    "%pycat basic_imports.py\n",
    "Source: https://towardsdatascience.com/how-to-effortlessly-optimize-jupyter-notebooks-e864162a06ee\n",
    "\n",
    "Who magic\n",
    "The %who command without any arguments will list all variables that exist in the global scope. Passing a parameter like str will list only variables of that type. So if you type something like\n",
    "%who str\n",
    "\n",
    "To Skip A Cell From Running\n",
    "Just add %%script false at the top of the cell\n",
    "%%script false\n",
    "you'd put some long \n",
    "    code here that you don't want to run \n",
    "    right now"
   ]
  },
  {
   "cell_type": "markdown",
   "metadata": {},
   "source": [
    "Cross-language support\n",
    "Cython\n",
    "https://github.com/ipython/ipython-in-depth/blob/pycon-2019/6%20-%20Cross-Language-Integration.ipynb"
   ]
  },
  {
   "cell_type": "markdown",
   "metadata": {},
   "source": [
    "Notebook automation - Papermill - 2. Jupyter is the new Bash\n",
    "The basic idea is that you write a parameterized Jupyter notebook, essentially a notebook with parameters that get pasted into a new block at the top of the notebook. A system called Papermill metaprograms a bespoke notebook with provided parameters pasted in, and then executes the notebook with zero user interaction required. For Netflix, the benefit of this approach is to simplify the development and debugging of these scripts. If a particular job breaks, it’s trivial to pop open the offending notebook in the normal Jupyter environment, and it has all the data built in that it needs to execute until hitting the error.\n",
    "http://willcrichton.net/notes/lessons-from-jupytercon/\n"
   ]
  },
  {
   "cell_type": "markdown",
   "metadata": {},
   "source": [
    "Best practices\n",
    "===========\n",
    "- %conda and %pip magics, that will attempt to install packages in the current environment.\n",
    "- %reset ???? - what does this do"
   ]
  },
  {
   "cell_type": "markdown",
   "metadata": {},
   "source": [
    "*   IPython [built-in magics](https://ipython.org/ipython-doc/3/interactive/magics.html)\n",
    "*   Nice [interactive presentation about jupyter](http://quasiben.github.io/dfwmeetup_2014/#/) by Ben Zaitlen\n",
    "*   Advanced notebooks [part 1: magics](https://blog.dominodatalab.com/lesser-known-ways-of-using-notebooks/)  \n",
    "    and [part 2: widgets](https://blog.dominodatalab.com/interactive-dashboards-in-jupyter/)\n",
    "*   [Profiling in python with jupyter](http://pynash.org/2013/03/06/timing-and-profiling/)\n",
    "*   [4 ways to extend notebooks](http://mindtrove.info/4-ways-to-extend-jupyter-notebook/)\n",
    "*   [IPython notebook tricks](https://www.quora.com/What-are-your-favorite-tricks-for-IPython-Notebook)\n",
    "*   [Jupyter vs Zeppelin for big data](https://www.linkedin.com/pulse/comprehensive-comparison-jupyter-vs-zeppelin-hoc-q-phan-mba-)\n",
    "*   [Making publication ready Python notebooks](http://blog.juliusschulz.de/blog/ultimate-ipython-notebook).\n",
    " "
   ]
  },
  {
   "cell_type": "code",
   "execution_count": null,
   "metadata": {},
   "outputs": [],
   "source": []
  },
  {
   "cell_type": "code",
   "execution_count": null,
   "metadata": {},
   "outputs": [],
   "source": []
  }
 ],
 "metadata": {
  "kernelspec": {
   "display_name": "Python 3",
   "language": "python",
   "name": "python3"
  },
  "language_info": {
   "codemirror_mode": {
    "name": "ipython",
    "version": 3
   },
   "file_extension": ".py",
   "mimetype": "text/x-python",
   "name": "python",
   "nbconvert_exporter": "python",
   "pygments_lexer": "ipython3",
   "version": "3.7.5"
  }
 },
 "nbformat": 4,
 "nbformat_minor": 4
}
