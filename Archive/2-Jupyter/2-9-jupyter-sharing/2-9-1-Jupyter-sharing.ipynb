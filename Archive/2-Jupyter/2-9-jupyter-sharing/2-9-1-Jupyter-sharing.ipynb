{
 "cells": [
  {
   "cell_type": "markdown",
   "metadata": {},
   "source": [
    "# Sharing Jupyter Notebook\n",
    "\n",
    "Sources: [Dataquest](dataquest.io)"
   ]
  },
  {
   "cell_type": "markdown",
   "metadata": {},
   "source": [
    "The easiest way to share your notebook is simply using the notebook file (.ipynb), but for those who don’t use Jupyter, you have a few options:\n",
    "\n",
    "__HTML__\n",
    "*   Convert notebooks to html file using the `File > Download as > HTML` Menu option.\n",
    "\n",
    "__PDF__\n",
    "*   Use the `File > Download as > PDF` menu to save your notebook as a PDF. If you’re going this route, I highly recommend reading Julius Schulz’s excellent article [Making publication ready Python notebooks](http://blog.juliusschulz.de/blog/ultimate-ipython-notebook).\n",
    "\n",
    "__Gists__\n",
    "*   Share your notebook file with [gists](https://gist.github.com) or on github, both of which render the notebooks. See [this example](https://github.com/dataquestio/solutions/blob/master/Mission202Solution.ipynb).\n",
    "\n",
    "__nbviewer__\n",
    "*   Store your notebook e.g. in dropbox and put the link to [nbviewer](http://nbviewer.jupyter.org/). nbviewer will render the notebook from whichever source you host it.\n",
    "\n",
    "__Blog__\n",
    "*   [Create a blog using Pelican from your Jupyter notebooks](https://www.dataquest.io/blog/how-to-setup-a-data-science-blog/)."
   ]
  },
  {
   "cell_type": "markdown",
   "metadata": {},
   "source": [
    "---"
   ]
  },
  {
   "cell_type": "markdown",
   "metadata": {},
   "source": [
    "### Static"
   ]
  },
  {
   "cell_type": "markdown",
   "metadata": {},
   "source": [
    "Download as (Jupyter notebook)\n",
    "- Notebook\n",
    "- Python (or R, etc)\n",
    "- HTML\n",
    "- Slides\n",
    "- Markdwon\n",
    "- ReST - reStructuredText (sometimes abbreviated as RST, ReST, or reST) is a file format for textual data used primarily in the Python programming language community for technical documentation.\n",
    "- LaTex\n",
    "- PDF\n",
    "- As a script\n",
    "    - How to run that script from the command line\n",
    "        - `%run my_other_notebook.ipynb`\n"
   ]
  },
  {
   "cell_type": "markdown",
   "metadata": {},
   "source": [
    "### Where to find other shared Jupyter notebooks?\n",
    "\n",
    "- [GitHub Jupyter notebooks](https://github.com/search?utf8=✓&q=language%3A%22Jupyter+Notebook%22&type=Repositories&ref=advsearch&l=Jupyter+Notebook&l=)\n",
    "- [PubMed](https://www.ncbi.nlm.nih.gov/pmc/?cmd=historysearch&querykey=8)"
   ]
  },
  {
   "cell_type": "markdown",
   "metadata": {},
   "source": [
    "### Dynamic"
   ]
  },
  {
   "cell_type": "markdown",
   "metadata": {},
   "source": [
    "__MyBinder__\n",
    "*   If you upload your notebook to a github repository, you can use the handy [mybinder](http://mybinder.org) service to allow someone half an hour of interactive Jupyter access to your repository."
   ]
  },
  {
   "cell_type": "markdown",
   "metadata": {},
   "source": [
    "### Hosted\n",
    "\n",
    "__JupyterHub__\n",
    "*   Setup your own system with [jupyterhub](https://github.com/jupyterhub/jupyterhub), this is very handy when you organize mini-course or workshop and don’t have time to care about students machines."
   ]
  }
 ],
 "metadata": {
  "kernelspec": {
   "display_name": "Python 3",
   "language": "python",
   "name": "python3"
  },
  "language_info": {
   "codemirror_mode": {
    "name": "ipython",
    "version": 3
   },
   "file_extension": ".py",
   "mimetype": "text/x-python",
   "name": "python",
   "nbconvert_exporter": "python",
   "pygments_lexer": "ipython3",
   "version": "3.8.3"
  }
 },
 "nbformat": 4,
 "nbformat_minor": 4
}
