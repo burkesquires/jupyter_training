{
 "cells": [
  {
   "cell_type": "markdown",
   "metadata": {},
   "source": [
    "# Interactive Scientific Notebooks"
   ]
  },
  {
   "cell_type": "markdown",
   "metadata": {},
   "source": [
    "--- \n",
    "### R. Burke Squires\n",
    "\n",
    "- Computational Genomics Specialist\n",
    "- Medical Sciences and Computing (MSC)\n",
    "- NIAID Bioinformatics and Computational Bioscience Branch (BCBB)\n",
    "\n",
    "---"
   ]
  },
  {
   "cell_type": "markdown",
   "metadata": {},
   "source": [
    "### Introduction (15 min)\n",
    "- [Introduction](./notebooks/0-Intro/0_Jupyter_training.ipynb) (Presentation)"
   ]
  },
  {
   "cell_type": "markdown",
   "metadata": {},
   "source": [
    "### Jupyter Hub Sign-in (15 min)"
   ]
  },
  {
   "cell_type": "markdown",
   "metadata": {},
   "source": [
    "### Anaconda (30 min)\n",
    "\n",
    "- [Anaconda overview](./notebooks/1-Anaconda/1-1-Anaconda-Overview.ipynb) (Walkthrough)\n",
    "- [Anaconda installation demo](./notebooks/1-Anaconda/1-2-Anaconda-Installation.ipynb) (Walkthrough)\n",
    "    - Miniconda overview (Demo)"
   ]
  },
  {
   "cell_type": "markdown",
   "metadata": {},
   "source": [
    "### Jupyter (2 Hour)\n",
    "- [Introduction to Jupyter ecosystem](./notebooks/2-Jupyter/2-1-jupyter-ecosystem.ipynb) (Presentation)\n",
    "- [Jupyter - Getting In and Out](./notebooks/2-Jupyter/2-2-jupyter-get-in-and-out.ipynb) (Walkthrough)\n",
    "- [Jupyter Notebook basics](./notebooks/2-Jupyter/2-3-jupyter-notebook-basics.ipynb) (Hands on)\n",
    "- [Writing narrative text](./notebooks/2-Jupyter/2-4-jupyter-markdown.ipynb) (Hands on)\n",
    "    - [Markdown table generator](https://www.tablesgenerator.com/markdown_tables)\n",
    "- Running code (Hands on)\n",
    "    - [Python](./notebooks/2-Jupyter/2-5-jupyter-code-python.ipynb)\n",
    "    - [R](./notebooks/2-Jupyter/2-6-jupyter-code-r.ipynb)\n",
    "    - [Bash](./notebooks/2-Jupyter/2-7-jupyter-command-line.ipynb)\n",
    "    - Other ([Script of Scripts kernel](https://vatlab.github.io/sos-docs/index.html#content) DEMO)"
   ]
  },
  {
   "cell_type": "markdown",
   "metadata": {},
   "source": [
    "---\n",
    "\n",
    "### Lunch\n",
    "\n",
    "---"
   ]
  },
  {
   "cell_type": "markdown",
   "metadata": {},
   "source": [
    "## COVID-19 Analysis / Bioinformatics Workflow (1 Hour)\n",
    "- [Analysis template](./notebooks/COVID-19/analysis_template.ipynb)\n",
    "- [Simple COVID-19 analysis grabbing data from teh web](./notebooks/COVID-19/pandas-analysis-of-coronavirus-pandemic.ipynb)\n",
    "\n",
    "__Bioinformatics Workflow__\n",
    "- [Installing `bioconda`](./notebooks/3-Build-Bioinfo-Workflow/3-1-install-bioconda.ipynb) (Hands on)\n",
    "- [Building a variant calling pipeline](./notebooks/3-Build-Bioinfo-Workflow/3-2-variant-calling-workflow.ipynb) (Hands on)"
   ]
  },
  {
   "cell_type": "markdown",
   "metadata": {},
   "source": [
    "## [Sharing notebooks](./notebooks/2-Jupyter/2-9-jupyter-sharing/2-9-1-Jupyter-sharing.ipynb) (Walkthrough – 15 min)"
   ]
  },
  {
   "cell_type": "markdown",
   "metadata": {},
   "source": [
    "## [Advanced Jupyter Notebook](./notebooks/2-Jupyter/jupyter-advanced.ipynb) (Hands on - 75 min)"
   ]
  },
  {
   "cell_type": "markdown",
   "metadata": {},
   "source": [
    "## [Demos / Walkthroughs](./notebooks/4-Last-things/4-1-Demos.ipynb) (Demos - 30 min)\n",
    "- Using myBinder\n",
    "- Jupyter in the Cloud\n",
    "- Jupyter extensions\n",
    "- nteract (Desktop software to run notebook)\n",
    "- Notebook automation - Papermill"
   ]
  },
  {
   "cell_type": "markdown",
   "metadata": {},
   "source": [
    "---"
   ]
  },
  {
   "cell_type": "markdown",
   "metadata": {},
   "source": [
    "## Additional Resources:"
   ]
  },
  {
   "cell_type": "markdown",
   "metadata": {},
   "source": [
    "__Extra - Dynamic Sharing using GitHub and myBinder__\n",
    "\n",
    "- [Creating a GitHub project](./notebooks/2-Jupyter/2-9-jupyter-sharing/2-9-2-Jupyter-sharing-github.ipynb)\n",
    "- [Using myBinder](./notebooks/2-Jupyter/2-9-jupyter-sharing/2-9-3-Intro_to_binder.ipynb)\n",
    "\n",
    "__Reproducible Research Curriculum, The Carpentries__\n",
    "- https://github.com/Reproducible-Science-Curriculum\n",
    "- https://reproducible-science-curriculum.github.io/workshop-RR-Jupyter/\n",
    "\n",
    "__NLM Reproduciblity Workshop__\n",
    "- https://nlm-repro.github.io\n",
    "\n",
    "[__Jupyter shortcuts PDF__](https://blog.ja-ke.tech/2019/01/20/jupyterlab-shortcuts.htmlhttps://blog.ja-ke.tech/2019/01/20/jupyterlab-shortcuts.html)"
   ]
  },
  {
   "cell_type": "code",
   "execution_count": null,
   "metadata": {},
   "outputs": [],
   "source": []
  }
 ],
 "metadata": {
  "kernelspec": {
   "display_name": "Python 3 (ipykernel)",
   "language": "python",
   "name": "python3"
  },
  "language_info": {
   "codemirror_mode": {
    "name": "ipython",
    "version": 3
   },
   "file_extension": ".py",
   "mimetype": "text/x-python",
   "name": "python",
   "nbconvert_exporter": "python",
   "pygments_lexer": "ipython3",
   "version": "3.8.3"
  }
 },
 "nbformat": 4,
 "nbformat_minor": 4
}
