{
 "cells": [
  {
   "cell_type": "markdown",
   "metadata": {},
   "source": [
    "# Anaconda Installation"
   ]
  },
  {
   "cell_type": "markdown",
   "metadata": {},
   "source": [
    "---"
   ]
  },
  {
   "cell_type": "markdown",
   "metadata": {},
   "source": [
    "(Walkthrough; 15 min)\n",
    "\n",
    "R. Burke Squires\n",
    "\n",
    "https://github.com/burkesquires"
   ]
  },
  {
   "cell_type": "markdown",
   "metadata": {},
   "source": [
    "## Anaconda installation\n",
    "\n",
    "__Download__\n",
    "1. Open a web borwser\n",
    "1. In the search box enter `anaconda.org` and hit `Enter`\n",
    "1. In the upper right-hand corner click on `Download Anaconda`.\n",
    "1. You will be taken to teh `Anaconda Individual Edition` homepage\n",
    "1. Click on the black `Download` button.\n",
    "1. Click on the `64-Bit Graphical Installer` for your platform (Mac or Windows).\n",
    "\n",
    "__Installation__\n",
    "1. Once the installer is downloaded, follow the installation instructions here:\n",
    "    https://docs.anaconda.com/anaconda/install/\n",
    "    - Install in your user directory only, \"Just Me\"\n",
    "1. The `Anaconda` distribution will be installed in your home directory (within an `anaconda3` directory; possibly within an `opt` directory.)\n",
    "\n",
    "## What gets installed?\n",
    "- Default installation with:\n",
    "    - Python programming language\n",
    "    - `conda` installer\n",
    "    - Anaconda Navigator graphical user interface (GUI) to `conda` installer\n",
    "    - Many Python packages\n",
    "    - A default `base` environment\n",
    "\n",
    "## R installation to existing Anaconda installation\n",
    "\n",
    "1. To install the R programming language, follow the installation instructions here:\n",
    "    https://docs.anaconda.com/anaconda/packages/r-language-pkg-docs\n",
    "    - R Essentials bundle includes approximately 80 of the most popular scientific packages for the R programming language. You can install the R Essentials bundle with this command:\n",
    "\n",
    "        `conda install -c r r-essentials`\n",
    "\n",
    "## Updating\n",
    "\n",
    "1. Through command line - using `conda`, `pip`\n",
    "    1. `conda update conda`\n",
    "1. Though `Anaconda Navigator`"
   ]
  },
  {
   "cell_type": "markdown",
   "metadata": {},
   "source": [
    "## Activate\n",
    "\n",
    "    source opt/anaconda3/bin/activate"
   ]
  },
  {
   "cell_type": "code",
   "execution_count": null,
   "metadata": {},
   "outputs": [],
   "source": []
  }
 ],
 "metadata": {
  "kernelspec": {
   "display_name": "Python 3 (ipykernel)",
   "language": "python",
   "name": "python3"
  },
  "language_info": {
   "codemirror_mode": {
    "name": "ipython",
    "version": 3
   },
   "file_extension": ".py",
   "mimetype": "text/x-python",
   "name": "python",
   "nbconvert_exporter": "python",
   "pygments_lexer": "ipython3",
   "version": "3.7.9"
  }
 },
 "nbformat": 4,
 "nbformat_minor": 4
}
