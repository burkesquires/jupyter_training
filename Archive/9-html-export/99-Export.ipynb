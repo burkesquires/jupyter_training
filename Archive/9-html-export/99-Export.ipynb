{
 "cells": [
  {
   "cell_type": "markdown",
   "metadata": {},
   "source": [
    "# Jupyter Training HTML export"
   ]
  },
  {
   "cell_type": "markdown",
   "metadata": {},
   "source": [
    "R. Burke Squires\n",
    "\n",
    "https://github.com/burkesquires"
   ]
  },
  {
   "cell_type": "markdown",
   "metadata": {},
   "source": [
    "I will use this notebook to export each notebook to a HTML for review and ultimately to include as previews for people to look at if they do not want to install the Anaconda distribution.\n",
    "\n",
    "PDFs are giving me a problem as I do not have latex installed; defaulting to html"
   ]
  },
  {
   "cell_type": "code",
   "execution_count": 24,
   "metadata": {},
   "outputs": [
    {
     "name": "stdout",
     "output_type": "stream",
     "text": [
      "\u001b[34m0-Intro\u001b[m\u001b[m/                  \u001b[34m4-Last-things\u001b[m\u001b[m/            \u001b[34mdata\u001b[m\u001b[m/\r\n",
      "\u001b[34m1-Anaconda\u001b[m\u001b[m/               \u001b[34m9-PDFs\u001b[m\u001b[m/                   \u001b[34mimages\u001b[m\u001b[m/\r\n",
      "\u001b[34m2-Jupyter\u001b[m\u001b[m/                \u001b[34mPapers\u001b[m\u001b[m/\r\n",
      "\u001b[34m3-Build_Bioinfo-Workflow\u001b[m\u001b[m/ \u001b[34mPresentations\u001b[m\u001b[m/\r\n"
     ]
    }
   ],
   "source": [
    "ls ../"
   ]
  },
  {
   "cell_type": "code",
   "execution_count": 7,
   "metadata": {},
   "outputs": [
    {
     "name": "stdout",
     "output_type": "stream",
     "text": [
      "0_Jupyter_Training.html            2-8-Jupyter-magics.html\r\n",
      "1-1-Anaconda-Overview.html         2-9-1-Jupyter-sharing.html\r\n",
      "1-2-Anaconda-Installation.html     2-9-2-Jupyter-sharing-github.html\r\n",
      "2-1-Jupyter-ecosystem.html         2-9-3-Intro_to_binder.html\r\n",
      "2-2-Jupyter-architecture.html      3-1-install-bioconda.html\r\n",
      "2-3-Jupyter-notebook-basics.html   3-2-variant-calling-workflow.html\r\n",
      "2-4-Jupyter-markdown.html          4-1-Demos.html\r\n",
      "2-5-Jupyter-code-python.html       4-2-Additional-resources.html\r\n",
      "2-6-Jupyter-code-r.html            99-Export.ipynb\r\n",
      "2-7-Jupyter-command-line.html\r\n"
     ]
    }
   ],
   "source": [
    "ls ./"
   ]
  },
  {
   "cell_type": "code",
   "execution_count": 1,
   "metadata": {},
   "outputs": [
    {
     "name": "stdout",
     "output_type": "stream",
     "text": [
      "[NbConvertApp] Converting notebook ../0-Intro/0_Jupyter_training.ipynb to html\n",
      "[NbConvertApp] Writing 265324 bytes to ./0_Jupyter_training.html\n"
     ]
    }
   ],
   "source": [
    "# Introduction\n",
    "\n",
    "!jupyter nbconvert --to html ../0-Intro/0_Jupyter_training.ipynb --output-dir=./"
   ]
  },
  {
   "cell_type": "code",
   "execution_count": 2,
   "metadata": {},
   "outputs": [
    {
     "name": "stdout",
     "output_type": "stream",
     "text": [
      "[NbConvertApp] Converting notebook ../1-Anaconda/1-1-Anaconda-Overview.ipynb to html\n",
      "[NbConvertApp] Writing 261339 bytes to ./1-1-Anaconda-Overview.html\n",
      "[NbConvertApp] Converting notebook ../1-Anaconda/1-2-Anaconda-Installation.ipynb to html\n",
      "[NbConvertApp] Writing 252293 bytes to ./1-2-Anaconda-Installation.html\n"
     ]
    }
   ],
   "source": [
    "# Anaconda folder\n",
    "!jupyter nbconvert --to html ../1-Anaconda/1-1-Anaconda-Overview.ipynb --output-dir=./\n",
    "!jupyter nbconvert --to html ../1-Anaconda/1-2-Anaconda-Installation.ipynb --output-dir=./"
   ]
  },
  {
   "cell_type": "code",
   "execution_count": 3,
   "metadata": {},
   "outputs": [
    {
     "name": "stdout",
     "output_type": "stream",
     "text": [
      "[NbConvertApp] Converting notebook ../2-Jupyter/2-1-Jupyter-ecosystem.ipynb to html\n",
      "[NbConvertApp] Writing 266873 bytes to ./2-1-Jupyter-ecosystem.html\n",
      "[NbConvertApp] Converting notebook ../2-Jupyter/2-2-Jupyter-architecture.ipynb to html\n",
      "[NbConvertApp] Writing 258275 bytes to ./2-2-Jupyter-architecture.html\n",
      "[NbConvertApp] Converting notebook ../2-Jupyter/2-3-Jupyter-notebook-basics.ipynb to html\n",
      "[NbConvertApp] Writing 255539 bytes to ./2-3-Jupyter-notebook-basics.html\n",
      "[NbConvertApp] Converting notebook ../2-Jupyter/2-4-Jupyter-markdown.ipynb to html\n",
      "[NbConvertApp] Writing 260120 bytes to ./2-4-Jupyter-markdown.html\n",
      "[NbConvertApp] Converting notebook ../2-Jupyter/2-5-Jupyter-code-python.ipynb to html\n",
      "[NbConvertApp] Writing 256414 bytes to ./2-5-Jupyter-code-python.html\n",
      "[NbConvertApp] Converting notebook ../2-Jupyter/2-6-Jupyter-code-r.ipynb to html\n",
      "[NbConvertApp] Writing 252651 bytes to ./2-6-Jupyter-code-r.html\n",
      "[NbConvertApp] Converting notebook ../2-Jupyter/2-7-Jupyter-command-line.ipynb to html\n",
      "[NbConvertApp] Writing 252017 bytes to ./2-7-Jupyter-command-line.html\n",
      "[NbConvertApp] Converting notebook ../2-Jupyter/2-8-Jupyter-magics.ipynb to html\n",
      "[NbConvertApp] Writing 264341 bytes to ./2-8-Jupyter-magics.html\n",
      "[NbConvertApp] Converting notebook ../2-Jupyter/2-9-jupyter-sharing/2-9-1-Jupyter-sharing.ipynb to html\n",
      "[NbConvertApp] Writing 251073 bytes to ./2-9-1-Jupyter-sharing.html\n",
      "[NbConvertApp] Converting notebook ../2-Jupyter/2-9-jupyter-sharing/2-9-2-Jupyter-sharing-github.ipynb to html\n",
      "[NbConvertApp] Writing 265774 bytes to ./2-9-2-Jupyter-sharing-github.html\n",
      "[NbConvertApp] Converting notebook ../2-Jupyter/2-9-jupyter-sharing/2-9-3-Intro_to_binder.ipynb to html\n",
      "[NbConvertApp] Writing 260644 bytes to ./2-9-3-Intro_to_binder.html\n"
     ]
    }
   ],
   "source": [
    "# Jupyter\n",
    "!jupyter nbconvert --to html ../2-Jupyter/2-1-Jupyter-ecosystem.ipynb --output-dir=./\n",
    "!jupyter nbconvert --to html ../2-Jupyter/2-2-Jupyter-architecture.ipynb --output-dir=./\n",
    "!jupyter nbconvert --to html ../2-Jupyter/2-3-Jupyter-notebook-basics.ipynb --output-dir=./\n",
    "!jupyter nbconvert --to html ../2-Jupyter/2-4-Jupyter-markdown.ipynb --output-dir=./\n",
    "!jupyter nbconvert --to html ../2-Jupyter/2-5-Jupyter-code-python.ipynb --output-dir=./\n",
    "!jupyter nbconvert --to html ../2-Jupyter/2-6-Jupyter-code-r.ipynb --output-dir=./\n",
    "!jupyter nbconvert --to html ../2-Jupyter/2-7-Jupyter-command-line.ipynb --output-dir=./\n",
    "!jupyter nbconvert --to html ../2-Jupyter/2-8-Jupyter-magics.ipynb --output-dir=./\n",
    "!jupyter nbconvert --to html ../2-Jupyter/2-9-jupyter-sharing/2-9-1-Jupyter-sharing.ipynb --output-dir=./\n",
    "!jupyter nbconvert --to html ../2-Jupyter/2-9-jupyter-sharing/2-9-2-Jupyter-sharing-github.ipynb --output-dir=./\n",
    "!jupyter nbconvert --to html ../2-Jupyter/2-9-jupyter-sharing/2-9-3-Intro_to_binder.ipynb --output-dir=./"
   ]
  },
  {
   "cell_type": "code",
   "execution_count": 10,
   "metadata": {},
   "outputs": [
    {
     "name": "stdout",
     "output_type": "stream",
     "text": [
      "[NbConvertApp] Converting notebook ../3-Build-Bioinfo-Workflow/3-1-install-bioconda.ipynb to html\n",
      "[NbConvertApp] Writing 263573 bytes to ./3-1-install-bioconda.html\n",
      "[NbConvertApp] Converting notebook ../3-Build-Bioinfo-Workflow/3-2-variant-calling-workflow.ipynb to html\n",
      "[NbConvertApp] Writing 266774 bytes to ./3-2-variant-calling-workflow.html\n"
     ]
    }
   ],
   "source": [
    "# Bioconda workflow example\n",
    "!jupyter nbconvert --to html ../3-Build-Bioinfo-Workflow/3-1-install-bioconda.ipynb --output-dir=./\n",
    "!jupyter nbconvert --to html ../3-Build-Bioinfo-Workflow/3-2-variant-calling-workflow.ipynb --output-dir=./"
   ]
  },
  {
   "cell_type": "code",
   "execution_count": 8,
   "metadata": {},
   "outputs": [
    {
     "name": "stdout",
     "output_type": "stream",
     "text": [
      "[NbConvertApp] Converting notebook ../4-Last-things/4-1-Demos.ipynb to html\n",
      "[NbConvertApp] Writing 252377 bytes to ./4-1-Demos.html\n",
      "[NbConvertApp] Converting notebook ../4-Last-things/4-2-Additional-resources.ipynb to html\n",
      "[NbConvertApp] Writing 251186 bytes to ./4-2-Additional-resources.html\n"
     ]
    }
   ],
   "source": [
    "# Last things\n",
    "!jupyter nbconvert --to html ../4-Last-things/4-1-Demos.ipynb  --output-dir=./\n",
    "!jupyter nbconvert --to html ../4-Last-things/4-2-Additional-resources.ipynb  --output-dir=./"
   ]
  },
  {
   "cell_type": "code",
   "execution_count": null,
   "metadata": {},
   "outputs": [],
   "source": []
  }
 ],
 "metadata": {
  "kernelspec": {
   "display_name": "Python 3",
   "language": "python",
   "name": "python3"
  },
  "language_info": {
   "codemirror_mode": {
    "name": "ipython",
    "version": 3
   },
   "file_extension": ".py",
   "mimetype": "text/x-python",
   "name": "python",
   "nbconvert_exporter": "python",
   "pygments_lexer": "ipython3",
   "version": "3.6.5"
  }
 },
 "nbformat": 4,
 "nbformat_minor": 2
}
