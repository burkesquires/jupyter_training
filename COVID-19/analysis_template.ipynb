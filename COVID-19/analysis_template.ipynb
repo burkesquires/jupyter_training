{
 "cells": [
  {
   "cell_type": "markdown",
   "metadata": {},
   "source": [
    "Start a new Jupyter notebook and add a mock project description, project metadata, and task list to the notebook. As part of a Reproducible research workflow you would begin this way and continue by using teh notebook for your initial data exploration or data analysis. \n",
    "\n",
    "Use markdown to recreate this. Try to do it initially without looking at the markdown:\n",
    "\n",
    "# Project Title: COVID-19 US Infections versus Deaths\n",
    "## Date: December 1, 2020\n",
    "## Researcher: John Q. Public\n",
    "\n",
    "---\n",
    "\n",
    "## Project Overview:\n",
    "\n",
    "In this project we will use Jupyter notebooks to analysise some COVID-19 data and compare infection rates with deasth rates for cases in hte United States. We will be ising problically availablel data to perfom the analysis.\n",
    "\n",
    "---\n",
    "\n",
    "__Task List:__\n",
    "- [x] Write the project description\n",
    "- [ ] Download the data\n",
    "- [ ] Clean the data\n",
    "- [ ] Analysis the data\n",
    "- [ ] Plot the data\n",
    "\n",
    "---\n",
    "\n",
    "Begin the analysis below."
   ]
  },
  {
   "cell_type": "code",
   "execution_count": null,
   "metadata": {},
   "outputs": [],
   "source": []
  }
 ],
 "metadata": {
  "kernelspec": {
   "display_name": "Python 3",
   "language": "python",
   "name": "python3"
  },
  "language_info": {
   "codemirror_mode": {
    "name": "ipython",
    "version": 3
   },
   "file_extension": ".py",
   "mimetype": "text/x-python",
   "name": "python",
   "nbconvert_exporter": "python",
   "pygments_lexer": "ipython3",
   "version": "3.8.3"
  }
 },
 "nbformat": 4,
 "nbformat_minor": 4
}
