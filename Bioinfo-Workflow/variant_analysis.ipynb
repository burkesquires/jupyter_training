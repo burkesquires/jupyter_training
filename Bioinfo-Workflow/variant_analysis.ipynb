{
 "cells": [
  {
   "cell_type": "markdown",
   "metadata": {},
   "source": [
    "Variant Analysis Enabled with `bioconda`\n",
    "\n",
    "[Source: Bioinformatics Tools for Detection and Clinical Interpretation of Genomic Variations](https://www.intechopen.com/books/bioinformatics-tools-for-detection-and-clinical-interpretation-of-genomic-variations/bioinformatics-workflows-for-genomic-variant-discovery-interpretation-and-prioritization)\n",
    "\n",
    "---"
   ]
  },
  {
   "cell_type": "markdown",
   "metadata": {},
   "source": [
    "#### Installing software via `bioconda`"
   ]
  },
  {
   "cell_type": "code",
   "execution_count": 2,
   "metadata": {},
   "outputs": [],
   "source": [
    "# conda install -c bioconda fastqc"
   ]
  },
  {
   "cell_type": "markdown",
   "metadata": {},
   "source": [
    "---"
   ]
  },
  {
   "cell_type": "markdown",
   "metadata": {},
   "source": [
    "## 1. Quality Control"
   ]
  },
  {
   "cell_type": "markdown",
   "metadata": {},
   "source": [
    "1.1 Evaluation of the quality of FASTQ data\n",
    "- [fastqc](https://bioconda.github.io/recipes/fastqc/README.html#package-fastqc)\n",
    "- [PRINSEQ](https://bioconda.github.io/recipes/prinseq/README.html#package-prinseq)"
   ]
  },
  {
   "cell_type": "code",
   "execution_count": 3,
   "metadata": {},
   "outputs": [],
   "source": [
    "# run command line statment below\n",
    "# fastqc "
   ]
  },
  {
   "cell_type": "markdown",
   "metadata": {},
   "source": [
    "1.2 Trimming of the low-quality reads and removal of adaptors (if necessary)\n",
    "- [trimmomatic](https://bioconda.github.io/recipes/trimmomatic/README.html#package-trimmomatic)\n",
    "- [cutadapt](https://bioconda.github.io/recipes/cutadapt/README.html#package-cutadapt)"
   ]
  },
  {
   "cell_type": "code",
   "execution_count": null,
   "metadata": {},
   "outputs": [],
   "source": []
  },
  {
   "cell_type": "markdown",
   "metadata": {},
   "source": [
    "## 2. Alignment"
   ]
  },
  {
   "cell_type": "markdown",
   "metadata": {},
   "source": [
    "- [BWA](https://bioconda.github.io/recipes/bwa/README.html#package-bwa)\n",
    "- [Bowtie2](https://bioconda.github.io/recipes/bowtie2/README.html#package-bowtie2)\n",
    "- [novoalign](https://bioconda.github.io/recipes/novoalign/README.html#package-novoalign)\n",
    "- [mummer](https://bioconda.github.io/recipes/mummer4/README.html#package-mummer4)"
   ]
  },
  {
   "cell_type": "code",
   "execution_count": null,
   "metadata": {},
   "outputs": [],
   "source": []
  },
  {
   "cell_type": "markdown",
   "metadata": {},
   "source": [
    "## 3. Post-alignment Processing"
   ]
  },
  {
   "cell_type": "markdown",
   "metadata": {},
   "source": [
    "3.1 Marking PCR duplicates\n",
    "- [picard](https://bioconda.github.io/recipes/picard/README.html#package-picard)"
   ]
  },
  {
   "cell_type": "code",
   "execution_count": null,
   "metadata": {},
   "outputs": [],
   "source": []
  },
  {
   "cell_type": "markdown",
   "metadata": {},
   "source": [
    "3.2 Base quality score recalibration (BQSR)\n",
    "- [gatk](https://bioconda.github.io/recipes/gatk4/README.html#package-gatk4)"
   ]
  },
  {
   "cell_type": "code",
   "execution_count": null,
   "metadata": {},
   "outputs": [],
   "source": []
  },
  {
   "cell_type": "markdown",
   "metadata": {},
   "source": [
    "## 4. Variant Discovery"
   ]
  },
  {
   "cell_type": "markdown",
   "metadata": {},
   "source": [
    "- GATK\n",
    "- [SAMtools](https://bioconda.github.io/recipes/samtools/README.html#package-samtools)\n",
    "- [varscan](https://bioconda.github.io/recipes/varscan/README.html#package-varscan)\n",
    "- [bcftools](https://bioconda.github.io/recipes/bcftools/README.html#package-bcftools)\n",
    "- [FreeBayes](https://bioconda.github.io/recipes/freebayes/README.html#package-freebayes)\n",
    "- [Platypus](https://bioconda.github.io/recipes/platypus-variant/README.html#package-platypus-variant)\n",
    "- [deepvariant](https://bioconda.github.io/recipes/deepvariant/README.html#package-deepvariant)"
   ]
  },
  {
   "cell_type": "code",
   "execution_count": null,
   "metadata": {},
   "outputs": [],
   "source": []
  },
  {
   "cell_type": "markdown",
   "metadata": {},
   "source": [
    "## 5. Downstream Analyses\n",
    "\n",
    "5.1 Filtration of genomic variations\n",
    "\n",
    "5.2 Annotation via a variant annotation tool\n",
    "\n",
    "5.3 Interpretation/prioritization of genomic variations"
   ]
  },
  {
   "cell_type": "code",
   "execution_count": null,
   "metadata": {},
   "outputs": [],
   "source": []
  }
 ],
 "metadata": {
  "kernelspec": {
   "display_name": "Python 3",
   "language": "python",
   "name": "python3"
  },
  "language_info": {
   "codemirror_mode": {
    "name": "ipython",
    "version": 3
   },
   "file_extension": ".py",
   "mimetype": "text/x-python",
   "name": "python",
   "nbconvert_exporter": "python",
   "pygments_lexer": "ipython3",
   "version": "3.8.3"
  }
 },
 "nbformat": 4,
 "nbformat_minor": 4
}
