{
 "cells": [
  {
   "cell_type": "markdown",
   "metadata": {},
   "source": [
    "# Sharing Jupyter Notebook"
   ]
  },
  {
   "cell_type": "markdown",
   "metadata": {},
   "source": [
    "---"
   ]
  },
  {
   "cell_type": "markdown",
   "metadata": {},
   "source": [
    "### Exporting Notebooks¶\n",
    "\n",
    "JupyterLab allows you to export your jupyter notebook files (.ipynb) into other file formats such as:\n",
    "\n",
    "- Asciidoc `.asciidoc`\n",
    "- HTML `.html`\n",
    "- LaTeX `.tex`\n",
    "- Markdown `.md`\n",
    "- PDF `.pdf`\n",
    "- ReStructured Text `.rst`\n",
    "    - ReST - reStructuredText (sometimes abbreviated as RST, ReST, or reST) is a file format for textual data used primarily in the Python programming language community for technical documentation.\n",
    "- Executable Script `.py`\n",
    "- Reveal.js Slides `.html`\n",
    "- Webpdf `.pdf`"
   ]
  },
  {
   "cell_type": "markdown",
   "metadata": {},
   "source": [
    "### Reveal.js Slides¶\n",
    "\n",
    "In order to export your notebooks as Reveal.js slides, follow these steps:\n",
    "\n",
    "- Open a notebook by double clicking it in the file browser.\n",
    "- Select Property inspector in the right sidebar.\n",
    "- Select the slide type (Slide, Subslide, Fragment, Skip, Notes).\n",
    "![Jupyter export](images/exporting_slide_type.webp)\n",
    "- Activate another cell.\n",
    "- Repeat 3 and 4 until you selected the slide type for all of your cells.\n",
    "\n",
    "After completing these steps, browse the file menu and export as described in the exporting notebooks section. A .html file that you will be prompted to download.\n",
    "\n",
    "If you don’t know how to navigate and interact with a Reveal.js presentation, visit the project’s website."
   ]
  },
  {
   "cell_type": "markdown",
   "metadata": {},
   "source": [
    "### Additional sharing options:\n",
    "\n",
    "__Gists__\n",
    "*   Share your notebook file with [gists](https://gist.github.com) or on github, both of which render the notebooks. See [this example](https://github.com/dataquestio/solutions/blob/master/Mission202Solution.ipynb).\n",
    "\n",
    "__nbviewer__\n",
    "*   Store your notebook e.g. in dropbox and put the link to [nbviewer](http://nbviewer.jupyter.org/). nbviewer will render the notebook from whichever source you host it.\n",
    "\n",
    "__Blog__\n",
    "*   [Create a blog using Pelican from your Jupyter notebooks](https://www.dataquest.io/blog/how-to-setup-a-data-science-blog/)."
   ]
  },
  {
   "cell_type": "markdown",
   "metadata": {},
   "source": [
    "### Where to find other shared Jupyter notebooks?\n",
    "\n",
    "- [GitHub Jupyter notebooks](https://github.com/search?utf8=✓&q=language%3A%22Jupyter+Notebook%22&type=Repositories&ref=advsearch&l=Jupyter+Notebook&l=)\n",
    "- [PubMed](https://www.ncbi.nlm.nih.gov/pmc/?cmd=historysearch&querykey=8)"
   ]
  },
  {
   "cell_type": "markdown",
   "metadata": {},
   "source": [
    "### Dynamic"
   ]
  },
  {
   "cell_type": "markdown",
   "metadata": {},
   "source": [
    "__MyBinder__\n",
    "*   If you upload your notebook to a github repository, you can use the handy [mybinder](http://mybinder.org) service to allow someone half an hour of interactive Jupyter access to your repository."
   ]
  },
  {
   "cell_type": "markdown",
   "metadata": {},
   "source": [
    "### Hosted\n",
    "\n",
    "__JupyterHub__\n",
    "*   Setup your own system with [jupyterhub](https://github.com/jupyterhub/jupyterhub), this is very handy when you organize mini-course or workshop and don’t have time to care about students machines."
   ]
  }
 ],
 "metadata": {
  "kernelspec": {
   "display_name": "Python 3 (ipykernel)",
   "language": "python",
   "name": "python3"
  },
  "language_info": {
   "codemirror_mode": {
    "name": "ipython",
    "version": 3
   },
   "file_extension": ".py",
   "mimetype": "text/x-python",
   "name": "python",
   "nbconvert_exporter": "python",
   "pygments_lexer": "ipython3",
   "version": "3.9.12"
  }
 },
 "nbformat": 4,
 "nbformat_minor": 4
}
